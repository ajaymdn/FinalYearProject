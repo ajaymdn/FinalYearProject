{
 "cells": [
  {
   "cell_type": "code",
   "execution_count": 1,
   "metadata": {},
   "outputs": [],
   "source": [
    "import requests\n",
    "from bs4 import BeautifulSoup\n",
    "import re\n",
    "import pandas as pd\n",
    "from transformers import BertTokenizer, BertForSequenceClassification, pipeline\n",
    "import json\n",
    "import nltk\n",
    "import matplotlib.pyplot as plt\n",
    "from tqdm import tqdm"
   ]
  },
  {
   "cell_type": "code",
   "execution_count": 2,
   "metadata": {},
   "outputs": [
    {
     "name": "stderr",
     "output_type": "stream",
     "text": [
      "[nltk_data] Downloading package punkt to /Users/ajaymdn/nltk_data...\n",
      "[nltk_data]   Package punkt is already up-to-date!\n"
     ]
    }
   ],
   "source": [
    "nltk.download('punkt')\n",
    "from nltk.tokenize import sent_tokenize"
   ]
  },
  {
   "cell_type": "code",
   "execution_count": 3,
   "metadata": {},
   "outputs": [],
   "source": [
    "def clean_text(text):\n",
    "    # Ensure consistent spacing after titles like \"Item 1A.\"\n",
    "    text = re.sub(r'(Item\\s*\\d+[A-Za-z]*)\\.', r'\\1. ', text)\n",
    "    # Insert missing spaces between concatenated words like \"FactorsThe\"\n",
    "    text = re.sub(r'([a-z])([A-Z])', r'\\1 \\2', text)\n",
    "    # Clean up spacing after punctuation\n",
    "    text = re.sub(r'(?<=[.!?])(?=\\S)', r' ', text)\n",
    "    return text.strip()"
   ]
  },
  {
   "cell_type": "code",
   "execution_count": 4,
   "metadata": {},
   "outputs": [],
   "source": [
    "def split_sentences_with_nltk(text):\n",
    "    # Initial cleaning\n",
    "    text = clean_text(text)\n",
    "\n",
    "    # Use nltk's sentence tokenizer\n",
    "    sentences = nltk.sent_tokenize(text)\n",
    "\n",
    "    # Post-process to remove redundant or empty sentences\n",
    "    sentences = [sentence.strip() for sentence in sentences if sentence.strip()]\n",
    "    return sentences"
   ]
  },
  {
   "cell_type": "code",
   "execution_count": 5,
   "metadata": {},
   "outputs": [],
   "source": [
    "def converttotext(url):\n",
    "    headers = {'User-Agent':'Sample Company Name AdminContact@<sample company domain>.com','Accept-Encoding':'gzip, deflate','Host':'www.sec.gov'}\n",
    "\n",
    "    r = requests.get(url, headers=headers)\n",
    "\n",
    "    raw_10k = r.text\n",
    "\n",
    "    doc_start_pattern = re.compile(r'<DOCUMENT>')\n",
    "    doc_end_pattern = re.compile(r'</DOCUMENT>')\n",
    "    type_pattern = re.compile(r'<TYPE>[^\\n]+')\n",
    "\n",
    "    doc_start_is = [x.end() for x in doc_start_pattern.finditer(raw_10k)]\n",
    "    doc_end_is = [x.start() for x in doc_end_pattern.finditer(raw_10k)]\n",
    "\n",
    "    doc_types = [x[len('<TYPE>'):] for x in type_pattern.findall(raw_10k)]\n",
    "\n",
    "    document = {}\n",
    "    \n",
    "    for doc_type, doc_start, doc_end in zip(doc_types, doc_start_is, doc_end_is):\n",
    "        if doc_type == '10-K':\n",
    "            document[doc_type] = raw_10k[doc_start:doc_end]\n",
    "\n",
    "    regex = re.compile(r'(>Item(\\s|&#160;|&nbsp;)(1A|1B|7A|7|8)\\.{0,1})|(ITEM\\s(1A|1B|7A|7|8))')\n",
    "\n",
    "    matches = regex.finditer(document['10-K'])\n",
    "\n",
    "    test_df = pd.DataFrame([(x.group(), x.start(), x.end()) for x in matches])\n",
    "\n",
    "    test_df.columns = ['item', 'start', 'end']\n",
    "    test_df['item'] = test_df.item.str.lower()\n",
    "    test_df.head()\n",
    "    test_df.replace('&#160;',' ',regex=True,inplace=True)\n",
    "    test_df.replace('&nbsp;',' ',regex=True,inplace=True)\n",
    "    test_df.replace(' ','',regex=True,inplace=True)\n",
    "    test_df.replace('\\.','',regex=True,inplace=True)\n",
    "    test_df.replace('>','',regex=True,inplace=True)\n",
    "\n",
    "    pos_dat = test_df.sort_values('start', ascending=True).drop_duplicates(subset=['item'], keep='last')\n",
    "    pos_dat.set_index('item', inplace=True)\n",
    "\n",
    "    item_1a_raw = document['10-K'][pos_dat['start'].loc['item1a']:pos_dat['start'].loc['item1b']]\n",
    "\n",
    "    item_1a_content = BeautifulSoup(item_1a_raw, 'lxml')\n",
    "\n",
    "    item_1a_text = item_1a_content.get_text()\n",
    "\n",
    "    # def clean_text(text):\n",
    "    #     text = re.sub(r'(Item\\s*\\d+[A-Za-z]*)\\.', r'\\1. ', text)\n",
    "    #     text = re.sub(r'(?<=[.!?])(?=\\S)', r' ', text)\n",
    "    #     return text.strip()\n",
    "\n",
    "    # item_1a_text_cleaned = clean_text(item_1a_text)\n",
    "\n",
    "    # item_1a_text_cleaned = re.sub(r'(?<=[.!?])(?=\\S)', r' ', item_1a_text_cleaned)\n",
    "\n",
    "\n",
    "    # sentence_splitter = re.compile(r'(?<!\\w\\.\\w.)(?<![A-Z][a-z]\\.)(?<!\\.\\.\\.)(?<=\\.|\\?)\\s')\n",
    "\n",
    "    # sentences = sentence_splitter.split(item_1a_text_cleaned)\n",
    "    # sentences = [sentence.strip() for sentence in sentences if sentence.strip()]\n",
    "\n",
    "    sentences = split_sentences_with_nltk(item_1a_text)\n",
    "    \n",
    "    return sentences\n"
   ]
  },
  {
   "cell_type": "code",
   "execution_count": 6,
   "metadata": {},
   "outputs": [],
   "source": [
    "# sentences = converttotext('https://www.sec.gov/Archives/edgar/data/0001018724/000101872424000008/0001018724-24-000008.txt')\n",
    "# print(len(sentences))\n",
    "# finbert = BertForSequenceClassification.from_pretrained('yiyanghkust/finbert-esg',num_labels=4)\n",
    "# tokenizer = BertTokenizer.from_pretrained('yiyanghkust/finbert-esg')\n",
    "# nlp = pipeline(\"text-classification\", model=finbert, tokenizer=tokenizer)\n",
    "# results = nlp(sentences)\n",
    "\n",
    "# environment_score = [entry['score'] for entry in results if entry['label'] == 'Environmental']\n",
    "# social_score = [entry['score'] for entry in results if entry['label'] == 'Social']\n",
    "# governance_score = [entry['score'] for entry in results if entry['label'] == 'Governance']\n",
    "\n",
    "# environment_score_avg = sum(environment_score) / len(environment_score) if environment_score else 0\n",
    "# social_score_avg = sum(social_score) / len(social_score) if social_score else 0\n",
    "# governance_score_avg = sum(governance_score) / len(governance_score) if governance_score else 0\n",
    "\n",
    "# print(f'Average Environmental Score: {environment_score_avg}')\n",
    "# print(f'Average Social Score: {social_score_avg}')\n",
    "# print(f'Average Governance Score: {governance_score_avg}')"
   ]
  },
  {
   "cell_type": "code",
   "execution_count": 12,
   "metadata": {},
   "outputs": [],
   "source": [
    "def calculate_average_esg(sentences, nlp):\n",
    "    results = nlp(sentences)\n",
    "\n",
    "    # Extract scores for each category\n",
    "    environment_score = [entry['score'] for entry in results if entry['label'] == 'Environmental']\n",
    "    social_score = [entry['score'] for entry in results if entry['label'] == 'Social']\n",
    "    governance_score = [entry['score'] for entry in results if entry['label'] == 'Governance']\n",
    "\n",
    "    # Calculate averages or set to 0 if no scores are found\n",
    "    environment_score_avg = sum(environment_score) / len(environment_score) if environment_score else 0\n",
    "    social_score_avg = sum(social_score) / len(social_score) if social_score else 0\n",
    "    governance_score_avg = sum(governance_score) / len(governance_score) if governance_score else 0\n",
    "\n",
    "    return {\n",
    "        'environment_score_avg': environment_score_avg,\n",
    "        'social_score_avg': social_score_avg,\n",
    "        'governance_score_avg': governance_score_avg\n",
    "    }"
   ]
  },
  {
   "cell_type": "code",
   "execution_count": 13,
   "metadata": {},
   "outputs": [],
   "source": [
    "# finbert = BertForSequenceClassification.from_pretrained('yiyanghkust/finbert-esg',num_labels=4)\n",
    "# tokenizer = BertTokenizer.from_pretrained('yiyanghkust/finbert-esg')\n",
    "# nlp = pipeline(\"text-classification\", model=finbert, tokenizer=tokenizer, truncation=True, max_length=512)\n",
    "\n",
    "# target_year = 2024\n",
    "\n",
    "# with open(f\"../Edgar/10K-URL/All_10K_Filings_{target_year}.json\", \"r\") as read_file:\n",
    "#     companies = json.load(read_file)\n",
    "\n",
    "# valid_companies = []\n",
    "\n",
    "# for company in companies:\n",
    "#     try:\n",
    "#         print(f\"Analysing: {company['company']}\")\n",
    "#         sentences = converttotext(company['url'])\n",
    "#         print(f\"Number of sentences: {len(sentences)}\")\n",
    "\n",
    "#         if len(sentences) > 10:\n",
    "#             scores = calculate_average_esg(sentences, nlp)\n",
    "        \n",
    "#             company['environment_score_avg'] = scores['environment_score_avg']\n",
    "#             company['social_score_avg'] = scores['social_score_avg']\n",
    "#             company['governance_score_avg'] = scores['governance_score_avg']\n",
    "        \n",
    "#             valid_companies.append(company)\n",
    "\n",
    "#     except Exception as e:\n",
    "#         print(f\"Error processing {company['company']}: {e}\")\n",
    "\n",
    "# final_companies = [company['company'] for company in valid_companies]\n",
    "# print(f\"Companies processed: {final_companies}\")\n",
    "\n",
    "# if valid_companies:\n",
    "#     environment_avg = sum([company['environment_score_avg'] for company in valid_companies]) / len(valid_companies)\n",
    "#     social_avg = sum([company['social_score_avg'] for company in valid_companies]) / len(valid_companies)\n",
    "#     governance_avg = sum([company['governance_score_avg'] for company in valid_companies]) / len(valid_companies)\n",
    "\n",
    "#     print(f'Average Environmental Score: {environment_avg}')\n",
    "#     print(f'Average Social Score: {social_avg}')\n",
    "#     print(f'Average Governance Score: {governance_avg}')\n",
    "# else:\n",
    "#     print(\"No valid companies to calculate averages.\")"
   ]
  },
  {
   "cell_type": "code",
   "execution_count": 15,
   "metadata": {},
   "outputs": [
    {
     "name": "stderr",
     "output_type": "stream",
     "text": [
      "  0%|          | 0/11 [00:00<?, ?it/s]"
     ]
    },
    {
     "name": "stdout",
     "output_type": "stream",
     "text": [
      "Processing year: 2014\n"
     ]
    },
    {
     "name": "stderr",
     "output_type": "stream",
     "text": []
    },
    {
     "name": "stdout",
     "output_type": "stream",
     "text": [
      "Company: XOM, Sentence count: 2\n"
     ]
    },
    {
     "name": "stderr",
     "output_type": "stream",
     "text": []
    },
    {
     "name": "stdout",
     "output_type": "stream",
     "text": [
      "Error processing CVX: 'item1b'\n",
      "Company: COP, Sentence count: 62\n"
     ]
    },
    {
     "name": "stderr",
     "output_type": "stream",
     "text": []
    },
    {
     "name": "stdout",
     "output_type": "stream",
     "text": [
      "Error processing EOG: Length mismatch: Expected axis has 0 elements, new values have 3 elements\n",
      "Company: OXY, Sentence count: 48\n"
     ]
    },
    {
     "name": "stderr",
     "output_type": "stream",
     "text": []
    },
    {
     "name": "stdout",
     "output_type": "stream",
     "text": [
      "Company: PSX, Sentence count: 183\n"
     ]
    },
    {
     "name": "stderr",
     "output_type": "stream",
     "text": []
    },
    {
     "name": "stdout",
     "output_type": "stream",
     "text": [
      "Company: MPC, Sentence count: 208\n"
     ]
    },
    {
     "name": "stderr",
     "output_type": "stream",
     "text": []
    },
    {
     "name": "stdout",
     "output_type": "stream",
     "text": [
      "Error processing VLO: 'item1a'\n"
     ]
    },
    {
     "name": "stderr",
     "output_type": "stream",
     "text": []
    },
    {
     "name": "stdout",
     "output_type": "stream",
     "text": [
      "Error processing HES: 'item1b'\n",
      "Company: DVN, Sentence count: 100\n"
     ]
    },
    {
     "name": "stderr",
     "output_type": "stream",
     "text": []
    },
    {
     "name": "stdout",
     "output_type": "stream",
     "text": [
      "Company: KMI, Sentence count: 327\n"
     ]
    },
    {
     "name": "stderr",
     "output_type": "stream",
     "text": []
    },
    {
     "name": "stdout",
     "output_type": "stream",
     "text": [
      "Company: WMB, Sentence count: 268\n"
     ]
    },
    {
     "name": "stderr",
     "output_type": "stream",
     "text": []
    },
    {
     "name": "stdout",
     "output_type": "stream",
     "text": [
      "Error processing HAL: 'item1a'\n",
      "Company: EXE, Sentence count: 811\n"
     ]
    },
    {
     "name": "stderr",
     "output_type": "stream",
     "text": [
      "100%|██████████| 14/14 [01:44<00:00,  7.49s/it]\n",
      "  9%|▉         | 1/11 [01:44<17:28, 104.84s/it]"
     ]
    },
    {
     "name": "stdout",
     "output_type": "stream",
     "text": [
      "Companies processed: ['COP', 'OXY', 'PSX', 'MPC', 'DVN', 'KMI', 'WMB', 'EXE']\n",
      "Processing year: 2015\n"
     ]
    },
    {
     "name": "stderr",
     "output_type": "stream",
     "text": []
    },
    {
     "name": "stdout",
     "output_type": "stream",
     "text": [
      "Company: XOM, Sentence count: 2\n",
      "Company: CVX, Sentence count: 50\n"
     ]
    },
    {
     "name": "stderr",
     "output_type": "stream",
     "text": []
    },
    {
     "name": "stdout",
     "output_type": "stream",
     "text": [
      "Company: COP, Sentence count: 64\n"
     ]
    },
    {
     "name": "stderr",
     "output_type": "stream",
     "text": []
    },
    {
     "name": "stdout",
     "output_type": "stream",
     "text": [
      "Error processing EOG: Length mismatch: Expected axis has 0 elements, new values have 3 elements\n",
      "Company: OXY, Sentence count: 59\n"
     ]
    },
    {
     "name": "stderr",
     "output_type": "stream",
     "text": []
    },
    {
     "name": "stdout",
     "output_type": "stream",
     "text": [
      "Company: PSX, Sentence count: 182\n"
     ]
    },
    {
     "name": "stderr",
     "output_type": "stream",
     "text": []
    },
    {
     "name": "stdout",
     "output_type": "stream",
     "text": [
      "Company: MPC, Sentence count: 246\n"
     ]
    },
    {
     "name": "stderr",
     "output_type": "stream",
     "text": []
    },
    {
     "name": "stdout",
     "output_type": "stream",
     "text": [
      "Company: VLO, Sentence count: 138\n"
     ]
    },
    {
     "name": "stderr",
     "output_type": "stream",
     "text": []
    },
    {
     "name": "stdout",
     "output_type": "stream",
     "text": [
      "Error processing HES: 'item1b'\n",
      "Company: DVN, Sentence count: 104\n"
     ]
    },
    {
     "name": "stderr",
     "output_type": "stream",
     "text": []
    },
    {
     "name": "stdout",
     "output_type": "stream",
     "text": [
      "Company: KMI, Sentence count: 259\n"
     ]
    },
    {
     "name": "stderr",
     "output_type": "stream",
     "text": []
    },
    {
     "name": "stdout",
     "output_type": "stream",
     "text": [
      "Company: WMB, Sentence count: 304\n"
     ]
    },
    {
     "name": "stderr",
     "output_type": "stream",
     "text": []
    },
    {
     "name": "stdout",
     "output_type": "stream",
     "text": [
      "Error processing HAL: 'item1a'\n",
      "Company: EXE, Sentence count: 775\n"
     ]
    },
    {
     "name": "stderr",
     "output_type": "stream",
     "text": [
      "100%|██████████| 14/14 [01:56<00:00,  8.33s/it]\n",
      " 18%|█▊        | 2/11 [03:41<16:46, 111.80s/it]"
     ]
    },
    {
     "name": "stdout",
     "output_type": "stream",
     "text": [
      "Companies processed: ['CVX', 'COP', 'OXY', 'PSX', 'MPC', 'VLO', 'DVN', 'KMI', 'WMB', 'EXE']\n",
      "Processing year: 2016\n"
     ]
    },
    {
     "name": "stderr",
     "output_type": "stream",
     "text": []
    },
    {
     "name": "stdout",
     "output_type": "stream",
     "text": [
      "Company: XOM, Sentence count: 2\n",
      "Company: CVX, Sentence count: 57\n"
     ]
    },
    {
     "name": "stderr",
     "output_type": "stream",
     "text": []
    },
    {
     "name": "stdout",
     "output_type": "stream",
     "text": [
      "Company: COP, Sentence count: 102\n"
     ]
    },
    {
     "name": "stderr",
     "output_type": "stream",
     "text": []
    },
    {
     "name": "stdout",
     "output_type": "stream",
     "text": [
      "Error processing EOG: Length mismatch: Expected axis has 0 elements, new values have 3 elements\n",
      "Company: OXY, Sentence count: 69\n"
     ]
    },
    {
     "name": "stderr",
     "output_type": "stream",
     "text": []
    },
    {
     "name": "stdout",
     "output_type": "stream",
     "text": [
      "Company: PSX, Sentence count: 190\n"
     ]
    },
    {
     "name": "stderr",
     "output_type": "stream",
     "text": []
    },
    {
     "name": "stdout",
     "output_type": "stream",
     "text": [
      "Company: MPC, Sentence count: 269\n"
     ]
    },
    {
     "name": "stderr",
     "output_type": "stream",
     "text": []
    },
    {
     "name": "stdout",
     "output_type": "stream",
     "text": [
      "Company: VLO, Sentence count: 0\n"
     ]
    },
    {
     "name": "stderr",
     "output_type": "stream",
     "text": []
    },
    {
     "name": "stdout",
     "output_type": "stream",
     "text": [
      "Company: HES, Sentence count: 0\n",
      "Company: DVN, Sentence count: 132\n"
     ]
    },
    {
     "name": "stderr",
     "output_type": "stream",
     "text": []
    },
    {
     "name": "stdout",
     "output_type": "stream",
     "text": [
      "Company: KMI, Sentence count: 279\n"
     ]
    },
    {
     "name": "stderr",
     "output_type": "stream",
     "text": []
    },
    {
     "name": "stdout",
     "output_type": "stream",
     "text": [
      "Company: WMB, Sentence count: 347\n"
     ]
    },
    {
     "name": "stderr",
     "output_type": "stream",
     "text": []
    },
    {
     "name": "stdout",
     "output_type": "stream",
     "text": [
      "Error processing HAL: 'item1a'\n",
      "Company: EXE, Sentence count: 842\n"
     ]
    },
    {
     "name": "stderr",
     "output_type": "stream",
     "text": [
      "100%|██████████| 14/14 [01:49<00:00,  7.83s/it]\n",
      " 27%|██▋       | 3/11 [05:31<14:46, 110.80s/it]"
     ]
    },
    {
     "name": "stdout",
     "output_type": "stream",
     "text": [
      "Companies processed: ['CVX', 'COP', 'OXY', 'PSX', 'MPC', 'DVN', 'KMI', 'WMB', 'EXE']\n",
      "Processing year: 2017\n"
     ]
    },
    {
     "name": "stderr",
     "output_type": "stream",
     "text": []
    },
    {
     "name": "stdout",
     "output_type": "stream",
     "text": [
      "Company: XOM, Sentence count: 2\n",
      "Company: CVX, Sentence count: 74\n"
     ]
    },
    {
     "name": "stderr",
     "output_type": "stream",
     "text": []
    },
    {
     "name": "stdout",
     "output_type": "stream",
     "text": [
      "Company: COP, Sentence count: 116\n"
     ]
    },
    {
     "name": "stderr",
     "output_type": "stream",
     "text": []
    },
    {
     "name": "stdout",
     "output_type": "stream",
     "text": [
      "Error processing EOG: Length mismatch: Expected axis has 0 elements, new values have 3 elements\n",
      "Company: OXY, Sentence count: 70\n"
     ]
    },
    {
     "name": "stderr",
     "output_type": "stream",
     "text": []
    },
    {
     "name": "stdout",
     "output_type": "stream",
     "text": [
      "Company: PSX, Sentence count: 190\n"
     ]
    },
    {
     "name": "stderr",
     "output_type": "stream",
     "text": []
    },
    {
     "name": "stdout",
     "output_type": "stream",
     "text": [
      "Company: MPC, Sentence count: 268\n"
     ]
    },
    {
     "name": "stderr",
     "output_type": "stream",
     "text": []
    },
    {
     "name": "stdout",
     "output_type": "stream",
     "text": [
      "Company: VLO, Sentence count: 0\n"
     ]
    },
    {
     "name": "stderr",
     "output_type": "stream",
     "text": []
    },
    {
     "name": "stdout",
     "output_type": "stream",
     "text": [
      "Company: HES, Sentence count: 0\n",
      "Company: DVN, Sentence count: 150\n"
     ]
    },
    {
     "name": "stderr",
     "output_type": "stream",
     "text": []
    },
    {
     "name": "stdout",
     "output_type": "stream",
     "text": [
      "Company: KMI, Sentence count: 279\n"
     ]
    },
    {
     "name": "stderr",
     "output_type": "stream",
     "text": []
    },
    {
     "name": "stdout",
     "output_type": "stream",
     "text": [
      "Company: WMB, Sentence count: 320\n"
     ]
    },
    {
     "name": "stderr",
     "output_type": "stream",
     "text": []
    },
    {
     "name": "stdout",
     "output_type": "stream",
     "text": [
      "Error processing HAL: 'item1a'\n",
      "Company: EXE, Sentence count: 804\n"
     ]
    },
    {
     "name": "stderr",
     "output_type": "stream",
     "text": [
      "100%|██████████| 14/14 [01:50<00:00,  7.88s/it]\n",
      " 36%|███▋      | 4/11 [07:21<12:54, 110.60s/it]"
     ]
    },
    {
     "name": "stdout",
     "output_type": "stream",
     "text": [
      "Companies processed: ['CVX', 'COP', 'OXY', 'PSX', 'MPC', 'DVN', 'KMI', 'WMB', 'EXE']\n",
      "Processing year: 2018\n"
     ]
    },
    {
     "name": "stderr",
     "output_type": "stream",
     "text": []
    },
    {
     "name": "stdout",
     "output_type": "stream",
     "text": [
      "Company: XOM, Sentence count: 2\n",
      "Company: CVX, Sentence count: 75\n"
     ]
    },
    {
     "name": "stderr",
     "output_type": "stream",
     "text": []
    },
    {
     "name": "stdout",
     "output_type": "stream",
     "text": [
      "Company: COP, Sentence count: 121\n"
     ]
    },
    {
     "name": "stderr",
     "output_type": "stream",
     "text": []
    },
    {
     "name": "stdout",
     "output_type": "stream",
     "text": [
      "Error processing EOG: Length mismatch: Expected axis has 0 elements, new values have 3 elements\n",
      "Company: OXY, Sentence count: 78\n"
     ]
    },
    {
     "name": "stderr",
     "output_type": "stream",
     "text": []
    },
    {
     "name": "stdout",
     "output_type": "stream",
     "text": [
      "Company: PSX, Sentence count: 190\n"
     ]
    },
    {
     "name": "stderr",
     "output_type": "stream",
     "text": []
    },
    {
     "name": "stdout",
     "output_type": "stream",
     "text": [
      "Company: MPC, Sentence count: 255\n"
     ]
    },
    {
     "name": "stderr",
     "output_type": "stream",
     "text": []
    },
    {
     "name": "stdout",
     "output_type": "stream",
     "text": [
      "Company: VLO, Sentence count: 0\n"
     ]
    },
    {
     "name": "stderr",
     "output_type": "stream",
     "text": []
    },
    {
     "name": "stdout",
     "output_type": "stream",
     "text": [
      "Company: HES, Sentence count: 0\n",
      "Company: DVN, Sentence count: 153\n"
     ]
    },
    {
     "name": "stderr",
     "output_type": "stream",
     "text": []
    },
    {
     "name": "stdout",
     "output_type": "stream",
     "text": [
      "Company: KMI, Sentence count: 301\n"
     ]
    },
    {
     "name": "stderr",
     "output_type": "stream",
     "text": []
    },
    {
     "name": "stdout",
     "output_type": "stream",
     "text": [
      "Company: WMB, Sentence count: 285\n"
     ]
    },
    {
     "name": "stderr",
     "output_type": "stream",
     "text": []
    },
    {
     "name": "stdout",
     "output_type": "stream",
     "text": [
      "Error processing HAL: 'item1a'\n",
      "Company: BKR, Sentence count: 235\n"
     ]
    },
    {
     "name": "stderr",
     "output_type": "stream",
     "text": []
    },
    {
     "name": "stdout",
     "output_type": "stream",
     "text": [
      "Company: EXE, Sentence count: 718\n"
     ]
    },
    {
     "name": "stderr",
     "output_type": "stream",
     "text": [
      "100%|██████████| 15/15 [01:55<00:00,  7.72s/it]\n",
      " 45%|████▌     | 5/11 [09:17<11:14, 112.47s/it]"
     ]
    },
    {
     "name": "stdout",
     "output_type": "stream",
     "text": [
      "Companies processed: ['CVX', 'COP', 'OXY', 'PSX', 'MPC', 'DVN', 'KMI', 'WMB', 'BKR', 'EXE']\n",
      "Processing year: 2019\n"
     ]
    },
    {
     "name": "stderr",
     "output_type": "stream",
     "text": []
    },
    {
     "name": "stdout",
     "output_type": "stream",
     "text": [
      "Company: XOM, Sentence count: 2\n",
      "Company: CVX, Sentence count: 76\n"
     ]
    },
    {
     "name": "stderr",
     "output_type": "stream",
     "text": []
    },
    {
     "name": "stdout",
     "output_type": "stream",
     "text": [
      "Company: COP, Sentence count: 159\n"
     ]
    },
    {
     "name": "stderr",
     "output_type": "stream",
     "text": []
    },
    {
     "name": "stdout",
     "output_type": "stream",
     "text": [
      "Error processing EOG: Length mismatch: Expected axis has 0 elements, new values have 3 elements\n",
      "Company: OXY, Sentence count: 85\n"
     ]
    },
    {
     "name": "stderr",
     "output_type": "stream",
     "text": []
    },
    {
     "name": "stdout",
     "output_type": "stream",
     "text": [
      "Company: PSX, Sentence count: 195\n"
     ]
    },
    {
     "name": "stderr",
     "output_type": "stream",
     "text": []
    },
    {
     "name": "stdout",
     "output_type": "stream",
     "text": [
      "Company: MPC, Sentence count: 2\n"
     ]
    },
    {
     "name": "stderr",
     "output_type": "stream",
     "text": []
    },
    {
     "name": "stdout",
     "output_type": "stream",
     "text": [
      "Company: VLO, Sentence count: 0\n"
     ]
    },
    {
     "name": "stderr",
     "output_type": "stream",
     "text": []
    },
    {
     "name": "stdout",
     "output_type": "stream",
     "text": [
      "Company: HES, Sentence count: 0\n",
      "Company: DVN, Sentence count: 159\n"
     ]
    },
    {
     "name": "stderr",
     "output_type": "stream",
     "text": []
    },
    {
     "name": "stdout",
     "output_type": "stream",
     "text": [
      "Company: KMI, Sentence count: 346\n"
     ]
    },
    {
     "name": "stderr",
     "output_type": "stream",
     "text": []
    },
    {
     "name": "stdout",
     "output_type": "stream",
     "text": [
      "Company: WMB, Sentence count: 256\n"
     ]
    },
    {
     "name": "stderr",
     "output_type": "stream",
     "text": []
    },
    {
     "name": "stdout",
     "output_type": "stream",
     "text": [
      "Error processing HAL: 'item1a'\n",
      "Company: BKR, Sentence count: 261\n"
     ]
    },
    {
     "name": "stderr",
     "output_type": "stream",
     "text": []
    },
    {
     "name": "stdout",
     "output_type": "stream",
     "text": [
      "Company: EXE, Sentence count: 770\n"
     ]
    },
    {
     "name": "stderr",
     "output_type": "stream",
     "text": [
      "100%|██████████| 15/15 [01:49<00:00,  7.28s/it]\n",
      " 55%|█████▍    | 6/11 [11:06<09:16, 111.33s/it]"
     ]
    },
    {
     "name": "stdout",
     "output_type": "stream",
     "text": [
      "Companies processed: ['CVX', 'COP', 'OXY', 'PSX', 'DVN', 'KMI', 'WMB', 'BKR', 'EXE']\n",
      "Processing year: 2020\n"
     ]
    },
    {
     "name": "stderr",
     "output_type": "stream",
     "text": []
    },
    {
     "name": "stdout",
     "output_type": "stream",
     "text": [
      "Company: XOM, Sentence count: 107\n"
     ]
    },
    {
     "name": "stderr",
     "output_type": "stream",
     "text": []
    },
    {
     "name": "stdout",
     "output_type": "stream",
     "text": [
      "Company: CVX, Sentence count: 83\n"
     ]
    },
    {
     "name": "stderr",
     "output_type": "stream",
     "text": []
    },
    {
     "name": "stdout",
     "output_type": "stream",
     "text": [
      "Company: COP, Sentence count: 157\n"
     ]
    },
    {
     "name": "stderr",
     "output_type": "stream",
     "text": []
    },
    {
     "name": "stdout",
     "output_type": "stream",
     "text": [
      "Error processing EOG: Length mismatch: Expected axis has 0 elements, new values have 3 elements\n",
      "Company: OXY, Sentence count: 163\n"
     ]
    },
    {
     "name": "stderr",
     "output_type": "stream",
     "text": []
    },
    {
     "name": "stdout",
     "output_type": "stream",
     "text": [
      "Company: PSX, Sentence count: 194\n"
     ]
    },
    {
     "name": "stderr",
     "output_type": "stream",
     "text": []
    },
    {
     "name": "stdout",
     "output_type": "stream",
     "text": [
      "Company: MPC, Sentence count: 2\n"
     ]
    },
    {
     "name": "stderr",
     "output_type": "stream",
     "text": []
    },
    {
     "name": "stdout",
     "output_type": "stream",
     "text": [
      "Company: VLO, Sentence count: 0\n"
     ]
    },
    {
     "name": "stderr",
     "output_type": "stream",
     "text": []
    },
    {
     "name": "stdout",
     "output_type": "stream",
     "text": [
      "Company: HES, Sentence count: 0\n",
      "Company: DVN, Sentence count: 145\n"
     ]
    },
    {
     "name": "stderr",
     "output_type": "stream",
     "text": []
    },
    {
     "name": "stdout",
     "output_type": "stream",
     "text": [
      "Company: KMI, Sentence count: 344\n"
     ]
    },
    {
     "name": "stderr",
     "output_type": "stream",
     "text": []
    },
    {
     "name": "stdout",
     "output_type": "stream",
     "text": [
      "Company: WMB, Sentence count: 289\n"
     ]
    },
    {
     "name": "stderr",
     "output_type": "stream",
     "text": []
    },
    {
     "name": "stdout",
     "output_type": "stream",
     "text": [
      "Error processing HAL: 'item1a'\n",
      "Company: BKR, Sentence count: 215\n"
     ]
    },
    {
     "name": "stderr",
     "output_type": "stream",
     "text": []
    },
    {
     "name": "stdout",
     "output_type": "stream",
     "text": [
      "Company: EXE, Sentence count: 745\n"
     ]
    },
    {
     "name": "stderr",
     "output_type": "stream",
     "text": [
      "100%|██████████| 15/15 [02:02<00:00,  8.14s/it]\n",
      " 64%|██████▎   | 7/11 [13:08<07:39, 114.87s/it]"
     ]
    },
    {
     "name": "stdout",
     "output_type": "stream",
     "text": [
      "Companies processed: ['XOM', 'CVX', 'COP', 'OXY', 'PSX', 'DVN', 'KMI', 'WMB', 'BKR', 'EXE']\n",
      "Processing year: 2021\n"
     ]
    },
    {
     "name": "stderr",
     "output_type": "stream",
     "text": []
    },
    {
     "name": "stdout",
     "output_type": "stream",
     "text": [
      "Company: XOM, Sentence count: 110\n"
     ]
    },
    {
     "name": "stderr",
     "output_type": "stream",
     "text": []
    },
    {
     "name": "stdout",
     "output_type": "stream",
     "text": [
      "Company: CVX, Sentence count: 118\n"
     ]
    },
    {
     "name": "stderr",
     "output_type": "stream",
     "text": []
    },
    {
     "name": "stdout",
     "output_type": "stream",
     "text": [
      "Company: COP, Sentence count: 198\n"
     ]
    },
    {
     "name": "stderr",
     "output_type": "stream",
     "text": []
    },
    {
     "name": "stdout",
     "output_type": "stream",
     "text": [
      "Company: EOG, Sentence count: 0\n",
      "Company: OXY, Sentence count: 186\n"
     ]
    },
    {
     "name": "stderr",
     "output_type": "stream",
     "text": []
    },
    {
     "name": "stdout",
     "output_type": "stream",
     "text": [
      "Company: PSX, Sentence count: 244\n"
     ]
    },
    {
     "name": "stderr",
     "output_type": "stream",
     "text": []
    },
    {
     "name": "stdout",
     "output_type": "stream",
     "text": [
      "Company: MPC, Sentence count: 2\n"
     ]
    },
    {
     "name": "stderr",
     "output_type": "stream",
     "text": []
    },
    {
     "name": "stdout",
     "output_type": "stream",
     "text": [
      "Company: VLO, Sentence count: 0\n"
     ]
    },
    {
     "name": "stderr",
     "output_type": "stream",
     "text": []
    },
    {
     "name": "stdout",
     "output_type": "stream",
     "text": [
      "Company: HES, Sentence count: 0\n",
      "Company: DVN, Sentence count: 165\n"
     ]
    },
    {
     "name": "stderr",
     "output_type": "stream",
     "text": []
    },
    {
     "name": "stdout",
     "output_type": "stream",
     "text": [
      "Company: KMI, Sentence count: 367\n"
     ]
    },
    {
     "name": "stderr",
     "output_type": "stream",
     "text": []
    },
    {
     "name": "stdout",
     "output_type": "stream",
     "text": [
      "Company: WMB, Sentence count: 300\n"
     ]
    },
    {
     "name": "stderr",
     "output_type": "stream",
     "text": []
    },
    {
     "name": "stdout",
     "output_type": "stream",
     "text": [
      "Error processing HAL: 'item1a'\n",
      "Company: BKR, Sentence count: 250\n"
     ]
    },
    {
     "name": "stderr",
     "output_type": "stream",
     "text": []
    },
    {
     "name": "stdout",
     "output_type": "stream",
     "text": [
      "Company: EXE, Sentence count: 767\n"
     ]
    },
    {
     "name": "stderr",
     "output_type": "stream",
     "text": [
      "100%|██████████| 15/15 [02:04<00:00,  8.27s/it]\n",
      " 73%|███████▎  | 8/11 [15:12<05:53, 117.80s/it]"
     ]
    },
    {
     "name": "stdout",
     "output_type": "stream",
     "text": [
      "Companies processed: ['XOM', 'CVX', 'COP', 'OXY', 'PSX', 'DVN', 'KMI', 'WMB', 'BKR', 'EXE']\n",
      "Processing year: 2022\n"
     ]
    },
    {
     "name": "stderr",
     "output_type": "stream",
     "text": []
    },
    {
     "name": "stdout",
     "output_type": "stream",
     "text": [
      "Company: XOM, Sentence count: 129\n"
     ]
    },
    {
     "name": "stderr",
     "output_type": "stream",
     "text": []
    },
    {
     "name": "stdout",
     "output_type": "stream",
     "text": [
      "Company: CVX, Sentence count: 104\n"
     ]
    },
    {
     "name": "stderr",
     "output_type": "stream",
     "text": []
    },
    {
     "name": "stdout",
     "output_type": "stream",
     "text": [
      "Company: COP, Sentence count: 0\n"
     ]
    },
    {
     "name": "stderr",
     "output_type": "stream",
     "text": []
    },
    {
     "name": "stdout",
     "output_type": "stream",
     "text": [
      "Company: EOG, Sentence count: 0\n",
      "Company: OXY, Sentence count: 203\n"
     ]
    },
    {
     "name": "stderr",
     "output_type": "stream",
     "text": []
    },
    {
     "name": "stdout",
     "output_type": "stream",
     "text": [
      "Company: PSX, Sentence count: 267\n"
     ]
    },
    {
     "name": "stderr",
     "output_type": "stream",
     "text": []
    },
    {
     "name": "stdout",
     "output_type": "stream",
     "text": [
      "Company: MPC, Sentence count: 2\n"
     ]
    },
    {
     "name": "stderr",
     "output_type": "stream",
     "text": []
    },
    {
     "name": "stdout",
     "output_type": "stream",
     "text": [
      "Error processing VLO: Length mismatch: Expected axis has 0 elements, new values have 3 elements\n"
     ]
    },
    {
     "name": "stderr",
     "output_type": "stream",
     "text": []
    },
    {
     "name": "stdout",
     "output_type": "stream",
     "text": [
      "Company: HES, Sentence count: 0\n",
      "Company: DVN, Sentence count: 181\n"
     ]
    },
    {
     "name": "stderr",
     "output_type": "stream",
     "text": []
    },
    {
     "name": "stdout",
     "output_type": "stream",
     "text": [
      "Company: KMI, Sentence count: 368\n"
     ]
    },
    {
     "name": "stderr",
     "output_type": "stream",
     "text": []
    },
    {
     "name": "stdout",
     "output_type": "stream",
     "text": [
      "Company: WMB, Sentence count: 304\n"
     ]
    },
    {
     "name": "stderr",
     "output_type": "stream",
     "text": []
    },
    {
     "name": "stdout",
     "output_type": "stream",
     "text": [
      "Error processing HAL: 'item1a'\n",
      "Company: BKR, Sentence count: 222\n"
     ]
    },
    {
     "name": "stderr",
     "output_type": "stream",
     "text": []
    },
    {
     "name": "stdout",
     "output_type": "stream",
     "text": [
      "Company: EXE, Sentence count: 437\n"
     ]
    },
    {
     "name": "stderr",
     "output_type": "stream",
     "text": [
      "100%|██████████| 15/15 [01:43<00:00,  6.88s/it]\n",
      " 82%|████████▏ | 9/11 [16:55<03:46, 113.22s/it]"
     ]
    },
    {
     "name": "stdout",
     "output_type": "stream",
     "text": [
      "Companies processed: ['XOM', 'CVX', 'OXY', 'PSX', 'DVN', 'KMI', 'WMB', 'BKR', 'EXE']\n",
      "Processing year: 2023\n"
     ]
    },
    {
     "name": "stderr",
     "output_type": "stream",
     "text": []
    },
    {
     "name": "stdout",
     "output_type": "stream",
     "text": [
      "Company: XOM, Sentence count: 134\n"
     ]
    },
    {
     "name": "stderr",
     "output_type": "stream",
     "text": []
    },
    {
     "name": "stdout",
     "output_type": "stream",
     "text": [
      "Company: CVX, Sentence count: 111\n"
     ]
    },
    {
     "name": "stderr",
     "output_type": "stream",
     "text": []
    },
    {
     "name": "stdout",
     "output_type": "stream",
     "text": [
      "Company: COP, Sentence count: 182\n"
     ]
    },
    {
     "name": "stderr",
     "output_type": "stream",
     "text": []
    },
    {
     "name": "stdout",
     "output_type": "stream",
     "text": [
      "Company: EOG, Sentence count: 0\n",
      "Company: OXY, Sentence count: 259\n"
     ]
    },
    {
     "name": "stderr",
     "output_type": "stream",
     "text": []
    },
    {
     "name": "stdout",
     "output_type": "stream",
     "text": [
      "Company: PSX, Sentence count: 280\n"
     ]
    },
    {
     "name": "stderr",
     "output_type": "stream",
     "text": []
    },
    {
     "name": "stdout",
     "output_type": "stream",
     "text": [
      "Company: MPC, Sentence count: 340\n"
     ]
    },
    {
     "name": "stderr",
     "output_type": "stream",
     "text": []
    },
    {
     "name": "stdout",
     "output_type": "stream",
     "text": [
      "Company: VLO, Sentence count: 2\n"
     ]
    },
    {
     "name": "stderr",
     "output_type": "stream",
     "text": []
    },
    {
     "name": "stdout",
     "output_type": "stream",
     "text": [
      "Company: HES, Sentence count: 0\n",
      "Company: DVN, Sentence count: 190\n"
     ]
    },
    {
     "name": "stderr",
     "output_type": "stream",
     "text": []
    },
    {
     "name": "stdout",
     "output_type": "stream",
     "text": [
      "Company: KMI, Sentence count: 354\n"
     ]
    },
    {
     "name": "stderr",
     "output_type": "stream",
     "text": []
    },
    {
     "name": "stdout",
     "output_type": "stream",
     "text": [
      "Company: WMB, Sentence count: 296\n"
     ]
    },
    {
     "name": "stderr",
     "output_type": "stream",
     "text": []
    },
    {
     "name": "stdout",
     "output_type": "stream",
     "text": [
      "Error processing HAL: 'item1a'\n",
      "Company: BKR, Sentence count: 255\n"
     ]
    },
    {
     "name": "stderr",
     "output_type": "stream",
     "text": []
    },
    {
     "name": "stdout",
     "output_type": "stream",
     "text": [
      "Company: EXE, Sentence count: 331\n"
     ]
    },
    {
     "name": "stderr",
     "output_type": "stream",
     "text": [
      "100%|██████████| 15/15 [02:05<00:00,  8.36s/it]\n",
      " 91%|█████████ | 10/11 [19:01<01:56, 116.97s/it]"
     ]
    },
    {
     "name": "stdout",
     "output_type": "stream",
     "text": [
      "Companies processed: ['XOM', 'CVX', 'COP', 'OXY', 'PSX', 'MPC', 'DVN', 'KMI', 'WMB', 'BKR', 'EXE']\n",
      "Processing year: 2024\n"
     ]
    },
    {
     "name": "stderr",
     "output_type": "stream",
     "text": []
    },
    {
     "name": "stdout",
     "output_type": "stream",
     "text": [
      "Company: XOM, Sentence count: 135\n"
     ]
    },
    {
     "name": "stderr",
     "output_type": "stream",
     "text": []
    },
    {
     "name": "stdout",
     "output_type": "stream",
     "text": [
      "Company: CVX, Sentence count: 0\n"
     ]
    },
    {
     "name": "stderr",
     "output_type": "stream",
     "text": []
    },
    {
     "name": "stdout",
     "output_type": "stream",
     "text": [
      "Company: COP, Sentence count: 0\n"
     ]
    },
    {
     "name": "stderr",
     "output_type": "stream",
     "text": []
    },
    {
     "name": "stdout",
     "output_type": "stream",
     "text": [
      "Company: EOG, Sentence count: 0\n",
      "Company: OXY, Sentence count: 379\n"
     ]
    },
    {
     "name": "stderr",
     "output_type": "stream",
     "text": []
    },
    {
     "name": "stdout",
     "output_type": "stream",
     "text": [
      "Company: PSX, Sentence count: 296\n"
     ]
    },
    {
     "name": "stderr",
     "output_type": "stream",
     "text": []
    },
    {
     "name": "stdout",
     "output_type": "stream",
     "text": [
      "Company: MPC, Sentence count: 348\n"
     ]
    },
    {
     "name": "stderr",
     "output_type": "stream",
     "text": []
    },
    {
     "name": "stdout",
     "output_type": "stream",
     "text": [
      "Company: VLO, Sentence count: 2\n"
     ]
    },
    {
     "name": "stderr",
     "output_type": "stream",
     "text": []
    },
    {
     "name": "stdout",
     "output_type": "stream",
     "text": [
      "Company: HES, Sentence count: 0\n",
      "Company: DVN, Sentence count: 197\n"
     ]
    },
    {
     "name": "stderr",
     "output_type": "stream",
     "text": []
    },
    {
     "name": "stdout",
     "output_type": "stream",
     "text": [
      "Company: KMI, Sentence count: 360\n"
     ]
    },
    {
     "name": "stderr",
     "output_type": "stream",
     "text": []
    },
    {
     "name": "stdout",
     "output_type": "stream",
     "text": [
      "Company: WMB, Sentence count: 297\n"
     ]
    },
    {
     "name": "stderr",
     "output_type": "stream",
     "text": []
    },
    {
     "name": "stdout",
     "output_type": "stream",
     "text": [
      "Error processing HAL: 'item1a'\n",
      "Company: BKR, Sentence count: 275\n"
     ]
    },
    {
     "name": "stderr",
     "output_type": "stream",
     "text": []
    },
    {
     "name": "stdout",
     "output_type": "stream",
     "text": [
      "Company: EXE, Sentence count: 494\n"
     ]
    },
    {
     "name": "stderr",
     "output_type": "stream",
     "text": [
      "100%|██████████| 15/15 [02:10<00:00,  8.68s/it]\n",
      "100%|██████████| 11/11 [21:11<00:00, 115.58s/it]"
     ]
    },
    {
     "name": "stdout",
     "output_type": "stream",
     "text": [
      "Companies processed: ['XOM', 'OXY', 'PSX', 'MPC', 'DVN', 'KMI', 'WMB', 'BKR', 'EXE']\n"
     ]
    },
    {
     "name": "stderr",
     "output_type": "stream",
     "text": [
      "\n"
     ]
    }
   ],
   "source": [
    "finbert = BertForSequenceClassification.from_pretrained('yiyanghkust/finbert-esg',num_labels=4)\n",
    "tokenizer = BertTokenizer.from_pretrained('yiyanghkust/finbert-esg')\n",
    "nlp = pipeline(\"text-classification\", model=finbert, tokenizer=tokenizer, truncation=True, max_length=512, device=-1)\n",
    "\n",
    "target_years = range(2014, 2025)\n",
    "industry = \"OIL\"\n",
    "\n",
    "environment_scores = []\n",
    "social_scores = []\n",
    "governance_scores = []\n",
    "\n",
    "for target_year in tqdm(target_years):\n",
    "    print(f\"Processing year: {target_year}\")\n",
    "\n",
    "    try:\n",
    "        with open(f\"../Edgar/10K_URL_{industry}/All_10K_Filings_{target_year}.json\", \"r\") as read_file:\n",
    "            companies = json.load(read_file)\n",
    "\n",
    "        valid_companies = []\n",
    "\n",
    "        for company in tqdm(companies):\n",
    "            try:\n",
    "                sentences = converttotext(company['url'])\n",
    "                print(f\"Company: {company['company']}, Sentence count: {len(sentences)}\")\n",
    "\n",
    "                if len(sentences) > 10:\n",
    "                    scores = calculate_average_esg(sentences, nlp)\n",
    "                \n",
    "                    company['environment_score_avg'] = scores['environment_score_avg']\n",
    "                    company['social_score_avg'] = scores['social_score_avg']\n",
    "                    company['governance_score_avg'] = scores['governance_score_avg']\n",
    "                \n",
    "                    valid_companies.append(company)\n",
    "\n",
    "            except Exception as e:\n",
    "                print(f\"Error processing {company['company']}: {e}\")\n",
    "\n",
    "        final_companies = [company['company'] for company in valid_companies]\n",
    "        print(f\"Companies processed: {final_companies}\")\n",
    "\n",
    "        if valid_companies:\n",
    "            environment_avg = sum([company['environment_score_avg'] for company in valid_companies]) / len(valid_companies)\n",
    "            social_avg = sum([company['social_score_avg'] for company in valid_companies]) / len(valid_companies)\n",
    "            governance_avg = sum([company['governance_score_avg'] for company in valid_companies]) / len(valid_companies)\n",
    "\n",
    "            environment_scores.append(environment_avg)\n",
    "            social_scores.append(social_avg)\n",
    "            governance_scores.append(governance_avg)\n",
    "\n",
    "    except Exception as e:\n",
    "        print(f\"Error processing year {target_year}: {e}\")"
   ]
  },
  {
   "cell_type": "code",
   "execution_count": 16,
   "metadata": {},
   "outputs": [
    {
     "data": {
      "image/png": "[encoded data removed]",
      "text/plain": [
       "<Figure size 1000x600 with 1 Axes>"
      ]
     },
     "metadata": {},
     "output_type": "display_data"
    }
   ],
   "source": [
    "plt.figure(figsize=(10, 6))\n",
    "plt.plot(target_years, environment_scores, label='Environmental', marker='o')\n",
    "plt.plot(target_years, social_scores, label='Social', marker='o')\n",
    "plt.plot(target_years, governance_scores, label='Governance', marker='o')\n",
    "\n",
    "plt.title(\"ESG score over years (2014-2024) with LLM\")\n",
    "plt.xlabel(\"Year\")\n",
    "plt.ylabel(\"Average Score\")\n",
    "plt.legend()\n",
    "plt.show()"
   ]
  },
  {
   "cell_type": "code",
   "execution_count": null,
   "metadata": {},
   "outputs": [],
   "source": []
  }
 ],
 "metadata": {
  "kernelspec": {
   "display_name": "base",
   "language": "python",
   "name": "python3"
  },
  "language_info": {
   "codemirror_mode": {
    "name": "ipython",
    "version": 3
   },
   "file_extension": ".py",
   "mimetype": "text/x-python",
   "name": "python",
   "nbconvert_exporter": "python",
   "pygments_lexer": "ipython3",
   "version": "3.9.7"
  }
 },
 "nbformat": 4,
 "nbformat_minor": 2
}
