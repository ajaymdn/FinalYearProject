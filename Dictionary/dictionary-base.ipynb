{
 "cells": [
  {
   "cell_type": "code",
   "execution_count": 27,
   "metadata": {},
   "outputs": [],
   "source": [
    "import re\n",
    "from collections import Counter\n",
    "import json\n",
    "import requests\n",
    "from bs4 import BeautifulSoup\n",
    "import pandas as pd\n",
    "import numpy as np"
   ]
  },
  {
   "cell_type": "code",
   "execution_count": 21,
   "metadata": {},
   "outputs": [],
   "source": [
    "def converttotext(url):\n",
    "    headers = {'User-Agent':'Sample Company Name AdminContact@<sample company domain>.com','Accept-Encoding':'gzip, deflate','Host':'www.sec.gov'}\n",
    "\n",
    "    r = requests.get(url, headers=headers)\n",
    "\n",
    "    raw_10k = r.text\n",
    "\n",
    "    doc_start_pattern = re.compile(r'<DOCUMENT>')\n",
    "    doc_end_pattern = re.compile(r'</DOCUMENT>')\n",
    "    type_pattern = re.compile(r'<TYPE>[^\\n]+')\n",
    "\n",
    "    doc_start_is = [x.end() for x in doc_start_pattern.finditer(raw_10k)]\n",
    "    doc_end_is = [x.start() for x in doc_end_pattern.finditer(raw_10k)]\n",
    "\n",
    "    doc_types = [x[len('<TYPE>'):] for x in type_pattern.findall(raw_10k)]\n",
    "\n",
    "    document = {}\n",
    "    \n",
    "    for doc_type, doc_start, doc_end in zip(doc_types, doc_start_is, doc_end_is):\n",
    "        if doc_type == '10-K':\n",
    "            document[doc_type] = raw_10k[doc_start:doc_end]\n",
    "\n",
    "    regex = re.compile(r'(>Item(\\s|&#160;|&nbsp;)(1A|1B|7A|7|8)\\.{0,1})|(ITEM\\s(1A|1B|7A|7|8))')\n",
    "\n",
    "    matches = regex.finditer(document['10-K'])\n",
    "\n",
    "    test_df = pd.DataFrame([(x.group(), x.start(), x.end()) for x in matches])\n",
    "\n",
    "    test_df.columns = ['item', 'start', 'end']\n",
    "    test_df['item'] = test_df.item.str.lower()\n",
    "    test_df.replace('&#160;',' ',regex=True,inplace=True)\n",
    "    test_df.replace('&nbsp;',' ',regex=True,inplace=True)\n",
    "    test_df.replace(' ','',regex=True,inplace=True)\n",
    "    test_df.replace('\\.','',regex=True,inplace=True)\n",
    "    test_df.replace('>','',regex=True,inplace=True)\n",
    "\n",
    "    pos_dat = test_df.sort_values('start', ascending=True).drop_duplicates(subset=['item'], keep='last')\n",
    "    pos_dat.set_index('item', inplace=True)\n",
    "\n",
    "    item_1a_raw = document['10-K'][pos_dat['start'].loc['item1a']:pos_dat['start'].loc['item1b']]\n",
    "    item_7_raw = document['10-K'][pos_dat['start'].loc['item7']:pos_dat['start'].loc['item7a']]\n",
    "    item_7a_raw = document['10-K'][pos_dat['start'].loc['item7a']:pos_dat['start'].loc['item8']]\n",
    "\n",
    "    item_1a_content = BeautifulSoup(item_1a_raw, 'lxml')\n",
    "    item_7_content = BeautifulSoup(item_7_raw, 'lxml')\n",
    "    item_7a_content = BeautifulSoup(item_7a_raw, 'lxml')\n",
    "\n",
    "    item_1a_text = item_1a_content.get_text()\n",
    "    item_7_text = item_7_content.get_text()\n",
    "    item_7a_text = item_7a_content.get_text()\n",
    "\n",
    "    item_1a_text_cleaned = re.sub(r'(Item\\s*\\d+[A-Za-z]*)\\.', r'\\1. ', item_1a_text)\n",
    "    item_7_text_cleaned = re.sub(r'(Item\\s*\\d+[A-Za-z]*)\\.', r'\\1. ', item_7_text)\n",
    "    item_7a_text_cleaned = re.sub(r'(Item\\s*\\d+[A-Za-z]*)\\.', r'\\1. ', item_7a_text)\n",
    "\n",
    "    item_1a_text_cleaned = re.sub(r'(?<=[.!?])(?=\\S)', r' ', item_1a_text_cleaned)\n",
    "    item_7_text_cleaned = re.sub(r'(?<=[.!?])(?=\\S)', r' ', item_7_text_cleaned)\n",
    "    item_7a_text_cleaned = re.sub(r'(?<=[.!?])(?=\\S)', r' ', item_7a_text_cleaned)\n",
    "\n",
    "    sentence_splitter = re.compile(r'(?<!\\w\\.\\w.)(?<![A-Z][a-z]\\.)(?<!\\.\\.\\.)(?<=\\.|\\?)\\s')\n",
    "\n",
    "    sentences_1a = sentence_splitter.split(item_1a_text_cleaned)\n",
    "    sentences_7 = sentence_splitter.split(item_7_text_cleaned)\n",
    "    sentences_7a = sentence_splitter.split(item_7a_text_cleaned)\n",
    "\n",
    "    all_sentences = sentences_1a + sentences_7 + sentences_7a\n",
    "    all_sentences = [sentence.strip() for sentence in all_sentences if sentence.strip()]\n",
    "\n",
    "    return all_sentences"
   ]
  },
  {
   "cell_type": "code",
   "execution_count": 22,
   "metadata": {},
   "outputs": [],
   "source": [
    "def load_esg_dictionaries(json_file_path=\"words.json\"):\n",
    "    with open(json_file_path, 'r') as file:\n",
    "        esg_dictionaries = json.load(file)\n",
    "    return esg_dictionaries"
   ]
  },
  {
   "cell_type": "code",
   "execution_count": null,
   "metadata": {},
   "outputs": [],
   "source": [
    "def preprocess_text(text):\n",
    "    text = re.sub(r'[^a-z0-9\\s]', '', text)\n",
    "    return text"
   ]
  },
  {
   "cell_type": "code",
   "execution_count": 30,
   "metadata": {},
   "outputs": [],
   "source": [
    "def analyze_esg(text, esg_dictionaries):\n",
    "    text = preprocess_text(text)\n",
    "    word_counts = Counter(text.split())\n",
    "    \n",
    "    # Initialize scores for Environmental, Social, and Governance\n",
    "    environmental_score = 0\n",
    "    social_score = 0\n",
    "    governance_score = 0\n",
    "    \n",
    "    # Calculate the scores based on the keyword matches\n",
    "    for keyword in esg_dictionaries['Environmental']:\n",
    "        environmental_score += word_counts.get(keyword, 0)\n",
    "    for keyword in esg_dictionaries['Social']:\n",
    "        social_score += word_counts.get(keyword, 0)\n",
    "    for keyword in esg_dictionaries['Governance']:\n",
    "        governance_score += word_counts.get(keyword, 0)\n",
    "    \n",
    "    # Normalize the scores by the total word count\n",
    "    total_words = sum(word_counts.values())\n",
    "    if total_words > 0:\n",
    "        environmental_score /= total_words\n",
    "        social_score /= total_words\n",
    "        governance_score /= total_words\n",
    "    \n",
    "    # Return the individual ESG scores (normalized)\n",
    "    return environmental_score, social_score, governance_score"
   ]
  },
  {
   "cell_type": "code",
   "execution_count": 33,
   "metadata": {},
   "outputs": [
    {
     "name": "stdout",
     "output_type": "stream",
     "text": [
      "Environmental: 0.0106\n",
      "Social: 0.0144\n",
      "Governance: 0.0120\n"
     ]
    }
   ],
   "source": [
    "esg_dictionaries = load_esg_dictionaries()\n",
    "text = converttotext(\"https://www.sec.gov/Archives/edgar/data/1018724/000101872420000004/0001018724-20-000004.txt\")\n",
    "environmental, social, governance = analyze_esg(\" \".join(text), esg_dictionaries)\n",
    "\n",
    "print(f\"Environmental: {environmental:.4f}\")\n",
    "print(f\"Social: {social:.4f}\")\n",
    "print(f\"Governance: {governance:.4f}\")"
   ]
  },
  {
   "cell_type": "code",
   "execution_count": null,
   "metadata": {},
   "outputs": [],
   "source": []
  }
 ],
 "metadata": {
  "kernelspec": {
   "display_name": "Python 3",
   "language": "python",
   "name": "python3"
  },
  "language_info": {
   "codemirror_mode": {
    "name": "ipython",
    "version": 3
   },
   "file_extension": ".py",
   "mimetype": "text/x-python",
   "name": "python",
   "nbconvert_exporter": "python",
   "pygments_lexer": "ipython3",
   "version": "3.11.4"
  }
 },
 "nbformat": 4,
 "nbformat_minor": 2
}
