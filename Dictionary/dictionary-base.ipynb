{
 "cells": [
  {
   "cell_type": "code",
   "execution_count": null,
   "metadata": {},
   "outputs": [],
   "source": [
    "import requests\n",
    "from bs4 import BeautifulSoup\n",
    "import re\n",
    "import pandas as pd\n",
    "import json\n",
    "import nltk\n",
    "import matplotlib.pyplot as plt\n",
    "import counter"
   ]
  },
  {
   "cell_type": "code",
   "execution_count": 2,
   "metadata": {},
   "outputs": [
    {
     "name": "stderr",
     "output_type": "stream",
     "text": [
      "[nltk_data] Downloading package punkt to /Users/ajaymdn/nltk_data...\n",
      "[nltk_data]   Package punkt is already up-to-date!\n"
     ]
    }
   ],
   "source": [
    "nltk.download('punkt')\n",
    "from nltk.tokenize import sent_tokenize\n",
    "\n",
    "def clean_text(text):\n",
    "    # Ensure consistent spacing after titles like \"Item 1A.\"\n",
    "    text = re.sub(r'(Item\\s*\\d+[A-Za-z]*)\\.', r'\\1. ', text)\n",
    "    # Insert missing spaces between concatenated words like \"FactorsThe\"\n",
    "    text = re.sub(r'([a-z])([A-Z])', r'\\1 \\2', text)\n",
    "    # Clean up spacing after punctuation\n",
    "    text = re.sub(r'(?<=[.!?])(?=\\S)', r' ', text)\n",
    "    return text.strip()\n",
    "\n",
    "def split_sentences_with_nltk(text):\n",
    "    # Initial cleaning\n",
    "    text = clean_text(text)\n",
    "\n",
    "    # Use nltk's sentence tokenizer\n",
    "    sentences = nltk.sent_tokenize(text)\n",
    "\n",
    "    # Post-process to remove redundant or empty sentences\n",
    "    sentences = [sentence.strip() for sentence in sentences if sentence.strip()]\n",
    "    return sentences"
   ]
  },
  {
   "cell_type": "code",
   "execution_count": 3,
   "metadata": {},
   "outputs": [],
   "source": [
    "def converttotext(url):\n",
    "    headers = {'User-Agent':'Sample Company Name AdminContact@<sample company domain>.com','Accept-Encoding':'gzip, deflate','Host':'www.sec.gov'}\n",
    "\n",
    "    r = requests.get(url, headers=headers)\n",
    "\n",
    "    raw_10k = r.text\n",
    "\n",
    "    doc_start_pattern = re.compile(r'<DOCUMENT>')\n",
    "    doc_end_pattern = re.compile(r'</DOCUMENT>')\n",
    "    type_pattern = re.compile(r'<TYPE>[^\\n]+')\n",
    "\n",
    "    doc_start_is = [x.end() for x in doc_start_pattern.finditer(raw_10k)]\n",
    "    doc_end_is = [x.start() for x in doc_end_pattern.finditer(raw_10k)]\n",
    "\n",
    "    doc_types = [x[len('<TYPE>'):] for x in type_pattern.findall(raw_10k)]\n",
    "\n",
    "    document = {}\n",
    "    \n",
    "    for doc_type, doc_start, doc_end in zip(doc_types, doc_start_is, doc_end_is):\n",
    "        if doc_type == '10-K':\n",
    "            document[doc_type] = raw_10k[doc_start:doc_end]\n",
    "\n",
    "    regex = re.compile(r'(>Item(\\s|&#160;|&nbsp;)(1A|1B|7A|7|8)\\.{0,1})|(ITEM\\s(1A|1B|7A|7|8))')\n",
    "\n",
    "    matches = regex.finditer(document['10-K'])\n",
    "\n",
    "    test_df = pd.DataFrame([(x.group(), x.start(), x.end()) for x in matches])\n",
    "\n",
    "    test_df.columns = ['item', 'start', 'end']\n",
    "    test_df['item'] = test_df.item.str.lower()\n",
    "    test_df.head()\n",
    "    test_df.replace('&#160;',' ',regex=True,inplace=True)\n",
    "    test_df.replace('&nbsp;',' ',regex=True,inplace=True)\n",
    "    test_df.replace(' ','',regex=True,inplace=True)\n",
    "    test_df.replace('\\.','',regex=True,inplace=True)\n",
    "    test_df.replace('>','',regex=True,inplace=True)\n",
    "\n",
    "    pos_dat = test_df.sort_values('start', ascending=True).drop_duplicates(subset=['item'], keep='last')\n",
    "    pos_dat.set_index('item', inplace=True)\n",
    "\n",
    "    item_1a_raw = document['10-K'][pos_dat['start'].loc['item1a']:pos_dat['start'].loc['item1b']]\n",
    "\n",
    "    item_1a_content = BeautifulSoup(item_1a_raw, 'lxml')\n",
    "\n",
    "    item_1a_text = item_1a_content.get_text()\n",
    "\n",
    "    sentences = split_sentences_with_nltk(item_1a_text)\n",
    "    \n",
    "    return sentences\n"
   ]
  },
  {
   "cell_type": "code",
   "execution_count": 4,
   "metadata": {},
   "outputs": [],
   "source": [
    "def load_esg_dictionaries(json_file_path=\"words.json\"):\n",
    "    with open(json_file_path, 'r') as file:\n",
    "        esg_dictionaries = json.load(file)\n",
    "    return esg_dictionaries"
   ]
  },
  {
   "cell_type": "code",
   "execution_count": 5,
   "metadata": {},
   "outputs": [],
   "source": [
    "def preprocess_text(text):\n",
    "    text = re.sub(r'[^a-z0-9\\s]', '', text)\n",
    "    return text"
   ]
  },
  {
   "cell_type": "code",
   "execution_count": null,
   "metadata": {},
   "outputs": [],
   "source": [
    "esg_dictionaries = load_esg_dictionaries()\n",
    "\n"
   ]
  },
  {
   "cell_type": "code",
   "execution_count": 30,
   "metadata": {},
   "outputs": [],
   "source": [
    "def analyze_esg(text, esg_dictionaries):\n",
    "    text = preprocess_text(text)\n",
    "    word_counts = Counter(text.split())\n",
    "    \n",
    "    # Initialize scores for Environmental, Social, and Governance\n",
    "    environmental_score = 0\n",
    "    social_score = 0\n",
    "    governance_score = 0\n",
    "    \n",
    "    # Calculate the scores based on the keyword matches\n",
    "    for keyword in esg_dictionaries['Environmental']:\n",
    "        environmental_score += word_counts.get(keyword, 0)\n",
    "    for keyword in esg_dictionaries['Social']:\n",
    "        social_score += word_counts.get(keyword, 0)\n",
    "    for keyword in esg_dictionaries['Governance']:\n",
    "        governance_score += word_counts.get(keyword, 0)\n",
    "    \n",
    "    # Normalize the scores by the total word count\n",
    "    total_words = sum(word_counts.values())\n",
    "    if total_words > 0:\n",
    "        environmental_score /= total_words\n",
    "        social_score /= total_words\n",
    "        governance_score /= total_words\n",
    "    \n",
    "    # Return the individual ESG scores (normalized)\n",
    "    return environmental_score, social_score, governance_score"
   ]
  },
  {
   "cell_type": "code",
   "execution_count": 33,
   "metadata": {},
   "outputs": [
    {
     "name": "stdout",
     "output_type": "stream",
     "text": [
      "Environmental: 0.0106\n",
      "Social: 0.0144\n",
      "Governance: 0.0120\n"
     ]
    }
   ],
   "source": [
    "esg_dictionaries = load_esg_dictionaries()\n",
    "text = converttotext(\"https://www.sec.gov/Archives/edgar/data/1018724/000101872420000004/0001018724-20-000004.txt\")\n",
    "environmental, social, governance = analyze_esg(\" \".join(text), esg_dictionaries)\n",
    "\n",
    "print(f\"Environmental: {environmental:.4f}\")\n",
    "print(f\"Social: {social:.4f}\")\n",
    "print(f\"Governance: {governance:.4f}\")"
   ]
  },
  {
   "cell_type": "code",
   "execution_count": null,
   "metadata": {},
   "outputs": [],
   "source": []
  }
 ],
 "metadata": {
  "kernelspec": {
   "display_name": "base",
   "language": "python",
   "name": "python3"
  },
  "language_info": {
   "codemirror_mode": {
    "name": "ipython",
    "version": 3
   },
   "file_extension": ".py",
   "mimetype": "text/x-python",
   "name": "python",
   "nbconvert_exporter": "python",
   "pygments_lexer": "ipython3",
   "version": "3.9.7"
  }
 },
 "nbformat": 4,
 "nbformat_minor": 2
}
