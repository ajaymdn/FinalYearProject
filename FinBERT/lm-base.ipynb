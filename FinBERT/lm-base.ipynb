{
 "cells": [
  {
   "cell_type": "code",
   "execution_count": 1,
   "metadata": {},
   "outputs": [],
   "source": [
    "import requests\n",
    "from bs4 import BeautifulSoup\n",
    "import re\n",
    "import pandas as pd\n",
    "from transformers import BertTokenizer, BertForSequenceClassification, pipeline\n",
    "import json\n",
    "import nltk\n",
    "import matplotlib.pyplot as plt\n",
    "from tqdm import tqdm\n",
    "import math\n",
    "import numpy as np\n",
    "import seaborn as sns"
   ]
  },
  {
   "cell_type": "code",
   "execution_count": 7,
   "metadata": {},
   "outputs": [
    {
     "name": "stderr",
     "output_type": "stream",
     "text": [
      "[nltk_data] Downloading package punkt to\n",
      "[nltk_data]     C:\\Users\\ajaym\\AppData\\Roaming\\nltk_data...\n",
      "[nltk_data]   Package punkt is already up-to-date!\n"
     ]
    }
   ],
   "source": [
    "nltk.download('punkt')\n",
    "from nltk.tokenize import sent_tokenize"
   ]
  },
  {
   "cell_type": "code",
   "execution_count": 32,
   "metadata": {},
   "outputs": [],
   "source": [
    "# def clean_text(text):\n",
    "#     text = re.sub(r'(Item\\s*\\d+[A-Za-z]*)\\.', r'\\1. ', text)\n",
    "#     text = re.sub(r'([a-z])([A-Z])', r'\\1 \\2', text)\n",
    "#     text = re.sub(r'(?<=[.!?])(?=\\S)', r' ', text)\n",
    "#     return text.strip()\n",
    "\n",
    "def clean_text(text):\n",
    "    # Replace \\n with a space\n",
    "    text = re.sub(r'\\n', ' ', text)\n",
    "\n",
    "    # Replace encoded apostrophes and quotes with plain text equivalents\n",
    "    text = text.replace('\\x92', \"'\")  # Right single quote\n",
    "    text = text.replace('\\x93', '\"')  # Left double quote\n",
    "    text = text.replace('\\x94', '\"')  # Right double quote\n",
    "    text = text.replace('\\xa0', ' ')  # Non-breaking space\n",
    "\n",
    "    # Remove other \\x.. sequences\n",
    "    text = re.sub(r'\\\\x[0-9A-Fa-f]{2}', '', text)\n",
    "    \n",
    "    # Fix spacing issues around periods and capitalization\n",
    "    text = re.sub(r'\\s*\\.\\s*', '. ', text)\n",
    "    text = re.sub(r'(Item\\s*\\d+[A-Za-z]*)\\.', r'\\1. ', text)\n",
    "    text = re.sub(r'([a-z])([A-Z])', r'\\1 \\2', text)\n",
    "    text = re.sub(r'(?<=[.!?])(?=\\S)', r' ', text)\n",
    "    \n",
    "    return text.strip()"
   ]
  },
  {
   "cell_type": "code",
   "execution_count": 43,
   "metadata": {},
   "outputs": [],
   "source": [
    "def split_sentences_with_nltk(text):\n",
    "    # Initial cleaning\n",
    "    text = clean_text(text)\n",
    "\n",
    "    # Use nltk's sentence tokenizer\n",
    "    sentences = sentences = re.split(r'(?<=[.,;])\\s*', text)\n",
    "\n",
    "    # Post-process to remove redundant or empty sentences\n",
    "    sentences = [sentence.strip() for sentence in sentences if sentence.strip()]\n",
    "    return sentences"
   ]
  },
  {
   "cell_type": "code",
   "execution_count": 45,
   "metadata": {},
   "outputs": [],
   "source": [
    "def converttotext(url):\n",
    "    headers = {'User-Agent':'Sample Company Name AdminContact@<sample company domain>.com','Accept-Encoding':'gzip, deflate','Host':'www.sec.gov'}\n",
    "\n",
    "    r = requests.get(url, headers=headers)\n",
    "\n",
    "    raw_10k = r.text\n",
    "\n",
    "    doc_start_pattern = re.compile(r'<DOCUMENT>')\n",
    "    doc_end_pattern = re.compile(r'</DOCUMENT>')\n",
    "    type_pattern = re.compile(r'<TYPE>[^\\n]+')\n",
    "\n",
    "    doc_start_is = [x.end() for x in doc_start_pattern.finditer(raw_10k)]\n",
    "    doc_end_is = [x.start() for x in doc_end_pattern.finditer(raw_10k)]\n",
    "\n",
    "    doc_types = [x[len('<TYPE>'):] for x in type_pattern.findall(raw_10k)]\n",
    "\n",
    "    document = {}\n",
    "    \n",
    "    for doc_type, doc_start, doc_end in zip(doc_types, doc_start_is, doc_end_is):\n",
    "        if doc_type == '10-K':\n",
    "            document[doc_type] = raw_10k[doc_start:doc_end]\n",
    "\n",
    "    regex = re.compile(r'(>Item(\\s|&#160;|&nbsp;)(1A|1B|3|7A|7|8)\\.{0,1})|(ITEM\\s(1A|1B|3|7A|7|8))')\n",
    "\n",
    "    matches = regex.finditer(document['10-K'])\n",
    "\n",
    "    test_df = pd.DataFrame([(x.group(), x.start(), x.end()) for x in matches])\n",
    "\n",
    "    test_df.columns = ['item', 'start', 'end']\n",
    "    test_df['item'] = test_df.item.str.lower()\n",
    "    test_df.head()\n",
    "    test_df.replace('&#160;',' ',regex=True,inplace=True)\n",
    "    test_df.replace('&nbsp;',' ',regex=True,inplace=True)\n",
    "    test_df.replace(' ','',regex=True,inplace=True)\n",
    "    test_df.replace('\\.','',regex=True,inplace=True)\n",
    "    test_df.replace('>','',regex=True,inplace=True)\n",
    "\n",
    "    pos_dat = test_df.sort_values('start', ascending=True).drop_duplicates(subset=['item'], keep='last')\n",
    "    pos_dat.set_index('item', inplace=True)\n",
    "\n",
    "    item_1a_raw = document['10-K'][pos_dat['start'].loc['item1a']:pos_dat['start'].loc['item1b']]\n",
    "    item_1a_content = BeautifulSoup(item_1a_raw, 'lxml')\n",
    "\n",
    "    item_3_raw = document['10-K'][pos_dat['start'].loc['item3']:pos_dat['start'].loc['item7']]\n",
    "    item_3_content = BeautifulSoup(item_3_raw, 'lxml')\n",
    "\n",
    "    item_7_raw = document['10-K'][pos_dat['start'].loc['item7']:pos_dat['start'].loc['item7a']]\n",
    "    item_7_content = BeautifulSoup(item_7_raw, 'lxml')\n",
    "\n",
    "    # item_7a_raw = document['10-K'][pos_dat['start'].loc['item7a']:pos_dat['start'].loc['item8']]\n",
    "    # item_7a_content = BeautifulSoup(item_7a_raw, 'lxml')\n",
    "\n",
    "    item_1a_text = item_1a_content.get_text()\n",
    "    item_3_text = item_3_content.get_text()\n",
    "    item_7_text = item_7_content.get_text()\n",
    "    # item_7a_text = item_7a_content.get_text()\n",
    "\n",
    "    sentences = split_sentences_with_nltk(item_1a_text)\n",
    "    sentences += split_sentences_with_nltk(item_3_text)\n",
    "    sentences += split_sentences_with_nltk(item_7_text)\n",
    "    # sentences += split_sentences_with_nltk(item_7a_text)\n",
    "    \n",
    "    return sentences"
   ]
  },
  {
   "cell_type": "code",
   "execution_count": null,
   "metadata": {},
   "outputs": [
    {
     "name": "stdout",
     "output_type": "stream",
     "text": [
      "2140\n",
      "Average Environmental Score: 0.7767619602382183\n",
      "Average Social Score: 0.7064115744602831\n",
      "Average Governance Score: 0.6565076686717846\n"
     ]
    }
   ],
   "source": [
    "# sentences = converttotext('https://www.sec.gov/Archives/edgar/data/0001018724/000101872424000008/0001018724-24-000008.txt')\n",
    "# print(len(sentences))\n",
    "# finbert = BertForSequenceClassification.from_pretrained('yiyanghkust/finbert-esg',num_labels=4)\n",
    "# tokenizer = BertTokenizer.from_pretrained('yiyanghkust/finbert-esg')\n",
    "# nlp = pipeline(\"text-classification\", model=finbert, tokenizer=tokenizer, truncation=True, max_length=512, device=-1)\n",
    "# results = nlp(sentences)\n",
    "\n",
    "# environment_score = [entry['score'] for entry in results if entry['label'] == 'Environmental']\n",
    "# social_score = [entry['score'] for entry in results if entry['label'] == 'Social']\n",
    "# governance_score = [entry['score'] for entry in results if entry['label'] == 'Governance']\n",
    "\n",
    "# environment_score_avg = sum(environment_score) / len(environment_score) if environment_score else 0\n",
    "# social_score_avg = sum(social_score) / len(social_score) if social_score else 0\n",
    "# governance_score_avg = sum(governance_score) / len(governance_score) if governance_score else 0\n",
    "\n",
    "# print(f'Average Environmental Score: {environment_score_avg}')\n",
    "# print(f'Average Social Score: {social_score_avg}')\n",
    "# print(f'Average Governance Score: {governance_score_avg}')"
   ]
  },
  {
   "cell_type": "code",
   "execution_count": 12,
   "metadata": {},
   "outputs": [],
   "source": [
    "# def calculate_average_esg(sentences, nlp):\n",
    "#     results = nlp(sentences)\n",
    "\n",
    "#     # Extract scores for each category\n",
    "#     environment_score = [entry['score'] for entry in results if entry['label'] == 'Environmental']\n",
    "#     social_score = [entry['score'] for entry in results if entry['label'] == 'Social']\n",
    "#     governance_score = [entry['score'] for entry in results if entry['label'] == 'Governance']\n",
    "\n",
    "#     # Calculate averages or set to 0 if no scores are found\n",
    "#     environment_score_avg = sum(environment_score) / len(environment_score) if environment_score else 0\n",
    "#     social_score_avg = sum(social_score) / len(social_score) if social_score else 0\n",
    "#     governance_score_avg = sum(governance_score) / len(governance_score) if governance_score else 0\n",
    "\n",
    "#     return {\n",
    "#         'environment_score_avg': environment_score_avg,\n",
    "#         'social_score_avg': social_score_avg,\n",
    "#         'governance_score_avg': governance_score_avg\n",
    "#     }"
   ]
  },
  {
   "cell_type": "code",
   "execution_count": 49,
   "metadata": {},
   "outputs": [],
   "source": [
    "def calculate_average_and_std_esg(sentences, nlp):\n",
    "    results = nlp(sentences)\n",
    "\n",
    "    # Extract scores for each category\n",
    "    environment_scores = [entry['score'] for entry in results if entry['label'] == 'Environmental']\n",
    "    social_scores = [entry['score'] for entry in results if entry['label'] == 'Social']\n",
    "    governance_scores = [entry['score'] for entry in results if entry['label'] == 'Governance']\n",
    "\n",
    "    # Calculate averages or set to 0 if no scores are found\n",
    "    environment_score_avg = sum(environment_scores) / len(environment_scores) if environment_scores else 0\n",
    "    social_score_avg = sum(social_scores) / len(social_scores) if social_scores else 0\n",
    "    governance_score_avg = sum(governance_scores) / len(governance_scores) if governance_scores else 0\n",
    "\n",
    "    # Calculate standard deviations or set to 0 if no scores are found\n",
    "    environment_score_std = math.sqrt(sum((x - environment_score_avg) ** 2 for x in environment_scores) / len(environment_scores)) if environment_scores else 0\n",
    "    social_score_std = math.sqrt(sum((x - social_score_avg) ** 2 for x in social_scores) / len(social_scores)) if social_scores else 0\n",
    "    governance_score_std = math.sqrt(sum((x - governance_score_avg) ** 2 for x in governance_scores) / len(governance_scores)) if governance_scores else 0\n",
    "\n",
    "    return {\n",
    "        'environment_score_avg': environment_score_avg,\n",
    "        'environment_score_std': environment_score_std,\n",
    "        'social_score_avg': social_score_avg,\n",
    "        'social_score_std': social_score_std,\n",
    "        'governance_score_avg': governance_score_avg,\n",
    "        'governance_score_std': governance_score_std\n",
    "    }"
   ]
  },
  {
   "cell_type": "code",
   "execution_count": 50,
   "metadata": {},
   "outputs": [],
   "source": [
    "# finbert = BertForSequenceClassification.from_pretrained('yiyanghkust/finbert-esg',num_labels=4)\n",
    "# tokenizer = BertTokenizer.from_pretrained('yiyanghkust/finbert-esg')\n",
    "# nlp = pipeline(\"text-classification\", model=finbert, tokenizer=tokenizer, truncation=True, max_length=512)\n",
    "\n",
    "# target_year = 2024\n",
    "\n",
    "# with open(f\"../Edgar/10K-URL/All_10K_Filings_{target_year}.json\", \"r\") as read_file:\n",
    "#     companies = json.load(read_file)\n",
    "\n",
    "# valid_companies = []\n",
    "\n",
    "# for company in companies:\n",
    "#     try:\n",
    "#         print(f\"Analysing: {company['company']}\")\n",
    "#         sentences = converttotext(company['url'])\n",
    "#         print(f\"Number of sentences: {len(sentences)}\")\n",
    "\n",
    "#         if len(sentences) > 10:\n",
    "#             scores = calculate_average_esg(sentences, nlp)\n",
    "        \n",
    "#             company['environment_score_avg'] = scores['environment_score_avg']\n",
    "#             company['social_score_avg'] = scores['social_score_avg']\n",
    "#             company['governance_score_avg'] = scores['governance_score_avg']\n",
    "        \n",
    "#             valid_companies.append(company)\n",
    "\n",
    "#     except Exception as e:\n",
    "#         print(f\"Error processing {company['company']}: {e}\")\n",
    "\n",
    "# final_companies = [company['company'] for company in valid_companies]\n",
    "# print(f\"Companies processed: {final_companies}\")\n",
    "\n",
    "# if valid_companies:\n",
    "#     environment_avg = sum([company['environment_score_avg'] for company in valid_companies]) / len(valid_companies)\n",
    "#     social_avg = sum([company['social_score_avg'] for company in valid_companies]) / len(valid_companies)\n",
    "#     governance_avg = sum([company['governance_score_avg'] for company in valid_companies]) / len(valid_companies)\n",
    "\n",
    "#     print(f'Average Environmental Score: {environment_avg}')\n",
    "#     print(f'Average Social Score: {social_avg}')\n",
    "#     print(f'Average Governance Score: {governance_avg}')\n",
    "# else:\n",
    "#     print(\"No valid companies to calculate averages.\")"
   ]
  },
  {
   "cell_type": "code",
   "execution_count": null,
   "metadata": {},
   "outputs": [
    {
     "name": "stderr",
     "output_type": "stream",
     "text": [
      "  0%|          | 0/11 [00:00<?, ?it/s]"
     ]
    },
    {
     "name": "stdout",
     "output_type": "stream",
     "text": [
      "Processing year: 2014\n"
     ]
    },
    {
     "name": "stderr",
     "output_type": "stream",
     "text": []
    },
    {
     "name": "stdout",
     "output_type": "stream",
     "text": [
      "Company: AAPL, Sentence count: 2166\n"
     ]
    },
    {
     "name": "stderr",
     "output_type": "stream",
     "text": []
    },
    {
     "name": "stdout",
     "output_type": "stream",
     "text": [
      "Company: AMZN, Sentence count: 2063\n"
     ]
    },
    {
     "name": "stderr",
     "output_type": "stream",
     "text": []
    },
    {
     "name": "stdout",
     "output_type": "stream",
     "text": [
      "Company: NVDA, Sentence count: 2878\n"
     ]
    },
    {
     "name": "stderr",
     "output_type": "stream",
     "text": []
    },
    {
     "name": "stdout",
     "output_type": "stream",
     "text": [
      "Company: MSFT, Sentence count: 3749\n"
     ]
    },
    {
     "name": "stderr",
     "output_type": "stream",
     "text": []
    },
    {
     "name": "stdout",
     "output_type": "stream",
     "text": [
      "Company: ORCL, Sentence count: 3334\n"
     ]
    },
    {
     "name": "stderr",
     "output_type": "stream",
     "text": []
    },
    {
     "name": "stdout",
     "output_type": "stream",
     "text": [
      "Company: CSCO, Sentence count: 3820\n"
     ]
    },
    {
     "name": "stderr",
     "output_type": "stream",
     "text": []
    },
    {
     "name": "stdout",
     "output_type": "stream",
     "text": [
      "Company: META, Sentence count: 2764\n"
     ]
    },
    {
     "name": "stderr",
     "output_type": "stream",
     "text": []
    },
    {
     "name": "stdout",
     "output_type": "stream",
     "text": [
      "Company: INTC, Sentence count: 3765\n"
     ]
    },
    {
     "name": "stderr",
     "output_type": "stream",
     "text": []
    },
    {
     "name": "stdout",
     "output_type": "stream",
     "text": [
      "Company: NFLX, Sentence count: 1800\n"
     ]
    },
    {
     "name": "stderr",
     "output_type": "stream",
     "text": []
    },
    {
     "name": "stdout",
     "output_type": "stream",
     "text": [
      "Error processing T: 'item1b'\n",
      "Company: MU, Sentence count: 2168\n"
     ]
    },
    {
     "name": "stderr",
     "output_type": "stream",
     "text": []
    },
    {
     "name": "stdout",
     "output_type": "stream",
     "text": [
      "Company: A, Sentence count: 2697\n"
     ]
    },
    {
     "name": "stderr",
     "output_type": "stream",
     "text": []
    },
    {
     "name": "stdout",
     "output_type": "stream",
     "text": [
      "Company: IBM, Sentence count: 10\n",
      "Company: HPQ, Sentence count: 5609\n"
     ]
    },
    {
     "name": "stderr",
     "output_type": "stream",
     "text": []
    },
    {
     "name": "stdout",
     "output_type": "stream",
     "text": [
      "Company: CMCSA, Sentence count: 2395\n"
     ]
    },
    {
     "name": "stderr",
     "output_type": "stream",
     "text": []
    },
    {
     "name": "stdout",
     "output_type": "stream",
     "text": [
      "Company: INTU, Sentence count: 1925\n"
     ]
    },
    {
     "name": "stderr",
     "output_type": "stream",
     "text": []
    },
    {
     "name": "stdout",
     "output_type": "stream",
     "text": [
      "Error processing ADTN: Length mismatch: Expected axis has 0 elements, new values have 3 elements\n",
      "Company: CPT, Sentence count: 2447\n"
     ]
    },
    {
     "name": "stderr",
     "output_type": "stream",
     "text": []
    },
    {
     "name": "stdout",
     "output_type": "stream",
     "text": [
      "Company: UI, Sentence count: 2242\n"
     ]
    },
    {
     "name": "stderr",
     "output_type": "stream",
     "text": []
    },
    {
     "name": "stdout",
     "output_type": "stream",
     "text": [
      "Error processing BR: Length mismatch: Expected axis has 0 elements, new values have 3 elements\n",
      "Company: ARR, Sentence count: 4243\n"
     ]
    },
    {
     "name": "stderr",
     "output_type": "stream",
     "text": []
    },
    {
     "name": "stdout",
     "output_type": "stream",
     "text": [
      "Company: TSLA, Sentence count: 10\n",
      "Company: VRSK, Sentence count: 3045\n"
     ]
    },
    {
     "name": "stderr",
     "output_type": "stream",
     "text": []
    },
    {
     "name": "stdout",
     "output_type": "stream",
     "text": [
      "Company: RARE, Sentence count: 3829\n"
     ]
    },
    {
     "name": "stderr",
     "output_type": "stream",
     "text": [
      "100%|██████████| 24/24 [35:53<00:00, 89.73s/it]\n",
      "  9%|▉         | 1/11 [35:53<5:58:55, 2153.57s/it]"
     ]
    },
    {
     "name": "stdout",
     "output_type": "stream",
     "text": [
      "Companies processed: ['AAPL', 'AMZN', 'NVDA', 'MSFT', 'ORCL', 'CSCO', 'META', 'INTC', 'NFLX', 'MU', 'A', 'HPQ', 'CMCSA', 'INTU', 'CPT', 'UI', 'ARR', 'VRSK', 'RARE']\n",
      "Processing year: 2015\n"
     ]
    },
    {
     "name": "stderr",
     "output_type": "stream",
     "text": []
    },
    {
     "name": "stdout",
     "output_type": "stream",
     "text": [
      "Company: AAPL, Sentence count: 2067\n"
     ]
    },
    {
     "name": "stderr",
     "output_type": "stream",
     "text": []
    },
    {
     "name": "stdout",
     "output_type": "stream",
     "text": [
      "Company: AMZN, Sentence count: 2270\n"
     ]
    },
    {
     "name": "stderr",
     "output_type": "stream",
     "text": []
    },
    {
     "name": "stdout",
     "output_type": "stream",
     "text": [
      "Company: NVDA, Sentence count: 2086\n"
     ]
    },
    {
     "name": "stderr",
     "output_type": "stream",
     "text": []
    },
    {
     "name": "stdout",
     "output_type": "stream",
     "text": [
      "Company: MSFT, Sentence count: 3581\n"
     ]
    },
    {
     "name": "stderr",
     "output_type": "stream",
     "text": []
    },
    {
     "name": "stdout",
     "output_type": "stream",
     "text": [
      "Company: ORCL, Sentence count: 3430\n"
     ]
    },
    {
     "name": "stderr",
     "output_type": "stream",
     "text": []
    },
    {
     "name": "stdout",
     "output_type": "stream",
     "text": [
      "Company: CSCO, Sentence count: 3713\n"
     ]
    },
    {
     "name": "stderr",
     "output_type": "stream",
     "text": []
    },
    {
     "name": "stdout",
     "output_type": "stream",
     "text": [
      "Company: META, Sentence count: 2721\n"
     ]
    },
    {
     "name": "stderr",
     "output_type": "stream",
     "text": []
    },
    {
     "name": "stdout",
     "output_type": "stream",
     "text": [
      "Company: INTC, Sentence count: 4074\n"
     ]
    },
    {
     "name": "stderr",
     "output_type": "stream",
     "text": []
    },
    {
     "name": "stdout",
     "output_type": "stream",
     "text": [
      "Company: NFLX, Sentence count: 1871\n"
     ]
    },
    {
     "name": "stderr",
     "output_type": "stream",
     "text": []
    },
    {
     "name": "stdout",
     "output_type": "stream",
     "text": [
      "Error processing T: 'item1b'\n",
      "Company: MU, Sentence count: 2069\n"
     ]
    },
    {
     "name": "stderr",
     "output_type": "stream",
     "text": []
    },
    {
     "name": "stdout",
     "output_type": "stream",
     "text": [
      "Company: A, Sentence count: 2500\n"
     ]
    },
    {
     "name": "stderr",
     "output_type": "stream",
     "text": []
    },
    {
     "name": "stdout",
     "output_type": "stream",
     "text": [
      "Company: IBM, Sentence count: 10\n",
      "Company: HPQ, Sentence count: 3523\n"
     ]
    },
    {
     "name": "stderr",
     "output_type": "stream",
     "text": []
    },
    {
     "name": "stdout",
     "output_type": "stream",
     "text": [
      "Company: CMCSA, Sentence count: 2596\n"
     ]
    },
    {
     "name": "stderr",
     "output_type": "stream",
     "text": []
    },
    {
     "name": "stdout",
     "output_type": "stream",
     "text": [
      "Company: INTU, Sentence count: 1964\n"
     ]
    },
    {
     "name": "stderr",
     "output_type": "stream",
     "text": []
    },
    {
     "name": "stdout",
     "output_type": "stream",
     "text": [
      "Error processing ADTN: Length mismatch: Expected axis has 0 elements, new values have 3 elements\n",
      "Company: CPT, Sentence count: 2349\n"
     ]
    },
    {
     "name": "stderr",
     "output_type": "stream",
     "text": []
    },
    {
     "name": "stdout",
     "output_type": "stream",
     "text": [
      "Company: UI, Sentence count: 2323\n"
     ]
    },
    {
     "name": "stderr",
     "output_type": "stream",
     "text": []
    },
    {
     "name": "stdout",
     "output_type": "stream",
     "text": [
      "Error processing BR: 'item1a'\n",
      "Company: ARR, Sentence count: 2796\n"
     ]
    },
    {
     "name": "stderr",
     "output_type": "stream",
     "text": []
    },
    {
     "name": "stdout",
     "output_type": "stream",
     "text": [
      "Company: TSLA, Sentence count: 11\n",
      "Company: VRSK, Sentence count: 2874\n"
     ]
    },
    {
     "name": "stderr",
     "output_type": "stream",
     "text": []
    },
    {
     "name": "stdout",
     "output_type": "stream",
     "text": [
      "Company: ARES, Sentence count: 8\n",
      "Company: RARE, Sentence count: 3428\n"
     ]
    },
    {
     "name": "stderr",
     "output_type": "stream",
     "text": [
      "100%|██████████| 25/25 [32:50<00:00, 78.82s/it]\n",
      " 18%|█▊        | 2/11 [1:08:44<5:06:52, 2045.88s/it]"
     ]
    },
    {
     "name": "stdout",
     "output_type": "stream",
     "text": [
      "Companies processed: ['AAPL', 'AMZN', 'NVDA', 'MSFT', 'ORCL', 'CSCO', 'META', 'INTC', 'NFLX', 'MU', 'A', 'HPQ', 'CMCSA', 'INTU', 'CPT', 'UI', 'ARR', 'VRSK', 'RARE']\n",
      "Processing year: 2016\n"
     ]
    },
    {
     "name": "stderr",
     "output_type": "stream",
     "text": []
    },
    {
     "name": "stdout",
     "output_type": "stream",
     "text": [
      "Company: AAPL, Sentence count: 2087\n"
     ]
    },
    {
     "name": "stderr",
     "output_type": "stream",
     "text": []
    },
    {
     "name": "stdout",
     "output_type": "stream",
     "text": [
      "Company: AMZN, Sentence count: 2269\n"
     ]
    },
    {
     "name": "stderr",
     "output_type": "stream",
     "text": []
    },
    {
     "name": "stdout",
     "output_type": "stream",
     "text": [
      "Company: NVDA, Sentence count: 1976\n"
     ]
    },
    {
     "name": "stderr",
     "output_type": "stream",
     "text": []
    },
    {
     "name": "stdout",
     "output_type": "stream",
     "text": [
      "Company: MSFT, Sentence count: 1682\n"
     ]
    },
    {
     "name": "stderr",
     "output_type": "stream",
     "text": []
    },
    {
     "name": "stdout",
     "output_type": "stream",
     "text": [
      "Company: ORCL, Sentence count: 3252\n"
     ]
    },
    {
     "name": "stderr",
     "output_type": "stream",
     "text": []
    },
    {
     "name": "stdout",
     "output_type": "stream",
     "text": [
      "Company: CSCO, Sentence count: 3817\n"
     ]
    },
    {
     "name": "stderr",
     "output_type": "stream",
     "text": []
    },
    {
     "name": "stdout",
     "output_type": "stream",
     "text": [
      "Company: META, Sentence count: 2951\n"
     ]
    },
    {
     "name": "stderr",
     "output_type": "stream",
     "text": []
    },
    {
     "name": "stdout",
     "output_type": "stream",
     "text": [
      "Company: INTC, Sentence count: 4332\n"
     ]
    },
    {
     "name": "stderr",
     "output_type": "stream",
     "text": []
    },
    {
     "name": "stdout",
     "output_type": "stream",
     "text": [
      "Company: GOOGL, Sentence count: 1879\n"
     ]
    },
    {
     "name": "stderr",
     "output_type": "stream",
     "text": []
    },
    {
     "name": "stdout",
     "output_type": "stream",
     "text": [
      "Company: NFLX, Sentence count: 1979\n"
     ]
    },
    {
     "name": "stderr",
     "output_type": "stream",
     "text": []
    },
    {
     "name": "stdout",
     "output_type": "stream",
     "text": [
      "Error processing T: 'item1b'\n",
      "Company: MU, Sentence count: 2119\n"
     ]
    },
    {
     "name": "stderr",
     "output_type": "stream",
     "text": []
    },
    {
     "name": "stdout",
     "output_type": "stream",
     "text": [
      "Company: A, Sentence count: 2544\n"
     ]
    },
    {
     "name": "stderr",
     "output_type": "stream",
     "text": []
    },
    {
     "name": "stdout",
     "output_type": "stream",
     "text": [
      "Company: IBM, Sentence count: 10\n",
      "Company: HPQ, Sentence count: 2645\n"
     ]
    },
    {
     "name": "stderr",
     "output_type": "stream",
     "text": []
    },
    {
     "name": "stdout",
     "output_type": "stream",
     "text": [
      "Company: CMCSA, Sentence count: 2482\n"
     ]
    },
    {
     "name": "stderr",
     "output_type": "stream",
     "text": []
    },
    {
     "name": "stdout",
     "output_type": "stream",
     "text": [
      "Company: INTU, Sentence count: 2028\n"
     ]
    },
    {
     "name": "stderr",
     "output_type": "stream",
     "text": []
    },
    {
     "name": "stdout",
     "output_type": "stream",
     "text": [
      "Error processing ADTN: 'item1a'\n",
      "Company: CPT, Sentence count: 2335\n"
     ]
    },
    {
     "name": "stderr",
     "output_type": "stream",
     "text": []
    },
    {
     "name": "stdout",
     "output_type": "stream",
     "text": [
      "Company: UI, Sentence count: 2336\n"
     ]
    },
    {
     "name": "stderr",
     "output_type": "stream",
     "text": []
    },
    {
     "name": "stdout",
     "output_type": "stream",
     "text": [
      "Error processing BR: 'item1a'\n",
      "Company: ARR, Sentence count: 3036\n"
     ]
    },
    {
     "name": "stderr",
     "output_type": "stream",
     "text": []
    },
    {
     "name": "stdout",
     "output_type": "stream",
     "text": [
      "Company: TSLA, Sentence count: 3473\n"
     ]
    },
    {
     "name": "stderr",
     "output_type": "stream",
     "text": []
    },
    {
     "name": "stdout",
     "output_type": "stream",
     "text": [
      "Company: VRSK, Sentence count: 2974\n"
     ]
    },
    {
     "name": "stderr",
     "output_type": "stream",
     "text": []
    },
    {
     "name": "stdout",
     "output_type": "stream",
     "text": [
      "Company: UUUU, Sentence count: 2718\n"
     ]
    },
    {
     "name": "stderr",
     "output_type": "stream",
     "text": []
    },
    {
     "name": "stdout",
     "output_type": "stream",
     "text": [
      "Company: ARES, Sentence count: 10578\n"
     ]
    },
    {
     "name": "stderr",
     "output_type": "stream",
     "text": []
    },
    {
     "name": "stdout",
     "output_type": "stream",
     "text": [
      "Company: RARE, Sentence count: 8455\n"
     ]
    }
   ],
   "source": [
    "finbert = BertForSequenceClassification.from_pretrained('yiyanghkust/finbert-esg',num_labels=4)\n",
    "tokenizer = BertTokenizer.from_pretrained('yiyanghkust/finbert-esg')\n",
    "nlp = pipeline(\"text-classification\", model=finbert, tokenizer=tokenizer, truncation=True, max_length=512, device=-1)\n",
    "\n",
    "target_years = range(2014, 2025)\n",
    "industry = \"TECH\"\n",
    "# TECH, OIL, HEALTH\n",
    "\n",
    "environment_scores = []\n",
    "environment_stds = []\n",
    "social_scores = []\n",
    "social_stds = []\n",
    "governance_scores = []\n",
    "governance_stds = []\n",
    "\n",
    "for target_year in tqdm(target_years):\n",
    "    print(f\"Processing year: {target_year}\")\n",
    "\n",
    "    try:\n",
    "        with open(f\"../Edgar/10K_URL_{industry}/All_10K_Filings_{target_year}.json\", \"r\") as read_file:\n",
    "            companies = json.load(read_file)\n",
    "\n",
    "        valid_companies = []\n",
    "\n",
    "        for company in tqdm(companies):\n",
    "            try:\n",
    "                sentences = converttotext(company['url'])\n",
    "                print(f\"Company: {company['company']}, Sentence count: {len(sentences)}\")\n",
    "\n",
    "                if len(sentences) > 50:\n",
    "                    # scores = calculate_average_esg(sentences, nlp)\n",
    "                    scores = calculate_average_and_std_esg(sentences, nlp)\n",
    "                \n",
    "                    company['environment_score_avg'] = scores['environment_score_avg']\n",
    "                    company['social_score_avg'] = scores['social_score_avg']\n",
    "                    company['governance_score_avg'] = scores['governance_score_avg']\n",
    "\n",
    "                    # company['environment_score_std'] = scores['environment_score_std']\n",
    "                    # company['social_score_std'] = scores['social_score_std']\n",
    "                    # company['governance_score_std'] = scores['governance_score_std']\n",
    "                \n",
    "                    valid_companies.append(company)\n",
    "\n",
    "            except Exception as e:\n",
    "                print(f\"Error processing {company['company']}: {e}\")\n",
    "\n",
    "        final_companies = [company['company'] for company in valid_companies]\n",
    "        print(f\"Companies processed: {final_companies}\")\n",
    "\n",
    "        if valid_companies:\n",
    "            # environment_avg = sum([company['environment_score_avg'] for company in valid_companies]) / len(valid_companies)\n",
    "            # social_avg = sum([company['social_score_avg'] for company in valid_companies]) / len(valid_companies)\n",
    "            # governance_avg = sum([company['governance_score_avg'] for company in valid_companies]) / len(valid_companies)\n",
    "\n",
    "            # environment_scores.append(environment_avg)\n",
    "            # social_scores.append(social_avg)\n",
    "            # governance_scores.append(governance_avg)\n",
    "\n",
    "            environment_avg_list = [company['environment_score_avg'] for company in valid_companies]\n",
    "            social_avg_list = [company['social_score_avg'] for company in valid_companies]\n",
    "            governance_avg_list = [company['governance_score_avg'] for company in valid_companies]\n",
    "\n",
    "            environment_scores.append(np.mean(environment_avg_list))\n",
    "            environment_stds.append(np.std(environment_avg_list, ddof=1) if len(environment_avg_list) > 1 else 0)\n",
    "\n",
    "            social_scores.append(np.mean(social_avg_list))\n",
    "            social_stds.append(np.std(social_avg_list, ddof=1) if len(social_avg_list) > 1 else 0)\n",
    "\n",
    "            governance_scores.append(np.mean(governance_avg_list))\n",
    "            governance_stds.append(np.std(governance_avg_list, ddof=1) if len(governance_avg_list) > 1 else 0)\n",
    "\n",
    "    except Exception as e:\n",
    "        print(f\"Error processing year {target_year}: {e}\")"
   ]
  },
  {
   "cell_type": "code",
   "execution_count": 50,
   "metadata": {},
   "outputs": [
    {
     "data": {
      "image/png": "[encoded data removed]",
      "text/plain": [
       "<Figure size 1000x600 with 1 Axes>"
      ]
     },
     "metadata": {},
     "output_type": "display_data"
    }
   ],
   "source": [
    "data = {\n",
    "    \"Year\": list(target_years),\n",
    "    \"Environmental\": environment_scores,\n",
    "    \"Environmental_SD\": environment_stds,\n",
    "    \"Social\": social_scores,\n",
    "    \"Social_SD\": social_stds,\n",
    "    \"Governance\": governance_scores,\n",
    "    \"Governance_SD\": governance_stds\n",
    "}\n",
    "\n",
    "# Convert to a DataFrame for Seaborn compatibility\n",
    "df = pd.DataFrame(data)\n",
    "\n",
    "# Melt the DataFrame for easier plotting with Seaborn\n",
    "df_melted = df.melt(\n",
    "    id_vars=[\"Year\"], \n",
    "    value_vars=[\"Environmental\", \"Social\", \"Governance\"], \n",
    "    var_name=\"Category\", \n",
    "    value_name=\"Score\"\n",
    ")\n",
    "\n",
    "# Add a column for the corresponding standard deviations\n",
    "std_melted = df.melt(\n",
    "    id_vars=[\"Year\"], \n",
    "    value_vars=[\"Environmental_SD\", \"Social_SD\", \"Governance_SD\"], \n",
    "    var_name=\"Category\", \n",
    "    value_name=\"Standard_Deviation\"\n",
    ")\n",
    "\n",
    "# Match the SD values with the melted data\n",
    "df_melted[\"Standard_Deviation\"] = std_melted[\"Standard_Deviation\"]\n",
    "\n",
    "# Plot using Seaborn\n",
    "sns.set(style=\"whitegrid\")\n",
    "plt.figure(figsize=(10, 6))\n",
    "\n",
    "sns.lineplot(\n",
    "    data=df_melted, \n",
    "    x=\"Year\", \n",
    "    y=\"Score\", \n",
    "    hue=\"Category\", \n",
    "    style=\"Category\",\n",
    "    markers=True,\n",
    "    # err_style=\"bars\",  # Show error bars\n",
    "    errorbar=(\"ci\", 0)  # Disable automatic confidence intervals (use provided SDs)\n",
    ")\n",
    "\n",
    "for category in df_melted[\"Category\"].unique():\n",
    "    subset = df_melted[df_melted[\"Category\"] == category]\n",
    "    plt.errorbar(\n",
    "        subset[\"Year\"], \n",
    "        subset[\"Score\"], \n",
    "        yerr=subset[\"Standard_Deviation\"], \n",
    "        fmt=\"none\", \n",
    "        capsize=2, \n",
    "        label=None\n",
    "    )\n",
    "\n",
    "plt.xticks(ticks=df[\"Year\"], labels=df[\"Year\"])\n",
    "plt.ylim(ymin, ymax)\n",
    "\n",
    "plt.title(f\"ESG Scores Over Time for {industry} Industry\")\n",
    "plt.xlabel(\"Year\")\n",
    "plt.ylabel(\"Average Score\")\n",
    "plt.legend(title=\"Category\")\n",
    "plt.show()"
   ]
  },
  {
   "cell_type": "code",
   "execution_count": 52,
   "metadata": {},
   "outputs": [
    {
     "data": {
      "image/png": "[encoded data removed]",
      "text/plain": [
       "<Figure size 1200x800 with 1 Axes>"
      ]
     },
     "metadata": {},
     "output_type": "display_data"
    }
   ],
   "source": [
    "import pandas as pd\n",
    "import seaborn as sns\n",
    "import matplotlib.pyplot as plt\n",
    "\n",
    "# Assuming target_years, environment_scores, environment_stds, social_scores, social_stds,\n",
    "# governance_scores, and governance_stds are already defined\n",
    "\n",
    "# Prepare the data\n",
    "data = {\n",
    "    \"Year\": list(target_years),\n",
    "    \"Environmental\": environment_scores,\n",
    "    \"Environmental_SD\": environment_stds,\n",
    "    \"Social\": social_scores,\n",
    "    \"Social_SD\": social_stds,\n",
    "    \"Governance\": governance_scores,\n",
    "    \"Governance_SD\": governance_stds\n",
    "}\n",
    "\n",
    "# Convert to a DataFrame\n",
    "df = pd.DataFrame(data)\n",
    "\n",
    "# Melt the DataFrame for easier plotting with Seaborn\n",
    "df_melted = df.melt(\n",
    "    id_vars=[\"Year\"], \n",
    "    value_vars=[\"Environmental\", \"Social\", \"Governance\"], \n",
    "    var_name=\"Category\", \n",
    "    value_name=\"Score\"\n",
    ")\n",
    "\n",
    "# Melt the standard deviations\n",
    "std_melted = df.melt(\n",
    "    id_vars=[\"Year\"], \n",
    "    value_vars=[\"Environmental_SD\", \"Social_SD\", \"Governance_SD\"], \n",
    "    var_name=\"Category\", \n",
    "    value_name=\"Standard_Deviation\"\n",
    ")\n",
    "\n",
    "# Map standard deviation values to the melted data\n",
    "df_melted[\"Standard_Deviation\"] = std_melted[\"Standard_Deviation\"]\n",
    "\n",
    "# Plot using Seaborn\n",
    "sns.set(style=\"whitegrid\")\n",
    "plt.figure(figsize=(12, 8))\n",
    "\n",
    "sns.lineplot(\n",
    "    data=df_melted,\n",
    "    x=\"Year\",\n",
    "    y=\"Score\",\n",
    "    hue=\"Category\",\n",
    "    style=\"Category\",\n",
    "    markers=True,\n",
    "    errorbar=None  # Disable Seaborn's default error bars\n",
    ")\n",
    "\n",
    "# Add custom error bars using Matplotlib\n",
    "# for category in df_melted[\"Category\"].unique():\n",
    "#     subset = df_melted[df_melted[\"Category\"] == category]\n",
    "#     plt.errorbar(\n",
    "#         subset[\"Year\"], \n",
    "#         subset[\"Score\"], \n",
    "#         yerr=subset[\"Standard_Deviation\"], \n",
    "#         fmt=\"none\", \n",
    "#         capsize=4, \n",
    "#         label=None, \n",
    "#         alpha=0.6  # Add some transparency to the error bars\n",
    "#     )\n",
    "\n",
    "subset_env = df_melted[df_melted[\"Category\"] == \"Environmental\"]\n",
    "plt.errorbar(\n",
    "    subset_env[\"Year\"], \n",
    "    subset_env[\"Score\"], \n",
    "    yerr=subset_env[\"Standard_Deviation\"], \n",
    "    fmt=\"none\", \n",
    "    capsize=4, \n",
    "    label=None, \n",
    "    alpha=0.6  # Add some transparency to the error bars\n",
    ")\n",
    "\n",
    "# Adjust y-axis if error bars are too large\n",
    "all_scores = df_melted[\"Score\"]\n",
    "all_errors = df_melted[\"Standard_Deviation\"].fillna(0)\n",
    "ymin = max(0, all_scores.min() - all_errors.max())\n",
    "ymax = all_scores.max() + all_errors.max()\n",
    "plt.ylim(ymin, ymax)\n",
    "\n",
    "plt.xticks(ticks=df[\"Year\"].unique(), labels=df[\"Year\"].unique(), rotation=45)\n",
    "plt.title(f\"ESG Scores Over Time for {industry} Industry\")\n",
    "plt.xlabel(\"Year\")\n",
    "plt.ylabel(\"Average Score\")\n",
    "plt.legend(title=\"Category\")\n",
    "plt.tight_layout()\n",
    "plt.show()\n"
   ]
  },
  {
   "cell_type": "code",
   "execution_count": null,
   "metadata": {},
   "outputs": [
    {
     "data": {
      "image/png": "[encoded data removed]",
      "text/plain": [
       "<Figure size 1000x600 with 1 Axes>"
      ]
     },
     "metadata": {},
     "output_type": "display_data"
    }
   ],
   "source": [
    "plt.figure(figsize=(10, 6))\n",
    "plt.plot(target_years, environment_scores, label='Environmental', marker='o')\n",
    "plt.plot(target_years, social_scores, label='Social', marker='o')\n",
    "plt.plot(target_years, governance_scores, label='Governance', marker='o')\n",
    "\n",
    "plt.title(\"ESG score over years in (2014-2024) with LLM\")\n",
    "plt.xlabel(\"Year\")\n",
    "plt.ylabel(\"Average Score\")\n",
    "plt.legend()\n",
    "plt.show()"
   ]
  },
  {
   "cell_type": "code",
   "execution_count": null,
   "metadata": {},
   "outputs": [],
   "source": []
  }
 ],
 "metadata": {
  "kernelspec": {
   "display_name": "Python 3",
   "language": "python",
   "name": "python3"
  },
  "language_info": {
   "codemirror_mode": {
    "name": "ipython",
    "version": 3
   },
   "file_extension": ".py",
   "mimetype": "text/x-python",
   "name": "python",
   "nbconvert_exporter": "python",
   "pygments_lexer": "ipython3",
   "version": "3.11.4"
  }
 },
 "nbformat": 4,
 "nbformat_minor": 2
}
