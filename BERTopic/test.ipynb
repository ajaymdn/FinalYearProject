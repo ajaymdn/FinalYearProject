{
 "cells": [
  {
   "cell_type": "code",
   "execution_count": 1,
   "metadata": {},
   "outputs": [],
   "source": [
    "import requests\n",
    "from bs4 import BeautifulSoup\n",
    "import re\n",
    "import pandas as pd\n",
    "import json\n",
    "import nltk\n",
    "import matplotlib.pyplot as plt\n",
    "from bertopic import BERTopic\n",
    "from hdbscan import HDBSCAN\n",
    "from nltk.tokenize import sent_tokenize, word_tokenize\n",
    "from sklearn.feature_extraction.text import CountVectorizer"
   ]
  },
  {
   "cell_type": "code",
   "execution_count": 2,
   "metadata": {},
   "outputs": [
    {
     "name": "stderr",
     "output_type": "stream",
     "text": [
      "[nltk_data] Downloading package punkt to\n",
      "[nltk_data]     C:\\Users\\ajaym\\AppData\\Roaming\\nltk_data...\n",
      "[nltk_data]   Package punkt is already up-to-date!\n"
     ]
    }
   ],
   "source": [
    "nltk.download('punkt')\n",
    "\n",
    "def clean_text(text):\n",
    "    # Replace \\n with a space\n",
    "    text = re.sub(r'\\n', ' ', text)\n",
    "\n",
    "    # Replace encoded apostrophes and quotes with plain text equivalents\n",
    "    text = text.replace('\\x92', \"'\")  # Right single quote\n",
    "    text = text.replace('\\x93', '\"')  # Left double quote\n",
    "    text = text.replace('\\x94', '\"')  # Right double quote\n",
    "    text = text.replace('\\xa0', ' ')  # Non-breaking space\n",
    "\n",
    "    # Remove other \\x.. sequences\n",
    "    text = re.sub(r'\\\\x[0-9A-Fa-f]{2}', '', text)\n",
    "    \n",
    "    # Fix spacing issues around periods and capitalization\n",
    "    text = re.sub(r'\\s*\\.\\s*', '. ', text)\n",
    "    text = re.sub(r'(Item\\s*\\d+[A-Za-z]*)\\.', r'\\1. ', text)\n",
    "    text = re.sub(r'([a-z])([A-Z])', r'\\1 \\2', text)\n",
    "    text = re.sub(r'(?<=[.!?])(?=\\S)', r' ', text)\n",
    "    \n",
    "    return text.strip()\n",
    "\n",
    "def split_sentences_with_nltk(text):\n",
    "    # Initial cleaning\n",
    "    text = clean_text(text)\n",
    "\n",
    "    # Use nltk's sentence tokenizer\n",
    "    sentences = re.split(r'(?<=[.,;])\\s*', text)\n",
    "\n",
    "    # Post-process to remove redundant or empty sentences\n",
    "    sentences = [sentence.strip() for sentence in sentences if sentence.strip()]\n",
    "    # sentences = [sent_tokenize(abstract) for abstract in text]\n",
    "    return sentences"
   ]
  },
  {
   "cell_type": "code",
   "execution_count": 3,
   "metadata": {},
   "outputs": [],
   "source": [
    "def converttotext(url):\n",
    "    headers = {'User-Agent':'Sample Company Name AdminContact@<sample company domain>.com','Accept-Encoding':'gzip, deflate','Host':'www.sec.gov'}\n",
    "\n",
    "    r = requests.get(url, headers=headers)\n",
    "\n",
    "    raw_10k = r.text\n",
    "\n",
    "    doc_start_pattern = re.compile(r'<DOCUMENT>')\n",
    "    doc_end_pattern = re.compile(r'</DOCUMENT>')\n",
    "    type_pattern = re.compile(r'<TYPE>[^\\n]+')\n",
    "\n",
    "    doc_start_is = [x.end() for x in doc_start_pattern.finditer(raw_10k)]\n",
    "    doc_end_is = [x.start() for x in doc_end_pattern.finditer(raw_10k)]\n",
    "\n",
    "    doc_types = [x[len('<TYPE>'):] for x in type_pattern.findall(raw_10k)]\n",
    "\n",
    "    document = {}\n",
    "    \n",
    "    for doc_type, doc_start, doc_end in zip(doc_types, doc_start_is, doc_end_is):\n",
    "        if doc_type == '10-K':\n",
    "            document[doc_type] = raw_10k[doc_start:doc_end]\n",
    "\n",
    "    regex = re.compile(r'(>Item(\\s|&#160;|&nbsp;)(1A|1B|3|7A|7|8)\\.{0,1})|(ITEM\\s(1A|1B|3|7A|7|8))')\n",
    "\n",
    "    matches = regex.finditer(document['10-K'])\n",
    "\n",
    "    test_df = pd.DataFrame([(x.group(), x.start(), x.end()) for x in matches])\n",
    "\n",
    "    test_df.columns = ['item', 'start', 'end']\n",
    "    test_df['item'] = test_df.item.str.lower()\n",
    "    test_df.head()\n",
    "    test_df.replace('&#160;',' ',regex=True,inplace=True)\n",
    "    test_df.replace('&nbsp;',' ',regex=True,inplace=True)\n",
    "    test_df.replace(' ','',regex=True,inplace=True)\n",
    "    test_df.replace('\\.','',regex=True,inplace=True)\n",
    "    test_df.replace('>','',regex=True,inplace=True)\n",
    "\n",
    "    pos_dat = test_df.sort_values('start', ascending=True).drop_duplicates(subset=['item'], keep='last')\n",
    "    pos_dat.set_index('item', inplace=True)\n",
    "\n",
    "    item_1a_raw = document['10-K'][pos_dat['start'].loc['item1a']:pos_dat['start'].loc['item1b']]\n",
    "    item_1a_content = BeautifulSoup(item_1a_raw, 'lxml')\n",
    "\n",
    "    # item_3_raw = document['10-K'][pos_dat['start'].loc['item3']:pos_dat['start'].loc['item7']]\n",
    "    # item_3_content = BeautifulSoup(item_3_raw, 'lxml')\n",
    "\n",
    "    # item_7_raw = document['10-K'][pos_dat['start'].loc['item7']:pos_dat['start'].loc['item7a']]\n",
    "    # item_7_content = BeautifulSoup(item_7_raw, 'lxml')\n",
    "\n",
    "    # item_7a_raw = document['10-K'][pos_dat['start'].loc['item7a']:pos_dat['start'].loc['item8']]\n",
    "    # item_7a_content = BeautifulSoup(item_7a_raw, 'lxml')\n",
    "\n",
    "    item_1a_text = item_1a_content.get_text()\n",
    "    # item_3_text = item_3_content.get_text()\n",
    "    # item_7_text = item_7_content.get_text()\n",
    "    # item_7a_text = item_7a_content.get_text()\n",
    "\n",
    "    sentences = split_sentences_with_nltk(item_1a_text)\n",
    "    # sentences += split_sentences_with_nltk(item_3_text)\n",
    "    # sentences += split_sentences_with_nltk(item_7_text)\n",
    "    # sentences += split_sentences_with_nltk(item_7a_text)\n",
    "    \n",
    "    return sentences"
   ]
  },
  {
   "cell_type": "code",
   "execution_count": 4,
   "metadata": {},
   "outputs": [
    {
     "name": "stdout",
     "output_type": "stream",
     "text": [
      "Company: AAPL, Sentence count: 0\n"
     ]
    }
   ],
   "source": [
    "# sentences = converttotext(\"https://www.sec.gov/Archives/edgar/data/320193/000032019317000070/0000320193-17-000070.txt\")\n",
    "# sentences = converttotext(\"https://www.sec.gov/Archives/edgar/data/320193/000032019318000145/0000320193-18-000145.txt\")\n",
    "# sentences = converttotext(\"https://www.sec.gov/Archives/edgar/data/320193/000032019319000119/0000320193-19-000119.txt\")\n",
    "# sentences = converttotext(\"https://www.sec.gov/Archives/edgar/data/320193/000032019320000096/0000320193-20-000096.txt\")\n",
    "# sentences = converttotext(\"https://www.sec.gov/Archives/edgar/data/320193/000032019321000105/0000320193-21-000105.txt\")\n",
    "# sentences = converttotext(\"https://www.sec.gov/Archives/edgar/data/320193/000032019322000108/0000320193-22-000108.txt\")\n",
    "# sentences = converttotext(\"https://www.sec.gov/Archives/edgar/data/320193/000032019323000106/0000320193-23-000106.txt\")\n",
    "# sentences = converttotext(\"https://www.sec.gov/Archives/edgar/data/320193/000032019324000123/0000320193-24-000123.txt\")\n",
    "\n",
    "target_year = 2024\n",
    "\n",
    "with open(f\"../Edgar/10K_URL_TECH/All_10K_Filings_{target_year}.json\", \"r\") as read_file:\n",
    "    companies = json.load(read_file)\n",
    "\n",
    "sentences = []\n",
    "for company in companies:\n",
    "    if company['company'] == \"AAPL\":\n",
    "            try:\n",
    "                print(f\"Company: {company['company']}, Sentence count: {len(sentences)}\")\n",
    "                sentences += converttotext(company['url'])\n",
    "\n",
    "            except Exception as e:\n",
    "                print(f\"Error processing {company['company']}: {e}\")\n",
    "\n",
    "# NVDA\n",
    "# test1 = converttotext(\"https://www.sec.gov/Archives/edgar/data/320193/000032019322000108/0000320193-22-000108.txt\")\n",
    "# test1 += converttotext(\"https://www.sec.gov/Archives/edgar/data/1045810/000104581022000036/0001045810-22-000036.txt\")\n",
    "# test1 += converttotext(\"https://www.sec.gov/Archives/edgar/data/789019/000156459022026876/0001564590-22-026876.txt\")\n",
    "# test1 += converttotext(\"https://www.sec.gov/Archives/edgar/data/1652044/000165204422000019/0001652044-22-000019.txt\")\n",
    "# test1 += converttotext(\"https://www.sec.gov/Archives/edgar/data/1018724/000101872422000005/0001018724-22-000005.txt\")\n",
    "# test1 += converttotext(\"https://www.sec.gov/Archives/edgar/data/1326801/000132680122000018/0001326801-22-000018.txt\")\n",
    "# test1 += converttotext(\"https://www.sec.gov/Archives/edgar/data/1065280/000106528022000036/0001065280-22-000036.txt\")\n",
    "# test1 += converttotext(\"https://www.sec.gov/Archives/edgar/data/1341439/000156459022023675/0001564590-22-023675.txt\")\n",
    "# test1 += converttotext(\"https://www.sec.gov/Archives/edgar/data/723125/000072312522000048/0000723125-22-000048.txt\")\n",
    "# test1 += converttotext(\"https://www.sec.gov/Archives/edgar/data/1090872/000109087222000026/0001090872-22-000026.txt\")\n",
    "# test1 += converttotext(\"https://www.sec.gov/Archives/edgar/data/51143/000155837022001584/0001558370-22-001584.txt\")\n",
    "# test1 += converttotext(\"https://www.sec.gov/Archives/edgar/data/47217/000004721722000068/0000047217-22-000068.txt\")\n",
    "# test1 += converttotext(\"https://www.sec.gov/Archives/edgar/data/1166691/000116669122000009/0001166691-22-000009.txt\")\n",
    "# test1 += converttotext(\"https://www.sec.gov/Archives/edgar/data/829224/000082922422000058/0000829224-22-000058.txt\")\n",
    "# test1 += converttotext(\"https://www.sec.gov/Archives/edgar/data/64803/000006480322000008/0000064803-22-000008.txt\")\n",
    "# test1 += converttotext(\"https://www.sec.gov/Archives/edgar/data/1318605/000095017022000796/0000950170-22-000796.txt\")\n",
    "\n",
    "\n",
    "# print(test)\n",
    "# print(sentences)"
   ]
  },
  {
   "cell_type": "code",
   "execution_count": 5,
   "metadata": {},
   "outputs": [
    {
     "name": "stdout",
     "output_type": "stream",
     "text": [
      "Using device: cuda\n"
     ]
    }
   ],
   "source": [
    "import torch\n",
    "from sentence_transformers import SentenceTransformer\n",
    "from umap import UMAP\n",
    "from hdbscan import HDBSCAN\n",
    "from bertopic import BERTopic\n",
    "\n",
    "device = \"cuda\" if torch.cuda.is_available() else \"cpu\"\n",
    "print(f\"Using device: {device}\")"
   ]
  },
  {
   "cell_type": "code",
   "execution_count": 6,
   "metadata": {},
   "outputs": [
    {
     "data": {
      "application/vnd.jupyter.widget-view+json": {
       "model_id": "f12c375d019640c3b3af6343499914fd",
       "version_major": 2,
       "version_minor": 0
      },
      "text/plain": [
       "Batches:   0%|          | 0/35 [00:00<?, ?it/s]"
      ]
     },
     "metadata": {},
     "output_type": "display_data"
    }
   ],
   "source": [
    "embedding_model = SentenceTransformer(\"all-MiniLM-L12-v2\").to(device)\n",
    "embeddings = embedding_model.encode(sentences, show_progress_bar=True)"
   ]
  },
  {
   "cell_type": "code",
   "execution_count": 10,
   "metadata": {},
   "outputs": [],
   "source": [
    "from umap import UMAP\n",
    "from hdbscan import HDBSCAN\n",
    "from bertopic import BERTopic\n",
    "from sentence_transformers import SentenceTransformer\n",
    "\n",
    "umap_model = UMAP(n_neighbors=15, n_components=20, min_dist=0.05, metric='cosine', low_memory=False)\n",
    "hdbscan_model = HDBSCAN(min_cluster_size=10, min_samples=5, metric='euclidean', cluster_selection_method='leaf', prediction_data=True)\n",
    "# sentence_model = SentenceTransformer(\"all-MiniLM-L12-v2\")\n",
    "topic_model = BERTopic(\n",
    "    umap_model=umap_model,\n",
    "    hdbscan_model=hdbscan_model,\n",
    "    min_topic_size=10,\n",
    "    nr_topics=None\n",
    ")\n",
    "topics, probs = topic_model.fit_transform(sentences, embeddings=embeddings)"
   ]
  },
  {
   "cell_type": "code",
   "execution_count": 11,
   "metadata": {},
   "outputs": [
    {
     "data": {
      "text/html": [
       "<div>\n",
       "<style scoped>\n",
       "    .dataframe tbody tr th:only-of-type {\n",
       "        vertical-align: middle;\n",
       "    }\n",
       "\n",
       "    .dataframe tbody tr th {\n",
       "        vertical-align: top;\n",
       "    }\n",
       "\n",
       "    .dataframe thead th {\n",
       "        text-align: right;\n",
       "    }\n",
       "</style>\n",
       "<table border=\"1\" class=\"dataframe\">\n",
       "  <thead>\n",
       "    <tr style=\"text-align: right;\">\n",
       "      <th></th>\n",
       "      <th>Topic</th>\n",
       "      <th>Count</th>\n",
       "      <th>Name</th>\n",
       "      <th>Representation</th>\n",
       "      <th>Representative_Docs</th>\n",
       "    </tr>\n",
       "  </thead>\n",
       "  <tbody>\n",
       "    <tr>\n",
       "      <th>0</th>\n",
       "      <td>-1</td>\n",
       "      <td>300</td>\n",
       "      <td>-1_the_to_or_and</td>\n",
       "      <td>[the, to, or, and, of, companys, company, may,...</td>\n",
       "      <td>[Changes to the Company’s products and service...</td>\n",
       "    </tr>\n",
       "    <tr>\n",
       "      <th>1</th>\n",
       "      <td>0</td>\n",
       "      <td>57</td>\n",
       "      <td>0_information_data_security_confidential</td>\n",
       "      <td>[information, data, security, confidential, ac...</td>\n",
       "      <td>[The Company has implemented systems and proce...</td>\n",
       "    </tr>\n",
       "    <tr>\n",
       "      <th>2</th>\n",
       "      <td>1</td>\n",
       "      <td>48</td>\n",
       "      <td>1_investigations_legal_litigation_against</td>\n",
       "      <td>[investigations, legal, litigation, against, g...</td>\n",
       "      <td>[and certain of these arrangements are current...</td>\n",
       "    </tr>\n",
       "    <tr>\n",
       "      <th>3</th>\n",
       "      <td>2</td>\n",
       "      <td>45</td>\n",
       "      <td>2_thirdparty_content_applications_software</td>\n",
       "      <td>[thirdparty, content, applications, software, ...</td>\n",
       "      <td>[software and digital content supplier relatio...</td>\n",
       "    </tr>\n",
       "    <tr>\n",
       "      <th>4</th>\n",
       "      <td>3</td>\n",
       "      <td>45</td>\n",
       "      <td>3_adversely_materially_affect_could</td>\n",
       "      <td>[adversely, materially, affect, could, busines...</td>\n",
       "      <td>[all of which could materially adversely affec...</td>\n",
       "    </tr>\n",
       "    <tr>\n",
       "      <th>5</th>\n",
       "      <td>4</td>\n",
       "      <td>30</td>\n",
       "      <td>4_results_condition_operations_financial</td>\n",
       "      <td>[results, condition, operations, financial, of...</td>\n",
       "      <td>[results of operations and financial condition...</td>\n",
       "    </tr>\n",
       "    <tr>\n",
       "      <th>6</th>\n",
       "      <td>5</td>\n",
       "      <td>27</td>\n",
       "      <td>5_components_prepayments_supply_longterm</td>\n",
       "      <td>[components, prepayments, supply, longterm, ag...</td>\n",
       "      <td>[vendor non-trade receivables and prepayments ...</td>\n",
       "    </tr>\n",
       "    <tr>\n",
       "      <th>7</th>\n",
       "      <td>6</td>\n",
       "      <td>27</td>\n",
       "      <td>6_competition_competitive_competitors_markets</td>\n",
       "      <td>[competition, competitive, competitors, market...</td>\n",
       "      <td>[competition,, competition,, the Company faces...</td>\n",
       "    </tr>\n",
       "    <tr>\n",
       "      <th>8</th>\n",
       "      <td>7</td>\n",
       "      <td>24</td>\n",
       "      <td>7_foreign_exchange_dollar_currencies</td>\n",
       "      <td>[foreign, exchange, dollar, currencies, intern...</td>\n",
       "      <td>[a strengthening of foreign currencies relativ...</td>\n",
       "    </tr>\n",
       "    <tr>\n",
       "      <th>9</th>\n",
       "      <td>8</td>\n",
       "      <td>24</td>\n",
       "      <td>8_addition_in_result_as</td>\n",
       "      <td>[addition, in, result, as, aggregate, individu...</td>\n",
       "      <td>[In addition,, In addition,, In addition,]</td>\n",
       "    </tr>\n",
       "    <tr>\n",
       "      <th>10</th>\n",
       "      <td>9</td>\n",
       "      <td>24</td>\n",
       "      <td>9_employees_key_personnel_executive</td>\n",
       "      <td>[employees, key, personnel, executive, website...</td>\n",
       "      <td>[the continued service and availability of hig...</td>\n",
       "    </tr>\n",
       "    <tr>\n",
       "      <th>11</th>\n",
       "      <td>10</td>\n",
       "      <td>24</td>\n",
       "      <td>10_stock_price_volatility_cash</td>\n",
       "      <td>[stock, price, volatility, cash, liquidity, af...</td>\n",
       "      <td>[Price volatility may cause the average price ...</td>\n",
       "    </tr>\n",
       "    <tr>\n",
       "      <th>12</th>\n",
       "      <td>11</td>\n",
       "      <td>24</td>\n",
       "      <td>11____</td>\n",
       "      <td>[, , , , , , , , , ]</td>\n",
       "      <td>[S., S., S.]</td>\n",
       "    </tr>\n",
       "    <tr>\n",
       "      <th>13</th>\n",
       "      <td>12</td>\n",
       "      <td>23</td>\n",
       "      <td>12_health_environmental_disasters_natural</td>\n",
       "      <td>[health, environmental, disasters, natural, pu...</td>\n",
       "      <td>[public health or political issues,, public he...</td>\n",
       "    </tr>\n",
       "    <tr>\n",
       "      <th>14</th>\n",
       "      <td>13</td>\n",
       "      <td>23</td>\n",
       "      <td>13_vietnam_taiwan_korea_japan</td>\n",
       "      <td>[vietnam, taiwan, korea, japan, india, south, ...</td>\n",
       "      <td>[South Korea,, Taiwan and Vietnam,, Taiwan and...</td>\n",
       "    </tr>\n",
       "    <tr>\n",
       "      <th>15</th>\n",
       "      <td>14</td>\n",
       "      <td>22</td>\n",
       "      <td>14_invested_assets_invest_programs</td>\n",
       "      <td>[invested, assets, invest, programs, equipment...</td>\n",
       "      <td>[These programs can require a substantial inve...</td>\n",
       "    </tr>\n",
       "    <tr>\n",
       "      <th>16</th>\n",
       "      <td>15</td>\n",
       "      <td>21</td>\n",
       "      <td>15_new_introductions_introduction_product</td>\n",
       "      <td>[new, introductions, introduction, product, su...</td>\n",
       "      <td>[New products,, issues with new product or ser...</td>\n",
       "    </tr>\n",
       "    <tr>\n",
       "      <th>17</th>\n",
       "      <td>16</td>\n",
       "      <td>21</td>\n",
       "      <td>16_demand_products_for_stimulate</td>\n",
       "      <td>[demand, products, for, stimulate, customer, p...</td>\n",
       "      <td>[reduced demand for products and services,, re...</td>\n",
       "    </tr>\n",
       "    <tr>\n",
       "      <th>18</th>\n",
       "      <td>17</td>\n",
       "      <td>20</td>\n",
       "      <td>17_reputation_item_1a_flexibility</td>\n",
       "      <td>[reputation, item, 1a, flexibility, operationa...</td>\n",
       "      <td>[reputation,, reputation,, reputation,]</td>\n",
       "    </tr>\n",
       "    <tr>\n",
       "      <th>19</th>\n",
       "      <td>18</td>\n",
       "      <td>19</td>\n",
       "      <td>18_trade_tensions_terrorism_geopolitical</td>\n",
       "      <td>[trade, tensions, terrorism, geopolitical, con...</td>\n",
       "      <td>[trade and other international disputes,, trad...</td>\n",
       "    </tr>\n",
       "    <tr>\n",
       "      <th>20</th>\n",
       "      <td>19</td>\n",
       "      <td>18</td>\n",
       "      <td>19_assurance_there_no_will</td>\n",
       "      <td>[assurance, there, no, will, be, can, able, pr...</td>\n",
       "      <td>[There can be no assurance such agreements can...</td>\n",
       "    </tr>\n",
       "    <tr>\n",
       "      <th>21</th>\n",
       "      <td>20</td>\n",
       "      <td>17</td>\n",
       "      <td>20_intellectual_property_patents_patent</td>\n",
       "      <td>[intellectual, property, patents, patent, righ...</td>\n",
       "      <td>[technology and other patent-holding companies...</td>\n",
       "    </tr>\n",
       "    <tr>\n",
       "      <th>22</th>\n",
       "      <td>21</td>\n",
       "      <td>17</td>\n",
       "      <td>21_defects_risks_uncertainties_defect</td>\n",
       "      <td>[defects, risks, uncertainties, defect, remain...</td>\n",
       "      <td>[The Company’s retail operations are subject t...</td>\n",
       "    </tr>\n",
       "    <tr>\n",
       "      <th>23</th>\n",
       "      <td>22</td>\n",
       "      <td>16</td>\n",
       "      <td>22_changing_regulations_changes_make</td>\n",
       "      <td>[changing, regulations, changes, make, require...</td>\n",
       "      <td>[The Company is subject to complex and changin...</td>\n",
       "    </tr>\n",
       "    <tr>\n",
       "      <th>24</th>\n",
       "      <td>23</td>\n",
       "      <td>15</td>\n",
       "      <td>23_tax_taxes_rates_changes</td>\n",
       "      <td>[tax, taxes, rates, changes, liabilities, intr...</td>\n",
       "      <td>[tax laws and tax rates for income taxes and o...</td>\n",
       "    </tr>\n",
       "    <tr>\n",
       "      <th>25</th>\n",
       "      <td>24</td>\n",
       "      <td>15</td>\n",
       "      <td>24_example_for_some_cases</td>\n",
       "      <td>[example, for, some, cases, instances, circums...</td>\n",
       "      <td>[For example,, For example,, For example,]</td>\n",
       "    </tr>\n",
       "    <tr>\n",
       "      <th>26</th>\n",
       "      <td>25</td>\n",
       "      <td>14</td>\n",
       "      <td>25_10k_2024_form_depends</td>\n",
       "      <td>[10k, 2024, form, depends, companys, be, by, b...</td>\n",
       "      <td>[| 2024 Form 10-K | 8The Company’s products an...</td>\n",
       "    </tr>\n",
       "    <tr>\n",
       "      <th>27</th>\n",
       "      <td>26</td>\n",
       "      <td>14</td>\n",
       "      <td>26_laws_regulatory_regulations_legal</td>\n",
       "      <td>[laws, regulatory, regulations, legal, jurisdi...</td>\n",
       "      <td>[litigation or changes to laws and regulations...</td>\n",
       "    </tr>\n",
       "    <tr>\n",
       "      <th>28</th>\n",
       "      <td>27</td>\n",
       "      <td>14</td>\n",
       "      <td>27_inc_apple_company_the</td>\n",
       "      <td>[inc, apple, company, the, , , , , , ]</td>\n",
       "      <td>[Apple Inc., Apple Inc., Apple Inc.]</td>\n",
       "    </tr>\n",
       "    <tr>\n",
       "      <th>29</th>\n",
       "      <td>28</td>\n",
       "      <td>14</td>\n",
       "      <td>28_additionally_things_among_further</td>\n",
       "      <td>[additionally, things, among, further, convers...</td>\n",
       "      <td>[among other things,, among other things,, amo...</td>\n",
       "    </tr>\n",
       "    <tr>\n",
       "      <th>30</th>\n",
       "      <td>29</td>\n",
       "      <td>13</td>\n",
       "      <td>29_risks_uncertainty_considerations_uncertainties</td>\n",
       "      <td>[risks, uncertainty, considerations, uncertain...</td>\n",
       "      <td>[Such endeavors may involve significant risks ...</td>\n",
       "    </tr>\n",
       "    <tr>\n",
       "      <th>31</th>\n",
       "      <td>30</td>\n",
       "      <td>13</td>\n",
       "      <td>30_economic_conditions_interest_inflation</td>\n",
       "      <td>[economic, conditions, interest, inflation, fa...</td>\n",
       "      <td>[market and economic conditions,, and other ec...</td>\n",
       "    </tr>\n",
       "    <tr>\n",
       "      <th>32</th>\n",
       "      <td>31</td>\n",
       "      <td>13</td>\n",
       "      <td>31_wholesalers_contract_distributors_manufactu...</td>\n",
       "      <td>[wholesalers, contract, distributors, manufact...</td>\n",
       "      <td>[wholesalers,, wholesalers,, wholesalers,]</td>\n",
       "    </tr>\n",
       "    <tr>\n",
       "      <th>33</th>\n",
       "      <td>32</td>\n",
       "      <td>11</td>\n",
       "      <td>32_os_pad_alternative_apps</td>\n",
       "      <td>[os, pad, alternative, apps, payment, storefro...</td>\n",
       "      <td>[including new business terms and alternative ...</td>\n",
       "    </tr>\n",
       "    <tr>\n",
       "      <th>34</th>\n",
       "      <td>33</td>\n",
       "      <td>11</td>\n",
       "      <td>33_credit_risk_exposed_trade</td>\n",
       "      <td>[credit, risk, exposed, trade, receivables, co...</td>\n",
       "      <td>[While the Company has procedures to monitor a...</td>\n",
       "    </tr>\n",
       "    <tr>\n",
       "      <th>35</th>\n",
       "      <td>34</td>\n",
       "      <td>11</td>\n",
       "      <td>34_failures_system_technology_information</td>\n",
       "      <td>[failures, system, technology, information, ne...</td>\n",
       "      <td>[information technology system failures,, The ...</td>\n",
       "    </tr>\n",
       "    <tr>\n",
       "      <th>36</th>\n",
       "      <td>35</td>\n",
       "      <td>11</td>\n",
       "      <td>35_resellers_retailers_stores_enterprise</td>\n",
       "      <td>[resellers, retailers, stores, enterprise, ret...</td>\n",
       "      <td>[retailers and resellers,, retailers and resel...</td>\n",
       "    </tr>\n",
       "    <tr>\n",
       "      <th>37</th>\n",
       "      <td>36</td>\n",
       "      <td>10</td>\n",
       "      <td>36_carriers_cellular_network_minority</td>\n",
       "      <td>[carriers, cellular, network, minority, smartp...</td>\n",
       "      <td>[cellular network carriers and other channel p...</td>\n",
       "    </tr>\n",
       "    <tr>\n",
       "      <th>38</th>\n",
       "      <td>37</td>\n",
       "      <td>10</td>\n",
       "      <td>37_customer_quality_outages_slowdowns</td>\n",
       "      <td>[customer, quality, outages, slowdowns, servic...</td>\n",
       "      <td>[result in slowdowns and outages to the Compan...</td>\n",
       "    </tr>\n",
       "  </tbody>\n",
       "</table>\n",
       "</div>"
      ],
      "text/plain": [
       "    Topic  Count                                               Name  \\\n",
       "0      -1    300                                   -1_the_to_or_and   \n",
       "1       0     57           0_information_data_security_confidential   \n",
       "2       1     48          1_investigations_legal_litigation_against   \n",
       "3       2     45         2_thirdparty_content_applications_software   \n",
       "4       3     45                3_adversely_materially_affect_could   \n",
       "5       4     30           4_results_condition_operations_financial   \n",
       "6       5     27           5_components_prepayments_supply_longterm   \n",
       "7       6     27      6_competition_competitive_competitors_markets   \n",
       "8       7     24               7_foreign_exchange_dollar_currencies   \n",
       "9       8     24                            8_addition_in_result_as   \n",
       "10      9     24                9_employees_key_personnel_executive   \n",
       "11     10     24                     10_stock_price_volatility_cash   \n",
       "12     11     24                                             11____   \n",
       "13     12     23          12_health_environmental_disasters_natural   \n",
       "14     13     23                      13_vietnam_taiwan_korea_japan   \n",
       "15     14     22                 14_invested_assets_invest_programs   \n",
       "16     15     21          15_new_introductions_introduction_product   \n",
       "17     16     21                   16_demand_products_for_stimulate   \n",
       "18     17     20                  17_reputation_item_1a_flexibility   \n",
       "19     18     19           18_trade_tensions_terrorism_geopolitical   \n",
       "20     19     18                         19_assurance_there_no_will   \n",
       "21     20     17            20_intellectual_property_patents_patent   \n",
       "22     21     17              21_defects_risks_uncertainties_defect   \n",
       "23     22     16               22_changing_regulations_changes_make   \n",
       "24     23     15                         23_tax_taxes_rates_changes   \n",
       "25     24     15                          24_example_for_some_cases   \n",
       "26     25     14                           25_10k_2024_form_depends   \n",
       "27     26     14               26_laws_regulatory_regulations_legal   \n",
       "28     27     14                           27_inc_apple_company_the   \n",
       "29     28     14               28_additionally_things_among_further   \n",
       "30     29     13  29_risks_uncertainty_considerations_uncertainties   \n",
       "31     30     13          30_economic_conditions_interest_inflation   \n",
       "32     31     13  31_wholesalers_contract_distributors_manufactu...   \n",
       "33     32     11                         32_os_pad_alternative_apps   \n",
       "34     33     11                       33_credit_risk_exposed_trade   \n",
       "35     34     11          34_failures_system_technology_information   \n",
       "36     35     11           35_resellers_retailers_stores_enterprise   \n",
       "37     36     10              36_carriers_cellular_network_minority   \n",
       "38     37     10              37_customer_quality_outages_slowdowns   \n",
       "\n",
       "                                       Representation  \\\n",
       "0   [the, to, or, and, of, companys, company, may,...   \n",
       "1   [information, data, security, confidential, ac...   \n",
       "2   [investigations, legal, litigation, against, g...   \n",
       "3   [thirdparty, content, applications, software, ...   \n",
       "4   [adversely, materially, affect, could, busines...   \n",
       "5   [results, condition, operations, financial, of...   \n",
       "6   [components, prepayments, supply, longterm, ag...   \n",
       "7   [competition, competitive, competitors, market...   \n",
       "8   [foreign, exchange, dollar, currencies, intern...   \n",
       "9   [addition, in, result, as, aggregate, individu...   \n",
       "10  [employees, key, personnel, executive, website...   \n",
       "11  [stock, price, volatility, cash, liquidity, af...   \n",
       "12                               [, , , , , , , , , ]   \n",
       "13  [health, environmental, disasters, natural, pu...   \n",
       "14  [vietnam, taiwan, korea, japan, india, south, ...   \n",
       "15  [invested, assets, invest, programs, equipment...   \n",
       "16  [new, introductions, introduction, product, su...   \n",
       "17  [demand, products, for, stimulate, customer, p...   \n",
       "18  [reputation, item, 1a, flexibility, operationa...   \n",
       "19  [trade, tensions, terrorism, geopolitical, con...   \n",
       "20  [assurance, there, no, will, be, can, able, pr...   \n",
       "21  [intellectual, property, patents, patent, righ...   \n",
       "22  [defects, risks, uncertainties, defect, remain...   \n",
       "23  [changing, regulations, changes, make, require...   \n",
       "24  [tax, taxes, rates, changes, liabilities, intr...   \n",
       "25  [example, for, some, cases, instances, circums...   \n",
       "26  [10k, 2024, form, depends, companys, be, by, b...   \n",
       "27  [laws, regulatory, regulations, legal, jurisdi...   \n",
       "28             [inc, apple, company, the, , , , , , ]   \n",
       "29  [additionally, things, among, further, convers...   \n",
       "30  [risks, uncertainty, considerations, uncertain...   \n",
       "31  [economic, conditions, interest, inflation, fa...   \n",
       "32  [wholesalers, contract, distributors, manufact...   \n",
       "33  [os, pad, alternative, apps, payment, storefro...   \n",
       "34  [credit, risk, exposed, trade, receivables, co...   \n",
       "35  [failures, system, technology, information, ne...   \n",
       "36  [resellers, retailers, stores, enterprise, ret...   \n",
       "37  [carriers, cellular, network, minority, smartp...   \n",
       "38  [customer, quality, outages, slowdowns, servic...   \n",
       "\n",
       "                                  Representative_Docs  \n",
       "0   [Changes to the Company’s products and service...  \n",
       "1   [The Company has implemented systems and proce...  \n",
       "2   [and certain of these arrangements are current...  \n",
       "3   [software and digital content supplier relatio...  \n",
       "4   [all of which could materially adversely affec...  \n",
       "5   [results of operations and financial condition...  \n",
       "6   [vendor non-trade receivables and prepayments ...  \n",
       "7   [competition,, competition,, the Company faces...  \n",
       "8   [a strengthening of foreign currencies relativ...  \n",
       "9          [In addition,, In addition,, In addition,]  \n",
       "10  [the continued service and availability of hig...  \n",
       "11  [Price volatility may cause the average price ...  \n",
       "12                                       [S., S., S.]  \n",
       "13  [public health or political issues,, public he...  \n",
       "14  [South Korea,, Taiwan and Vietnam,, Taiwan and...  \n",
       "15  [These programs can require a substantial inve...  \n",
       "16  [New products,, issues with new product or ser...  \n",
       "17  [reduced demand for products and services,, re...  \n",
       "18            [reputation,, reputation,, reputation,]  \n",
       "19  [trade and other international disputes,, trad...  \n",
       "20  [There can be no assurance such agreements can...  \n",
       "21  [technology and other patent-holding companies...  \n",
       "22  [The Company’s retail operations are subject t...  \n",
       "23  [The Company is subject to complex and changin...  \n",
       "24  [tax laws and tax rates for income taxes and o...  \n",
       "25         [For example,, For example,, For example,]  \n",
       "26  [| 2024 Form 10-K | 8The Company’s products an...  \n",
       "27  [litigation or changes to laws and regulations...  \n",
       "28               [Apple Inc., Apple Inc., Apple Inc.]  \n",
       "29  [among other things,, among other things,, amo...  \n",
       "30  [Such endeavors may involve significant risks ...  \n",
       "31  [market and economic conditions,, and other ec...  \n",
       "32         [wholesalers,, wholesalers,, wholesalers,]  \n",
       "33  [including new business terms and alternative ...  \n",
       "34  [While the Company has procedures to monitor a...  \n",
       "35  [information technology system failures,, The ...  \n",
       "36  [retailers and resellers,, retailers and resel...  \n",
       "37  [cellular network carriers and other channel p...  \n",
       "38  [result in slowdowns and outages to the Compan...  "
      ]
     },
     "execution_count": 11,
     "metadata": {},
     "output_type": "execute_result"
    }
   ],
   "source": [
    "topic_model.get_topic_info().head(52)"
   ]
  },
  {
   "cell_type": "code",
   "execution_count": 88,
   "metadata": {},
   "outputs": [
    {
     "data": {
      "application/vnd.plotly.v1+json": {
       "config": {
        "plotlyServerURL": "https://plot.ly"
       },
       "data": [
        {
         "customdata": [
          [
           0,
           "of | the | and | our | to",
           3
          ],
          [
           1,
           "and | of | our | the | to",
           2
          ],
          [
           2,
           "and | of | the | to | in",
           2
          ],
          [
           3,
           "and | of | our | the | to",
           2
          ],
          [
           4,
           "and | our | to | of | or",
           2
          ]
         ],
         "hovertemplate": "<b>Topic %{customdata[0]}</b><br>%{customdata[1]}<br>Size: %{customdata[2]}",
         "legendgroup": "",
         "marker": {
          "color": "#B0BEC5",
          "line": {
           "color": "DarkSlateGrey",
           "width": 2
          },
          "size": [
           3,
           2,
           2,
           2,
           2
          ],
          "sizemode": "area",
          "sizeref": 0.001875,
          "symbol": "circle"
         },
         "mode": "markers",
         "name": "",
         "orientation": "v",
         "showlegend": false,
         "type": "scatter",
         "x": [
          1.3359079360961914,
          2.0050506591796875,
          2.8030784130096436,
          3.2296669483184814,
          0.8262299299240112
         ],
         "xaxis": "x",
         "y": [
          -5.707855224609375,
          -6.3748674392700195,
          -7.1707000732421875,
          -7.597482204437256,
          -5.199770450592041
         ],
         "yaxis": "y"
        }
       ],
       "layout": {
        "annotations": [
         {
          "showarrow": false,
          "text": "D1",
          "x": 0.7022954225540161,
          "y": -6.578454971313477,
          "yshift": 10
         },
         {
          "showarrow": false,
          "text": "D2",
          "x": 2.2082061767578125,
          "xshift": 10,
          "y": -4.41980504989624
         }
        ],
        "height": 650,
        "hoverlabel": {
         "bgcolor": "white",
         "font": {
          "family": "Rockwell",
          "size": 16
         }
        },
        "legend": {
         "itemsizing": "constant",
         "tracegroupgap": 0
        },
        "margin": {
         "t": 60
        },
        "shapes": [
         {
          "line": {
           "color": "#CFD8DC",
           "width": 2
          },
          "type": "line",
          "x0": 2.2082061767578125,
          "x1": 2.2082061767578125,
          "y0": -8.737104415893555,
          "y1": -4.41980504989624
         },
         {
          "line": {
           "color": "#9E9E9E",
           "width": 2
          },
          "type": "line",
          "x0": 0.7022954225540161,
          "x1": 3.7141170501708984,
          "y0": -6.578454971313477,
          "y1": -6.578454971313477
         }
        ],
        "sliders": [
         {
          "active": 0,
          "pad": {
           "t": 50
          },
          "steps": [
           {
            "args": [
             {
              "marker.color": [
               [
                "red",
                "#B0BEC5",
                "#B0BEC5",
                "#B0BEC5",
                "#B0BEC5"
               ]
              ]
             }
            ],
            "label": "Topic 0",
            "method": "update"
           },
           {
            "args": [
             {
              "marker.color": [
               [
                "#B0BEC5",
                "red",
                "#B0BEC5",
                "#B0BEC5",
                "#B0BEC5"
               ]
              ]
             }
            ],
            "label": "Topic 1",
            "method": "update"
           },
           {
            "args": [
             {
              "marker.color": [
               [
                "#B0BEC5",
                "#B0BEC5",
                "red",
                "#B0BEC5",
                "#B0BEC5"
               ]
              ]
             }
            ],
            "label": "Topic 2",
            "method": "update"
           },
           {
            "args": [
             {
              "marker.color": [
               [
                "#B0BEC5",
                "#B0BEC5",
                "#B0BEC5",
                "red",
                "#B0BEC5"
               ]
              ]
             }
            ],
            "label": "Topic 3",
            "method": "update"
           },
           {
            "args": [
             {
              "marker.color": [
               [
                "#B0BEC5",
                "#B0BEC5",
                "#B0BEC5",
                "#B0BEC5",
                "red"
               ]
              ]
             }
            ],
            "label": "Topic 4",
            "method": "update"
           }
          ]
         }
        ],
        "template": {
         "data": {
          "bar": [
           {
            "error_x": {
             "color": "rgb(36,36,36)"
            },
            "error_y": {
             "color": "rgb(36,36,36)"
            },
            "marker": {
             "line": {
              "color": "white",
              "width": 0.5
             },
             "pattern": {
              "fillmode": "overlay",
              "size": 10,
              "solidity": 0.2
             }
            },
            "type": "bar"
           }
          ],
          "barpolar": [
           {
            "marker": {
             "line": {
              "color": "white",
              "width": 0.5
             },
             "pattern": {
              "fillmode": "overlay",
              "size": 10,
              "solidity": 0.2
             }
            },
            "type": "barpolar"
           }
          ],
          "carpet": [
           {
            "aaxis": {
             "endlinecolor": "rgb(36,36,36)",
             "gridcolor": "white",
             "linecolor": "white",
             "minorgridcolor": "white",
             "startlinecolor": "rgb(36,36,36)"
            },
            "baxis": {
             "endlinecolor": "rgb(36,36,36)",
             "gridcolor": "white",
             "linecolor": "white",
             "minorgridcolor": "white",
             "startlinecolor": "rgb(36,36,36)"
            },
            "type": "carpet"
           }
          ],
          "choropleth": [
           {
            "colorbar": {
             "outlinewidth": 1,
             "tickcolor": "rgb(36,36,36)",
             "ticks": "outside"
            },
            "type": "choropleth"
           }
          ],
          "contour": [
           {
            "colorbar": {
             "outlinewidth": 1,
             "tickcolor": "rgb(36,36,36)",
             "ticks": "outside"
            },
            "colorscale": [
             [
              0,
              "#440154"
             ],
             [
              0.1111111111111111,
              "#482878"
             ],
             [
              0.2222222222222222,
              "#3e4989"
             ],
             [
              0.3333333333333333,
              "#31688e"
             ],
             [
              0.4444444444444444,
              "#26828e"
             ],
             [
              0.5555555555555556,
              "#1f9e89"
             ],
             [
              0.6666666666666666,
              "#35b779"
             ],
             [
              0.7777777777777778,
              "#6ece58"
             ],
             [
              0.8888888888888888,
              "#b5de2b"
             ],
             [
              1,
              "#fde725"
             ]
            ],
            "type": "contour"
           }
          ],
          "contourcarpet": [
           {
            "colorbar": {
             "outlinewidth": 1,
             "tickcolor": "rgb(36,36,36)",
             "ticks": "outside"
            },
            "type": "contourcarpet"
           }
          ],
          "heatmap": [
           {
            "colorbar": {
             "outlinewidth": 1,
             "tickcolor": "rgb(36,36,36)",
             "ticks": "outside"
            },
            "colorscale": [
             [
              0,
              "#440154"
             ],
             [
              0.1111111111111111,
              "#482878"
             ],
             [
              0.2222222222222222,
              "#3e4989"
             ],
             [
              0.3333333333333333,
              "#31688e"
             ],
             [
              0.4444444444444444,
              "#26828e"
             ],
             [
              0.5555555555555556,
              "#1f9e89"
             ],
             [
              0.6666666666666666,
              "#35b779"
             ],
             [
              0.7777777777777778,
              "#6ece58"
             ],
             [
              0.8888888888888888,
              "#b5de2b"
             ],
             [
              1,
              "#fde725"
             ]
            ],
            "type": "heatmap"
           }
          ],
          "heatmapgl": [
           {
            "colorbar": {
             "outlinewidth": 1,
             "tickcolor": "rgb(36,36,36)",
             "ticks": "outside"
            },
            "colorscale": [
             [
              0,
              "#440154"
             ],
             [
              0.1111111111111111,
              "#482878"
             ],
             [
              0.2222222222222222,
              "#3e4989"
             ],
             [
              0.3333333333333333,
              "#31688e"
             ],
             [
              0.4444444444444444,
              "#26828e"
             ],
             [
              0.5555555555555556,
              "#1f9e89"
             ],
             [
              0.6666666666666666,
              "#35b779"
             ],
             [
              0.7777777777777778,
              "#6ece58"
             ],
             [
              0.8888888888888888,
              "#b5de2b"
             ],
             [
              1,
              "#fde725"
             ]
            ],
            "type": "heatmapgl"
           }
          ],
          "histogram": [
           {
            "marker": {
             "line": {
              "color": "white",
              "width": 0.6
             }
            },
            "type": "histogram"
           }
          ],
          "histogram2d": [
           {
            "colorbar": {
             "outlinewidth": 1,
             "tickcolor": "rgb(36,36,36)",
             "ticks": "outside"
            },
            "colorscale": [
             [
              0,
              "#440154"
             ],
             [
              0.1111111111111111,
              "#482878"
             ],
             [
              0.2222222222222222,
              "#3e4989"
             ],
             [
              0.3333333333333333,
              "#31688e"
             ],
             [
              0.4444444444444444,
              "#26828e"
             ],
             [
              0.5555555555555556,
              "#1f9e89"
             ],
             [
              0.6666666666666666,
              "#35b779"
             ],
             [
              0.7777777777777778,
              "#6ece58"
             ],
             [
              0.8888888888888888,
              "#b5de2b"
             ],
             [
              1,
              "#fde725"
             ]
            ],
            "type": "histogram2d"
           }
          ],
          "histogram2dcontour": [
           {
            "colorbar": {
             "outlinewidth": 1,
             "tickcolor": "rgb(36,36,36)",
             "ticks": "outside"
            },
            "colorscale": [
             [
              0,
              "#440154"
             ],
             [
              0.1111111111111111,
              "#482878"
             ],
             [
              0.2222222222222222,
              "#3e4989"
             ],
             [
              0.3333333333333333,
              "#31688e"
             ],
             [
              0.4444444444444444,
              "#26828e"
             ],
             [
              0.5555555555555556,
              "#1f9e89"
             ],
             [
              0.6666666666666666,
              "#35b779"
             ],
             [
              0.7777777777777778,
              "#6ece58"
             ],
             [
              0.8888888888888888,
              "#b5de2b"
             ],
             [
              1,
              "#fde725"
             ]
            ],
            "type": "histogram2dcontour"
           }
          ],
          "mesh3d": [
           {
            "colorbar": {
             "outlinewidth": 1,
             "tickcolor": "rgb(36,36,36)",
             "ticks": "outside"
            },
            "type": "mesh3d"
           }
          ],
          "parcoords": [
           {
            "line": {
             "colorbar": {
              "outlinewidth": 1,
              "tickcolor": "rgb(36,36,36)",
              "ticks": "outside"
             }
            },
            "type": "parcoords"
           }
          ],
          "pie": [
           {
            "automargin": true,
            "type": "pie"
           }
          ],
          "scatter": [
           {
            "fillpattern": {
             "fillmode": "overlay",
             "size": 10,
             "solidity": 0.2
            },
            "type": "scatter"
           }
          ],
          "scatter3d": [
           {
            "line": {
             "colorbar": {
              "outlinewidth": 1,
              "tickcolor": "rgb(36,36,36)",
              "ticks": "outside"
             }
            },
            "marker": {
             "colorbar": {
              "outlinewidth": 1,
              "tickcolor": "rgb(36,36,36)",
              "ticks": "outside"
             }
            },
            "type": "scatter3d"
           }
          ],
          "scattercarpet": [
           {
            "marker": {
             "colorbar": {
              "outlinewidth": 1,
              "tickcolor": "rgb(36,36,36)",
              "ticks": "outside"
             }
            },
            "type": "scattercarpet"
           }
          ],
          "scattergeo": [
           {
            "marker": {
             "colorbar": {
              "outlinewidth": 1,
              "tickcolor": "rgb(36,36,36)",
              "ticks": "outside"
             }
            },
            "type": "scattergeo"
           }
          ],
          "scattergl": [
           {
            "marker": {
             "colorbar": {
              "outlinewidth": 1,
              "tickcolor": "rgb(36,36,36)",
              "ticks": "outside"
             }
            },
            "type": "scattergl"
           }
          ],
          "scattermapbox": [
           {
            "marker": {
             "colorbar": {
              "outlinewidth": 1,
              "tickcolor": "rgb(36,36,36)",
              "ticks": "outside"
             }
            },
            "type": "scattermapbox"
           }
          ],
          "scatterpolar": [
           {
            "marker": {
             "colorbar": {
              "outlinewidth": 1,
              "tickcolor": "rgb(36,36,36)",
              "ticks": "outside"
             }
            },
            "type": "scatterpolar"
           }
          ],
          "scatterpolargl": [
           {
            "marker": {
             "colorbar": {
              "outlinewidth": 1,
              "tickcolor": "rgb(36,36,36)",
              "ticks": "outside"
             }
            },
            "type": "scatterpolargl"
           }
          ],
          "scatterternary": [
           {
            "marker": {
             "colorbar": {
              "outlinewidth": 1,
              "tickcolor": "rgb(36,36,36)",
              "ticks": "outside"
             }
            },
            "type": "scatterternary"
           }
          ],
          "surface": [
           {
            "colorbar": {
             "outlinewidth": 1,
             "tickcolor": "rgb(36,36,36)",
             "ticks": "outside"
            },
            "colorscale": [
             [
              0,
              "#440154"
             ],
             [
              0.1111111111111111,
              "#482878"
             ],
             [
              0.2222222222222222,
              "#3e4989"
             ],
             [
              0.3333333333333333,
              "#31688e"
             ],
             [
              0.4444444444444444,
              "#26828e"
             ],
             [
              0.5555555555555556,
              "#1f9e89"
             ],
             [
              0.6666666666666666,
              "#35b779"
             ],
             [
              0.7777777777777778,
              "#6ece58"
             ],
             [
              0.8888888888888888,
              "#b5de2b"
             ],
             [
              1,
              "#fde725"
             ]
            ],
            "type": "surface"
           }
          ],
          "table": [
           {
            "cells": {
             "fill": {
              "color": "rgb(237,237,237)"
             },
             "line": {
              "color": "white"
             }
            },
            "header": {
             "fill": {
              "color": "rgb(217,217,217)"
             },
             "line": {
              "color": "white"
             }
            },
            "type": "table"
           }
          ]
         },
         "layout": {
          "annotationdefaults": {
           "arrowhead": 0,
           "arrowwidth": 1
          },
          "autotypenumbers": "strict",
          "coloraxis": {
           "colorbar": {
            "outlinewidth": 1,
            "tickcolor": "rgb(36,36,36)",
            "ticks": "outside"
           }
          },
          "colorscale": {
           "diverging": [
            [
             0,
             "rgb(103,0,31)"
            ],
            [
             0.1,
             "rgb(178,24,43)"
            ],
            [
             0.2,
             "rgb(214,96,77)"
            ],
            [
             0.3,
             "rgb(244,165,130)"
            ],
            [
             0.4,
             "rgb(253,219,199)"
            ],
            [
             0.5,
             "rgb(247,247,247)"
            ],
            [
             0.6,
             "rgb(209,229,240)"
            ],
            [
             0.7,
             "rgb(146,197,222)"
            ],
            [
             0.8,
             "rgb(67,147,195)"
            ],
            [
             0.9,
             "rgb(33,102,172)"
            ],
            [
             1,
             "rgb(5,48,97)"
            ]
           ],
           "sequential": [
            [
             0,
             "#440154"
            ],
            [
             0.1111111111111111,
             "#482878"
            ],
            [
             0.2222222222222222,
             "#3e4989"
            ],
            [
             0.3333333333333333,
             "#31688e"
            ],
            [
             0.4444444444444444,
             "#26828e"
            ],
            [
             0.5555555555555556,
             "#1f9e89"
            ],
            [
             0.6666666666666666,
             "#35b779"
            ],
            [
             0.7777777777777778,
             "#6ece58"
            ],
            [
             0.8888888888888888,
             "#b5de2b"
            ],
            [
             1,
             "#fde725"
            ]
           ],
           "sequentialminus": [
            [
             0,
             "#440154"
            ],
            [
             0.1111111111111111,
             "#482878"
            ],
            [
             0.2222222222222222,
             "#3e4989"
            ],
            [
             0.3333333333333333,
             "#31688e"
            ],
            [
             0.4444444444444444,
             "#26828e"
            ],
            [
             0.5555555555555556,
             "#1f9e89"
            ],
            [
             0.6666666666666666,
             "#35b779"
            ],
            [
             0.7777777777777778,
             "#6ece58"
            ],
            [
             0.8888888888888888,
             "#b5de2b"
            ],
            [
             1,
             "#fde725"
            ]
           ]
          },
          "colorway": [
           "#1F77B4",
           "#FF7F0E",
           "#2CA02C",
           "#D62728",
           "#9467BD",
           "#8C564B",
           "#E377C2",
           "#7F7F7F",
           "#BCBD22",
           "#17BECF"
          ],
          "font": {
           "color": "rgb(36,36,36)"
          },
          "geo": {
           "bgcolor": "white",
           "lakecolor": "white",
           "landcolor": "white",
           "showlakes": true,
           "showland": true,
           "subunitcolor": "white"
          },
          "hoverlabel": {
           "align": "left"
          },
          "hovermode": "closest",
          "mapbox": {
           "style": "light"
          },
          "paper_bgcolor": "white",
          "plot_bgcolor": "white",
          "polar": {
           "angularaxis": {
            "gridcolor": "rgb(232,232,232)",
            "linecolor": "rgb(36,36,36)",
            "showgrid": false,
            "showline": true,
            "ticks": "outside"
           },
           "bgcolor": "white",
           "radialaxis": {
            "gridcolor": "rgb(232,232,232)",
            "linecolor": "rgb(36,36,36)",
            "showgrid": false,
            "showline": true,
            "ticks": "outside"
           }
          },
          "scene": {
           "xaxis": {
            "backgroundcolor": "white",
            "gridcolor": "rgb(232,232,232)",
            "gridwidth": 2,
            "linecolor": "rgb(36,36,36)",
            "showbackground": true,
            "showgrid": false,
            "showline": true,
            "ticks": "outside",
            "zeroline": false,
            "zerolinecolor": "rgb(36,36,36)"
           },
           "yaxis": {
            "backgroundcolor": "white",
            "gridcolor": "rgb(232,232,232)",
            "gridwidth": 2,
            "linecolor": "rgb(36,36,36)",
            "showbackground": true,
            "showgrid": false,
            "showline": true,
            "ticks": "outside",
            "zeroline": false,
            "zerolinecolor": "rgb(36,36,36)"
           },
           "zaxis": {
            "backgroundcolor": "white",
            "gridcolor": "rgb(232,232,232)",
            "gridwidth": 2,
            "linecolor": "rgb(36,36,36)",
            "showbackground": true,
            "showgrid": false,
            "showline": true,
            "ticks": "outside",
            "zeroline": false,
            "zerolinecolor": "rgb(36,36,36)"
           }
          },
          "shapedefaults": {
           "fillcolor": "black",
           "line": {
            "width": 0
           },
           "opacity": 0.3
          },
          "ternary": {
           "aaxis": {
            "gridcolor": "rgb(232,232,232)",
            "linecolor": "rgb(36,36,36)",
            "showgrid": false,
            "showline": true,
            "ticks": "outside"
           },
           "baxis": {
            "gridcolor": "rgb(232,232,232)",
            "linecolor": "rgb(36,36,36)",
            "showgrid": false,
            "showline": true,
            "ticks": "outside"
           },
           "bgcolor": "white",
           "caxis": {
            "gridcolor": "rgb(232,232,232)",
            "linecolor": "rgb(36,36,36)",
            "showgrid": false,
            "showline": true,
            "ticks": "outside"
           }
          },
          "title": {
           "x": 0.05
          },
          "xaxis": {
           "automargin": true,
           "gridcolor": "rgb(232,232,232)",
           "linecolor": "rgb(36,36,36)",
           "showgrid": false,
           "showline": true,
           "ticks": "outside",
           "title": {
            "standoff": 15
           },
           "zeroline": false,
           "zerolinecolor": "rgb(36,36,36)"
          },
          "yaxis": {
           "automargin": true,
           "gridcolor": "rgb(232,232,232)",
           "linecolor": "rgb(36,36,36)",
           "showgrid": false,
           "showline": true,
           "ticks": "outside",
           "title": {
            "standoff": 15
           },
           "zeroline": false,
           "zerolinecolor": "rgb(36,36,36)"
          }
         }
        },
        "title": {
         "font": {
          "color": "Black",
          "size": 22
         },
         "text": "<b>Intertopic Distance Map</b>",
         "x": 0.5,
         "xanchor": "center",
         "y": 0.95,
         "yanchor": "top"
        },
        "width": 650,
        "xaxis": {
         "anchor": "y",
         "domain": [
          0,
          1
         ],
         "range": [
          0.7022954225540161,
          3.7141170501708984
         ],
         "title": {
          "text": ""
         },
         "visible": false
        },
        "yaxis": {
         "anchor": "x",
         "domain": [
          0,
          1
         ],
         "range": [
          -8.737104415893555,
          -4.41980504989624
         ],
         "title": {
          "text": ""
         },
         "visible": false
        }
       }
      }
     },
     "metadata": {},
     "output_type": "display_data"
    }
   ],
   "source": [
    "topic_model.visualize_topics()"
   ]
  },
  {
   "cell_type": "code",
   "execution_count": 89,
   "metadata": {},
   "outputs": [
    {
     "data": {
      "text/html": [
       "<div>\n",
       "<style scoped>\n",
       "    .dataframe tbody tr th:only-of-type {\n",
       "        vertical-align: middle;\n",
       "    }\n",
       "\n",
       "    .dataframe tbody tr th {\n",
       "        vertical-align: top;\n",
       "    }\n",
       "\n",
       "    .dataframe thead th {\n",
       "        text-align: right;\n",
       "    }\n",
       "</style>\n",
       "<table border=\"1\" class=\"dataframe\">\n",
       "  <thead>\n",
       "    <tr style=\"text-align: right;\">\n",
       "      <th></th>\n",
       "      <th>Document</th>\n",
       "      <th>Topic</th>\n",
       "      <th>Name</th>\n",
       "      <th>Representation</th>\n",
       "      <th>Representative_Docs</th>\n",
       "      <th>Top_n_words</th>\n",
       "      <th>Probability</th>\n",
       "      <th>Representative_document</th>\n",
       "    </tr>\n",
       "  </thead>\n",
       "  <tbody>\n",
       "    <tr>\n",
       "      <th>0</th>\n",
       "      <td>ITEM 1A. RISK FACTORSIn evaluating NVIDIA and ...</td>\n",
       "      <td>0</td>\n",
       "      <td>0_of_the_and_our</td>\n",
       "      <td>[of, the, and, our, to, in, we, or, for, produ...</td>\n",
       "      <td>[ITEM 1A. RISK FACTORSIn evaluating NVIDIA and...</td>\n",
       "      <td>of - the - and - our - to - in - we - or - for...</td>\n",
       "      <td>0.875034</td>\n",
       "      <td>True</td>\n",
       "    </tr>\n",
       "    <tr>\n",
       "      <th>1</th>\n",
       "      <td>ITEM 1A. RISK FACTORSIn evaluating NVIDIA and ...</td>\n",
       "      <td>0</td>\n",
       "      <td>0_of_the_and_our</td>\n",
       "      <td>[of, the, and, our, to, in, we, or, for, produ...</td>\n",
       "      <td>[ITEM 1A. RISK FACTORSIn evaluating NVIDIA and...</td>\n",
       "      <td>of - the - and - our - to - in - we - or - for...</td>\n",
       "      <td>1.000000</td>\n",
       "      <td>True</td>\n",
       "    </tr>\n",
       "    <tr>\n",
       "      <th>2</th>\n",
       "      <td>ITEM 1A. RISK FACTORSIn evaluating NVIDIA and ...</td>\n",
       "      <td>0</td>\n",
       "      <td>0_of_the_and_our</td>\n",
       "      <td>[of, the, and, our, to, in, we, or, for, produ...</td>\n",
       "      <td>[ITEM 1A. RISK FACTORSIn evaluating NVIDIA and...</td>\n",
       "      <td>of - the - and - our - to - in - we - or - for...</td>\n",
       "      <td>1.000000</td>\n",
       "      <td>True</td>\n",
       "    </tr>\n",
       "    <tr>\n",
       "      <th>3</th>\n",
       "      <td>ITEM 1A. RISK FACTORSIn evaluating NVIDIA and ...</td>\n",
       "      <td>1</td>\n",
       "      <td>1_and_of_our_the</td>\n",
       "      <td>[and, of, our, the, to, in, or, we, for, may]</td>\n",
       "      <td>[ITEM 1A. RISK FACTORSIn evaluating NVIDIA and...</td>\n",
       "      <td>and - of - our - the - to - in - or - we - for...</td>\n",
       "      <td>1.000000</td>\n",
       "      <td>True</td>\n",
       "    </tr>\n",
       "    <tr>\n",
       "      <th>4</th>\n",
       "      <td>ITEM 1A. RISK FACTORSIn evaluating NVIDIA and ...</td>\n",
       "      <td>2</td>\n",
       "      <td>2_and_of_the_to</td>\n",
       "      <td>[and, of, the, to, in, our, or, we, for, year]</td>\n",
       "      <td>[ITEM 1A. RISK FACTORSIn evaluating NVIDIA and...</td>\n",
       "      <td>and - of - the - to - in - our - or - we - for...</td>\n",
       "      <td>1.000000</td>\n",
       "      <td>True</td>\n",
       "    </tr>\n",
       "    <tr>\n",
       "      <th>5</th>\n",
       "      <td>ITEM 1A. RISK FACTORSIn evaluating NVIDIA and ...</td>\n",
       "      <td>2</td>\n",
       "      <td>2_and_of_the_to</td>\n",
       "      <td>[and, of, the, to, in, our, or, we, for, year]</td>\n",
       "      <td>[ITEM 1A. RISK FACTORSIn evaluating NVIDIA and...</td>\n",
       "      <td>and - of - the - to - in - our - or - we - for...</td>\n",
       "      <td>1.000000</td>\n",
       "      <td>True</td>\n",
       "    </tr>\n",
       "    <tr>\n",
       "      <th>6</th>\n",
       "      <td>ITEM 1A. RISK FACTORSIn evaluating NVIDIA and ...</td>\n",
       "      <td>3</td>\n",
       "      <td>3_and_of_our_the</td>\n",
       "      <td>[and, of, our, the, to, in, or, we, for, on]</td>\n",
       "      <td>[ITEM 1A. RISK FACTORSIn evaluating NVIDIA and...</td>\n",
       "      <td>and - of - our - the - to - in - or - we - for...</td>\n",
       "      <td>1.000000</td>\n",
       "      <td>True</td>\n",
       "    </tr>\n",
       "    <tr>\n",
       "      <th>7</th>\n",
       "      <td>ITEM 1A. RISK FACTORSIn evaluating NVIDIA and ...</td>\n",
       "      <td>3</td>\n",
       "      <td>3_and_of_our_the</td>\n",
       "      <td>[and, of, our, the, to, in, or, we, for, on]</td>\n",
       "      <td>[ITEM 1A. RISK FACTORSIn evaluating NVIDIA and...</td>\n",
       "      <td>and - of - our - the - to - in - or - we - for...</td>\n",
       "      <td>1.000000</td>\n",
       "      <td>True</td>\n",
       "    </tr>\n",
       "    <tr>\n",
       "      <th>8</th>\n",
       "      <td>ITEM 1A. RISK FACTORSIn evaluating NVIDIA, the...</td>\n",
       "      <td>1</td>\n",
       "      <td>1_and_of_our_the</td>\n",
       "      <td>[and, of, our, the, to, in, or, we, for, may]</td>\n",
       "      <td>[ITEM 1A. RISK FACTORSIn evaluating NVIDIA and...</td>\n",
       "      <td>and - of - our - the - to - in - or - we - for...</td>\n",
       "      <td>1.000000</td>\n",
       "      <td>True</td>\n",
       "    </tr>\n",
       "    <tr>\n",
       "      <th>9</th>\n",
       "      <td>ITEM 1A. RISK FACTORSIn evaluating NVIDIA, the...</td>\n",
       "      <td>4</td>\n",
       "      <td>4_and_our_to_of</td>\n",
       "      <td>[and, our, to, of, or, the, in, we, may, for]</td>\n",
       "      <td>[ITEM 1A. RISK FACTORSIn evaluating NVIDIA, th...</td>\n",
       "      <td>and - our - to - of - or - the - in - we - may...</td>\n",
       "      <td>1.000000</td>\n",
       "      <td>True</td>\n",
       "    </tr>\n",
       "    <tr>\n",
       "      <th>10</th>\n",
       "      <td>&gt;Item 1A.  Risk Factors The following risk fac...</td>\n",
       "      <td>4</td>\n",
       "      <td>4_and_our_to_of</td>\n",
       "      <td>[and, our, to, of, or, the, in, we, may, for]</td>\n",
       "      <td>[ITEM 1A. RISK FACTORSIn evaluating NVIDIA, th...</td>\n",
       "      <td>and - our - to - of - or - the - in - we - may...</td>\n",
       "      <td>1.000000</td>\n",
       "      <td>True</td>\n",
       "    </tr>\n",
       "  </tbody>\n",
       "</table>\n",
       "</div>"
      ],
      "text/plain": [
       "                                             Document  Topic  \\\n",
       "0   ITEM 1A. RISK FACTORSIn evaluating NVIDIA and ...      0   \n",
       "1   ITEM 1A. RISK FACTORSIn evaluating NVIDIA and ...      0   \n",
       "2   ITEM 1A. RISK FACTORSIn evaluating NVIDIA and ...      0   \n",
       "3   ITEM 1A. RISK FACTORSIn evaluating NVIDIA and ...      1   \n",
       "4   ITEM 1A. RISK FACTORSIn evaluating NVIDIA and ...      2   \n",
       "5   ITEM 1A. RISK FACTORSIn evaluating NVIDIA and ...      2   \n",
       "6   ITEM 1A. RISK FACTORSIn evaluating NVIDIA and ...      3   \n",
       "7   ITEM 1A. RISK FACTORSIn evaluating NVIDIA and ...      3   \n",
       "8   ITEM 1A. RISK FACTORSIn evaluating NVIDIA, the...      1   \n",
       "9   ITEM 1A. RISK FACTORSIn evaluating NVIDIA, the...      4   \n",
       "10  >Item 1A.  Risk Factors The following risk fac...      4   \n",
       "\n",
       "                Name                                     Representation  \\\n",
       "0   0_of_the_and_our  [of, the, and, our, to, in, we, or, for, produ...   \n",
       "1   0_of_the_and_our  [of, the, and, our, to, in, we, or, for, produ...   \n",
       "2   0_of_the_and_our  [of, the, and, our, to, in, we, or, for, produ...   \n",
       "3   1_and_of_our_the      [and, of, our, the, to, in, or, we, for, may]   \n",
       "4    2_and_of_the_to     [and, of, the, to, in, our, or, we, for, year]   \n",
       "5    2_and_of_the_to     [and, of, the, to, in, our, or, we, for, year]   \n",
       "6   3_and_of_our_the       [and, of, our, the, to, in, or, we, for, on]   \n",
       "7   3_and_of_our_the       [and, of, our, the, to, in, or, we, for, on]   \n",
       "8   1_and_of_our_the      [and, of, our, the, to, in, or, we, for, may]   \n",
       "9    4_and_our_to_of      [and, our, to, of, or, the, in, we, may, for]   \n",
       "10   4_and_our_to_of      [and, our, to, of, or, the, in, we, may, for]   \n",
       "\n",
       "                                  Representative_Docs  \\\n",
       "0   [ITEM 1A. RISK FACTORSIn evaluating NVIDIA and...   \n",
       "1   [ITEM 1A. RISK FACTORSIn evaluating NVIDIA and...   \n",
       "2   [ITEM 1A. RISK FACTORSIn evaluating NVIDIA and...   \n",
       "3   [ITEM 1A. RISK FACTORSIn evaluating NVIDIA and...   \n",
       "4   [ITEM 1A. RISK FACTORSIn evaluating NVIDIA and...   \n",
       "5   [ITEM 1A. RISK FACTORSIn evaluating NVIDIA and...   \n",
       "6   [ITEM 1A. RISK FACTORSIn evaluating NVIDIA and...   \n",
       "7   [ITEM 1A. RISK FACTORSIn evaluating NVIDIA and...   \n",
       "8   [ITEM 1A. RISK FACTORSIn evaluating NVIDIA and...   \n",
       "9   [ITEM 1A. RISK FACTORSIn evaluating NVIDIA, th...   \n",
       "10  [ITEM 1A. RISK FACTORSIn evaluating NVIDIA, th...   \n",
       "\n",
       "                                          Top_n_words  Probability  \\\n",
       "0   of - the - and - our - to - in - we - or - for...     0.875034   \n",
       "1   of - the - and - our - to - in - we - or - for...     1.000000   \n",
       "2   of - the - and - our - to - in - we - or - for...     1.000000   \n",
       "3   and - of - our - the - to - in - or - we - for...     1.000000   \n",
       "4   and - of - the - to - in - our - or - we - for...     1.000000   \n",
       "5   and - of - the - to - in - our - or - we - for...     1.000000   \n",
       "6   and - of - our - the - to - in - or - we - for...     1.000000   \n",
       "7   and - of - our - the - to - in - or - we - for...     1.000000   \n",
       "8   and - of - our - the - to - in - or - we - for...     1.000000   \n",
       "9   and - our - to - of - or - the - in - we - may...     1.000000   \n",
       "10  and - our - to - of - or - the - in - we - may...     1.000000   \n",
       "\n",
       "    Representative_document  \n",
       "0                      True  \n",
       "1                      True  \n",
       "2                      True  \n",
       "3                      True  \n",
       "4                      True  \n",
       "5                      True  \n",
       "6                      True  \n",
       "7                      True  \n",
       "8                      True  \n",
       "9                      True  \n",
       "10                     True  "
      ]
     },
     "execution_count": 89,
     "metadata": {},
     "output_type": "execute_result"
    }
   ],
   "source": [
    "topic_model.get_document_info(test)"
   ]
  },
  {
   "cell_type": "code",
   "execution_count": null,
   "metadata": {},
   "outputs": [],
   "source": []
  }
 ],
 "metadata": {
  "kernelspec": {
   "display_name": "Python 3",
   "language": "python",
   "name": "python3"
  },
  "language_info": {
   "codemirror_mode": {
    "name": "ipython",
    "version": 3
   },
   "file_extension": ".py",
   "mimetype": "text/x-python",
   "name": "python",
   "nbconvert_exporter": "python",
   "pygments_lexer": "ipython3",
   "version": "3.11.4"
  }
 },
 "nbformat": 4,
 "nbformat_minor": 2
}
