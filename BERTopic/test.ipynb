{
 "cells": [
  {
   "cell_type": "code",
   "execution_count": 1,
   "metadata": {},
   "outputs": [],
   "source": [
    "import requests\n",
    "from bs4 import BeautifulSoup\n",
    "import re\n",
    "import pandas as pd\n",
    "import json\n",
    "import nltk\n",
    "import matplotlib.pyplot as plt\n",
    "from bertopic import BERTopic\n",
    "from hdbscan import HDBSCAN\n",
    "from nltk.tokenize import sent_tokenize, word_tokenize\n",
    "from sklearn.feature_extraction.text import CountVectorizer"
   ]
  },
  {
   "cell_type": "code",
   "execution_count": 2,
   "metadata": {},
   "outputs": [
    {
     "name": "stderr",
     "output_type": "stream",
     "text": [
      "[nltk_data] Downloading package punkt to\n",
      "[nltk_data]     C:\\Users\\ajaym\\AppData\\Roaming\\nltk_data...\n",
      "[nltk_data]   Package punkt is already up-to-date!\n"
     ]
    }
   ],
   "source": [
    "nltk.download('punkt')\n",
    "\n",
    "def clean_text(text):\n",
    "    # Replace \\n with a space\n",
    "    text = re.sub(r'\\n', ' ', text)\n",
    "\n",
    "    # Replace encoded apostrophes and quotes with plain text equivalents\n",
    "    text = text.replace('\\x92', \"'\")  # Right single quote\n",
    "    text = text.replace('\\x93', '\"')  # Left double quote\n",
    "    text = text.replace('\\x94', '\"')  # Right double quote\n",
    "    text = text.replace('\\xa0', ' ')  # Non-breaking space\n",
    "\n",
    "    # Remove other \\x.. sequences\n",
    "    text = re.sub(r'\\\\x[0-9A-Fa-f]{2}', '', text)\n",
    "    \n",
    "    # Fix spacing issues around periods and capitalization\n",
    "    text = re.sub(r'\\s*\\.\\s*', '. ', text)\n",
    "    text = re.sub(r'(Item\\s*\\d+[A-Za-z]*)\\.', r'\\1. ', text)\n",
    "    text = re.sub(r'([a-z])([A-Z])', r'\\1 \\2', text)\n",
    "    text = re.sub(r'(?<=[.!?])(?=\\S)', r' ', text)\n",
    "    \n",
    "    return text.strip()\n",
    "\n",
    "def split_sentences_with_nltk(text):\n",
    "    # Initial cleaning\n",
    "    text = clean_text(text)\n",
    "\n",
    "    # Use nltk's sentence tokenizer\n",
    "    sentences = sent_tokenize(text)\n",
    "\n",
    "    # Post-process to remove redundant or empty sentences\n",
    "    sentences = [sentence.strip() for sentence in sentences if sentence.strip()]\n",
    "    # sentences = [sent_tokenize(abstract) for abstract in text]\n",
    "    return sentences"
   ]
  },
  {
   "cell_type": "code",
   "execution_count": 3,
   "metadata": {},
   "outputs": [],
   "source": [
    "# headers = {'User-Agent':'Sample Company Name AdminContact@<sample company domain>.com','Accept-Encoding':'gzip, deflate','Host':'www.sec.gov'}\n",
    "\n",
    "# r = requests.get(\"https://www.sec.gov/Archives/edgar/data/320193/000032019319000119/0000320193-19-000119.txt\", headers=headers)\n",
    "\n",
    "# raw_10k = r.text\n",
    "\n",
    "# doc_start_pattern = re.compile(r'<DOCUMENT>')\n",
    "# doc_end_pattern = re.compile(r'</DOCUMENT>')\n",
    "# type_pattern = re.compile(r'<TYPE>[^\\n]+')\n",
    "\n",
    "# doc_start_is = [x.end() for x in doc_start_pattern.finditer(raw_10k)]\n",
    "# doc_end_is = [x.start() for x in doc_end_pattern.finditer(raw_10k)]\n",
    "\n",
    "# doc_types = [x[len('<TYPE>'):] for x in type_pattern.findall(raw_10k)]\n",
    "\n",
    "# document = {}\n",
    "\n",
    "# for doc_type, doc_start, doc_end in zip(doc_types, doc_start_is, doc_end_is):\n",
    "#     if doc_type == '10-K':\n",
    "#         document[doc_type] = raw_10k[doc_start:doc_end]\n",
    "\n",
    "# # print(document['10-K'][:500])\n",
    "\n",
    "# regex = re.compile(r'(>Item(\\s|&#160;|&nbsp;)(1A|1B|2|3|6|7A|7|8)\\.{0,1})|(ITEM\\s(1A|1B|2|3|6|7A|7|8))')\n",
    "\n",
    "# matches = regex.finditer(document['10-K'])\n",
    "\n",
    "# # for match in matches:\n",
    "# #     print(match)\n",
    "\n",
    "# # for match in matches:\n",
    "# #     print(match.group(), match.start(), match.end())\n",
    "\n",
    "# test_df = pd.DataFrame([(x.group(), x.start(), x.end()) for x in matches])\n",
    "\n",
    "# test_df.columns = ['item', 'start', 'end']\n",
    "# test_df['item'] = test_df.item.str.lower()\n",
    "\n",
    "# test_df.head()\n",
    "\n",
    "# test_df.replace('&#160;',' ',regex=True,inplace=True)\n",
    "# test_df.replace('&nbsp;',' ',regex=True,inplace=True)\n",
    "# test_df.replace(' ','',regex=True,inplace=True)\n",
    "# test_df.replace('\\.','',regex=True,inplace=True)\n",
    "# test_df.replace('>','',regex=True,inplace=True)\n",
    "\n",
    "# # test_df.head()\n",
    "# # print(test_df)\n",
    "\n",
    "# pos_dat = test_df.sort_values('start', ascending=True).drop_duplicates(subset=['item'], keep='last')\n",
    "# pos_dat.set_index('item', inplace=True)\n",
    "\n",
    "# # pos_dat\n",
    "\n",
    "# item_1a_raw = document['10-K'][pos_dat['start'].loc['item1a']:pos_dat['start'].loc['item1b']]\n",
    "# item_1b_raw = document['10-K'][pos_dat['start'].loc['item1b']:pos_dat['start'].loc['item2']]\n",
    "# item_2_raw = document['10-K'][pos_dat['start'].loc['item2']:pos_dat['start'].loc['item3']]\n",
    "# item_3_raw = document['10-K'][pos_dat['start'].loc['item3']:pos_dat['start'].loc['item6']]\n",
    "# item_6_raw = document['10-K'][pos_dat['start'].loc['item6']:pos_dat['start'].loc['item7']]\n",
    "# item_7_raw = document['10-K'][pos_dat['start'].loc['item7']:pos_dat['start'].loc['item7a']]\n",
    "# item_7a_raw = document['10-K'][pos_dat['start'].loc['item7a']:pos_dat['start'].loc['item8']]\n",
    "# item_8_raw = document['10-K'][pos_dat['start'].loc['item8']:]\n",
    "\n",
    "# item_1a_content = BeautifulSoup(item_1a_raw, 'lxml')\n",
    "# item_1b_content = BeautifulSoup(item_1b_raw, 'lxml')\n",
    "# item_2_content = BeautifulSoup(item_2_raw, 'lxml')\n",
    "# item_3_content = BeautifulSoup(item_3_raw, 'lxml')\n",
    "# item_6_content = BeautifulSoup(item_6_raw, 'lxml')\n",
    "# item_7_content = BeautifulSoup(item_7_raw, 'lxml')\n",
    "# item_7a_content = BeautifulSoup(item_7a_raw, 'lxml')\n",
    "# item_8_content = BeautifulSoup(item_8_raw, 'lxml')\n",
    "\n",
    "# item_1a_text = item_1a_content.get_text()\n",
    "# item_1b_text = item_1b_content.get_text()\n",
    "# item_2_text = item_2_content.get_text()\n",
    "# item_3_text = item_3_content.get_text()\n",
    "# item_6_text = item_6_content.get_text()\n",
    "# item_7_text = item_7_content.get_text()\n",
    "# item_7a_text = item_7a_content.get_text()\n",
    "# item_8_text = item_8_content.get_text()\n",
    "\n",
    "# text_1a = clean_text(item_1a_text)\n",
    "# text_1b = clean_text(item_1b_text)\n",
    "# text_2 = clean_text(item_2_text)\n",
    "# text_3 = clean_text(item_3_text)\n",
    "# text_6 = clean_text(item_6_text)\n",
    "# text_7 = clean_text(item_7_text)\n",
    "# text_7a = clean_text(item_7a_text)\n",
    "# text_8 = clean_text(item_8_text)\n",
    "\n",
    "# sentences = split_sentences_with_nltk(item_1a_text)\n",
    "# sentences += split_sentences_with_nltk(item_1b_text)\n",
    "# sentences += split_sentences_with_nltk(item_2_text)\n",
    "# sentences += split_sentences_with_nltk(item_3_text)\n",
    "# sentences += split_sentences_with_nltk(item_6_text)\n",
    "# sentences += split_sentences_with_nltk(item_7_text)\n",
    "# sentences += split_sentences_with_nltk(item_7a_text)\n",
    "# sentences += split_sentences_with_nltk(item_8_text)"
   ]
  },
  {
   "cell_type": "code",
   "execution_count": 5,
   "metadata": {},
   "outputs": [],
   "source": [
    "def converttotext(url):\n",
    "    headers = {'User-Agent':'Sample Company Name AdminContact@<sample company domain>.com','Accept-Encoding':'gzip, deflate','Host':'www.sec.gov'}\n",
    "\n",
    "    r = requests.get(url, headers=headers)\n",
    "\n",
    "    raw_10k = r.text\n",
    "\n",
    "    doc_start_pattern = re.compile(r'<DOCUMENT>')\n",
    "    doc_end_pattern = re.compile(r'</DOCUMENT>')\n",
    "    type_pattern = re.compile(r'<TYPE>[^\\n]+')\n",
    "\n",
    "    doc_start_is = [x.end() for x in doc_start_pattern.finditer(raw_10k)]\n",
    "    doc_end_is = [x.start() for x in doc_end_pattern.finditer(raw_10k)]\n",
    "\n",
    "    doc_types = [x[len('<TYPE>'):] for x in type_pattern.findall(raw_10k)]\n",
    "\n",
    "    document = {}\n",
    "    \n",
    "    for doc_type, doc_start, doc_end in zip(doc_types, doc_start_is, doc_end_is):\n",
    "        if doc_type == '10-K':\n",
    "            document[doc_type] = raw_10k[doc_start:doc_end]\n",
    "\n",
    "    # regex = re.compile(r'(>Item(\\s|&#160;|&nbsp;)(1A|1B|7A|7|8)\\.{0,1})|(ITEM\\s(1A|1B|7A|7|8))')\n",
    "    regex = re.compile(r'(>Item(\\s|&#160;|&nbsp;)(1A|1B|2|3|6|7A|7|8)\\.{0,1})|(ITEM\\s(1A|1B|2|3|6|7A|7|8))')\n",
    "\n",
    "    matches = regex.finditer(document['10-K'])\n",
    "\n",
    "    # for match in matches:\n",
    "    #     print(match)\n",
    "\n",
    "    test_df = pd.DataFrame([(x.group(), x.start(), x.end()) for x in matches])\n",
    "\n",
    "    test_df.columns = ['item', 'start', 'end']\n",
    "    test_df['item'] = test_df.item.str.lower()\n",
    "    # test_df.head()\n",
    "    test_df.replace('&#160;',' ',regex=True,inplace=True)\n",
    "    test_df.replace('&nbsp;',' ',regex=True,inplace=True)\n",
    "    test_df.replace(' ','',regex=True,inplace=True)\n",
    "    test_df.replace('\\.','',regex=True,inplace=True)\n",
    "    test_df.replace('>','',regex=True,inplace=True)\n",
    "\n",
    "    # test_df.head()\n",
    "\n",
    "    pos_dat = test_df.sort_values('start', ascending=True).drop_duplicates(subset=['item'], keep='last')\n",
    "    pos_dat.set_index('item', inplace=True)\n",
    "\n",
    "    item_1a_raw = document['10-K'][pos_dat['start'].loc['item1a']:pos_dat['start'].loc['item1b']]\n",
    "    item_1b_raw = document['10-K'][pos_dat['start'].loc['item1b']:pos_dat['start'].loc['item2']]\n",
    "    item_2_raw = document['10-K'][pos_dat['start'].loc['item2']:pos_dat['start'].loc['item3']]\n",
    "    item_3_raw = document['10-K'][pos_dat['start'].loc['item3']:pos_dat['start'].loc['item6']]\n",
    "    item_6_raw = document['10-K'][pos_dat['start'].loc['item6']:pos_dat['start'].loc['item7']]\n",
    "    item_7_raw = document['10-K'][pos_dat['start'].loc['item7']:pos_dat['start'].loc['item7a']]\n",
    "    item_7a_raw = document['10-K'][pos_dat['start'].loc['item7a']:pos_dat['start'].loc['item8']]\n",
    "    item_8_raw = document['10-K'][pos_dat['start'].loc['item8']:]\n",
    "\n",
    "    item_1a_content = BeautifulSoup(item_1a_raw, 'lxml')\n",
    "    item_1b_content = BeautifulSoup(item_1b_raw, 'lxml')\n",
    "    item_2_content = BeautifulSoup(item_2_raw, 'lxml')\n",
    "    item_3_content = BeautifulSoup(item_3_raw, 'lxml')\n",
    "    item_6_content = BeautifulSoup(item_6_raw, 'lxml')\n",
    "    item_7_content = BeautifulSoup(item_7_raw, 'lxml')\n",
    "    item_7a_content = BeautifulSoup(item_7a_raw, 'lxml')\n",
    "    item_8_content = BeautifulSoup(item_8_raw, 'lxml')\n",
    "    \n",
    "    # item_1a_content.prettify()\n",
    "    # item_7_content.prettify()\n",
    "    # item_7a_content.prettify()\n",
    "\n",
    "    item_1a_text = item_1a_content.get_text()\n",
    "    item_1b_text = item_1b_content.get_text()\n",
    "    item_2_text = item_2_content.get_text()\n",
    "    item_3_text = item_3_content.get_text()\n",
    "    item_6_text = item_6_content.get_text()\n",
    "    item_7_text = item_7_content.get_text()\n",
    "    item_7a_text = item_7a_content.get_text()\n",
    "    item_8_text = item_8_content.get_text()\n",
    "\n",
    "    text_1a = clean_text(item_1a_text)\n",
    "    text_1b = clean_text(item_1b_text)\n",
    "    text_2 = clean_text(item_2_text)\n",
    "    text_3 = clean_text(item_3_text)\n",
    "    text_6 = clean_text(item_6_text)\n",
    "    text_7 = clean_text(item_7_text)\n",
    "    text_7a = clean_text(item_7a_text)\n",
    "    text_8 = clean_text(item_8_text)\n",
    "\n",
    "    sentences = split_sentences_with_nltk(text_1a)\n",
    "    # sentences += split_sentences_with_nltk(text_1b)\n",
    "    # sentences += split_sentences_with_nltk(text_2)\n",
    "    # sentences += split_sentences_with_nltk(text_3)\n",
    "    # sentences += split_sentences_with_nltk(text_6)\n",
    "    sentences += split_sentences_with_nltk(text_7)\n",
    "    sentences += split_sentences_with_nltk(text_7a)\n",
    "    # sentences += split_sentences_with_nltk(text_8)\n",
    "    \n",
    "    return sentences"
   ]
  },
  {
   "cell_type": "code",
   "execution_count": 31,
   "metadata": {},
   "outputs": [
    {
     "name": "stdout",
     "output_type": "stream",
     "text": [
      "Error processing T: 'item1b'\n",
      "Error processing HIG: 'item1b'\n"
     ]
    }
   ],
   "source": [
    "# sentences = converttotext(\"https://www.sec.gov/Archives/edgar/data/320193/000032019317000070/0000320193-17-000070.txt\")\n",
    "# sentences = converttotext(\"https://www.sec.gov/Archives/edgar/data/320193/000032019318000145/0000320193-18-000145.txt\")\n",
    "# sentences = converttotext(\"https://www.sec.gov/Archives/edgar/data/320193/000032019319000119/0000320193-19-000119.txt\")\n",
    "# sentences = converttotext(\"https://www.sec.gov/Archives/edgar/data/320193/000032019320000096/0000320193-20-000096.txt\")\n",
    "# sentences = converttotext(\"https://www.sec.gov/Archives/edgar/data/320193/000032019321000105/0000320193-21-000105.txt\")\n",
    "# sentences = converttotext(\"https://www.sec.gov/Archives/edgar/data/320193/000032019322000108/0000320193-22-000108.txt\")\n",
    "# sentences = converttotext(\"https://www.sec.gov/Archives/edgar/data/320193/000032019323000106/0000320193-23-000106.txt\")\n",
    "# sentences = converttotext(\"https://www.sec.gov/Archives/edgar/data/320193/000032019324000123/0000320193-24-000123.txt\")\n",
    "\n",
    "target_year = 2020\n",
    "\n",
    "with open(f\"../Edgar/10K_URL_TECH/All_10K_Filings_{target_year}.json\", \"r\") as read_file:\n",
    "    companies = json.load(read_file)\n",
    "\n",
    "sentences = []\n",
    "for company in companies:\n",
    "            try:\n",
    "                sentences += converttotext(company['url'])\n",
    "\n",
    "            except Exception as e:\n",
    "                print(f\"Error processing {company['company']}: {e}\")\n",
    "\n",
    "# NVDA\n",
    "# test1 = converttotext(\"https://www.sec.gov/Archives/edgar/data/320193/000032019322000108/0000320193-22-000108.txt\")\n",
    "# test1 += converttotext(\"https://www.sec.gov/Archives/edgar/data/1045810/000104581022000036/0001045810-22-000036.txt\")\n",
    "# test1 += converttotext(\"https://www.sec.gov/Archives/edgar/data/789019/000156459022026876/0001564590-22-026876.txt\")\n",
    "# test1 += converttotext(\"https://www.sec.gov/Archives/edgar/data/1652044/000165204422000019/0001652044-22-000019.txt\")\n",
    "# test1 += converttotext(\"https://www.sec.gov/Archives/edgar/data/1018724/000101872422000005/0001018724-22-000005.txt\")\n",
    "# test1 += converttotext(\"https://www.sec.gov/Archives/edgar/data/1326801/000132680122000018/0001326801-22-000018.txt\")\n",
    "# test1 += converttotext(\"https://www.sec.gov/Archives/edgar/data/1065280/000106528022000036/0001065280-22-000036.txt\")\n",
    "# test1 += converttotext(\"https://www.sec.gov/Archives/edgar/data/1341439/000156459022023675/0001564590-22-023675.txt\")\n",
    "# test1 += converttotext(\"https://www.sec.gov/Archives/edgar/data/723125/000072312522000048/0000723125-22-000048.txt\")\n",
    "# test1 += converttotext(\"https://www.sec.gov/Archives/edgar/data/1090872/000109087222000026/0001090872-22-000026.txt\")\n",
    "# test1 += converttotext(\"https://www.sec.gov/Archives/edgar/data/51143/000155837022001584/0001558370-22-001584.txt\")\n",
    "# test1 += converttotext(\"https://www.sec.gov/Archives/edgar/data/47217/000004721722000068/0000047217-22-000068.txt\")\n",
    "# test1 += converttotext(\"https://www.sec.gov/Archives/edgar/data/1166691/000116669122000009/0001166691-22-000009.txt\")\n",
    "# test1 += converttotext(\"https://www.sec.gov/Archives/edgar/data/829224/000082922422000058/0000829224-22-000058.txt\")\n",
    "# test1 += converttotext(\"https://www.sec.gov/Archives/edgar/data/64803/000006480322000008/0000064803-22-000008.txt\")\n",
    "# test1 += converttotext(\"https://www.sec.gov/Archives/edgar/data/1318605/000095017022000796/0000950170-22-000796.txt\")\n",
    "\n",
    "\n",
    "# print(test)\n",
    "# print(sentences)"
   ]
  },
  {
   "cell_type": "code",
   "execution_count": 32,
   "metadata": {},
   "outputs": [
    {
     "data": {
      "application/vnd.jupyter.widget-view+json": {
       "model_id": "a37cd3954ee942b39c232707e1144939",
       "version_major": 2,
       "version_minor": 0
      },
      "text/plain": [
       "Batches:   0%|          | 0/438 [00:00<?, ?it/s]"
      ]
     },
     "metadata": {},
     "output_type": "display_data"
    }
   ],
   "source": [
    "from sentence_transformers import SentenceTransformer\n",
    "\n",
    "embedding_model = SentenceTransformer(\"all-MiniLM-L12-v2\")\n",
    "embeddings = embedding_model.encode(sentences, show_progress_bar=True)"
   ]
  },
  {
   "cell_type": "code",
   "execution_count": 33,
   "metadata": {},
   "outputs": [],
   "source": [
    "from umap import UMAP\n",
    "from hdbscan import HDBSCAN\n",
    "from bertopic import BERTopic\n",
    "from sentence_transformers import SentenceTransformer\n",
    "\n",
    "umap_model = UMAP(n_neighbors=5, n_components=15, min_dist=0.01, metric='cosine', low_memory=False)\n",
    "hdbscan_model = HDBSCAN(min_cluster_size=3, min_samples=2, metric='euclidean', cluster_selection_method='leaf', prediction_data=True)\n",
    "# sentence_model = SentenceTransformer(\"all-MiniLM-L12-v2\")\n",
    "topic_model = BERTopic(umap_model=umap_model, hdbscan_model=hdbscan_model, min_topic_size=3, nr_topics=50)\n",
    "topics, probs = topic_model.fit_transform(sentences, embeddings=embeddings)"
   ]
  },
  {
   "cell_type": "code",
   "execution_count": 34,
   "metadata": {},
   "outputs": [
    {
     "data": {
      "text/html": [
       "<div>\n",
       "<style scoped>\n",
       "    .dataframe tbody tr th:only-of-type {\n",
       "        vertical-align: middle;\n",
       "    }\n",
       "\n",
       "    .dataframe tbody tr th {\n",
       "        vertical-align: top;\n",
       "    }\n",
       "\n",
       "    .dataframe thead th {\n",
       "        text-align: right;\n",
       "    }\n",
       "</style>\n",
       "<table border=\"1\" class=\"dataframe\">\n",
       "  <thead>\n",
       "    <tr style=\"text-align: right;\">\n",
       "      <th></th>\n",
       "      <th>Topic</th>\n",
       "      <th>Count</th>\n",
       "      <th>Name</th>\n",
       "      <th>Representation</th>\n",
       "      <th>Representative_Docs</th>\n",
       "    </tr>\n",
       "  </thead>\n",
       "  <tbody>\n",
       "    <tr>\n",
       "      <th>0</th>\n",
       "      <td>-1</td>\n",
       "      <td>2839</td>\n",
       "      <td>-1_and_of_the_our</td>\n",
       "      <td>[and, of, the, our, to, in, or, we, as, for]</td>\n",
       "      <td>[We and others are subject to a variety of law...</td>\n",
       "    </tr>\n",
       "    <tr>\n",
       "      <th>1</th>\n",
       "      <td>0</td>\n",
       "      <td>2297</td>\n",
       "      <td>0_or_our_and_may</td>\n",
       "      <td>[or, our, and, may, to, could, we, business, b...</td>\n",
       "      <td>[Events that adversely affect that trust, incl...</td>\n",
       "    </tr>\n",
       "    <tr>\n",
       "      <th>2</th>\n",
       "      <td>1</td>\n",
       "      <td>1112</td>\n",
       "      <td>1_2019_2018_revenue_expenses</td>\n",
       "      <td>[2019, 2018, revenue, expenses, operating, cas...</td>\n",
       "      <td>[2019 Compared to 2018 Cost of energy generati...</td>\n",
       "    </tr>\n",
       "    <tr>\n",
       "      <th>3</th>\n",
       "      <td>2</td>\n",
       "      <td>919</td>\n",
       "      <td>2_percent_compared_prioryear_2019</td>\n",
       "      <td>[percent, compared, prioryear, 2019, 2018, 15,...</td>\n",
       "      <td>[1% in 2019 compared to 2018., 5% in 2019 comp...</td>\n",
       "    </tr>\n",
       "    <tr>\n",
       "      <th>4</th>\n",
       "      <td>3</td>\n",
       "      <td>896</td>\n",
       "      <td>3_billion_notes_senior_million</td>\n",
       "      <td>[billion, notes, senior, million, 2019, due, 2...</td>\n",
       "      <td>[0 billion and $4., 3 billion and 2., 5 billio...</td>\n",
       "    </tr>\n",
       "    <tr>\n",
       "      <th>5</th>\n",
       "      <td>4</td>\n",
       "      <td>822</td>\n",
       "      <td>4_statements_financial_the_accounting</td>\n",
       "      <td>[statements, financial, the, accounting, of, c...</td>\n",
       "      <td>[See Note 4 Long-term Debt in the accompanying...</td>\n",
       "    </tr>\n",
       "    <tr>\n",
       "      <th>6</th>\n",
       "      <td>5</td>\n",
       "      <td>799</td>\n",
       "      <td>5_and_our_services_advertising</td>\n",
       "      <td>[and, our, services, advertising, products, to...</td>\n",
       "      <td>[These statements include, among other things,...</td>\n",
       "    </tr>\n",
       "    <tr>\n",
       "      <th>7</th>\n",
       "      <td>6</td>\n",
       "      <td>520</td>\n",
       "      <td>6_tax_income_taxes_the</td>\n",
       "      <td>[tax, income, taxes, the, in, provision, juris...</td>\n",
       "      <td>[Income Taxes Our effective tax rate is subjec...</td>\n",
       "    </tr>\n",
       "    <tr>\n",
       "      <th>8</th>\n",
       "      <td>7</td>\n",
       "      <td>453</td>\n",
       "      <td>7_stock_common_class_shares</td>\n",
       "      <td>[stock, common, class, shares, share, repurcha...</td>\n",
       "      <td>[3 million shares of common stock for $1., 0 m...</td>\n",
       "    </tr>\n",
       "    <tr>\n",
       "      <th>9</th>\n",
       "      <td>8</td>\n",
       "      <td>407</td>\n",
       "      <td>8_interest_credit_debt_securities</td>\n",
       "      <td>[interest, credit, debt, securities, rate, cas...</td>\n",
       "      <td>[Interest Rate Sensitivity Our exposure to cha...</td>\n",
       "    </tr>\n",
       "    <tr>\n",
       "      <th>10</th>\n",
       "      <td>9</td>\n",
       "      <td>346</td>\n",
       "      <td>9_lease_obligations_revenue_the</td>\n",
       "      <td>[lease, obligations, revenue, the, leases, for...</td>\n",
       "      <td>[We capitalize vehicles under this program to ...</td>\n",
       "    </tr>\n",
       "    <tr>\n",
       "      <th>11</th>\n",
       "      <td>10</td>\n",
       "      <td>253</td>\n",
       "      <td>10_health_care_medicare_medicaid</td>\n",
       "      <td>[health, care, medicare, medicaid, pharmacy, d...</td>\n",
       "      <td>[We may not be able to accurately forecast hea...</td>\n",
       "    </tr>\n",
       "    <tr>\n",
       "      <th>12</th>\n",
       "      <td>11</td>\n",
       "      <td>219</td>\n",
       "      <td>11_currency_foreign_exchange_currencies</td>\n",
       "      <td>[currency, foreign, exchange, currencies, doll...</td>\n",
       "      <td>[Currency Risk  Foreign Currency Transaction R...</td>\n",
       "    </tr>\n",
       "    <tr>\n",
       "      <th>13</th>\n",
       "      <td>12</td>\n",
       "      <td>208</td>\n",
       "      <td>12_estimates_assumptions_results_future</td>\n",
       "      <td>[estimates, assumptions, results, future, actu...</td>\n",
       "      <td>[If actual results differ from these estimates...</td>\n",
       "    </tr>\n",
       "    <tr>\n",
       "      <th>14</th>\n",
       "      <td>13</td>\n",
       "      <td>200</td>\n",
       "      <td>13_not_no_assurance_there</td>\n",
       "      <td>[not, no, assurance, there, will, material, be...</td>\n",
       "      <td>[There is no assurance that hackers may not ha...</td>\n",
       "    </tr>\n",
       "    <tr>\n",
       "      <th>15</th>\n",
       "      <td>14</td>\n",
       "      <td>163</td>\n",
       "      <td>14_abbott_abbotts_jude_st</td>\n",
       "      <td>[abbott, abbotts, jude, st, its, medical, aler...</td>\n",
       "      <td>[Abbott also assumed restructuring liabilities...</td>\n",
       "    </tr>\n",
       "    <tr>\n",
       "      <th>16</th>\n",
       "      <td>15</td>\n",
       "      <td>138</td>\n",
       "      <td>15_gigafactory_production_located_at</td>\n",
       "      <td>[gigafactory, production, located, at, we, nev...</td>\n",
       "      <td>[In particular, our manufacturing operations a...</td>\n",
       "    </tr>\n",
       "    <tr>\n",
       "      <th>17</th>\n",
       "      <td>16</td>\n",
       "      <td>135</td>\n",
       "      <td>16_energy_solar_storage_systems</td>\n",
       "      <td>[energy, solar, storage, systems, system, batt...</td>\n",
       "      <td>[Energy Generation and Storage Segment Energy ...</td>\n",
       "    </tr>\n",
       "    <tr>\n",
       "      <th>18</th>\n",
       "      <td>17</td>\n",
       "      <td>133</td>\n",
       "      <td>17_vehicles_vehicle_electric_model</td>\n",
       "      <td>[vehicles, vehicle, electric, model, tesla, cr...</td>\n",
       "      <td>[We currently offer or are planning to introdu...</td>\n",
       "    </tr>\n",
       "    <tr>\n",
       "      <th>19</th>\n",
       "      <td>18</td>\n",
       "      <td>108</td>\n",
       "      <td>18_sales_growth_markets_increased</td>\n",
       "      <td>[sales, growth, markets, increased, was, perce...</td>\n",
       "      <td>[Our performance in the Agilent Cross Lab busi...</td>\n",
       "    </tr>\n",
       "    <tr>\n",
       "      <th>20</th>\n",
       "      <td>19</td>\n",
       "      <td>102</td>\n",
       "      <td>19_covid19_pandemic_global_the</td>\n",
       "      <td>[covid19, pandemic, global, the, economic, cli...</td>\n",
       "      <td>[As reflected in the discussions that follow, ...</td>\n",
       "    </tr>\n",
       "    <tr>\n",
       "      <th>21</th>\n",
       "      <td>20</td>\n",
       "      <td>81</td>\n",
       "      <td>20_compensation_awards_stockbased_grant</td>\n",
       "      <td>[compensation, awards, stockbased, grant, mile...</td>\n",
       "      <td>[The increase in stock-based compensation expe...</td>\n",
       "    </tr>\n",
       "    <tr>\n",
       "      <th>22</th>\n",
       "      <td>21</td>\n",
       "      <td>75</td>\n",
       "      <td>21_item_7a_1a_see</td>\n",
       "      <td>[item, 7a, 1a, see, part, 1b, 9b, ii, iii, pro...</td>\n",
       "      <td>[&gt;Item 7., ITEM 7., ITEM 4.]</td>\n",
       "    </tr>\n",
       "    <tr>\n",
       "      <th>23</th>\n",
       "      <td>22</td>\n",
       "      <td>69</td>\n",
       "      <td>22_standard_vs_2019_adopted</td>\n",
       "      <td>[standard, vs, 2019, adopted, 2018, retrospect...</td>\n",
       "      <td>[Abbott adopted the standard on January 1, 201...</td>\n",
       "    </tr>\n",
       "    <tr>\n",
       "      <th>24</th>\n",
       "      <td>23</td>\n",
       "      <td>69</td>\n",
       "      <td>23_google_googles_search_you</td>\n",
       "      <td>[google, googles, search, you, ai, alphabet, w...</td>\n",
       "      <td>[Over time, we have also added other services ...</td>\n",
       "    </tr>\n",
       "    <tr>\n",
       "      <th>25</th>\n",
       "      <td>24</td>\n",
       "      <td>65</td>\n",
       "      <td>24_restructuring_stores_plan_store</td>\n",
       "      <td>[restructuring, stores, plan, store, costs, fi...</td>\n",
       "      <td>[We may incur additional restructuring expense...</td>\n",
       "    </tr>\n",
       "    <tr>\n",
       "      <th>26</th>\n",
       "      <td>25</td>\n",
       "      <td>62</td>\n",
       "      <td>25_accounts_metrics_user_people</td>\n",
       "      <td>[accounts, metrics, user, people, family, erro...</td>\n",
       "      <td>[Our calculations of DAP rely upon complex tec...</td>\n",
       "    </tr>\n",
       "    <tr>\n",
       "      <th>27</th>\n",
       "      <td>26</td>\n",
       "      <td>57</td>\n",
       "      <td>26_aetna_acquisition_aetnas_the</td>\n",
       "      <td>[aetna, acquisition, aetnas, the, care, segmen...</td>\n",
       "      <td>[1 billion in 2019 compared to 2018 primarily ...</td>\n",
       "    </tr>\n",
       "    <tr>\n",
       "      <th>28</th>\n",
       "      <td>27</td>\n",
       "      <td>53</td>\n",
       "      <td>27_diagnostic_approval_diagnostics_eu</td>\n",
       "      <td>[diagnostic, approval, diagnostics, eu, medica...</td>\n",
       "      <td>[In the second quarter of 2017, the EU adopted...</td>\n",
       "    </tr>\n",
       "    <tr>\n",
       "      <th>29</th>\n",
       "      <td>28</td>\n",
       "      <td>52</td>\n",
       "      <td>28_court_filed_complaint_district</td>\n",
       "      <td>[court, filed, complaint, district, circuit, n...</td>\n",
       "      <td>[The Tax Court Decision was appealed by the Co...</td>\n",
       "    </tr>\n",
       "    <tr>\n",
       "      <th>30</th>\n",
       "      <td>29</td>\n",
       "      <td>43</td>\n",
       "      <td>29_nvidia_3d_rtx_printing</td>\n",
       "      <td>[nvidia, 3d, rtx, printing, super, laser, tegr...</td>\n",
       "      <td>[Tegra Processor Business In our Automotive pl...</td>\n",
       "    </tr>\n",
       "    <tr>\n",
       "      <th>31</th>\n",
       "      <td>30</td>\n",
       "      <td>40</td>\n",
       "      <td>30_inc_alphabet_apple_10k</td>\n",
       "      <td>[inc, alphabet, apple, 10k, form, contents, 20...</td>\n",
       "      <td>[Form 10-K Summary95Signatures  2Table of Cont...</td>\n",
       "    </tr>\n",
       "    <tr>\n",
       "      <th>32</th>\n",
       "      <td>31</td>\n",
       "      <td>40</td>\n",
       "      <td>31_dividends_dividend_declared_cash</td>\n",
       "      <td>[dividends, dividend, declared, cash, board, d...</td>\n",
       "      <td>[We have never declared or paid cash dividends...</td>\n",
       "    </tr>\n",
       "    <tr>\n",
       "      <th>33</th>\n",
       "      <td>32</td>\n",
       "      <td>36</td>\n",
       "      <td>32_heart_clip_mitra_abbott</td>\n",
       "      <td>[heart, clip, mitra, abbott, alinity, fda, app...</td>\n",
       "      <td>[●a new, expanded indication for Abbott’s Mitr...</td>\n",
       "    </tr>\n",
       "    <tr>\n",
       "      <th>34</th>\n",
       "      <td>33</td>\n",
       "      <td>26</td>\n",
       "      <td>33_search_content_remove_web</td>\n",
       "      <td>[search, content, remove, web, engine, lowqual...</td>\n",
       "      <td>[With respect to the ‘right to be forgotten,’ ...</td>\n",
       "    </tr>\n",
       "    <tr>\n",
       "      <th>35</th>\n",
       "      <td>34</td>\n",
       "      <td>22</td>\n",
       "      <td>34_factors_risk_1a_10k</td>\n",
       "      <td>[factors, risk, 1a, 10k, form, discussed, item...</td>\n",
       "      <td>[Factors that could cause or contribute to suc...</td>\n",
       "    </tr>\n",
       "    <tr>\n",
       "      <th>36</th>\n",
       "      <td>35</td>\n",
       "      <td>22</td>\n",
       "      <td>35_facebook_active_user_maus</td>\n",
       "      <td>[facebook, active, user, maus, daily, family, ...</td>\n",
       "      <td>[We define a daily active person as a register...</td>\n",
       "    </tr>\n",
       "    <tr>\n",
       "      <th>37</th>\n",
       "      <td>36</td>\n",
       "      <td>16</td>\n",
       "      <td>36_printer_unit_volume_decrease</td>\n",
       "      <td>[printer, unit, volume, decrease, dispensing, ...</td>\n",
       "      <td>[9% and printer unit volume decreased 5., The ...</td>\n",
       "    </tr>\n",
       "    <tr>\n",
       "      <th>38</th>\n",
       "      <td>37</td>\n",
       "      <td>14</td>\n",
       "      <td>37_sec_com_amazon_assoc</td>\n",
       "      <td>[sec, com, amazon, assoc, blog, drive, search,...</td>\n",
       "      <td>[sec., sec., sec.]</td>\n",
       "    </tr>\n",
       "    <tr>\n",
       "      <th>39</th>\n",
       "      <td>38</td>\n",
       "      <td>13</td>\n",
       "      <td>38_contents_51table_67table_89table</td>\n",
       "      <td>[contents, 51table, 67table, 89table, contents...</td>\n",
       "      <td>[25  Table of Contents Index to Financial Stat...</td>\n",
       "    </tr>\n",
       "    <tr>\n",
       "      <th>40</th>\n",
       "      <td>39</td>\n",
       "      <td>10</td>\n",
       "      <td>39_90day_prescriptions_days_average</td>\n",
       "      <td>[90day, prescriptions, days, average, dividing...</td>\n",
       "      <td>[DPO is calculated by dividing ending accounts...</td>\n",
       "    </tr>\n",
       "    <tr>\n",
       "      <th>41</th>\n",
       "      <td>40</td>\n",
       "      <td>8</td>\n",
       "      <td>40_swissu_euu_nonu_countries</td>\n",
       "      <td>[swissu, euu, nonu, countries, regard, activel...</td>\n",
       "      <td>[S. plans., For most Non-U., The U. S. , many ...</td>\n",
       "    </tr>\n",
       "    <tr>\n",
       "      <th>42</th>\n",
       "      <td>41</td>\n",
       "      <td>8</td>\n",
       "      <td>41_denoted_rounding_nm_minor</td>\n",
       "      <td>[denoted, rounding, nm, minor, meaningful, con...</td>\n",
       "      <td>[6 %Percentage changes that are considered not...</td>\n",
       "    </tr>\n",
       "    <tr>\n",
       "      <th>43</th>\n",
       "      <td>42</td>\n",
       "      <td>8</td>\n",
       "      <td>42_theatrical_films_release_film</td>\n",
       "      <td>[theatrical, films, release, film, exhibition,...</td>\n",
       "      <td>[The following key titles released in each res...</td>\n",
       "    </tr>\n",
       "    <tr>\n",
       "      <th>44</th>\n",
       "      <td>43</td>\n",
       "      <td>7</td>\n",
       "      <td>43_cvs_health_dividend_quarterly</td>\n",
       "      <td>[cvs, health, dividend, quarterly, healths, it...</td>\n",
       "      <td>[(“MD&amp;A”) The following discussion and analysi...</td>\n",
       "    </tr>\n",
       "    <tr>\n",
       "      <th>45</th>\n",
       "      <td>44</td>\n",
       "      <td>7</td>\n",
       "      <td>44_vie_beneficiary_vies_primary</td>\n",
       "      <td>[vie, beneficiary, vies, primary, consolidate,...</td>\n",
       "      <td>[Determining whether to consolidate a VIE requ...</td>\n",
       "    </tr>\n",
       "    <tr>\n",
       "      <th>46</th>\n",
       "      <td>45</td>\n",
       "      <td>6</td>\n",
       "      <td>45_working_metro_disability_phoenix</td>\n",
       "      <td>[working, metro, disability, phoenix, verily, ...</td>\n",
       "      <td>[We’re also working hard to make sure that our...</td>\n",
       "    </tr>\n",
       "    <tr>\n",
       "      <th>47</th>\n",
       "      <td>46</td>\n",
       "      <td>6</td>\n",
       "      <td>46_arpp_arpu_map_sum</td>\n",
       "      <td>[arpp, arpu, map, sum, quarter, given, divided...</td>\n",
       "      <td>[We define ARPU as our total revenue in a give...</td>\n",
       "    </tr>\n",
       "    <tr>\n",
       "      <th>48</th>\n",
       "      <td>47</td>\n",
       "      <td>6</td>\n",
       "      <td>47_materials_earth_rare_minerals</td>\n",
       "      <td>[materials, earth, rare, minerals, copper, nic...</td>\n",
       "      <td>[Our products use various raw materials includ...</td>\n",
       "    </tr>\n",
       "    <tr>\n",
       "      <th>49</th>\n",
       "      <td>48</td>\n",
       "      <td>3</td>\n",
       "      <td>48_galleries_opened_inform_educate</td>\n",
       "      <td>[galleries, opened, inform, educate, transact,...</td>\n",
       "      <td>[In such states, we have opened “galleries” th...</td>\n",
       "    </tr>\n",
       "  </tbody>\n",
       "</table>\n",
       "</div>"
      ],
      "text/plain": [
       "    Topic  Count                                     Name  \\\n",
       "0      -1   2839                        -1_and_of_the_our   \n",
       "1       0   2297                         0_or_our_and_may   \n",
       "2       1   1112             1_2019_2018_revenue_expenses   \n",
       "3       2    919        2_percent_compared_prioryear_2019   \n",
       "4       3    896           3_billion_notes_senior_million   \n",
       "5       4    822    4_statements_financial_the_accounting   \n",
       "6       5    799           5_and_our_services_advertising   \n",
       "7       6    520                   6_tax_income_taxes_the   \n",
       "8       7    453              7_stock_common_class_shares   \n",
       "9       8    407        8_interest_credit_debt_securities   \n",
       "10      9    346          9_lease_obligations_revenue_the   \n",
       "11     10    253         10_health_care_medicare_medicaid   \n",
       "12     11    219  11_currency_foreign_exchange_currencies   \n",
       "13     12    208  12_estimates_assumptions_results_future   \n",
       "14     13    200                13_not_no_assurance_there   \n",
       "15     14    163                14_abbott_abbotts_jude_st   \n",
       "16     15    138     15_gigafactory_production_located_at   \n",
       "17     16    135          16_energy_solar_storage_systems   \n",
       "18     17    133       17_vehicles_vehicle_electric_model   \n",
       "19     18    108        18_sales_growth_markets_increased   \n",
       "20     19    102           19_covid19_pandemic_global_the   \n",
       "21     20     81  20_compensation_awards_stockbased_grant   \n",
       "22     21     75                        21_item_7a_1a_see   \n",
       "23     22     69              22_standard_vs_2019_adopted   \n",
       "24     23     69             23_google_googles_search_you   \n",
       "25     24     65       24_restructuring_stores_plan_store   \n",
       "26     25     62          25_accounts_metrics_user_people   \n",
       "27     26     57          26_aetna_acquisition_aetnas_the   \n",
       "28     27     53    27_diagnostic_approval_diagnostics_eu   \n",
       "29     28     52        28_court_filed_complaint_district   \n",
       "30     29     43                29_nvidia_3d_rtx_printing   \n",
       "31     30     40                30_inc_alphabet_apple_10k   \n",
       "32     31     40      31_dividends_dividend_declared_cash   \n",
       "33     32     36               32_heart_clip_mitra_abbott   \n",
       "34     33     26             33_search_content_remove_web   \n",
       "35     34     22                   34_factors_risk_1a_10k   \n",
       "36     35     22             35_facebook_active_user_maus   \n",
       "37     36     16          36_printer_unit_volume_decrease   \n",
       "38     37     14                  37_sec_com_amazon_assoc   \n",
       "39     38     13      38_contents_51table_67table_89table   \n",
       "40     39     10      39_90day_prescriptions_days_average   \n",
       "41     40      8             40_swissu_euu_nonu_countries   \n",
       "42     41      8             41_denoted_rounding_nm_minor   \n",
       "43     42      8         42_theatrical_films_release_film   \n",
       "44     43      7         43_cvs_health_dividend_quarterly   \n",
       "45     44      7          44_vie_beneficiary_vies_primary   \n",
       "46     45      6      45_working_metro_disability_phoenix   \n",
       "47     46      6                     46_arpp_arpu_map_sum   \n",
       "48     47      6         47_materials_earth_rare_minerals   \n",
       "49     48      3       48_galleries_opened_inform_educate   \n",
       "\n",
       "                                       Representation  \\\n",
       "0        [and, of, the, our, to, in, or, we, as, for]   \n",
       "1   [or, our, and, may, to, could, we, business, b...   \n",
       "2   [2019, 2018, revenue, expenses, operating, cas...   \n",
       "3   [percent, compared, prioryear, 2019, 2018, 15,...   \n",
       "4   [billion, notes, senior, million, 2019, due, 2...   \n",
       "5   [statements, financial, the, accounting, of, c...   \n",
       "6   [and, our, services, advertising, products, to...   \n",
       "7   [tax, income, taxes, the, in, provision, juris...   \n",
       "8   [stock, common, class, shares, share, repurcha...   \n",
       "9   [interest, credit, debt, securities, rate, cas...   \n",
       "10  [lease, obligations, revenue, the, leases, for...   \n",
       "11  [health, care, medicare, medicaid, pharmacy, d...   \n",
       "12  [currency, foreign, exchange, currencies, doll...   \n",
       "13  [estimates, assumptions, results, future, actu...   \n",
       "14  [not, no, assurance, there, will, material, be...   \n",
       "15  [abbott, abbotts, jude, st, its, medical, aler...   \n",
       "16  [gigafactory, production, located, at, we, nev...   \n",
       "17  [energy, solar, storage, systems, system, batt...   \n",
       "18  [vehicles, vehicle, electric, model, tesla, cr...   \n",
       "19  [sales, growth, markets, increased, was, perce...   \n",
       "20  [covid19, pandemic, global, the, economic, cli...   \n",
       "21  [compensation, awards, stockbased, grant, mile...   \n",
       "22  [item, 7a, 1a, see, part, 1b, 9b, ii, iii, pro...   \n",
       "23  [standard, vs, 2019, adopted, 2018, retrospect...   \n",
       "24  [google, googles, search, you, ai, alphabet, w...   \n",
       "25  [restructuring, stores, plan, store, costs, fi...   \n",
       "26  [accounts, metrics, user, people, family, erro...   \n",
       "27  [aetna, acquisition, aetnas, the, care, segmen...   \n",
       "28  [diagnostic, approval, diagnostics, eu, medica...   \n",
       "29  [court, filed, complaint, district, circuit, n...   \n",
       "30  [nvidia, 3d, rtx, printing, super, laser, tegr...   \n",
       "31  [inc, alphabet, apple, 10k, form, contents, 20...   \n",
       "32  [dividends, dividend, declared, cash, board, d...   \n",
       "33  [heart, clip, mitra, abbott, alinity, fda, app...   \n",
       "34  [search, content, remove, web, engine, lowqual...   \n",
       "35  [factors, risk, 1a, 10k, form, discussed, item...   \n",
       "36  [facebook, active, user, maus, daily, family, ...   \n",
       "37  [printer, unit, volume, decrease, dispensing, ...   \n",
       "38  [sec, com, amazon, assoc, blog, drive, search,...   \n",
       "39  [contents, 51table, 67table, 89table, contents...   \n",
       "40  [90day, prescriptions, days, average, dividing...   \n",
       "41  [swissu, euu, nonu, countries, regard, activel...   \n",
       "42  [denoted, rounding, nm, minor, meaningful, con...   \n",
       "43  [theatrical, films, release, film, exhibition,...   \n",
       "44  [cvs, health, dividend, quarterly, healths, it...   \n",
       "45  [vie, beneficiary, vies, primary, consolidate,...   \n",
       "46  [working, metro, disability, phoenix, verily, ...   \n",
       "47  [arpp, arpu, map, sum, quarter, given, divided...   \n",
       "48  [materials, earth, rare, minerals, copper, nic...   \n",
       "49  [galleries, opened, inform, educate, transact,...   \n",
       "\n",
       "                                  Representative_Docs  \n",
       "0   [We and others are subject to a variety of law...  \n",
       "1   [Events that adversely affect that trust, incl...  \n",
       "2   [2019 Compared to 2018 Cost of energy generati...  \n",
       "3   [1% in 2019 compared to 2018., 5% in 2019 comp...  \n",
       "4   [0 billion and $4., 3 billion and 2., 5 billio...  \n",
       "5   [See Note 4 Long-term Debt in the accompanying...  \n",
       "6   [These statements include, among other things,...  \n",
       "7   [Income Taxes Our effective tax rate is subjec...  \n",
       "8   [3 million shares of common stock for $1., 0 m...  \n",
       "9   [Interest Rate Sensitivity Our exposure to cha...  \n",
       "10  [We capitalize vehicles under this program to ...  \n",
       "11  [We may not be able to accurately forecast hea...  \n",
       "12  [Currency Risk  Foreign Currency Transaction R...  \n",
       "13  [If actual results differ from these estimates...  \n",
       "14  [There is no assurance that hackers may not ha...  \n",
       "15  [Abbott also assumed restructuring liabilities...  \n",
       "16  [In particular, our manufacturing operations a...  \n",
       "17  [Energy Generation and Storage Segment Energy ...  \n",
       "18  [We currently offer or are planning to introdu...  \n",
       "19  [Our performance in the Agilent Cross Lab busi...  \n",
       "20  [As reflected in the discussions that follow, ...  \n",
       "21  [The increase in stock-based compensation expe...  \n",
       "22                       [>Item 7., ITEM 7., ITEM 4.]  \n",
       "23  [Abbott adopted the standard on January 1, 201...  \n",
       "24  [Over time, we have also added other services ...  \n",
       "25  [We may incur additional restructuring expense...  \n",
       "26  [Our calculations of DAP rely upon complex tec...  \n",
       "27  [1 billion in 2019 compared to 2018 primarily ...  \n",
       "28  [In the second quarter of 2017, the EU adopted...  \n",
       "29  [The Tax Court Decision was appealed by the Co...  \n",
       "30  [Tegra Processor Business In our Automotive pl...  \n",
       "31  [Form 10-K Summary95Signatures  2Table of Cont...  \n",
       "32  [We have never declared or paid cash dividends...  \n",
       "33  [●a new, expanded indication for Abbott’s Mitr...  \n",
       "34  [With respect to the ‘right to be forgotten,’ ...  \n",
       "35  [Factors that could cause or contribute to suc...  \n",
       "36  [We define a daily active person as a register...  \n",
       "37  [9% and printer unit volume decreased 5., The ...  \n",
       "38                                 [sec., sec., sec.]  \n",
       "39  [25  Table of Contents Index to Financial Stat...  \n",
       "40  [DPO is calculated by dividing ending accounts...  \n",
       "41  [S. plans., For most Non-U., The U. S. , many ...  \n",
       "42  [6 %Percentage changes that are considered not...  \n",
       "43  [The following key titles released in each res...  \n",
       "44  [(“MD&A”) The following discussion and analysi...  \n",
       "45  [Determining whether to consolidate a VIE requ...  \n",
       "46  [We’re also working hard to make sure that our...  \n",
       "47  [We define ARPU as our total revenue in a give...  \n",
       "48  [Our products use various raw materials includ...  \n",
       "49  [In such states, we have opened “galleries” th...  "
      ]
     },
     "execution_count": 34,
     "metadata": {},
     "output_type": "execute_result"
    }
   ],
   "source": [
    "topic_model.get_topic_info().head(52)"
   ]
  },
  {
   "cell_type": "code",
   "execution_count": 88,
   "metadata": {},
   "outputs": [
    {
     "data": {
      "application/vnd.plotly.v1+json": {
       "config": {
        "plotlyServerURL": "https://plot.ly"
       },
       "data": [
        {
         "customdata": [
          [
           0,
           "of | the | and | our | to",
           3
          ],
          [
           1,
           "and | of | our | the | to",
           2
          ],
          [
           2,
           "and | of | the | to | in",
           2
          ],
          [
           3,
           "and | of | our | the | to",
           2
          ],
          [
           4,
           "and | our | to | of | or",
           2
          ]
         ],
         "hovertemplate": "<b>Topic %{customdata[0]}</b><br>%{customdata[1]}<br>Size: %{customdata[2]}",
         "legendgroup": "",
         "marker": {
          "color": "#B0BEC5",
          "line": {
           "color": "DarkSlateGrey",
           "width": 2
          },
          "size": [
           3,
           2,
           2,
           2,
           2
          ],
          "sizemode": "area",
          "sizeref": 0.001875,
          "symbol": "circle"
         },
         "mode": "markers",
         "name": "",
         "orientation": "v",
         "showlegend": false,
         "type": "scatter",
         "x": [
          1.3359079360961914,
          2.0050506591796875,
          2.8030784130096436,
          3.2296669483184814,
          0.8262299299240112
         ],
         "xaxis": "x",
         "y": [
          -5.707855224609375,
          -6.3748674392700195,
          -7.1707000732421875,
          -7.597482204437256,
          -5.199770450592041
         ],
         "yaxis": "y"
        }
       ],
       "layout": {
        "annotations": [
         {
          "showarrow": false,
          "text": "D1",
          "x": 0.7022954225540161,
          "y": -6.578454971313477,
          "yshift": 10
         },
         {
          "showarrow": false,
          "text": "D2",
          "x": 2.2082061767578125,
          "xshift": 10,
          "y": -4.41980504989624
         }
        ],
        "height": 650,
        "hoverlabel": {
         "bgcolor": "white",
         "font": {
          "family": "Rockwell",
          "size": 16
         }
        },
        "legend": {
         "itemsizing": "constant",
         "tracegroupgap": 0
        },
        "margin": {
         "t": 60
        },
        "shapes": [
         {
          "line": {
           "color": "#CFD8DC",
           "width": 2
          },
          "type": "line",
          "x0": 2.2082061767578125,
          "x1": 2.2082061767578125,
          "y0": -8.737104415893555,
          "y1": -4.41980504989624
         },
         {
          "line": {
           "color": "#9E9E9E",
           "width": 2
          },
          "type": "line",
          "x0": 0.7022954225540161,
          "x1": 3.7141170501708984,
          "y0": -6.578454971313477,
          "y1": -6.578454971313477
         }
        ],
        "sliders": [
         {
          "active": 0,
          "pad": {
           "t": 50
          },
          "steps": [
           {
            "args": [
             {
              "marker.color": [
               [
                "red",
                "#B0BEC5",
                "#B0BEC5",
                "#B0BEC5",
                "#B0BEC5"
               ]
              ]
             }
            ],
            "label": "Topic 0",
            "method": "update"
           },
           {
            "args": [
             {
              "marker.color": [
               [
                "#B0BEC5",
                "red",
                "#B0BEC5",
                "#B0BEC5",
                "#B0BEC5"
               ]
              ]
             }
            ],
            "label": "Topic 1",
            "method": "update"
           },
           {
            "args": [
             {
              "marker.color": [
               [
                "#B0BEC5",
                "#B0BEC5",
                "red",
                "#B0BEC5",
                "#B0BEC5"
               ]
              ]
             }
            ],
            "label": "Topic 2",
            "method": "update"
           },
           {
            "args": [
             {
              "marker.color": [
               [
                "#B0BEC5",
                "#B0BEC5",
                "#B0BEC5",
                "red",
                "#B0BEC5"
               ]
              ]
             }
            ],
            "label": "Topic 3",
            "method": "update"
           },
           {
            "args": [
             {
              "marker.color": [
               [
                "#B0BEC5",
                "#B0BEC5",
                "#B0BEC5",
                "#B0BEC5",
                "red"
               ]
              ]
             }
            ],
            "label": "Topic 4",
            "method": "update"
           }
          ]
         }
        ],
        "template": {
         "data": {
          "bar": [
           {
            "error_x": {
             "color": "rgb(36,36,36)"
            },
            "error_y": {
             "color": "rgb(36,36,36)"
            },
            "marker": {
             "line": {
              "color": "white",
              "width": 0.5
             },
             "pattern": {
              "fillmode": "overlay",
              "size": 10,
              "solidity": 0.2
             }
            },
            "type": "bar"
           }
          ],
          "barpolar": [
           {
            "marker": {
             "line": {
              "color": "white",
              "width": 0.5
             },
             "pattern": {
              "fillmode": "overlay",
              "size": 10,
              "solidity": 0.2
             }
            },
            "type": "barpolar"
           }
          ],
          "carpet": [
           {
            "aaxis": {
             "endlinecolor": "rgb(36,36,36)",
             "gridcolor": "white",
             "linecolor": "white",
             "minorgridcolor": "white",
             "startlinecolor": "rgb(36,36,36)"
            },
            "baxis": {
             "endlinecolor": "rgb(36,36,36)",
             "gridcolor": "white",
             "linecolor": "white",
             "minorgridcolor": "white",
             "startlinecolor": "rgb(36,36,36)"
            },
            "type": "carpet"
           }
          ],
          "choropleth": [
           {
            "colorbar": {
             "outlinewidth": 1,
             "tickcolor": "rgb(36,36,36)",
             "ticks": "outside"
            },
            "type": "choropleth"
           }
          ],
          "contour": [
           {
            "colorbar": {
             "outlinewidth": 1,
             "tickcolor": "rgb(36,36,36)",
             "ticks": "outside"
            },
            "colorscale": [
             [
              0,
              "#440154"
             ],
             [
              0.1111111111111111,
              "#482878"
             ],
             [
              0.2222222222222222,
              "#3e4989"
             ],
             [
              0.3333333333333333,
              "#31688e"
             ],
             [
              0.4444444444444444,
              "#26828e"
             ],
             [
              0.5555555555555556,
              "#1f9e89"
             ],
             [
              0.6666666666666666,
              "#35b779"
             ],
             [
              0.7777777777777778,
              "#6ece58"
             ],
             [
              0.8888888888888888,
              "#b5de2b"
             ],
             [
              1,
              "#fde725"
             ]
            ],
            "type": "contour"
           }
          ],
          "contourcarpet": [
           {
            "colorbar": {
             "outlinewidth": 1,
             "tickcolor": "rgb(36,36,36)",
             "ticks": "outside"
            },
            "type": "contourcarpet"
           }
          ],
          "heatmap": [
           {
            "colorbar": {
             "outlinewidth": 1,
             "tickcolor": "rgb(36,36,36)",
             "ticks": "outside"
            },
            "colorscale": [
             [
              0,
              "#440154"
             ],
             [
              0.1111111111111111,
              "#482878"
             ],
             [
              0.2222222222222222,
              "#3e4989"
             ],
             [
              0.3333333333333333,
              "#31688e"
             ],
             [
              0.4444444444444444,
              "#26828e"
             ],
             [
              0.5555555555555556,
              "#1f9e89"
             ],
             [
              0.6666666666666666,
              "#35b779"
             ],
             [
              0.7777777777777778,
              "#6ece58"
             ],
             [
              0.8888888888888888,
              "#b5de2b"
             ],
             [
              1,
              "#fde725"
             ]
            ],
            "type": "heatmap"
           }
          ],
          "heatmapgl": [
           {
            "colorbar": {
             "outlinewidth": 1,
             "tickcolor": "rgb(36,36,36)",
             "ticks": "outside"
            },
            "colorscale": [
             [
              0,
              "#440154"
             ],
             [
              0.1111111111111111,
              "#482878"
             ],
             [
              0.2222222222222222,
              "#3e4989"
             ],
             [
              0.3333333333333333,
              "#31688e"
             ],
             [
              0.4444444444444444,
              "#26828e"
             ],
             [
              0.5555555555555556,
              "#1f9e89"
             ],
             [
              0.6666666666666666,
              "#35b779"
             ],
             [
              0.7777777777777778,
              "#6ece58"
             ],
             [
              0.8888888888888888,
              "#b5de2b"
             ],
             [
              1,
              "#fde725"
             ]
            ],
            "type": "heatmapgl"
           }
          ],
          "histogram": [
           {
            "marker": {
             "line": {
              "color": "white",
              "width": 0.6
             }
            },
            "type": "histogram"
           }
          ],
          "histogram2d": [
           {
            "colorbar": {
             "outlinewidth": 1,
             "tickcolor": "rgb(36,36,36)",
             "ticks": "outside"
            },
            "colorscale": [
             [
              0,
              "#440154"
             ],
             [
              0.1111111111111111,
              "#482878"
             ],
             [
              0.2222222222222222,
              "#3e4989"
             ],
             [
              0.3333333333333333,
              "#31688e"
             ],
             [
              0.4444444444444444,
              "#26828e"
             ],
             [
              0.5555555555555556,
              "#1f9e89"
             ],
             [
              0.6666666666666666,
              "#35b779"
             ],
             [
              0.7777777777777778,
              "#6ece58"
             ],
             [
              0.8888888888888888,
              "#b5de2b"
             ],
             [
              1,
              "#fde725"
             ]
            ],
            "type": "histogram2d"
           }
          ],
          "histogram2dcontour": [
           {
            "colorbar": {
             "outlinewidth": 1,
             "tickcolor": "rgb(36,36,36)",
             "ticks": "outside"
            },
            "colorscale": [
             [
              0,
              "#440154"
             ],
             [
              0.1111111111111111,
              "#482878"
             ],
             [
              0.2222222222222222,
              "#3e4989"
             ],
             [
              0.3333333333333333,
              "#31688e"
             ],
             [
              0.4444444444444444,
              "#26828e"
             ],
             [
              0.5555555555555556,
              "#1f9e89"
             ],
             [
              0.6666666666666666,
              "#35b779"
             ],
             [
              0.7777777777777778,
              "#6ece58"
             ],
             [
              0.8888888888888888,
              "#b5de2b"
             ],
             [
              1,
              "#fde725"
             ]
            ],
            "type": "histogram2dcontour"
           }
          ],
          "mesh3d": [
           {
            "colorbar": {
             "outlinewidth": 1,
             "tickcolor": "rgb(36,36,36)",
             "ticks": "outside"
            },
            "type": "mesh3d"
           }
          ],
          "parcoords": [
           {
            "line": {
             "colorbar": {
              "outlinewidth": 1,
              "tickcolor": "rgb(36,36,36)",
              "ticks": "outside"
             }
            },
            "type": "parcoords"
           }
          ],
          "pie": [
           {
            "automargin": true,
            "type": "pie"
           }
          ],
          "scatter": [
           {
            "fillpattern": {
             "fillmode": "overlay",
             "size": 10,
             "solidity": 0.2
            },
            "type": "scatter"
           }
          ],
          "scatter3d": [
           {
            "line": {
             "colorbar": {
              "outlinewidth": 1,
              "tickcolor": "rgb(36,36,36)",
              "ticks": "outside"
             }
            },
            "marker": {
             "colorbar": {
              "outlinewidth": 1,
              "tickcolor": "rgb(36,36,36)",
              "ticks": "outside"
             }
            },
            "type": "scatter3d"
           }
          ],
          "scattercarpet": [
           {
            "marker": {
             "colorbar": {
              "outlinewidth": 1,
              "tickcolor": "rgb(36,36,36)",
              "ticks": "outside"
             }
            },
            "type": "scattercarpet"
           }
          ],
          "scattergeo": [
           {
            "marker": {
             "colorbar": {
              "outlinewidth": 1,
              "tickcolor": "rgb(36,36,36)",
              "ticks": "outside"
             }
            },
            "type": "scattergeo"
           }
          ],
          "scattergl": [
           {
            "marker": {
             "colorbar": {
              "outlinewidth": 1,
              "tickcolor": "rgb(36,36,36)",
              "ticks": "outside"
             }
            },
            "type": "scattergl"
           }
          ],
          "scattermapbox": [
           {
            "marker": {
             "colorbar": {
              "outlinewidth": 1,
              "tickcolor": "rgb(36,36,36)",
              "ticks": "outside"
             }
            },
            "type": "scattermapbox"
           }
          ],
          "scatterpolar": [
           {
            "marker": {
             "colorbar": {
              "outlinewidth": 1,
              "tickcolor": "rgb(36,36,36)",
              "ticks": "outside"
             }
            },
            "type": "scatterpolar"
           }
          ],
          "scatterpolargl": [
           {
            "marker": {
             "colorbar": {
              "outlinewidth": 1,
              "tickcolor": "rgb(36,36,36)",
              "ticks": "outside"
             }
            },
            "type": "scatterpolargl"
           }
          ],
          "scatterternary": [
           {
            "marker": {
             "colorbar": {
              "outlinewidth": 1,
              "tickcolor": "rgb(36,36,36)",
              "ticks": "outside"
             }
            },
            "type": "scatterternary"
           }
          ],
          "surface": [
           {
            "colorbar": {
             "outlinewidth": 1,
             "tickcolor": "rgb(36,36,36)",
             "ticks": "outside"
            },
            "colorscale": [
             [
              0,
              "#440154"
             ],
             [
              0.1111111111111111,
              "#482878"
             ],
             [
              0.2222222222222222,
              "#3e4989"
             ],
             [
              0.3333333333333333,
              "#31688e"
             ],
             [
              0.4444444444444444,
              "#26828e"
             ],
             [
              0.5555555555555556,
              "#1f9e89"
             ],
             [
              0.6666666666666666,
              "#35b779"
             ],
             [
              0.7777777777777778,
              "#6ece58"
             ],
             [
              0.8888888888888888,
              "#b5de2b"
             ],
             [
              1,
              "#fde725"
             ]
            ],
            "type": "surface"
           }
          ],
          "table": [
           {
            "cells": {
             "fill": {
              "color": "rgb(237,237,237)"
             },
             "line": {
              "color": "white"
             }
            },
            "header": {
             "fill": {
              "color": "rgb(217,217,217)"
             },
             "line": {
              "color": "white"
             }
            },
            "type": "table"
           }
          ]
         },
         "layout": {
          "annotationdefaults": {
           "arrowhead": 0,
           "arrowwidth": 1
          },
          "autotypenumbers": "strict",
          "coloraxis": {
           "colorbar": {
            "outlinewidth": 1,
            "tickcolor": "rgb(36,36,36)",
            "ticks": "outside"
           }
          },
          "colorscale": {
           "diverging": [
            [
             0,
             "rgb(103,0,31)"
            ],
            [
             0.1,
             "rgb(178,24,43)"
            ],
            [
             0.2,
             "rgb(214,96,77)"
            ],
            [
             0.3,
             "rgb(244,165,130)"
            ],
            [
             0.4,
             "rgb(253,219,199)"
            ],
            [
             0.5,
             "rgb(247,247,247)"
            ],
            [
             0.6,
             "rgb(209,229,240)"
            ],
            [
             0.7,
             "rgb(146,197,222)"
            ],
            [
             0.8,
             "rgb(67,147,195)"
            ],
            [
             0.9,
             "rgb(33,102,172)"
            ],
            [
             1,
             "rgb(5,48,97)"
            ]
           ],
           "sequential": [
            [
             0,
             "#440154"
            ],
            [
             0.1111111111111111,
             "#482878"
            ],
            [
             0.2222222222222222,
             "#3e4989"
            ],
            [
             0.3333333333333333,
             "#31688e"
            ],
            [
             0.4444444444444444,
             "#26828e"
            ],
            [
             0.5555555555555556,
             "#1f9e89"
            ],
            [
             0.6666666666666666,
             "#35b779"
            ],
            [
             0.7777777777777778,
             "#6ece58"
            ],
            [
             0.8888888888888888,
             "#b5de2b"
            ],
            [
             1,
             "#fde725"
            ]
           ],
           "sequentialminus": [
            [
             0,
             "#440154"
            ],
            [
             0.1111111111111111,
             "#482878"
            ],
            [
             0.2222222222222222,
             "#3e4989"
            ],
            [
             0.3333333333333333,
             "#31688e"
            ],
            [
             0.4444444444444444,
             "#26828e"
            ],
            [
             0.5555555555555556,
             "#1f9e89"
            ],
            [
             0.6666666666666666,
             "#35b779"
            ],
            [
             0.7777777777777778,
             "#6ece58"
            ],
            [
             0.8888888888888888,
             "#b5de2b"
            ],
            [
             1,
             "#fde725"
            ]
           ]
          },
          "colorway": [
           "#1F77B4",
           "#FF7F0E",
           "#2CA02C",
           "#D62728",
           "#9467BD",
           "#8C564B",
           "#E377C2",
           "#7F7F7F",
           "#BCBD22",
           "#17BECF"
          ],
          "font": {
           "color": "rgb(36,36,36)"
          },
          "geo": {
           "bgcolor": "white",
           "lakecolor": "white",
           "landcolor": "white",
           "showlakes": true,
           "showland": true,
           "subunitcolor": "white"
          },
          "hoverlabel": {
           "align": "left"
          },
          "hovermode": "closest",
          "mapbox": {
           "style": "light"
          },
          "paper_bgcolor": "white",
          "plot_bgcolor": "white",
          "polar": {
           "angularaxis": {
            "gridcolor": "rgb(232,232,232)",
            "linecolor": "rgb(36,36,36)",
            "showgrid": false,
            "showline": true,
            "ticks": "outside"
           },
           "bgcolor": "white",
           "radialaxis": {
            "gridcolor": "rgb(232,232,232)",
            "linecolor": "rgb(36,36,36)",
            "showgrid": false,
            "showline": true,
            "ticks": "outside"
           }
          },
          "scene": {
           "xaxis": {
            "backgroundcolor": "white",
            "gridcolor": "rgb(232,232,232)",
            "gridwidth": 2,
            "linecolor": "rgb(36,36,36)",
            "showbackground": true,
            "showgrid": false,
            "showline": true,
            "ticks": "outside",
            "zeroline": false,
            "zerolinecolor": "rgb(36,36,36)"
           },
           "yaxis": {
            "backgroundcolor": "white",
            "gridcolor": "rgb(232,232,232)",
            "gridwidth": 2,
            "linecolor": "rgb(36,36,36)",
            "showbackground": true,
            "showgrid": false,
            "showline": true,
            "ticks": "outside",
            "zeroline": false,
            "zerolinecolor": "rgb(36,36,36)"
           },
           "zaxis": {
            "backgroundcolor": "white",
            "gridcolor": "rgb(232,232,232)",
            "gridwidth": 2,
            "linecolor": "rgb(36,36,36)",
            "showbackground": true,
            "showgrid": false,
            "showline": true,
            "ticks": "outside",
            "zeroline": false,
            "zerolinecolor": "rgb(36,36,36)"
           }
          },
          "shapedefaults": {
           "fillcolor": "black",
           "line": {
            "width": 0
           },
           "opacity": 0.3
          },
          "ternary": {
           "aaxis": {
            "gridcolor": "rgb(232,232,232)",
            "linecolor": "rgb(36,36,36)",
            "showgrid": false,
            "showline": true,
            "ticks": "outside"
           },
           "baxis": {
            "gridcolor": "rgb(232,232,232)",
            "linecolor": "rgb(36,36,36)",
            "showgrid": false,
            "showline": true,
            "ticks": "outside"
           },
           "bgcolor": "white",
           "caxis": {
            "gridcolor": "rgb(232,232,232)",
            "linecolor": "rgb(36,36,36)",
            "showgrid": false,
            "showline": true,
            "ticks": "outside"
           }
          },
          "title": {
           "x": 0.05
          },
          "xaxis": {
           "automargin": true,
           "gridcolor": "rgb(232,232,232)",
           "linecolor": "rgb(36,36,36)",
           "showgrid": false,
           "showline": true,
           "ticks": "outside",
           "title": {
            "standoff": 15
           },
           "zeroline": false,
           "zerolinecolor": "rgb(36,36,36)"
          },
          "yaxis": {
           "automargin": true,
           "gridcolor": "rgb(232,232,232)",
           "linecolor": "rgb(36,36,36)",
           "showgrid": false,
           "showline": true,
           "ticks": "outside",
           "title": {
            "standoff": 15
           },
           "zeroline": false,
           "zerolinecolor": "rgb(36,36,36)"
          }
         }
        },
        "title": {
         "font": {
          "color": "Black",
          "size": 22
         },
         "text": "<b>Intertopic Distance Map</b>",
         "x": 0.5,
         "xanchor": "center",
         "y": 0.95,
         "yanchor": "top"
        },
        "width": 650,
        "xaxis": {
         "anchor": "y",
         "domain": [
          0,
          1
         ],
         "range": [
          0.7022954225540161,
          3.7141170501708984
         ],
         "title": {
          "text": ""
         },
         "visible": false
        },
        "yaxis": {
         "anchor": "x",
         "domain": [
          0,
          1
         ],
         "range": [
          -8.737104415893555,
          -4.41980504989624
         ],
         "title": {
          "text": ""
         },
         "visible": false
        }
       }
      }
     },
     "metadata": {},
     "output_type": "display_data"
    }
   ],
   "source": [
    "topic_model.visualize_topics()"
   ]
  },
  {
   "cell_type": "code",
   "execution_count": 89,
   "metadata": {},
   "outputs": [
    {
     "data": {
      "text/html": [
       "<div>\n",
       "<style scoped>\n",
       "    .dataframe tbody tr th:only-of-type {\n",
       "        vertical-align: middle;\n",
       "    }\n",
       "\n",
       "    .dataframe tbody tr th {\n",
       "        vertical-align: top;\n",
       "    }\n",
       "\n",
       "    .dataframe thead th {\n",
       "        text-align: right;\n",
       "    }\n",
       "</style>\n",
       "<table border=\"1\" class=\"dataframe\">\n",
       "  <thead>\n",
       "    <tr style=\"text-align: right;\">\n",
       "      <th></th>\n",
       "      <th>Document</th>\n",
       "      <th>Topic</th>\n",
       "      <th>Name</th>\n",
       "      <th>Representation</th>\n",
       "      <th>Representative_Docs</th>\n",
       "      <th>Top_n_words</th>\n",
       "      <th>Probability</th>\n",
       "      <th>Representative_document</th>\n",
       "    </tr>\n",
       "  </thead>\n",
       "  <tbody>\n",
       "    <tr>\n",
       "      <th>0</th>\n",
       "      <td>ITEM 1A. RISK FACTORSIn evaluating NVIDIA and ...</td>\n",
       "      <td>0</td>\n",
       "      <td>0_of_the_and_our</td>\n",
       "      <td>[of, the, and, our, to, in, we, or, for, produ...</td>\n",
       "      <td>[ITEM 1A. RISK FACTORSIn evaluating NVIDIA and...</td>\n",
       "      <td>of - the - and - our - to - in - we - or - for...</td>\n",
       "      <td>0.875034</td>\n",
       "      <td>True</td>\n",
       "    </tr>\n",
       "    <tr>\n",
       "      <th>1</th>\n",
       "      <td>ITEM 1A. RISK FACTORSIn evaluating NVIDIA and ...</td>\n",
       "      <td>0</td>\n",
       "      <td>0_of_the_and_our</td>\n",
       "      <td>[of, the, and, our, to, in, we, or, for, produ...</td>\n",
       "      <td>[ITEM 1A. RISK FACTORSIn evaluating NVIDIA and...</td>\n",
       "      <td>of - the - and - our - to - in - we - or - for...</td>\n",
       "      <td>1.000000</td>\n",
       "      <td>True</td>\n",
       "    </tr>\n",
       "    <tr>\n",
       "      <th>2</th>\n",
       "      <td>ITEM 1A. RISK FACTORSIn evaluating NVIDIA and ...</td>\n",
       "      <td>0</td>\n",
       "      <td>0_of_the_and_our</td>\n",
       "      <td>[of, the, and, our, to, in, we, or, for, produ...</td>\n",
       "      <td>[ITEM 1A. RISK FACTORSIn evaluating NVIDIA and...</td>\n",
       "      <td>of - the - and - our - to - in - we - or - for...</td>\n",
       "      <td>1.000000</td>\n",
       "      <td>True</td>\n",
       "    </tr>\n",
       "    <tr>\n",
       "      <th>3</th>\n",
       "      <td>ITEM 1A. RISK FACTORSIn evaluating NVIDIA and ...</td>\n",
       "      <td>1</td>\n",
       "      <td>1_and_of_our_the</td>\n",
       "      <td>[and, of, our, the, to, in, or, we, for, may]</td>\n",
       "      <td>[ITEM 1A. RISK FACTORSIn evaluating NVIDIA and...</td>\n",
       "      <td>and - of - our - the - to - in - or - we - for...</td>\n",
       "      <td>1.000000</td>\n",
       "      <td>True</td>\n",
       "    </tr>\n",
       "    <tr>\n",
       "      <th>4</th>\n",
       "      <td>ITEM 1A. RISK FACTORSIn evaluating NVIDIA and ...</td>\n",
       "      <td>2</td>\n",
       "      <td>2_and_of_the_to</td>\n",
       "      <td>[and, of, the, to, in, our, or, we, for, year]</td>\n",
       "      <td>[ITEM 1A. RISK FACTORSIn evaluating NVIDIA and...</td>\n",
       "      <td>and - of - the - to - in - our - or - we - for...</td>\n",
       "      <td>1.000000</td>\n",
       "      <td>True</td>\n",
       "    </tr>\n",
       "    <tr>\n",
       "      <th>5</th>\n",
       "      <td>ITEM 1A. RISK FACTORSIn evaluating NVIDIA and ...</td>\n",
       "      <td>2</td>\n",
       "      <td>2_and_of_the_to</td>\n",
       "      <td>[and, of, the, to, in, our, or, we, for, year]</td>\n",
       "      <td>[ITEM 1A. RISK FACTORSIn evaluating NVIDIA and...</td>\n",
       "      <td>and - of - the - to - in - our - or - we - for...</td>\n",
       "      <td>1.000000</td>\n",
       "      <td>True</td>\n",
       "    </tr>\n",
       "    <tr>\n",
       "      <th>6</th>\n",
       "      <td>ITEM 1A. RISK FACTORSIn evaluating NVIDIA and ...</td>\n",
       "      <td>3</td>\n",
       "      <td>3_and_of_our_the</td>\n",
       "      <td>[and, of, our, the, to, in, or, we, for, on]</td>\n",
       "      <td>[ITEM 1A. RISK FACTORSIn evaluating NVIDIA and...</td>\n",
       "      <td>and - of - our - the - to - in - or - we - for...</td>\n",
       "      <td>1.000000</td>\n",
       "      <td>True</td>\n",
       "    </tr>\n",
       "    <tr>\n",
       "      <th>7</th>\n",
       "      <td>ITEM 1A. RISK FACTORSIn evaluating NVIDIA and ...</td>\n",
       "      <td>3</td>\n",
       "      <td>3_and_of_our_the</td>\n",
       "      <td>[and, of, our, the, to, in, or, we, for, on]</td>\n",
       "      <td>[ITEM 1A. RISK FACTORSIn evaluating NVIDIA and...</td>\n",
       "      <td>and - of - our - the - to - in - or - we - for...</td>\n",
       "      <td>1.000000</td>\n",
       "      <td>True</td>\n",
       "    </tr>\n",
       "    <tr>\n",
       "      <th>8</th>\n",
       "      <td>ITEM 1A. RISK FACTORSIn evaluating NVIDIA, the...</td>\n",
       "      <td>1</td>\n",
       "      <td>1_and_of_our_the</td>\n",
       "      <td>[and, of, our, the, to, in, or, we, for, may]</td>\n",
       "      <td>[ITEM 1A. RISK FACTORSIn evaluating NVIDIA and...</td>\n",
       "      <td>and - of - our - the - to - in - or - we - for...</td>\n",
       "      <td>1.000000</td>\n",
       "      <td>True</td>\n",
       "    </tr>\n",
       "    <tr>\n",
       "      <th>9</th>\n",
       "      <td>ITEM 1A. RISK FACTORSIn evaluating NVIDIA, the...</td>\n",
       "      <td>4</td>\n",
       "      <td>4_and_our_to_of</td>\n",
       "      <td>[and, our, to, of, or, the, in, we, may, for]</td>\n",
       "      <td>[ITEM 1A. RISK FACTORSIn evaluating NVIDIA, th...</td>\n",
       "      <td>and - our - to - of - or - the - in - we - may...</td>\n",
       "      <td>1.000000</td>\n",
       "      <td>True</td>\n",
       "    </tr>\n",
       "    <tr>\n",
       "      <th>10</th>\n",
       "      <td>&gt;Item 1A.  Risk Factors The following risk fac...</td>\n",
       "      <td>4</td>\n",
       "      <td>4_and_our_to_of</td>\n",
       "      <td>[and, our, to, of, or, the, in, we, may, for]</td>\n",
       "      <td>[ITEM 1A. RISK FACTORSIn evaluating NVIDIA, th...</td>\n",
       "      <td>and - our - to - of - or - the - in - we - may...</td>\n",
       "      <td>1.000000</td>\n",
       "      <td>True</td>\n",
       "    </tr>\n",
       "  </tbody>\n",
       "</table>\n",
       "</div>"
      ],
      "text/plain": [
       "                                             Document  Topic  \\\n",
       "0   ITEM 1A. RISK FACTORSIn evaluating NVIDIA and ...      0   \n",
       "1   ITEM 1A. RISK FACTORSIn evaluating NVIDIA and ...      0   \n",
       "2   ITEM 1A. RISK FACTORSIn evaluating NVIDIA and ...      0   \n",
       "3   ITEM 1A. RISK FACTORSIn evaluating NVIDIA and ...      1   \n",
       "4   ITEM 1A. RISK FACTORSIn evaluating NVIDIA and ...      2   \n",
       "5   ITEM 1A. RISK FACTORSIn evaluating NVIDIA and ...      2   \n",
       "6   ITEM 1A. RISK FACTORSIn evaluating NVIDIA and ...      3   \n",
       "7   ITEM 1A. RISK FACTORSIn evaluating NVIDIA and ...      3   \n",
       "8   ITEM 1A. RISK FACTORSIn evaluating NVIDIA, the...      1   \n",
       "9   ITEM 1A. RISK FACTORSIn evaluating NVIDIA, the...      4   \n",
       "10  >Item 1A.  Risk Factors The following risk fac...      4   \n",
       "\n",
       "                Name                                     Representation  \\\n",
       "0   0_of_the_and_our  [of, the, and, our, to, in, we, or, for, produ...   \n",
       "1   0_of_the_and_our  [of, the, and, our, to, in, we, or, for, produ...   \n",
       "2   0_of_the_and_our  [of, the, and, our, to, in, we, or, for, produ...   \n",
       "3   1_and_of_our_the      [and, of, our, the, to, in, or, we, for, may]   \n",
       "4    2_and_of_the_to     [and, of, the, to, in, our, or, we, for, year]   \n",
       "5    2_and_of_the_to     [and, of, the, to, in, our, or, we, for, year]   \n",
       "6   3_and_of_our_the       [and, of, our, the, to, in, or, we, for, on]   \n",
       "7   3_and_of_our_the       [and, of, our, the, to, in, or, we, for, on]   \n",
       "8   1_and_of_our_the      [and, of, our, the, to, in, or, we, for, may]   \n",
       "9    4_and_our_to_of      [and, our, to, of, or, the, in, we, may, for]   \n",
       "10   4_and_our_to_of      [and, our, to, of, or, the, in, we, may, for]   \n",
       "\n",
       "                                  Representative_Docs  \\\n",
       "0   [ITEM 1A. RISK FACTORSIn evaluating NVIDIA and...   \n",
       "1   [ITEM 1A. RISK FACTORSIn evaluating NVIDIA and...   \n",
       "2   [ITEM 1A. RISK FACTORSIn evaluating NVIDIA and...   \n",
       "3   [ITEM 1A. RISK FACTORSIn evaluating NVIDIA and...   \n",
       "4   [ITEM 1A. RISK FACTORSIn evaluating NVIDIA and...   \n",
       "5   [ITEM 1A. RISK FACTORSIn evaluating NVIDIA and...   \n",
       "6   [ITEM 1A. RISK FACTORSIn evaluating NVIDIA and...   \n",
       "7   [ITEM 1A. RISK FACTORSIn evaluating NVIDIA and...   \n",
       "8   [ITEM 1A. RISK FACTORSIn evaluating NVIDIA and...   \n",
       "9   [ITEM 1A. RISK FACTORSIn evaluating NVIDIA, th...   \n",
       "10  [ITEM 1A. RISK FACTORSIn evaluating NVIDIA, th...   \n",
       "\n",
       "                                          Top_n_words  Probability  \\\n",
       "0   of - the - and - our - to - in - we - or - for...     0.875034   \n",
       "1   of - the - and - our - to - in - we - or - for...     1.000000   \n",
       "2   of - the - and - our - to - in - we - or - for...     1.000000   \n",
       "3   and - of - our - the - to - in - or - we - for...     1.000000   \n",
       "4   and - of - the - to - in - our - or - we - for...     1.000000   \n",
       "5   and - of - the - to - in - our - or - we - for...     1.000000   \n",
       "6   and - of - our - the - to - in - or - we - for...     1.000000   \n",
       "7   and - of - our - the - to - in - or - we - for...     1.000000   \n",
       "8   and - of - our - the - to - in - or - we - for...     1.000000   \n",
       "9   and - our - to - of - or - the - in - we - may...     1.000000   \n",
       "10  and - our - to - of - or - the - in - we - may...     1.000000   \n",
       "\n",
       "    Representative_document  \n",
       "0                      True  \n",
       "1                      True  \n",
       "2                      True  \n",
       "3                      True  \n",
       "4                      True  \n",
       "5                      True  \n",
       "6                      True  \n",
       "7                      True  \n",
       "8                      True  \n",
       "9                      True  \n",
       "10                     True  "
      ]
     },
     "execution_count": 89,
     "metadata": {},
     "output_type": "execute_result"
    }
   ],
   "source": [
    "topic_model.get_document_info(test)"
   ]
  },
  {
   "cell_type": "code",
   "execution_count": null,
   "metadata": {},
   "outputs": [],
   "source": []
  }
 ],
 "metadata": {
  "kernelspec": {
   "display_name": "Python 3",
   "language": "python",
   "name": "python3"
  },
  "language_info": {
   "codemirror_mode": {
    "name": "ipython",
    "version": 3
   },
   "file_extension": ".py",
   "mimetype": "text/x-python",
   "name": "python",
   "nbconvert_exporter": "python",
   "pygments_lexer": "ipython3",
   "version": "3.11.4"
  }
 },
 "nbformat": 4,
 "nbformat_minor": 2
}
