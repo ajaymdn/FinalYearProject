{
 "cells": [
  {
   "cell_type": "code",
   "execution_count": 2,
   "metadata": {},
   "outputs": [],
   "source": [
    "import requests\n",
    "from bs4 import BeautifulSoup\n",
    "import re\n",
    "import pandas as pd\n",
    "import json\n",
    "import nltk\n",
    "import matplotlib.pyplot as plt\n",
    "from bertopic import BERTopic\n",
    "from hdbscan import HDBSCAN\n",
    "from nltk.tokenize import sent_tokenize, word_tokenize\n",
    "from sklearn.feature_extraction.text import CountVectorizer"
   ]
  },
  {
   "cell_type": "code",
   "execution_count": 3,
   "metadata": {},
   "outputs": [
    {
     "name": "stderr",
     "output_type": "stream",
     "text": [
      "[nltk_data] Downloading package punkt to\n",
      "[nltk_data]     C:\\Users\\ajaym\\AppData\\Roaming\\nltk_data...\n",
      "[nltk_data]   Package punkt is already up-to-date!\n"
     ]
    }
   ],
   "source": [
    "nltk.download('punkt')\n",
    "\n",
    "def clean_text(text):\n",
    "    # Replace \\n with a space\n",
    "    text = re.sub(r'\\n', ' ', text)\n",
    "\n",
    "    # Replace encoded apostrophes and quotes with plain text equivalents\n",
    "    text = text.replace('\\x92', \"'\")  # Right single quote\n",
    "    text = text.replace('\\x93', '\"')  # Left double quote\n",
    "    text = text.replace('\\x94', '\"')  # Right double quote\n",
    "    text = text.replace('\\xa0', ' ')  # Non-breaking space\n",
    "\n",
    "    # Remove other \\x.. sequences\n",
    "    text = re.sub(r'\\\\x[0-9A-Fa-f]{2}', '', text)\n",
    "    \n",
    "    # Fix spacing issues around periods and capitalization\n",
    "    text = re.sub(r'\\s*\\.\\s*', '. ', text)\n",
    "    text = re.sub(r'(Item\\s*\\d+[A-Za-z]*)\\.', r'\\1. ', text)\n",
    "    text = re.sub(r'([a-z])([A-Z])', r'\\1 \\2', text)\n",
    "    text = re.sub(r'(?<=[.!?])(?=\\S)', r' ', text)\n",
    "    \n",
    "    return text.strip()\n",
    "\n",
    "def split_sentences_with_nltk(text):\n",
    "    # Initial cleaning\n",
    "    text = clean_text(text)\n",
    "\n",
    "    # Use nltk's sentence tokenizer\n",
    "    sentences = re.split(r'(?<=[.,;])\\s*', text)\n",
    "\n",
    "    # Post-process to remove redundant or empty sentences\n",
    "    sentences = [sentence.strip() for sentence in sentences if sentence.strip()]\n",
    "    # sentences = [sent_tokenize(abstract) for abstract in text]\n",
    "    return sentences"
   ]
  },
  {
   "cell_type": "code",
   "execution_count": 4,
   "metadata": {},
   "outputs": [],
   "source": [
    "def converttotext(url):\n",
    "    headers = {'User-Agent':'Sample Company Name AdminContact@<sample company domain>.com','Accept-Encoding':'gzip, deflate','Host':'www.sec.gov'}\n",
    "\n",
    "    r = requests.get(url, headers=headers)\n",
    "\n",
    "    raw_10k = r.text\n",
    "\n",
    "    doc_start_pattern = re.compile(r'<DOCUMENT>')\n",
    "    doc_end_pattern = re.compile(r'</DOCUMENT>')\n",
    "    type_pattern = re.compile(r'<TYPE>[^\\n]+')\n",
    "\n",
    "    doc_start_is = [x.end() for x in doc_start_pattern.finditer(raw_10k)]\n",
    "    doc_end_is = [x.start() for x in doc_end_pattern.finditer(raw_10k)]\n",
    "\n",
    "    doc_types = [x[len('<TYPE>'):] for x in type_pattern.findall(raw_10k)]\n",
    "\n",
    "    document = {}\n",
    "    \n",
    "    for doc_type, doc_start, doc_end in zip(doc_types, doc_start_is, doc_end_is):\n",
    "        if doc_type == '10-K':\n",
    "            document[doc_type] = raw_10k[doc_start:doc_end]\n",
    "\n",
    "    regex = re.compile(r'(>Item(\\s|&#160;|&nbsp;)(1A|1B|3|7A|7|8)\\.{0,1})|(ITEM\\s(1A|1B|3|7A|7|8))')\n",
    "\n",
    "    matches = regex.finditer(document['10-K'])\n",
    "\n",
    "    test_df = pd.DataFrame([(x.group(), x.start(), x.end()) for x in matches])\n",
    "\n",
    "    test_df.columns = ['item', 'start', 'end']\n",
    "    test_df['item'] = test_df.item.str.lower()\n",
    "    test_df.head()\n",
    "    test_df.replace('&#160;',' ',regex=True,inplace=True)\n",
    "    test_df.replace('&nbsp;',' ',regex=True,inplace=True)\n",
    "    test_df.replace(' ','',regex=True,inplace=True)\n",
    "    test_df.replace('\\.','',regex=True,inplace=True)\n",
    "    test_df.replace('>','',regex=True,inplace=True)\n",
    "\n",
    "    pos_dat = test_df.sort_values('start', ascending=True).drop_duplicates(subset=['item'], keep='last')\n",
    "    pos_dat.set_index('item', inplace=True)\n",
    "\n",
    "    item_1a_raw = document['10-K'][pos_dat['start'].loc['item1a']:pos_dat['start'].loc['item1b']]\n",
    "    item_1a_content = BeautifulSoup(item_1a_raw, 'lxml')\n",
    "\n",
    "    # item_3_raw = document['10-K'][pos_dat['start'].loc['item3']:pos_dat['start'].loc['item7']]\n",
    "    # item_3_content = BeautifulSoup(item_3_raw, 'lxml')\n",
    "\n",
    "    # item_7_raw = document['10-K'][pos_dat['start'].loc['item7']:pos_dat['start'].loc['item7a']]\n",
    "    # item_7_content = BeautifulSoup(item_7_raw, 'lxml')\n",
    "\n",
    "    # item_7a_raw = document['10-K'][pos_dat['start'].loc['item7a']:pos_dat['start'].loc['item8']]\n",
    "    # item_7a_content = BeautifulSoup(item_7a_raw, 'lxml')\n",
    "\n",
    "    item_1a_text = item_1a_content.get_text()\n",
    "    # item_3_text = item_3_content.get_text()\n",
    "    # item_7_text = item_7_content.get_text()\n",
    "    # item_7a_text = item_7a_content.get_text()\n",
    "\n",
    "    sentences = split_sentences_with_nltk(item_1a_text)\n",
    "    # sentences += split_sentences_with_nltk(item_3_text)\n",
    "    # sentences += split_sentences_with_nltk(item_7_text)\n",
    "    # sentences += split_sentences_with_nltk(item_7a_text)\n",
    "    \n",
    "    return sentences"
   ]
  },
  {
   "cell_type": "code",
   "execution_count": 15,
   "metadata": {},
   "outputs": [
    {
     "name": "stdout",
     "output_type": "stream",
     "text": [
      "Company: AAPL, Sentence count: 0\n",
      "Company: AMZN, Sentence count: 1126\n",
      "Company: NVDA, Sentence count: 2180\n",
      "Company: MSFT, Sentence count: 3387\n",
      "Company: ORCL, Sentence count: 3473\n",
      "Company: CSCO, Sentence count: 4635\n",
      "Company: META, Sentence count: 5989\n",
      "Company: INTC, Sentence count: 8930\n",
      "Company: GOOGL, Sentence count: 8932\n",
      "Company: NFLX, Sentence count: 10420\n",
      "Company: T, Sentence count: 11507\n",
      "Error processing T: 'item1b'\n",
      "Company: MU, Sentence count: 11507\n",
      "Company: A, Sentence count: 13026\n",
      "Company: IBM, Sentence count: 13977\n",
      "Company: HPQ, Sentence count: 13979\n",
      "Company: CMCSA, Sentence count: 15333\n",
      "Company: INTU, Sentence count: 15992\n",
      "Company: ADTN, Sentence count: 17245\n",
      "Company: CPT, Sentence count: 18685\n",
      "Company: CI, Sentence count: 19176\n",
      "Company: UI, Sentence count: 20519\n",
      "Company: ONDS, Sentence count: 22753\n",
      "Error processing ONDS: 'item1a'\n",
      "Company: BR, Sentence count: 22753\n",
      "Company: DASH, Sentence count: 23460\n",
      "Company: UPST, Sentence count: 28172\n",
      "Company: ARR, Sentence count: 32262\n",
      "Company: TSLA, Sentence count: 33932\n",
      "Company: LIN, Sentence count: 35304\n",
      "Company: VRSK, Sentence count: 35750\n",
      "Company: UUUU, Sentence count: 36426\n",
      "Company: ARES, Sentence count: 38144\n",
      "Company: RARE, Sentence count: 42931\n"
     ]
    }
   ],
   "source": [
    "# sentences = converttotext(\"https://www.sec.gov/Archives/edgar/data/320193/000032019317000070/0000320193-17-000070.txt\")\n",
    "# sentences = converttotext(\"https://www.sec.gov/Archives/edgar/data/320193/000032019318000145/0000320193-18-000145.txt\")\n",
    "# sentences = converttotext(\"https://www.sec.gov/Archives/edgar/data/320193/000032019319000119/0000320193-19-000119.txt\")\n",
    "# sentences = converttotext(\"https://www.sec.gov/Archives/edgar/data/320193/000032019320000096/0000320193-20-000096.txt\")\n",
    "# sentences = converttotext(\"https://www.sec.gov/Archives/edgar/data/320193/000032019321000105/0000320193-21-000105.txt\")\n",
    "# sentences = converttotext(\"https://www.sec.gov/Archives/edgar/data/320193/000032019322000108/0000320193-22-000108.txt\")\n",
    "# sentences = converttotext(\"https://www.sec.gov/Archives/edgar/data/320193/000032019323000106/0000320193-23-000106.txt\")\n",
    "# sentences = converttotext(\"https://www.sec.gov/Archives/edgar/data/320193/000032019324000123/0000320193-24-000123.txt\")\n",
    "\n",
    "target_year = 2022\n",
    "\n",
    "with open(f\"../Edgar/10K_URL_TECH/All_10K_Filings_{target_year}.json\", \"r\") as read_file:\n",
    "    companies = json.load(read_file)\n",
    "\n",
    "sentences = []\n",
    "for company in companies:\n",
    "    # if company['company'] == \"AAPL\":\n",
    "        try:\n",
    "            print(f\"Company: {company['company']}, Sentence count: {len(sentences)}\")\n",
    "            sentences += converttotext(company['url'])\n",
    "\n",
    "        except Exception as e:\n",
    "            print(f\"Error processing {company['company']}: {e}\")\n",
    "\n",
    "# NVDA\n",
    "# test1 = converttotext(\"https://www.sec.gov/Archives/edgar/data/320193/000032019322000108/0000320193-22-000108.txt\")\n",
    "# test1 += converttotext(\"https://www.sec.gov/Archives/edgar/data/1045810/000104581022000036/0001045810-22-000036.txt\")\n",
    "# test1 += converttotext(\"https://www.sec.gov/Archives/edgar/data/789019/000156459022026876/0001564590-22-026876.txt\")\n",
    "# test1 += converttotext(\"https://www.sec.gov/Archives/edgar/data/1652044/000165204422000019/0001652044-22-000019.txt\")\n",
    "# test1 += converttotext(\"https://www.sec.gov/Archives/edgar/data/1018724/000101872422000005/0001018724-22-000005.txt\")\n",
    "# test1 += converttotext(\"https://www.sec.gov/Archives/edgar/data/1326801/000132680122000018/0001326801-22-000018.txt\")\n",
    "# test1 += converttotext(\"https://www.sec.gov/Archives/edgar/data/1065280/000106528022000036/0001065280-22-000036.txt\")\n",
    "# test1 += converttotext(\"https://www.sec.gov/Archives/edgar/data/1341439/000156459022023675/0001564590-22-023675.txt\")\n",
    "# test1 += converttotext(\"https://www.sec.gov/Archives/edgar/data/723125/000072312522000048/0000723125-22-000048.txt\")\n",
    "# test1 += converttotext(\"https://www.sec.gov/Archives/edgar/data/1090872/000109087222000026/0001090872-22-000026.txt\")\n",
    "# test1 += converttotext(\"https://www.sec.gov/Archives/edgar/data/51143/000155837022001584/0001558370-22-001584.txt\")\n",
    "# test1 += converttotext(\"https://www.sec.gov/Archives/edgar/data/47217/000004721722000068/0000047217-22-000068.txt\")\n",
    "# test1 += converttotext(\"https://www.sec.gov/Archives/edgar/data/1166691/000116669122000009/0001166691-22-000009.txt\")\n",
    "# test1 += converttotext(\"https://www.sec.gov/Archives/edgar/data/829224/000082922422000058/0000829224-22-000058.txt\")\n",
    "# test1 += converttotext(\"https://www.sec.gov/Archives/edgar/data/64803/000006480322000008/0000064803-22-000008.txt\")\n",
    "# test1 += converttotext(\"https://www.sec.gov/Archives/edgar/data/1318605/000095017022000796/0000950170-22-000796.txt\")\n",
    "\n",
    "\n",
    "# print(test)\n",
    "# print(sentences)"
   ]
  },
  {
   "cell_type": "code",
   "execution_count": 16,
   "metadata": {},
   "outputs": [
    {
     "name": "stdout",
     "output_type": "stream",
     "text": [
      "Using device: cuda\n"
     ]
    }
   ],
   "source": [
    "import torch\n",
    "from sentence_transformers import SentenceTransformer\n",
    "from umap import UMAP\n",
    "from hdbscan import HDBSCAN\n",
    "from bertopic import BERTopic\n",
    "\n",
    "device = \"cuda\" if torch.cuda.is_available() else \"cpu\"\n",
    "print(f\"Using device: {device}\")"
   ]
  },
  {
   "cell_type": "code",
   "execution_count": 17,
   "metadata": {},
   "outputs": [
    {
     "data": {
      "application/vnd.jupyter.widget-view+json": {
       "model_id": "7543129f692d4cd0995186b479e25529",
       "version_major": 2,
       "version_minor": 0
      },
      "text/plain": [
       "Batches:   0%|          | 0/1430 [00:00<?, ?it/s]"
      ]
     },
     "metadata": {},
     "output_type": "display_data"
    }
   ],
   "source": [
    "embedding_model = SentenceTransformer(\"all-MiniLM-L12-v2\").to(device)\n",
    "embeddings = embedding_model.encode(sentences, show_progress_bar=True)"
   ]
  },
  {
   "cell_type": "code",
   "execution_count": 18,
   "metadata": {},
   "outputs": [],
   "source": [
    "from umap import UMAP\n",
    "from hdbscan import HDBSCAN\n",
    "from bertopic import BERTopic\n",
    "from sentence_transformers import SentenceTransformer\n",
    "\n",
    "umap_model = UMAP(n_neighbors=15, n_components=20, min_dist=0.05, metric='cosine', low_memory=False)\n",
    "hdbscan_model = HDBSCAN(min_cluster_size=10, min_samples=5, metric='euclidean', cluster_selection_method='leaf', prediction_data=True)\n",
    "# sentence_model = SentenceTransformer(\"all-MiniLM-L12-v2\")\n",
    "topic_model = BERTopic(\n",
    "    umap_model=umap_model,\n",
    "    hdbscan_model=hdbscan_model,\n",
    "    min_topic_size=10,\n",
    "    nr_topics=None\n",
    ")\n",
    "topics, probs = topic_model.fit_transform(sentences, embeddings=embeddings)"
   ]
  },
  {
   "cell_type": "code",
   "execution_count": 19,
   "metadata": {},
   "outputs": [
    {
     "data": {
      "text/html": [
       "<div>\n",
       "<style scoped>\n",
       "    .dataframe tbody tr th:only-of-type {\n",
       "        vertical-align: middle;\n",
       "    }\n",
       "\n",
       "    .dataframe tbody tr th {\n",
       "        vertical-align: top;\n",
       "    }\n",
       "\n",
       "    .dataframe thead th {\n",
       "        text-align: right;\n",
       "    }\n",
       "</style>\n",
       "<table border=\"1\" class=\"dataframe\">\n",
       "  <thead>\n",
       "    <tr style=\"text-align: right;\">\n",
       "      <th></th>\n",
       "      <th>Topic</th>\n",
       "      <th>Count</th>\n",
       "      <th>Name</th>\n",
       "      <th>Representation</th>\n",
       "      <th>Representative_Docs</th>\n",
       "    </tr>\n",
       "  </thead>\n",
       "  <tbody>\n",
       "    <tr>\n",
       "      <th>0</th>\n",
       "      <td>-1</td>\n",
       "      <td>19447</td>\n",
       "      <td>-1_products_or_data_to</td>\n",
       "      <td>[products, or, data, to, that, ability, our, m...</td>\n",
       "      <td>[which may increase the risk of loss associate...</td>\n",
       "    </tr>\n",
       "    <tr>\n",
       "      <th>1</th>\n",
       "      <td>0</td>\n",
       "      <td>377</td>\n",
       "      <td>0_addition_in__</td>\n",
       "      <td>[addition, in, , , , , , , , ]</td>\n",
       "      <td>[In addition,, In addition,, In addition,]</td>\n",
       "    </tr>\n",
       "    <tr>\n",
       "      <th>2</th>\n",
       "      <td>1</td>\n",
       "      <td>292</td>\n",
       "      <td>1_addition_in_or_to</td>\n",
       "      <td>[addition, in, or, to, , , , , , ]</td>\n",
       "      <td>[In addition,, In addition,, In addition,]</td>\n",
       "    </tr>\n",
       "    <tr>\n",
       "      <th>3</th>\n",
       "      <td>2</td>\n",
       "      <td>168</td>\n",
       "      <td>2_additionally_integrated_additional_information</td>\n",
       "      <td>[additionally, integrated, additional, informa...</td>\n",
       "      <td>[Additionally,, Additionally,, Additionally,]</td>\n",
       "    </tr>\n",
       "    <tr>\n",
       "      <th>4</th>\n",
       "      <td>3</td>\n",
       "      <td>133</td>\n",
       "      <td>3_defer_dol_complex_text</td>\n",
       "      <td>[defer, dol, complex, text, then, block, abet,...</td>\n",
       "      <td>[defer,, defer,, defer,]</td>\n",
       "    </tr>\n",
       "    <tr>\n",
       "      <th>5</th>\n",
       "      <td>4</td>\n",
       "      <td>114</td>\n",
       "      <td>4_things_among_other_items</td>\n",
       "      <td>[things, among, other, items, amongst, discret...</td>\n",
       "      <td>[among other things,, among other things,, amo...</td>\n",
       "    </tr>\n",
       "    <tr>\n",
       "      <th>6</th>\n",
       "      <td>5</td>\n",
       "      <td>112</td>\n",
       "      <td>5_investment_act_company_register</td>\n",
       "      <td>[investment, act, company, register, registere...</td>\n",
       "      <td>[a registered investment company under the Inv...</td>\n",
       "    </tr>\n",
       "    <tr>\n",
       "      <th>7</th>\n",
       "      <td>6</td>\n",
       "      <td>95</td>\n",
       "      <td>6_interest_rates_rising_rate</td>\n",
       "      <td>[interest, rates, rising, rate, shortterm, hig...</td>\n",
       "      <td>[interest rates;, interest rates,, interest ra...</td>\n",
       "    </tr>\n",
       "    <tr>\n",
       "      <th>8</th>\n",
       "      <td>7</td>\n",
       "      <td>86</td>\n",
       "      <td>7_consumers_consumer_tips_compelling</td>\n",
       "      <td>[consumers, consumer, tips, compelling, consum...</td>\n",
       "      <td>[consumers,, consumers,, consumers,]</td>\n",
       "    </tr>\n",
       "    <tr>\n",
       "      <th>9</th>\n",
       "      <td>8</td>\n",
       "      <td>85</td>\n",
       "      <td>8_covid19_pandemic_effects_impacted</td>\n",
       "      <td>[covid19, pandemic, effects, impacted, impacts...</td>\n",
       "      <td>[The pandemic has also significantly impacted ...</td>\n",
       "    </tr>\n",
       "    <tr>\n",
       "      <th>10</th>\n",
       "      <td>9</td>\n",
       "      <td>85</td>\n",
       "      <td>9_mineral_reserves_minerals_resource</td>\n",
       "      <td>[mineral, reserves, minerals, resource, proper...</td>\n",
       "      <td>[mineral resources and reserves,, Mineral Rese...</td>\n",
       "    </tr>\n",
       "    <tr>\n",
       "      <th>11</th>\n",
       "      <td>10</td>\n",
       "      <td>85</td>\n",
       "      <td>10_securities_assetbacked_bonds_reinvesting</td>\n",
       "      <td>[securities, assetbacked, bonds, reinvesting, ...</td>\n",
       "      <td>[If we raise additional funding by issuing add...</td>\n",
       "    </tr>\n",
       "    <tr>\n",
       "      <th>12</th>\n",
       "      <td>11</td>\n",
       "      <td>83</td>\n",
       "      <td>11_factors_discussed_variables_variety</td>\n",
       "      <td>[factors, discussed, variables, variety, raise...</td>\n",
       "      <td>[and other factors., and other factors,, Other...</td>\n",
       "    </tr>\n",
       "    <tr>\n",
       "      <th>13</th>\n",
       "      <td>12</td>\n",
       "      <td>82</td>\n",
       "      <td>12_cloud_cloudbased_google_computing</td>\n",
       "      <td>[cloud, cloudbased, google, computing, aws, pr...</td>\n",
       "      <td>[cloud services,, cloud services,, our cloud,]</td>\n",
       "    </tr>\n",
       "    <tr>\n",
       "      <th>14</th>\n",
       "      <td>13</td>\n",
       "      <td>81</td>\n",
       "      <td>13_studies_clinical_study_nonclinical</td>\n",
       "      <td>[studies, clinical, study, nonclinical, patien...</td>\n",
       "      <td>[which could delay or prevent clinical studies...</td>\n",
       "    </tr>\n",
       "    <tr>\n",
       "      <th>15</th>\n",
       "      <td>14</td>\n",
       "      <td>80</td>\n",
       "      <td>14_compliance_costs_expensive_incur</td>\n",
       "      <td>[compliance, costs, expensive, incur, complyin...</td>\n",
       "      <td>[and financial compliance costs,, and financia...</td>\n",
       "    </tr>\n",
       "    <tr>\n",
       "      <th>16</th>\n",
       "      <td>15</td>\n",
       "      <td>79</td>\n",
       "      <td>15_uranium_concentrates_reserve_vanadium</td>\n",
       "      <td>[uranium, concentrates, reserve, vanadium, ext...</td>\n",
       "      <td>[Our sales of uranium,, and sales of uranium,,...</td>\n",
       "    </tr>\n",
       "    <tr>\n",
       "      <th>17</th>\n",
       "      <td>16</td>\n",
       "      <td>76</td>\n",
       "      <td>16_2021_respects_58_date</td>\n",
       "      <td>[2021, respects, 58, date, share, purchase, ag...</td>\n",
       "      <td>[2021,, 2021,, 2021,]</td>\n",
       "    </tr>\n",
       "    <tr>\n",
       "      <th>18</th>\n",
       "      <td>17</td>\n",
       "      <td>73</td>\n",
       "      <td>17_class_common_price_trading</td>\n",
       "      <td>[class, common, price, trading, stock, shares,...</td>\n",
       "      <td>[and affect the trading price of our Class A a...</td>\n",
       "    </tr>\n",
       "    <tr>\n",
       "      <th>19</th>\n",
       "      <td>18</td>\n",
       "      <td>72</td>\n",
       "      <td>18_infringement_infringe_intellectual_property</td>\n",
       "      <td>[infringement, infringe, intellectual, propert...</td>\n",
       "      <td>[infringe their intellectual property rights.,...</td>\n",
       "    </tr>\n",
       "    <tr>\n",
       "      <th>20</th>\n",
       "      <td>19</td>\n",
       "      <td>72</td>\n",
       "      <td>19_portfolio_funds_private_equity</td>\n",
       "      <td>[portfolio, funds, private, equity, group, obl...</td>\n",
       "      <td>[our investment funds and/or portfolio compani...</td>\n",
       "    </tr>\n",
       "    <tr>\n",
       "      <th>21</th>\n",
       "      <td>20</td>\n",
       "      <td>72</td>\n",
       "      <td>20_including_tbas_mvpds_thomas</td>\n",
       "      <td>[including, tbas, mvpds, thomas, xlh, spacs, s...</td>\n",
       "      <td>[including,, including,, including,]</td>\n",
       "    </tr>\n",
       "    <tr>\n",
       "      <th>22</th>\n",
       "      <td>21</td>\n",
       "      <td>71</td>\n",
       "      <td>21_continue_likely_expect_face</td>\n",
       "      <td>[continue, likely, expect, face, just, proved,...</td>\n",
       "      <td>[and may continue to be,, and continue to be,,...</td>\n",
       "    </tr>\n",
       "    <tr>\n",
       "      <th>23</th>\n",
       "      <td>22</td>\n",
       "      <td>70</td>\n",
       "      <td>22_brand_reputation_damage_brands</td>\n",
       "      <td>[brand, reputation, damage, brands, harm, dama...</td>\n",
       "      <td>[and•harm to our reputation and brand., damage...</td>\n",
       "    </tr>\n",
       "    <tr>\n",
       "      <th>24</th>\n",
       "      <td>23</td>\n",
       "      <td>70</td>\n",
       "      <td>23_shares_000_he_per</td>\n",
       "      <td>[shares, 000, he, per, common, 2014, stock, pl...</td>\n",
       "      <td>[000 shares or 1% of all shares of our capital...</td>\n",
       "    </tr>\n",
       "    <tr>\n",
       "      <th>25</th>\n",
       "      <td>24</td>\n",
       "      <td>70</td>\n",
       "      <td>24_tax_changes_taxation_laws</td>\n",
       "      <td>[tax, changes, taxation, laws, rulings, taxes,...</td>\n",
       "      <td>[and changes in such tax laws,, Changes to the...</td>\n",
       "    </tr>\n",
       "    <tr>\n",
       "      <th>26</th>\n",
       "      <td>25</td>\n",
       "      <td>69</td>\n",
       "      <td>25_particular_specifically_in_more</td>\n",
       "      <td>[particular, specifically, in, more, , , , , , ]</td>\n",
       "      <td>[in particular,, In particular,, in particular,]</td>\n",
       "    </tr>\n",
       "    <tr>\n",
       "      <th>27</th>\n",
       "      <td>26</td>\n",
       "      <td>69</td>\n",
       "      <td>26_rent_rental_lease_residents</td>\n",
       "      <td>[rent, rental, lease, residents, occupancy, re...</td>\n",
       "      <td>[including the rental and occupancy rates of o...</td>\n",
       "    </tr>\n",
       "    <tr>\n",
       "      <th>28</th>\n",
       "      <td>27</td>\n",
       "      <td>68</td>\n",
       "      <td>27_affected_condition_adversely_om</td>\n",
       "      <td>[affected, condition, adversely, om, results, ...</td>\n",
       "      <td>[financial condition and results of operations...</td>\n",
       "    </tr>\n",
       "    <tr>\n",
       "      <th>29</th>\n",
       "      <td>28</td>\n",
       "      <td>67</td>\n",
       "      <td>28_motivate_qualified_personnel_retain</td>\n",
       "      <td>[motivate, qualified, personnel, retain, skill...</td>\n",
       "      <td>[motivate and retain key management personnel ...</td>\n",
       "    </tr>\n",
       "    <tr>\n",
       "      <th>30</th>\n",
       "      <td>29</td>\n",
       "      <td>67</td>\n",
       "      <td>29_effective_rate_tax_statutory</td>\n",
       "      <td>[effective, rate, tax, statutory, sharebased, ...</td>\n",
       "      <td>[could have a significant impact on our effect...</td>\n",
       "    </tr>\n",
       "    <tr>\n",
       "      <th>31</th>\n",
       "      <td>30</td>\n",
       "      <td>66</td>\n",
       "      <td>30_merchants_merchant_selection_nonpartner</td>\n",
       "      <td>[merchants, merchant, selection, nonpartner, p...</td>\n",
       "      <td>[If we fail to retain our existing merchants a...</td>\n",
       "    </tr>\n",
       "    <tr>\n",
       "      <th>32</th>\n",
       "      <td>31</td>\n",
       "      <td>63</td>\n",
       "      <td>31_gene_therapy_rna_dna</td>\n",
       "      <td>[gene, therapy, rna, dna, si, dtx401, tx, cand...</td>\n",
       "      <td>[Gene therapy and m RNA,, such as our gene the...</td>\n",
       "    </tr>\n",
       "    <tr>\n",
       "      <th>33</th>\n",
       "      <td>32</td>\n",
       "      <td>62</td>\n",
       "      <td>32_demand_reduce_reduced_reductions</td>\n",
       "      <td>[demand, reduce, reduced, reductions, decrease...</td>\n",
       "      <td>[which could further reduce demand for our pro...</td>\n",
       "    </tr>\n",
       "    <tr>\n",
       "      <th>34</th>\n",
       "      <td>33</td>\n",
       "      <td>62</td>\n",
       "      <td>33_personal_data_identifiable_information</td>\n",
       "      <td>[personal, data, identifiable, information, se...</td>\n",
       "      <td>[including personal information,, including pe...</td>\n",
       "    </tr>\n",
       "    <tr>\n",
       "      <th>35</th>\n",
       "      <td>34</td>\n",
       "      <td>62</td>\n",
       "      <td>34_time_from_timetotime_to</td>\n",
       "      <td>[time, from, timetotime, to, and, , , , , ]</td>\n",
       "      <td>[From time to time,, From time to time,, from ...</td>\n",
       "    </tr>\n",
       "    <tr>\n",
       "      <th>36</th>\n",
       "      <td>35</td>\n",
       "      <td>61</td>\n",
       "      <td>35_services_marks_tolls_servicemember</td>\n",
       "      <td>[services, marks, tolls, servicemember, servic...</td>\n",
       "      <td>[services,, services,, services,]</td>\n",
       "    </tr>\n",
       "    <tr>\n",
       "      <th>37</th>\n",
       "      <td>36</td>\n",
       "      <td>61</td>\n",
       "      <td>36_million_billion_300_539</td>\n",
       "      <td>[million, billion, 300, 539, 66, 75, 2013, est...</td>\n",
       "      <td>[0 million,, 6 million., 6 million,]</td>\n",
       "    </tr>\n",
       "    <tr>\n",
       "      <th>38</th>\n",
       "      <td>37</td>\n",
       "      <td>60</td>\n",
       "      <td>37_further___</td>\n",
       "      <td>[further, , , , , , , , , ]</td>\n",
       "      <td>[Further,, Further,, Further,]</td>\n",
       "    </tr>\n",
       "    <tr>\n",
       "      <th>39</th>\n",
       "      <td>38</td>\n",
       "      <td>60</td>\n",
       "      <td>38_vulnerabilities_log4j_vulnerability_security</td>\n",
       "      <td>[vulnerabilities, log4j, vulnerability, securi...</td>\n",
       "      <td>[” security vulnerabilities,, and security vul...</td>\n",
       "    </tr>\n",
       "    <tr>\n",
       "      <th>40</th>\n",
       "      <td>39</td>\n",
       "      <td>60</td>\n",
       "      <td>39_acquisitions_acquisition_acquired_discussions</td>\n",
       "      <td>[acquisitions, acquisition, acquired, discussi...</td>\n",
       "      <td>[including as a result of acquisitions;, busin...</td>\n",
       "    </tr>\n",
       "    <tr>\n",
       "      <th>41</th>\n",
       "      <td>40</td>\n",
       "      <td>60</td>\n",
       "      <td>40_condition_results_operations_financial</td>\n",
       "      <td>[condition, results, operations, financial, po...</td>\n",
       "      <td>[results of operations and financial condition...</td>\n",
       "    </tr>\n",
       "    <tr>\n",
       "      <th>42</th>\n",
       "      <td>41</td>\n",
       "      <td>60</td>\n",
       "      <td>41_liabilities_contingent_assumption_trailing</td>\n",
       "      <td>[liabilities, contingent, assumption, trailing...</td>\n",
       "      <td>[liabilities,, liabilities,, liabilities,]</td>\n",
       "    </tr>\n",
       "    <tr>\n",
       "      <th>43</th>\n",
       "      <td>42</td>\n",
       "      <td>59</td>\n",
       "      <td>42_ares_group_units_satisfied</td>\n",
       "      <td>[ares, group, units, satisfied, llc, owners, l...</td>\n",
       "      <td>[The holders of Ares Operating Group Units,, t...</td>\n",
       "    </tr>\n",
       "    <tr>\n",
       "      <th>44</th>\n",
       "      <td>43</td>\n",
       "      <td>59</td>\n",
       "      <td>43_directors_board_vacancies_classified</td>\n",
       "      <td>[directors, board, vacancies, classified, stag...</td>\n",
       "      <td>[•vacancies on our board of directors will be ...</td>\n",
       "    </tr>\n",
       "    <tr>\n",
       "      <th>45</th>\n",
       "      <td>44</td>\n",
       "      <td>59</td>\n",
       "      <td>44_patents_patent_enforce_45</td>\n",
       "      <td>[patents, patent, enforce, 45, lipid, sublicen...</td>\n",
       "      <td>[our patents,, patents,, patents.]</td>\n",
       "    </tr>\n",
       "    <tr>\n",
       "      <th>46</th>\n",
       "      <td>45</td>\n",
       "      <td>58</td>\n",
       "      <td>45_condition_results_operations_financial</td>\n",
       "      <td>[condition, results, operations, financial, op...</td>\n",
       "      <td>[financial condition and results of operations...</td>\n",
       "    </tr>\n",
       "    <tr>\n",
       "      <th>47</th>\n",
       "      <td>46</td>\n",
       "      <td>58</td>\n",
       "      <td>46_regulations_regulated_regulation_blocked</td>\n",
       "      <td>[regulations, regulated, regulation, blocked, ...</td>\n",
       "      <td>[regulations,, regulations,, regulations,]</td>\n",
       "    </tr>\n",
       "    <tr>\n",
       "      <th>48</th>\n",
       "      <td>47</td>\n",
       "      <td>58</td>\n",
       "      <td>47_results_operations_of_and</td>\n",
       "      <td>[results, operations, of, and, or, , , , , ]</td>\n",
       "      <td>[and results of operations., and results of op...</td>\n",
       "    </tr>\n",
       "    <tr>\n",
       "      <th>49</th>\n",
       "      <td>48</td>\n",
       "      <td>58</td>\n",
       "      <td>48_uncertain_uncertainty_remains_uncertainties</td>\n",
       "      <td>[uncertain, uncertainty, remains, uncertaintie...</td>\n",
       "      <td>[remains uncertain., remains uncertain,, remai...</td>\n",
       "    </tr>\n",
       "    <tr>\n",
       "      <th>50</th>\n",
       "      <td>49</td>\n",
       "      <td>56</td>\n",
       "      <td>49_international_internationally_doing_inherent</td>\n",
       "      <td>[international, internationally, doing, inhere...</td>\n",
       "      <td>[There are risks inherent in doing business in...</td>\n",
       "    </tr>\n",
       "    <tr>\n",
       "      <th>51</th>\n",
       "      <td>50</td>\n",
       "      <td>55</td>\n",
       "      <td>50_2020_derogations_antihybrid_28</td>\n",
       "      <td>[2020, derogations, antihybrid, 28, february, ...</td>\n",
       "      <td>[2020,, 2020,, 2020,]</td>\n",
       "    </tr>\n",
       "  </tbody>\n",
       "</table>\n",
       "</div>"
      ],
      "text/plain": [
       "    Topic  Count                                              Name  \\\n",
       "0      -1  19447                            -1_products_or_data_to   \n",
       "1       0    377                                   0_addition_in__   \n",
       "2       1    292                               1_addition_in_or_to   \n",
       "3       2    168  2_additionally_integrated_additional_information   \n",
       "4       3    133                          3_defer_dol_complex_text   \n",
       "5       4    114                        4_things_among_other_items   \n",
       "6       5    112                 5_investment_act_company_register   \n",
       "7       6     95                      6_interest_rates_rising_rate   \n",
       "8       7     86              7_consumers_consumer_tips_compelling   \n",
       "9       8     85               8_covid19_pandemic_effects_impacted   \n",
       "10      9     85              9_mineral_reserves_minerals_resource   \n",
       "11     10     85       10_securities_assetbacked_bonds_reinvesting   \n",
       "12     11     83            11_factors_discussed_variables_variety   \n",
       "13     12     82              12_cloud_cloudbased_google_computing   \n",
       "14     13     81             13_studies_clinical_study_nonclinical   \n",
       "15     14     80               14_compliance_costs_expensive_incur   \n",
       "16     15     79          15_uranium_concentrates_reserve_vanadium   \n",
       "17     16     76                          16_2021_respects_58_date   \n",
       "18     17     73                     17_class_common_price_trading   \n",
       "19     18     72    18_infringement_infringe_intellectual_property   \n",
       "20     19     72                 19_portfolio_funds_private_equity   \n",
       "21     20     72                    20_including_tbas_mvpds_thomas   \n",
       "22     21     71                    21_continue_likely_expect_face   \n",
       "23     22     70                 22_brand_reputation_damage_brands   \n",
       "24     23     70                              23_shares_000_he_per   \n",
       "25     24     70                      24_tax_changes_taxation_laws   \n",
       "26     25     69                25_particular_specifically_in_more   \n",
       "27     26     69                    26_rent_rental_lease_residents   \n",
       "28     27     68                27_affected_condition_adversely_om   \n",
       "29     28     67            28_motivate_qualified_personnel_retain   \n",
       "30     29     67                   29_effective_rate_tax_statutory   \n",
       "31     30     66        30_merchants_merchant_selection_nonpartner   \n",
       "32     31     63                           31_gene_therapy_rna_dna   \n",
       "33     32     62               32_demand_reduce_reduced_reductions   \n",
       "34     33     62         33_personal_data_identifiable_information   \n",
       "35     34     62                        34_time_from_timetotime_to   \n",
       "36     35     61             35_services_marks_tolls_servicemember   \n",
       "37     36     61                        36_million_billion_300_539   \n",
       "38     37     60                                     37_further___   \n",
       "39     38     60   38_vulnerabilities_log4j_vulnerability_security   \n",
       "40     39     60  39_acquisitions_acquisition_acquired_discussions   \n",
       "41     40     60         40_condition_results_operations_financial   \n",
       "42     41     60     41_liabilities_contingent_assumption_trailing   \n",
       "43     42     59                     42_ares_group_units_satisfied   \n",
       "44     43     59           43_directors_board_vacancies_classified   \n",
       "45     44     59                      44_patents_patent_enforce_45   \n",
       "46     45     58         45_condition_results_operations_financial   \n",
       "47     46     58       46_regulations_regulated_regulation_blocked   \n",
       "48     47     58                      47_results_operations_of_and   \n",
       "49     48     58    48_uncertain_uncertainty_remains_uncertainties   \n",
       "50     49     56   49_international_internationally_doing_inherent   \n",
       "51     50     55                 50_2020_derogations_antihybrid_28   \n",
       "\n",
       "                                       Representation  \\\n",
       "0   [products, or, data, to, that, ability, our, m...   \n",
       "1                      [addition, in, , , , , , , , ]   \n",
       "2                  [addition, in, or, to, , , , , , ]   \n",
       "3   [additionally, integrated, additional, informa...   \n",
       "4   [defer, dol, complex, text, then, block, abet,...   \n",
       "5   [things, among, other, items, amongst, discret...   \n",
       "6   [investment, act, company, register, registere...   \n",
       "7   [interest, rates, rising, rate, shortterm, hig...   \n",
       "8   [consumers, consumer, tips, compelling, consum...   \n",
       "9   [covid19, pandemic, effects, impacted, impacts...   \n",
       "10  [mineral, reserves, minerals, resource, proper...   \n",
       "11  [securities, assetbacked, bonds, reinvesting, ...   \n",
       "12  [factors, discussed, variables, variety, raise...   \n",
       "13  [cloud, cloudbased, google, computing, aws, pr...   \n",
       "14  [studies, clinical, study, nonclinical, patien...   \n",
       "15  [compliance, costs, expensive, incur, complyin...   \n",
       "16  [uranium, concentrates, reserve, vanadium, ext...   \n",
       "17  [2021, respects, 58, date, share, purchase, ag...   \n",
       "18  [class, common, price, trading, stock, shares,...   \n",
       "19  [infringement, infringe, intellectual, propert...   \n",
       "20  [portfolio, funds, private, equity, group, obl...   \n",
       "21  [including, tbas, mvpds, thomas, xlh, spacs, s...   \n",
       "22  [continue, likely, expect, face, just, proved,...   \n",
       "23  [brand, reputation, damage, brands, harm, dama...   \n",
       "24  [shares, 000, he, per, common, 2014, stock, pl...   \n",
       "25  [tax, changes, taxation, laws, rulings, taxes,...   \n",
       "26   [particular, specifically, in, more, , , , , , ]   \n",
       "27  [rent, rental, lease, residents, occupancy, re...   \n",
       "28  [affected, condition, adversely, om, results, ...   \n",
       "29  [motivate, qualified, personnel, retain, skill...   \n",
       "30  [effective, rate, tax, statutory, sharebased, ...   \n",
       "31  [merchants, merchant, selection, nonpartner, p...   \n",
       "32  [gene, therapy, rna, dna, si, dtx401, tx, cand...   \n",
       "33  [demand, reduce, reduced, reductions, decrease...   \n",
       "34  [personal, data, identifiable, information, se...   \n",
       "35        [time, from, timetotime, to, and, , , , , ]   \n",
       "36  [services, marks, tolls, servicemember, servic...   \n",
       "37  [million, billion, 300, 539, 66, 75, 2013, est...   \n",
       "38                        [further, , , , , , , , , ]   \n",
       "39  [vulnerabilities, log4j, vulnerability, securi...   \n",
       "40  [acquisitions, acquisition, acquired, discussi...   \n",
       "41  [condition, results, operations, financial, po...   \n",
       "42  [liabilities, contingent, assumption, trailing...   \n",
       "43  [ares, group, units, satisfied, llc, owners, l...   \n",
       "44  [directors, board, vacancies, classified, stag...   \n",
       "45  [patents, patent, enforce, 45, lipid, sublicen...   \n",
       "46  [condition, results, operations, financial, op...   \n",
       "47  [regulations, regulated, regulation, blocked, ...   \n",
       "48       [results, operations, of, and, or, , , , , ]   \n",
       "49  [uncertain, uncertainty, remains, uncertaintie...   \n",
       "50  [international, internationally, doing, inhere...   \n",
       "51  [2020, derogations, antihybrid, 28, february, ...   \n",
       "\n",
       "                                  Representative_Docs  \n",
       "0   [which may increase the risk of loss associate...  \n",
       "1          [In addition,, In addition,, In addition,]  \n",
       "2          [In addition,, In addition,, In addition,]  \n",
       "3       [Additionally,, Additionally,, Additionally,]  \n",
       "4                            [defer,, defer,, defer,]  \n",
       "5   [among other things,, among other things,, amo...  \n",
       "6   [a registered investment company under the Inv...  \n",
       "7   [interest rates;, interest rates,, interest ra...  \n",
       "8                [consumers,, consumers,, consumers,]  \n",
       "9   [The pandemic has also significantly impacted ...  \n",
       "10  [mineral resources and reserves,, Mineral Rese...  \n",
       "11  [If we raise additional funding by issuing add...  \n",
       "12  [and other factors., and other factors,, Other...  \n",
       "13     [cloud services,, cloud services,, our cloud,]  \n",
       "14  [which could delay or prevent clinical studies...  \n",
       "15  [and financial compliance costs,, and financia...  \n",
       "16  [Our sales of uranium,, and sales of uranium,,...  \n",
       "17                              [2021,, 2021,, 2021,]  \n",
       "18  [and affect the trading price of our Class A a...  \n",
       "19  [infringe their intellectual property rights.,...  \n",
       "20  [our investment funds and/or portfolio compani...  \n",
       "21               [including,, including,, including,]  \n",
       "22  [and may continue to be,, and continue to be,,...  \n",
       "23  [and•harm to our reputation and brand., damage...  \n",
       "24  [000 shares or 1% of all shares of our capital...  \n",
       "25  [and changes in such tax laws,, Changes to the...  \n",
       "26   [in particular,, In particular,, in particular,]  \n",
       "27  [including the rental and occupancy rates of o...  \n",
       "28  [financial condition and results of operations...  \n",
       "29  [motivate and retain key management personnel ...  \n",
       "30  [could have a significant impact on our effect...  \n",
       "31  [If we fail to retain our existing merchants a...  \n",
       "32  [Gene therapy and m RNA,, such as our gene the...  \n",
       "33  [which could further reduce demand for our pro...  \n",
       "34  [including personal information,, including pe...  \n",
       "35  [From time to time,, From time to time,, from ...  \n",
       "36                  [services,, services,, services,]  \n",
       "37               [0 million,, 6 million., 6 million,]  \n",
       "38                     [Further,, Further,, Further,]  \n",
       "39  [” security vulnerabilities,, and security vul...  \n",
       "40  [including as a result of acquisitions;, busin...  \n",
       "41  [results of operations and financial condition...  \n",
       "42         [liabilities,, liabilities,, liabilities,]  \n",
       "43  [The holders of Ares Operating Group Units,, t...  \n",
       "44  [•vacancies on our board of directors will be ...  \n",
       "45                 [our patents,, patents,, patents.]  \n",
       "46  [financial condition and results of operations...  \n",
       "47         [regulations,, regulations,, regulations,]  \n",
       "48  [and results of operations., and results of op...  \n",
       "49  [remains uncertain., remains uncertain,, remai...  \n",
       "50  [There are risks inherent in doing business in...  \n",
       "51                              [2020,, 2020,, 2020,]  "
      ]
     },
     "execution_count": 19,
     "metadata": {},
     "output_type": "execute_result"
    }
   ],
   "source": [
    "topic_model.get_topic_info().head(52)"
   ]
  },
  {
   "cell_type": "code",
   "execution_count": 88,
   "metadata": {},
   "outputs": [
    {
     "data": {
      "application/vnd.plotly.v1+json": {
       "config": {
        "plotlyServerURL": "https://plot.ly"
       },
       "data": [
        {
         "customdata": [
          [
           0,
           "of | the | and | our | to",
           3
          ],
          [
           1,
           "and | of | our | the | to",
           2
          ],
          [
           2,
           "and | of | the | to | in",
           2
          ],
          [
           3,
           "and | of | our | the | to",
           2
          ],
          [
           4,
           "and | our | to | of | or",
           2
          ]
         ],
         "hovertemplate": "<b>Topic %{customdata[0]}</b><br>%{customdata[1]}<br>Size: %{customdata[2]}",
         "legendgroup": "",
         "marker": {
          "color": "#B0BEC5",
          "line": {
           "color": "DarkSlateGrey",
           "width": 2
          },
          "size": [
           3,
           2,
           2,
           2,
           2
          ],
          "sizemode": "area",
          "sizeref": 0.001875,
          "symbol": "circle"
         },
         "mode": "markers",
         "name": "",
         "orientation": "v",
         "showlegend": false,
         "type": "scatter",
         "x": [
          1.3359079360961914,
          2.0050506591796875,
          2.8030784130096436,
          3.2296669483184814,
          0.8262299299240112
         ],
         "xaxis": "x",
         "y": [
          -5.707855224609375,
          -6.3748674392700195,
          -7.1707000732421875,
          -7.597482204437256,
          -5.199770450592041
         ],
         "yaxis": "y"
        }
       ],
       "layout": {
        "annotations": [
         {
          "showarrow": false,
          "text": "D1",
          "x": 0.7022954225540161,
          "y": -6.578454971313477,
          "yshift": 10
         },
         {
          "showarrow": false,
          "text": "D2",
          "x": 2.2082061767578125,
          "xshift": 10,
          "y": -4.41980504989624
         }
        ],
        "height": 650,
        "hoverlabel": {
         "bgcolor": "white",
         "font": {
          "family": "Rockwell",
          "size": 16
         }
        },
        "legend": {
         "itemsizing": "constant",
         "tracegroupgap": 0
        },
        "margin": {
         "t": 60
        },
        "shapes": [
         {
          "line": {
           "color": "#CFD8DC",
           "width": 2
          },
          "type": "line",
          "x0": 2.2082061767578125,
          "x1": 2.2082061767578125,
          "y0": -8.737104415893555,
          "y1": -4.41980504989624
         },
         {
          "line": {
           "color": "#9E9E9E",
           "width": 2
          },
          "type": "line",
          "x0": 0.7022954225540161,
          "x1": 3.7141170501708984,
          "y0": -6.578454971313477,
          "y1": -6.578454971313477
         }
        ],
        "sliders": [
         {
          "active": 0,
          "pad": {
           "t": 50
          },
          "steps": [
           {
            "args": [
             {
              "marker.color": [
               [
                "red",
                "#B0BEC5",
                "#B0BEC5",
                "#B0BEC5",
                "#B0BEC5"
               ]
              ]
             }
            ],
            "label": "Topic 0",
            "method": "update"
           },
           {
            "args": [
             {
              "marker.color": [
               [
                "#B0BEC5",
                "red",
                "#B0BEC5",
                "#B0BEC5",
                "#B0BEC5"
               ]
              ]
             }
            ],
            "label": "Topic 1",
            "method": "update"
           },
           {
            "args": [
             {
              "marker.color": [
               [
                "#B0BEC5",
                "#B0BEC5",
                "red",
                "#B0BEC5",
                "#B0BEC5"
               ]
              ]
             }
            ],
            "label": "Topic 2",
            "method": "update"
           },
           {
            "args": [
             {
              "marker.color": [
               [
                "#B0BEC5",
                "#B0BEC5",
                "#B0BEC5",
                "red",
                "#B0BEC5"
               ]
              ]
             }
            ],
            "label": "Topic 3",
            "method": "update"
           },
           {
            "args": [
             {
              "marker.color": [
               [
                "#B0BEC5",
                "#B0BEC5",
                "#B0BEC5",
                "#B0BEC5",
                "red"
               ]
              ]
             }
            ],
            "label": "Topic 4",
            "method": "update"
           }
          ]
         }
        ],
        "template": {
         "data": {
          "bar": [
           {
            "error_x": {
             "color": "rgb(36,36,36)"
            },
            "error_y": {
             "color": "rgb(36,36,36)"
            },
            "marker": {
             "line": {
              "color": "white",
              "width": 0.5
             },
             "pattern": {
              "fillmode": "overlay",
              "size": 10,
              "solidity": 0.2
             }
            },
            "type": "bar"
           }
          ],
          "barpolar": [
           {
            "marker": {
             "line": {
              "color": "white",
              "width": 0.5
             },
             "pattern": {
              "fillmode": "overlay",
              "size": 10,
              "solidity": 0.2
             }
            },
            "type": "barpolar"
           }
          ],
          "carpet": [
           {
            "aaxis": {
             "endlinecolor": "rgb(36,36,36)",
             "gridcolor": "white",
             "linecolor": "white",
             "minorgridcolor": "white",
             "startlinecolor": "rgb(36,36,36)"
            },
            "baxis": {
             "endlinecolor": "rgb(36,36,36)",
             "gridcolor": "white",
             "linecolor": "white",
             "minorgridcolor": "white",
             "startlinecolor": "rgb(36,36,36)"
            },
            "type": "carpet"
           }
          ],
          "choropleth": [
           {
            "colorbar": {
             "outlinewidth": 1,
             "tickcolor": "rgb(36,36,36)",
             "ticks": "outside"
            },
            "type": "choropleth"
           }
          ],
          "contour": [
           {
            "colorbar": {
             "outlinewidth": 1,
             "tickcolor": "rgb(36,36,36)",
             "ticks": "outside"
            },
            "colorscale": [
             [
              0,
              "#440154"
             ],
             [
              0.1111111111111111,
              "#482878"
             ],
             [
              0.2222222222222222,
              "#3e4989"
             ],
             [
              0.3333333333333333,
              "#31688e"
             ],
             [
              0.4444444444444444,
              "#26828e"
             ],
             [
              0.5555555555555556,
              "#1f9e89"
             ],
             [
              0.6666666666666666,
              "#35b779"
             ],
             [
              0.7777777777777778,
              "#6ece58"
             ],
             [
              0.8888888888888888,
              "#b5de2b"
             ],
             [
              1,
              "#fde725"
             ]
            ],
            "type": "contour"
           }
          ],
          "contourcarpet": [
           {
            "colorbar": {
             "outlinewidth": 1,
             "tickcolor": "rgb(36,36,36)",
             "ticks": "outside"
            },
            "type": "contourcarpet"
           }
          ],
          "heatmap": [
           {
            "colorbar": {
             "outlinewidth": 1,
             "tickcolor": "rgb(36,36,36)",
             "ticks": "outside"
            },
            "colorscale": [
             [
              0,
              "#440154"
             ],
             [
              0.1111111111111111,
              "#482878"
             ],
             [
              0.2222222222222222,
              "#3e4989"
             ],
             [
              0.3333333333333333,
              "#31688e"
             ],
             [
              0.4444444444444444,
              "#26828e"
             ],
             [
              0.5555555555555556,
              "#1f9e89"
             ],
             [
              0.6666666666666666,
              "#35b779"
             ],
             [
              0.7777777777777778,
              "#6ece58"
             ],
             [
              0.8888888888888888,
              "#b5de2b"
             ],
             [
              1,
              "#fde725"
             ]
            ],
            "type": "heatmap"
           }
          ],
          "heatmapgl": [
           {
            "colorbar": {
             "outlinewidth": 1,
             "tickcolor": "rgb(36,36,36)",
             "ticks": "outside"
            },
            "colorscale": [
             [
              0,
              "#440154"
             ],
             [
              0.1111111111111111,
              "#482878"
             ],
             [
              0.2222222222222222,
              "#3e4989"
             ],
             [
              0.3333333333333333,
              "#31688e"
             ],
             [
              0.4444444444444444,
              "#26828e"
             ],
             [
              0.5555555555555556,
              "#1f9e89"
             ],
             [
              0.6666666666666666,
              "#35b779"
             ],
             [
              0.7777777777777778,
              "#6ece58"
             ],
             [
              0.8888888888888888,
              "#b5de2b"
             ],
             [
              1,
              "#fde725"
             ]
            ],
            "type": "heatmapgl"
           }
          ],
          "histogram": [
           {
            "marker": {
             "line": {
              "color": "white",
              "width": 0.6
             }
            },
            "type": "histogram"
           }
          ],
          "histogram2d": [
           {
            "colorbar": {
             "outlinewidth": 1,
             "tickcolor": "rgb(36,36,36)",
             "ticks": "outside"
            },
            "colorscale": [
             [
              0,
              "#440154"
             ],
             [
              0.1111111111111111,
              "#482878"
             ],
             [
              0.2222222222222222,
              "#3e4989"
             ],
             [
              0.3333333333333333,
              "#31688e"
             ],
             [
              0.4444444444444444,
              "#26828e"
             ],
             [
              0.5555555555555556,
              "#1f9e89"
             ],
             [
              0.6666666666666666,
              "#35b779"
             ],
             [
              0.7777777777777778,
              "#6ece58"
             ],
             [
              0.8888888888888888,
              "#b5de2b"
             ],
             [
              1,
              "#fde725"
             ]
            ],
            "type": "histogram2d"
           }
          ],
          "histogram2dcontour": [
           {
            "colorbar": {
             "outlinewidth": 1,
             "tickcolor": "rgb(36,36,36)",
             "ticks": "outside"
            },
            "colorscale": [
             [
              0,
              "#440154"
             ],
             [
              0.1111111111111111,
              "#482878"
             ],
             [
              0.2222222222222222,
              "#3e4989"
             ],
             [
              0.3333333333333333,
              "#31688e"
             ],
             [
              0.4444444444444444,
              "#26828e"
             ],
             [
              0.5555555555555556,
              "#1f9e89"
             ],
             [
              0.6666666666666666,
              "#35b779"
             ],
             [
              0.7777777777777778,
              "#6ece58"
             ],
             [
              0.8888888888888888,
              "#b5de2b"
             ],
             [
              1,
              "#fde725"
             ]
            ],
            "type": "histogram2dcontour"
           }
          ],
          "mesh3d": [
           {
            "colorbar": {
             "outlinewidth": 1,
             "tickcolor": "rgb(36,36,36)",
             "ticks": "outside"
            },
            "type": "mesh3d"
           }
          ],
          "parcoords": [
           {
            "line": {
             "colorbar": {
              "outlinewidth": 1,
              "tickcolor": "rgb(36,36,36)",
              "ticks": "outside"
             }
            },
            "type": "parcoords"
           }
          ],
          "pie": [
           {
            "automargin": true,
            "type": "pie"
           }
          ],
          "scatter": [
           {
            "fillpattern": {
             "fillmode": "overlay",
             "size": 10,
             "solidity": 0.2
            },
            "type": "scatter"
           }
          ],
          "scatter3d": [
           {
            "line": {
             "colorbar": {
              "outlinewidth": 1,
              "tickcolor": "rgb(36,36,36)",
              "ticks": "outside"
             }
            },
            "marker": {
             "colorbar": {
              "outlinewidth": 1,
              "tickcolor": "rgb(36,36,36)",
              "ticks": "outside"
             }
            },
            "type": "scatter3d"
           }
          ],
          "scattercarpet": [
           {
            "marker": {
             "colorbar": {
              "outlinewidth": 1,
              "tickcolor": "rgb(36,36,36)",
              "ticks": "outside"
             }
            },
            "type": "scattercarpet"
           }
          ],
          "scattergeo": [
           {
            "marker": {
             "colorbar": {
              "outlinewidth": 1,
              "tickcolor": "rgb(36,36,36)",
              "ticks": "outside"
             }
            },
            "type": "scattergeo"
           }
          ],
          "scattergl": [
           {
            "marker": {
             "colorbar": {
              "outlinewidth": 1,
              "tickcolor": "rgb(36,36,36)",
              "ticks": "outside"
             }
            },
            "type": "scattergl"
           }
          ],
          "scattermapbox": [
           {
            "marker": {
             "colorbar": {
              "outlinewidth": 1,
              "tickcolor": "rgb(36,36,36)",
              "ticks": "outside"
             }
            },
            "type": "scattermapbox"
           }
          ],
          "scatterpolar": [
           {
            "marker": {
             "colorbar": {
              "outlinewidth": 1,
              "tickcolor": "rgb(36,36,36)",
              "ticks": "outside"
             }
            },
            "type": "scatterpolar"
           }
          ],
          "scatterpolargl": [
           {
            "marker": {
             "colorbar": {
              "outlinewidth": 1,
              "tickcolor": "rgb(36,36,36)",
              "ticks": "outside"
             }
            },
            "type": "scatterpolargl"
           }
          ],
          "scatterternary": [
           {
            "marker": {
             "colorbar": {
              "outlinewidth": 1,
              "tickcolor": "rgb(36,36,36)",
              "ticks": "outside"
             }
            },
            "type": "scatterternary"
           }
          ],
          "surface": [
           {
            "colorbar": {
             "outlinewidth": 1,
             "tickcolor": "rgb(36,36,36)",
             "ticks": "outside"
            },
            "colorscale": [
             [
              0,
              "#440154"
             ],
             [
              0.1111111111111111,
              "#482878"
             ],
             [
              0.2222222222222222,
              "#3e4989"
             ],
             [
              0.3333333333333333,
              "#31688e"
             ],
             [
              0.4444444444444444,
              "#26828e"
             ],
             [
              0.5555555555555556,
              "#1f9e89"
             ],
             [
              0.6666666666666666,
              "#35b779"
             ],
             [
              0.7777777777777778,
              "#6ece58"
             ],
             [
              0.8888888888888888,
              "#b5de2b"
             ],
             [
              1,
              "#fde725"
             ]
            ],
            "type": "surface"
           }
          ],
          "table": [
           {
            "cells": {
             "fill": {
              "color": "rgb(237,237,237)"
             },
             "line": {
              "color": "white"
             }
            },
            "header": {
             "fill": {
              "color": "rgb(217,217,217)"
             },
             "line": {
              "color": "white"
             }
            },
            "type": "table"
           }
          ]
         },
         "layout": {
          "annotationdefaults": {
           "arrowhead": 0,
           "arrowwidth": 1
          },
          "autotypenumbers": "strict",
          "coloraxis": {
           "colorbar": {
            "outlinewidth": 1,
            "tickcolor": "rgb(36,36,36)",
            "ticks": "outside"
           }
          },
          "colorscale": {
           "diverging": [
            [
             0,
             "rgb(103,0,31)"
            ],
            [
             0.1,
             "rgb(178,24,43)"
            ],
            [
             0.2,
             "rgb(214,96,77)"
            ],
            [
             0.3,
             "rgb(244,165,130)"
            ],
            [
             0.4,
             "rgb(253,219,199)"
            ],
            [
             0.5,
             "rgb(247,247,247)"
            ],
            [
             0.6,
             "rgb(209,229,240)"
            ],
            [
             0.7,
             "rgb(146,197,222)"
            ],
            [
             0.8,
             "rgb(67,147,195)"
            ],
            [
             0.9,
             "rgb(33,102,172)"
            ],
            [
             1,
             "rgb(5,48,97)"
            ]
           ],
           "sequential": [
            [
             0,
             "#440154"
            ],
            [
             0.1111111111111111,
             "#482878"
            ],
            [
             0.2222222222222222,
             "#3e4989"
            ],
            [
             0.3333333333333333,
             "#31688e"
            ],
            [
             0.4444444444444444,
             "#26828e"
            ],
            [
             0.5555555555555556,
             "#1f9e89"
            ],
            [
             0.6666666666666666,
             "#35b779"
            ],
            [
             0.7777777777777778,
             "#6ece58"
            ],
            [
             0.8888888888888888,
             "#b5de2b"
            ],
            [
             1,
             "#fde725"
            ]
           ],
           "sequentialminus": [
            [
             0,
             "#440154"
            ],
            [
             0.1111111111111111,
             "#482878"
            ],
            [
             0.2222222222222222,
             "#3e4989"
            ],
            [
             0.3333333333333333,
             "#31688e"
            ],
            [
             0.4444444444444444,
             "#26828e"
            ],
            [
             0.5555555555555556,
             "#1f9e89"
            ],
            [
             0.6666666666666666,
             "#35b779"
            ],
            [
             0.7777777777777778,
             "#6ece58"
            ],
            [
             0.8888888888888888,
             "#b5de2b"
            ],
            [
             1,
             "#fde725"
            ]
           ]
          },
          "colorway": [
           "#1F77B4",
           "#FF7F0E",
           "#2CA02C",
           "#D62728",
           "#9467BD",
           "#8C564B",
           "#E377C2",
           "#7F7F7F",
           "#BCBD22",
           "#17BECF"
          ],
          "font": {
           "color": "rgb(36,36,36)"
          },
          "geo": {
           "bgcolor": "white",
           "lakecolor": "white",
           "landcolor": "white",
           "showlakes": true,
           "showland": true,
           "subunitcolor": "white"
          },
          "hoverlabel": {
           "align": "left"
          },
          "hovermode": "closest",
          "mapbox": {
           "style": "light"
          },
          "paper_bgcolor": "white",
          "plot_bgcolor": "white",
          "polar": {
           "angularaxis": {
            "gridcolor": "rgb(232,232,232)",
            "linecolor": "rgb(36,36,36)",
            "showgrid": false,
            "showline": true,
            "ticks": "outside"
           },
           "bgcolor": "white",
           "radialaxis": {
            "gridcolor": "rgb(232,232,232)",
            "linecolor": "rgb(36,36,36)",
            "showgrid": false,
            "showline": true,
            "ticks": "outside"
           }
          },
          "scene": {
           "xaxis": {
            "backgroundcolor": "white",
            "gridcolor": "rgb(232,232,232)",
            "gridwidth": 2,
            "linecolor": "rgb(36,36,36)",
            "showbackground": true,
            "showgrid": false,
            "showline": true,
            "ticks": "outside",
            "zeroline": false,
            "zerolinecolor": "rgb(36,36,36)"
           },
           "yaxis": {
            "backgroundcolor": "white",
            "gridcolor": "rgb(232,232,232)",
            "gridwidth": 2,
            "linecolor": "rgb(36,36,36)",
            "showbackground": true,
            "showgrid": false,
            "showline": true,
            "ticks": "outside",
            "zeroline": false,
            "zerolinecolor": "rgb(36,36,36)"
           },
           "zaxis": {
            "backgroundcolor": "white",
            "gridcolor": "rgb(232,232,232)",
            "gridwidth": 2,
            "linecolor": "rgb(36,36,36)",
            "showbackground": true,
            "showgrid": false,
            "showline": true,
            "ticks": "outside",
            "zeroline": false,
            "zerolinecolor": "rgb(36,36,36)"
           }
          },
          "shapedefaults": {
           "fillcolor": "black",
           "line": {
            "width": 0
           },
           "opacity": 0.3
          },
          "ternary": {
           "aaxis": {
            "gridcolor": "rgb(232,232,232)",
            "linecolor": "rgb(36,36,36)",
            "showgrid": false,
            "showline": true,
            "ticks": "outside"
           },
           "baxis": {
            "gridcolor": "rgb(232,232,232)",
            "linecolor": "rgb(36,36,36)",
            "showgrid": false,
            "showline": true,
            "ticks": "outside"
           },
           "bgcolor": "white",
           "caxis": {
            "gridcolor": "rgb(232,232,232)",
            "linecolor": "rgb(36,36,36)",
            "showgrid": false,
            "showline": true,
            "ticks": "outside"
           }
          },
          "title": {
           "x": 0.05
          },
          "xaxis": {
           "automargin": true,
           "gridcolor": "rgb(232,232,232)",
           "linecolor": "rgb(36,36,36)",
           "showgrid": false,
           "showline": true,
           "ticks": "outside",
           "title": {
            "standoff": 15
           },
           "zeroline": false,
           "zerolinecolor": "rgb(36,36,36)"
          },
          "yaxis": {
           "automargin": true,
           "gridcolor": "rgb(232,232,232)",
           "linecolor": "rgb(36,36,36)",
           "showgrid": false,
           "showline": true,
           "ticks": "outside",
           "title": {
            "standoff": 15
           },
           "zeroline": false,
           "zerolinecolor": "rgb(36,36,36)"
          }
         }
        },
        "title": {
         "font": {
          "color": "Black",
          "size": 22
         },
         "text": "<b>Intertopic Distance Map</b>",
         "x": 0.5,
         "xanchor": "center",
         "y": 0.95,
         "yanchor": "top"
        },
        "width": 650,
        "xaxis": {
         "anchor": "y",
         "domain": [
          0,
          1
         ],
         "range": [
          0.7022954225540161,
          3.7141170501708984
         ],
         "title": {
          "text": ""
         },
         "visible": false
        },
        "yaxis": {
         "anchor": "x",
         "domain": [
          0,
          1
         ],
         "range": [
          -8.737104415893555,
          -4.41980504989624
         ],
         "title": {
          "text": ""
         },
         "visible": false
        }
       }
      }
     },
     "metadata": {},
     "output_type": "display_data"
    }
   ],
   "source": [
    "topic_model.visualize_topics()"
   ]
  },
  {
   "cell_type": "code",
   "execution_count": 89,
   "metadata": {},
   "outputs": [
    {
     "data": {
      "text/html": [
       "<div>\n",
       "<style scoped>\n",
       "    .dataframe tbody tr th:only-of-type {\n",
       "        vertical-align: middle;\n",
       "    }\n",
       "\n",
       "    .dataframe tbody tr th {\n",
       "        vertical-align: top;\n",
       "    }\n",
       "\n",
       "    .dataframe thead th {\n",
       "        text-align: right;\n",
       "    }\n",
       "</style>\n",
       "<table border=\"1\" class=\"dataframe\">\n",
       "  <thead>\n",
       "    <tr style=\"text-align: right;\">\n",
       "      <th></th>\n",
       "      <th>Document</th>\n",
       "      <th>Topic</th>\n",
       "      <th>Name</th>\n",
       "      <th>Representation</th>\n",
       "      <th>Representative_Docs</th>\n",
       "      <th>Top_n_words</th>\n",
       "      <th>Probability</th>\n",
       "      <th>Representative_document</th>\n",
       "    </tr>\n",
       "  </thead>\n",
       "  <tbody>\n",
       "    <tr>\n",
       "      <th>0</th>\n",
       "      <td>ITEM 1A. RISK FACTORSIn evaluating NVIDIA and ...</td>\n",
       "      <td>0</td>\n",
       "      <td>0_of_the_and_our</td>\n",
       "      <td>[of, the, and, our, to, in, we, or, for, produ...</td>\n",
       "      <td>[ITEM 1A. RISK FACTORSIn evaluating NVIDIA and...</td>\n",
       "      <td>of - the - and - our - to - in - we - or - for...</td>\n",
       "      <td>0.875034</td>\n",
       "      <td>True</td>\n",
       "    </tr>\n",
       "    <tr>\n",
       "      <th>1</th>\n",
       "      <td>ITEM 1A. RISK FACTORSIn evaluating NVIDIA and ...</td>\n",
       "      <td>0</td>\n",
       "      <td>0_of_the_and_our</td>\n",
       "      <td>[of, the, and, our, to, in, we, or, for, produ...</td>\n",
       "      <td>[ITEM 1A. RISK FACTORSIn evaluating NVIDIA and...</td>\n",
       "      <td>of - the - and - our - to - in - we - or - for...</td>\n",
       "      <td>1.000000</td>\n",
       "      <td>True</td>\n",
       "    </tr>\n",
       "    <tr>\n",
       "      <th>2</th>\n",
       "      <td>ITEM 1A. RISK FACTORSIn evaluating NVIDIA and ...</td>\n",
       "      <td>0</td>\n",
       "      <td>0_of_the_and_our</td>\n",
       "      <td>[of, the, and, our, to, in, we, or, for, produ...</td>\n",
       "      <td>[ITEM 1A. RISK FACTORSIn evaluating NVIDIA and...</td>\n",
       "      <td>of - the - and - our - to - in - we - or - for...</td>\n",
       "      <td>1.000000</td>\n",
       "      <td>True</td>\n",
       "    </tr>\n",
       "    <tr>\n",
       "      <th>3</th>\n",
       "      <td>ITEM 1A. RISK FACTORSIn evaluating NVIDIA and ...</td>\n",
       "      <td>1</td>\n",
       "      <td>1_and_of_our_the</td>\n",
       "      <td>[and, of, our, the, to, in, or, we, for, may]</td>\n",
       "      <td>[ITEM 1A. RISK FACTORSIn evaluating NVIDIA and...</td>\n",
       "      <td>and - of - our - the - to - in - or - we - for...</td>\n",
       "      <td>1.000000</td>\n",
       "      <td>True</td>\n",
       "    </tr>\n",
       "    <tr>\n",
       "      <th>4</th>\n",
       "      <td>ITEM 1A. RISK FACTORSIn evaluating NVIDIA and ...</td>\n",
       "      <td>2</td>\n",
       "      <td>2_and_of_the_to</td>\n",
       "      <td>[and, of, the, to, in, our, or, we, for, year]</td>\n",
       "      <td>[ITEM 1A. RISK FACTORSIn evaluating NVIDIA and...</td>\n",
       "      <td>and - of - the - to - in - our - or - we - for...</td>\n",
       "      <td>1.000000</td>\n",
       "      <td>True</td>\n",
       "    </tr>\n",
       "    <tr>\n",
       "      <th>5</th>\n",
       "      <td>ITEM 1A. RISK FACTORSIn evaluating NVIDIA and ...</td>\n",
       "      <td>2</td>\n",
       "      <td>2_and_of_the_to</td>\n",
       "      <td>[and, of, the, to, in, our, or, we, for, year]</td>\n",
       "      <td>[ITEM 1A. RISK FACTORSIn evaluating NVIDIA and...</td>\n",
       "      <td>and - of - the - to - in - our - or - we - for...</td>\n",
       "      <td>1.000000</td>\n",
       "      <td>True</td>\n",
       "    </tr>\n",
       "    <tr>\n",
       "      <th>6</th>\n",
       "      <td>ITEM 1A. RISK FACTORSIn evaluating NVIDIA and ...</td>\n",
       "      <td>3</td>\n",
       "      <td>3_and_of_our_the</td>\n",
       "      <td>[and, of, our, the, to, in, or, we, for, on]</td>\n",
       "      <td>[ITEM 1A. RISK FACTORSIn evaluating NVIDIA and...</td>\n",
       "      <td>and - of - our - the - to - in - or - we - for...</td>\n",
       "      <td>1.000000</td>\n",
       "      <td>True</td>\n",
       "    </tr>\n",
       "    <tr>\n",
       "      <th>7</th>\n",
       "      <td>ITEM 1A. RISK FACTORSIn evaluating NVIDIA and ...</td>\n",
       "      <td>3</td>\n",
       "      <td>3_and_of_our_the</td>\n",
       "      <td>[and, of, our, the, to, in, or, we, for, on]</td>\n",
       "      <td>[ITEM 1A. RISK FACTORSIn evaluating NVIDIA and...</td>\n",
       "      <td>and - of - our - the - to - in - or - we - for...</td>\n",
       "      <td>1.000000</td>\n",
       "      <td>True</td>\n",
       "    </tr>\n",
       "    <tr>\n",
       "      <th>8</th>\n",
       "      <td>ITEM 1A. RISK FACTORSIn evaluating NVIDIA, the...</td>\n",
       "      <td>1</td>\n",
       "      <td>1_and_of_our_the</td>\n",
       "      <td>[and, of, our, the, to, in, or, we, for, may]</td>\n",
       "      <td>[ITEM 1A. RISK FACTORSIn evaluating NVIDIA and...</td>\n",
       "      <td>and - of - our - the - to - in - or - we - for...</td>\n",
       "      <td>1.000000</td>\n",
       "      <td>True</td>\n",
       "    </tr>\n",
       "    <tr>\n",
       "      <th>9</th>\n",
       "      <td>ITEM 1A. RISK FACTORSIn evaluating NVIDIA, the...</td>\n",
       "      <td>4</td>\n",
       "      <td>4_and_our_to_of</td>\n",
       "      <td>[and, our, to, of, or, the, in, we, may, for]</td>\n",
       "      <td>[ITEM 1A. RISK FACTORSIn evaluating NVIDIA, th...</td>\n",
       "      <td>and - our - to - of - or - the - in - we - may...</td>\n",
       "      <td>1.000000</td>\n",
       "      <td>True</td>\n",
       "    </tr>\n",
       "    <tr>\n",
       "      <th>10</th>\n",
       "      <td>&gt;Item 1A.  Risk Factors The following risk fac...</td>\n",
       "      <td>4</td>\n",
       "      <td>4_and_our_to_of</td>\n",
       "      <td>[and, our, to, of, or, the, in, we, may, for]</td>\n",
       "      <td>[ITEM 1A. RISK FACTORSIn evaluating NVIDIA, th...</td>\n",
       "      <td>and - our - to - of - or - the - in - we - may...</td>\n",
       "      <td>1.000000</td>\n",
       "      <td>True</td>\n",
       "    </tr>\n",
       "  </tbody>\n",
       "</table>\n",
       "</div>"
      ],
      "text/plain": [
       "                                             Document  Topic  \\\n",
       "0   ITEM 1A. RISK FACTORSIn evaluating NVIDIA and ...      0   \n",
       "1   ITEM 1A. RISK FACTORSIn evaluating NVIDIA and ...      0   \n",
       "2   ITEM 1A. RISK FACTORSIn evaluating NVIDIA and ...      0   \n",
       "3   ITEM 1A. RISK FACTORSIn evaluating NVIDIA and ...      1   \n",
       "4   ITEM 1A. RISK FACTORSIn evaluating NVIDIA and ...      2   \n",
       "5   ITEM 1A. RISK FACTORSIn evaluating NVIDIA and ...      2   \n",
       "6   ITEM 1A. RISK FACTORSIn evaluating NVIDIA and ...      3   \n",
       "7   ITEM 1A. RISK FACTORSIn evaluating NVIDIA and ...      3   \n",
       "8   ITEM 1A. RISK FACTORSIn evaluating NVIDIA, the...      1   \n",
       "9   ITEM 1A. RISK FACTORSIn evaluating NVIDIA, the...      4   \n",
       "10  >Item 1A.  Risk Factors The following risk fac...      4   \n",
       "\n",
       "                Name                                     Representation  \\\n",
       "0   0_of_the_and_our  [of, the, and, our, to, in, we, or, for, produ...   \n",
       "1   0_of_the_and_our  [of, the, and, our, to, in, we, or, for, produ...   \n",
       "2   0_of_the_and_our  [of, the, and, our, to, in, we, or, for, produ...   \n",
       "3   1_and_of_our_the      [and, of, our, the, to, in, or, we, for, may]   \n",
       "4    2_and_of_the_to     [and, of, the, to, in, our, or, we, for, year]   \n",
       "5    2_and_of_the_to     [and, of, the, to, in, our, or, we, for, year]   \n",
       "6   3_and_of_our_the       [and, of, our, the, to, in, or, we, for, on]   \n",
       "7   3_and_of_our_the       [and, of, our, the, to, in, or, we, for, on]   \n",
       "8   1_and_of_our_the      [and, of, our, the, to, in, or, we, for, may]   \n",
       "9    4_and_our_to_of      [and, our, to, of, or, the, in, we, may, for]   \n",
       "10   4_and_our_to_of      [and, our, to, of, or, the, in, we, may, for]   \n",
       "\n",
       "                                  Representative_Docs  \\\n",
       "0   [ITEM 1A. RISK FACTORSIn evaluating NVIDIA and...   \n",
       "1   [ITEM 1A. RISK FACTORSIn evaluating NVIDIA and...   \n",
       "2   [ITEM 1A. RISK FACTORSIn evaluating NVIDIA and...   \n",
       "3   [ITEM 1A. RISK FACTORSIn evaluating NVIDIA and...   \n",
       "4   [ITEM 1A. RISK FACTORSIn evaluating NVIDIA and...   \n",
       "5   [ITEM 1A. RISK FACTORSIn evaluating NVIDIA and...   \n",
       "6   [ITEM 1A. RISK FACTORSIn evaluating NVIDIA and...   \n",
       "7   [ITEM 1A. RISK FACTORSIn evaluating NVIDIA and...   \n",
       "8   [ITEM 1A. RISK FACTORSIn evaluating NVIDIA and...   \n",
       "9   [ITEM 1A. RISK FACTORSIn evaluating NVIDIA, th...   \n",
       "10  [ITEM 1A. RISK FACTORSIn evaluating NVIDIA, th...   \n",
       "\n",
       "                                          Top_n_words  Probability  \\\n",
       "0   of - the - and - our - to - in - we - or - for...     0.875034   \n",
       "1   of - the - and - our - to - in - we - or - for...     1.000000   \n",
       "2   of - the - and - our - to - in - we - or - for...     1.000000   \n",
       "3   and - of - our - the - to - in - or - we - for...     1.000000   \n",
       "4   and - of - the - to - in - our - or - we - for...     1.000000   \n",
       "5   and - of - the - to - in - our - or - we - for...     1.000000   \n",
       "6   and - of - our - the - to - in - or - we - for...     1.000000   \n",
       "7   and - of - our - the - to - in - or - we - for...     1.000000   \n",
       "8   and - of - our - the - to - in - or - we - for...     1.000000   \n",
       "9   and - our - to - of - or - the - in - we - may...     1.000000   \n",
       "10  and - our - to - of - or - the - in - we - may...     1.000000   \n",
       "\n",
       "    Representative_document  \n",
       "0                      True  \n",
       "1                      True  \n",
       "2                      True  \n",
       "3                      True  \n",
       "4                      True  \n",
       "5                      True  \n",
       "6                      True  \n",
       "7                      True  \n",
       "8                      True  \n",
       "9                      True  \n",
       "10                     True  "
      ]
     },
     "execution_count": 89,
     "metadata": {},
     "output_type": "execute_result"
    }
   ],
   "source": [
    "topic_model.get_document_info(test)"
   ]
  },
  {
   "cell_type": "code",
   "execution_count": null,
   "metadata": {},
   "outputs": [],
   "source": []
  }
 ],
 "metadata": {
  "kernelspec": {
   "display_name": "Python 3",
   "language": "python",
   "name": "python3"
  },
  "language_info": {
   "codemirror_mode": {
    "name": "ipython",
    "version": 3
   },
   "file_extension": ".py",
   "mimetype": "text/x-python",
   "name": "python",
   "nbconvert_exporter": "python",
   "pygments_lexer": "ipython3",
   "version": "3.11.4"
  }
 },
 "nbformat": 4,
 "nbformat_minor": 2
}
