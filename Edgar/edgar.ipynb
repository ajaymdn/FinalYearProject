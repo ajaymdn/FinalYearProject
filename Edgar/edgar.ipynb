{
 "cells": [
  {
   "cell_type": "code",
   "execution_count": 1,
   "metadata": {},
   "outputs": [],
   "source": [
    "from sec_edgar_api import EdgarClient\n",
    "import json\n",
    "import os\n",
    "from tqdm import tqdm"
   ]
  },
  {
   "cell_type": "code",
   "execution_count": 2,
   "metadata": {},
   "outputs": [],
   "source": [
    "def get_filings(ciks, target_year, industry):\n",
    "    edgar = EdgarClient(user_agent=\"<Sample Company Name> <Admin Contact>@<Sample Company Domain>\")\n",
    "\n",
    "    # List to collect all 10-K filings for the target year across companies\n",
    "    all_filings_for_year = []\n",
    "\n",
    "    error_ciks = []\n",
    "\n",
    "    # Loop through each CIK (company)\n",
    "    for cik in ciks:\n",
    "        try:\n",
    "            # Get the submission data for the CIK\n",
    "            data = edgar.get_submissions(cik)\n",
    "\n",
    "            # Extract the company name (tickers) from the submission data\n",
    "            company = data.get('tickers', [])[0] if 'tickers' in data else \"Unknown_Company\"\n",
    "            \n",
    "            recent_filings = data.get('filings', {}).get('recent', {})\n",
    "            forms = recent_filings.get('form', [])\n",
    "            accession_numbers = recent_filings.get('accessionNumber', [])\n",
    "            filing_dates = recent_filings.get('filingDate', [])\n",
    "\n",
    "            # Filter for 10-K filings from the specific year\n",
    "            ten_k_filings = [\n",
    "                {\"company\": company, \"accessionNumber\": accession, \"filingDate\": filing_date}\n",
    "                for form, accession, filing_date in zip(forms, accession_numbers, filing_dates)\n",
    "                if form == \"10-K\" and filing_date.startswith(str(target_year))\n",
    "            ]\n",
    "\n",
    "            # Add the filtered 10-K filings to the all_filings_for_year list\n",
    "            all_filings_for_year.extend(ten_k_filings)\n",
    "\n",
    "            # Prepare formatted URLs for each 10-K filing\n",
    "            for filing in ten_k_filings:\n",
    "                accession_number = filing.get(\"accessionNumber\", \"\")\n",
    "                filing_date = filing.get(\"filingDate\", \"\")\n",
    "                company = filing.get(\"company\", \"\")\n",
    "                \n",
    "                if accession_number and filing_date:\n",
    "                    year = filing_date[:4]  # Extract the year from the filing date\n",
    "                    formatted_accession = accession_number.replace(\"-\", \"\")\n",
    "                    url = f\"https://www.sec.gov/Archives/edgar/data/{cik}/{formatted_accession}/{accession_number}.txt\"\n",
    "                    filing[\"url\"] = url  # Add the URL to the filing\n",
    "\n",
    "        except Exception as e:\n",
    "            error_ciks.append(cik)\n",
    "            # print(f\"Error getting submissions for CIK: {cik}\")\n",
    "            # print(e)\n",
    "            continue\n",
    "\n",
    "    print(f\"Error CIKs: {error_ciks}\")\n",
    "    # Save all 10-K filings for the target year in a single JSON file\n",
    "    output_file_path = f'./10K_URL_{industry}/All_10K_Filings_{target_year}.json'\n",
    "    os.makedirs(os.path.dirname(output_file_path), exist_ok=True)  # Create directory if it doesn't exist\n",
    "    \n",
    "    # Write the accumulated filings to a JSON file\n",
    "    with open(output_file_path, 'w') as output_file:\n",
    "        json.dump(all_filings_for_year, output_file, indent=4)"
   ]
  },
  {
   "cell_type": "code",
   "execution_count": 3,
   "metadata": {},
   "outputs": [
    {
     "name": "stderr",
     "output_type": "stream",
     "text": [
      "  0%|          | 0/11 [00:00<?, ?it/s]"
     ]
    },
    {
     "name": "stdout",
     "output_type": "stream",
     "text": [
      "Getting 10-K filings for the year 2014...\n"
     ]
    },
    {
     "name": "stderr",
     "output_type": "stream",
     "text": [
      "  9%|▉         | 1/11 [00:31<05:18, 31.85s/it]"
     ]
    },
    {
     "name": "stdout",
     "output_type": "stream",
     "text": [
      "Error CIKs: ['353569', '1288776', '70878', '356028', '1439404', '1463172', '17275', '1171012', '1087423', '1627610', '944957', '1124610', '1459987', '1512157', '1695933', '1659165', '1353283', '1126225', '1068875', '1380846', '1460800', '1563962', '1502074', '1324272', '1652525', '1637243', '1568378', '1477603', '1547752', '1546363', '1402043', '1579984', '1578981', '1600357', '1629636', '1356104', '1509432', '1664974', '1367623', '1640755', '1171023', '1525169']\n",
      "10-K filings for the year 2014 have been saved!\n",
      "Getting 10-K filings for the year 2015...\n"
     ]
    },
    {
     "name": "stderr",
     "output_type": "stream",
     "text": [
      " 18%|█▊        | 2/11 [00:55<04:05, 27.28s/it]"
     ]
    },
    {
     "name": "stdout",
     "output_type": "stream",
     "text": [
      "Error CIKs: ['353569', '1288776', '70878', '356028', '1439404', '1463172', '17275', '1171012', '1087423', '1627610', '944957', '1124610', '1459987', '1512157', '1695933', '1659165', '1353283', '1126225', '1068875', '1380846', '1460800', '1563962', '1502074', '1324272', '1652525', '1637243', '1568378', '1477603', '1547752', '1546363', '1402043', '1579984', '1578981', '1600357', '1629636', '1356104', '1509432', '1664974', '1367623', '1640755', '1171023', '1525169']\n",
      "10-K filings for the year 2015 have been saved!\n",
      "Getting 10-K filings for the year 2016...\n"
     ]
    },
    {
     "name": "stderr",
     "output_type": "stream",
     "text": [
      " 27%|██▋       | 3/11 [01:22<03:36, 27.12s/it]"
     ]
    },
    {
     "name": "stdout",
     "output_type": "stream",
     "text": [
      "Error CIKs: ['353569', '1288776', '70878', '356028', '1439404', '1463172', '17275', '1171012', '1087423', '1627610', '944957', '1124610', '1459987', '1512157', '1695933', '1659165', '1353283', '1126225', '1068875', '1380846', '1460800', '1563962', '1502074', '1324272', '1652525', '1637243', '1568378', '1477603', '1547752', '1546363', '1402043', '1579984', '1578981', '1600357', '1629636', '1356104', '1509432', '1664974', '1367623', '1640755', '1171023', '1525169']\n",
      "10-K filings for the year 2016 have been saved!\n",
      "Getting 10-K filings for the year 2017...\n"
     ]
    },
    {
     "name": "stderr",
     "output_type": "stream",
     "text": [
      " 36%|███▋      | 4/11 [01:55<03:24, 29.28s/it]"
     ]
    },
    {
     "name": "stdout",
     "output_type": "stream",
     "text": [
      "Error CIKs: ['353569', '1288776', '70878', '356028', '1439404', '1463172', '17275', '1171012', '1087423', '1627610', '944957', '1124610', '1459987', '1512157', '1695933', '1659165', '1353283', '1126225', '1068875', '1380846', '1460800', '1563962', '1502074', '1324272', '1652525', '1637243', '1568378', '1477603', '1547752', '1546363', '1402043', '1579984', '1578981', '1600357', '1629636', '1356104', '1509432', '1664974', '1367623', '1640755', '1171023', '1525169']\n",
      "10-K filings for the year 2017 have been saved!\n",
      "Getting 10-K filings for the year 2018...\n"
     ]
    },
    {
     "name": "stderr",
     "output_type": "stream",
     "text": [
      " 45%|████▌     | 5/11 [02:23<02:53, 28.97s/it]"
     ]
    },
    {
     "name": "stdout",
     "output_type": "stream",
     "text": [
      "Error CIKs: ['353569', '1288776', '70878', '356028', '1439404', '1463172', '17275', '1171012', '1087423', '1627610', '944957', '1124610', '1459987', '1512157', '1695933', '1659165', '1353283', '1126225', '1068875', '1380846', '1460800', '1563962', '1502074', '1324272', '1652525', '1637243', '1568378', '1477603', '1547752', '1546363', '1402043', '1579984', '1578981', '1600357', '1629636', '1356104', '1509432', '1664974', '1367623', '1640755', '1171023', '1525169']\n",
      "10-K filings for the year 2018 have been saved!\n",
      "Getting 10-K filings for the year 2019...\n"
     ]
    },
    {
     "name": "stderr",
     "output_type": "stream",
     "text": [
      " 55%|█████▍    | 6/11 [03:02<02:41, 32.24s/it]"
     ]
    },
    {
     "name": "stdout",
     "output_type": "stream",
     "text": [
      "Error CIKs: ['353569', '1288776', '70878', '356028', '1439404', '1463172', '17275', '1171012', '1087423', '1627610', '944957', '1124610', '1459987', '1512157', '1695933', '1659165', '1353283', '1126225', '1068875', '1380846', '1460800', '1563962', '1502074', '1324272', '1652525', '1637243', '1568378', '1477603', '1547752', '1546363', '1402043', '1579984', '1578981', '1600357', '1629636', '1356104', '1509432', '1664974', '1367623', '1640755', '1171023', '1525169']\n",
      "10-K filings for the year 2019 have been saved!\n",
      "Getting 10-K filings for the year 2020...\n"
     ]
    },
    {
     "name": "stderr",
     "output_type": "stream",
     "text": [
      " 64%|██████▎   | 7/11 [03:30<02:03, 30.91s/it]"
     ]
    },
    {
     "name": "stdout",
     "output_type": "stream",
     "text": [
      "Error CIKs: ['353569', '1288776', '70878', '356028', '1439404', '1463172', '17275', '1171012', '1087423', '1627610', '944957', '1124610', '1459987', '1512157', '1695933', '1659165', '1353283', '1126225', '1068875', '1380846', '1460800', '1563962', '1502074', '1324272', '1652525', '1637243', '1568378', '1477603', '1547752', '1546363', '1402043', '1579984', '1578981', '1600357', '1629636', '1356104', '1509432', '1664974', '1367623', '1640755', '1171023', '1525169']\n",
      "10-K filings for the year 2020 have been saved!\n",
      "Getting 10-K filings for the year 2021...\n"
     ]
    },
    {
     "name": "stderr",
     "output_type": "stream",
     "text": [
      " 73%|███████▎  | 8/11 [03:56<01:28, 29.35s/it]"
     ]
    },
    {
     "name": "stdout",
     "output_type": "stream",
     "text": [
      "Error CIKs: ['353569', '1288776', '70878', '356028', '1439404', '1463172', '17275', '1171012', '1087423', '1627610', '944957', '1124610', '1459987', '1512157', '1695933', '1659165', '1353283', '1126225', '1068875', '1380846', '1460800', '1563962', '1502074', '1324272', '1652525', '1637243', '1568378', '1477603', '1547752', '1546363', '1402043', '1579984', '1578981', '1600357', '1629636', '1356104', '1509432', '1664974', '1367623', '1640755', '1171023', '1525169']\n",
      "10-K filings for the year 2021 have been saved!\n",
      "Getting 10-K filings for the year 2022...\n"
     ]
    },
    {
     "name": "stderr",
     "output_type": "stream",
     "text": [
      " 82%|████████▏ | 9/11 [04:26<00:58, 29.40s/it]"
     ]
    },
    {
     "name": "stdout",
     "output_type": "stream",
     "text": [
      "Error CIKs: ['353569', '1288776', '70878', '356028', '1439404', '1463172', '17275', '1171012', '1087423', '1627610', '944957', '1124610', '1459987', '1512157', '1695933', '1659165', '1353283', '1126225', '1068875', '1380846', '1460800', '1563962', '1502074', '1324272', '1652525', '1637243', '1568378', '1477603', '1547752', '1546363', '1402043', '1579984', '1578981', '1600357', '1629636', '1356104', '1509432', '1664974', '1367623', '1640755', '1171023', '1525169']\n",
      "10-K filings for the year 2022 have been saved!\n",
      "Getting 10-K filings for the year 2023...\n"
     ]
    },
    {
     "name": "stderr",
     "output_type": "stream",
     "text": [
      " 91%|█████████ | 10/11 [04:50<00:27, 28.00s/it]"
     ]
    },
    {
     "name": "stdout",
     "output_type": "stream",
     "text": [
      "Error CIKs: ['353569', '1288776', '70878', '356028', '1439404', '1463172', '17275', '1171012', '1087423', '1627610', '944957', '1124610', '1459987', '1512157', '1695933', '1659165', '1353283', '1126225', '1068875', '1380846', '1460800', '1563962', '1502074', '1324272', '1652525', '1637243', '1568378', '1477603', '1547752', '1546363', '1402043', '1579984', '1578981', '1600357', '1629636', '1356104', '1509432', '1664974', '1367623', '1640755', '1171023', '1525169']\n",
      "10-K filings for the year 2023 have been saved!\n",
      "Getting 10-K filings for the year 2024...\n"
     ]
    },
    {
     "name": "stderr",
     "output_type": "stream",
     "text": [
      "100%|██████████| 11/11 [05:18<00:00, 28.96s/it]"
     ]
    },
    {
     "name": "stdout",
     "output_type": "stream",
     "text": [
      "Error CIKs: ['353569', '1288776', '70878', '356028', '1439404', '1463172', '17275', '1171012', '1087423', '1627610', '944957', '1124610', '1459987', '1512157', '1695933', '1659165', '1353283', '1126225', '1068875', '1380846', '1460800', '1563962', '1502074', '1324272', '1652525', '1637243', '1568378', '1477603', '1547752', '1546363', '1402043', '1579984', '1578981', '1600357', '1629636', '1356104', '1509432', '1664974', '1367623', '1640755', '1171023', '1525169']\n",
      "10-K filings for the year 2024 have been saved!\n"
     ]
    },
    {
     "name": "stderr",
     "output_type": "stream",
     "text": [
      "\n"
     ]
    }
   ],
   "source": [
    "# Industries: TECH, OIL, HEALTH\n",
    "\n",
    "target_years = [2014, 2015, 2016, 2017, 2018, 2019, 2020, 2021, 2022, 2023, 2024]\n",
    "industry = \"TECH\"\n",
    "# ciks = [\"320193\", \"1018724\", \"1045810\", \"1065280\", \"1341439\", \"858877\", \"1326801\", \"804328\", \"1645590\", \"1535527\", \"1633917\", \"1477333\", \"712515\"]\n",
    "# ciks = [\"320193\", \"1018724\", \"1045810\", \"1065280\", \"1341439\", \"858877\", \"1326801\", \"804328\", \"1645590\", \"1535527\", \"1633917\", \"1477333\", \"712515\"]\n",
    "\n",
    "with open(\"./ciks.json\", 'r') as file:\n",
    "        ciks_data = json.load(file)\n",
    "\n",
    "ciks = ciks_data[industry]\n",
    "\n",
    "for year in tqdm(target_years):\n",
    "    print(f\"Getting 10-K filings for the year {year}...\")\n",
    "    get_filings(ciks, year, industry)\n",
    "    print(f\"10-K filings for the year {year} have been saved!\")\n",
    "\n",
    "\n",
    "# \"796343\", \"0000789019, \"0001108524\",  \"0001318605\", \"51143\", \"50863\", \"796343\", \"2488\", \"1571996\", \"1321655\","
   ]
  },
  {
   "cell_type": "code",
   "execution_count": null,
   "metadata": {},
   "outputs": [],
   "source": []
  }
 ],
 "metadata": {
  "kernelspec": {
   "display_name": "Python 3",
   "language": "python",
   "name": "python3"
  },
  "language_info": {
   "codemirror_mode": {
    "name": "ipython",
    "version": 3
   },
   "file_extension": ".py",
   "mimetype": "text/x-python",
   "name": "python",
   "nbconvert_exporter": "python",
   "pygments_lexer": "ipython3",
   "version": "3.11.4"
  }
 },
 "nbformat": 4,
 "nbformat_minor": 2
}
