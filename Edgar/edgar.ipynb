{
 "cells": [
  {
   "cell_type": "code",
   "execution_count": 1,
   "metadata": {},
   "outputs": [],
   "source": [
    "from sec_edgar_api import EdgarClient\n",
    "import json\n",
    "import os"
   ]
  },
  {
   "cell_type": "code",
   "execution_count": 32,
   "metadata": {},
   "outputs": [],
   "source": [
    "def get_filings(ciks, target_year):\n",
    "    edgar = EdgarClient(user_agent=\"<Sample Company Name> <Admin Contact>@<Sample Company Domain>\")\n",
    "\n",
    "    # List to collect all 10-K filings for the target year across companies\n",
    "    all_filings_for_year = []\n",
    "\n",
    "    # Loop through each CIK (company)\n",
    "    for cik in ciks:\n",
    "        print(f\"Getting 10-K filings for CIK: {cik}...\")\n",
    "        data = edgar.get_submissions(cik)\n",
    "        \n",
    "        # Extract the company name (tickers) from the submission data\n",
    "        company = data.get('tickers', [])[0] if 'tickers' in data else \"Unknown_Company\"\n",
    "        \n",
    "        recent_filings = data.get('filings', {}).get('recent', {})\n",
    "        forms = recent_filings.get('form', [])\n",
    "        accession_numbers = recent_filings.get('accessionNumber', [])\n",
    "        filing_dates = recent_filings.get('filingDate', [])\n",
    "\n",
    "        # Filter for 10-K filings from the specific year\n",
    "        ten_k_filings = [\n",
    "            {\"company\": company, \"accessionNumber\": accession, \"filingDate\": filing_date}\n",
    "            for form, accession, filing_date in zip(forms, accession_numbers, filing_dates)\n",
    "            if form == \"10-K\" and filing_date.startswith(str(target_year))\n",
    "        ]\n",
    "\n",
    "        # Add the filtered 10-K filings to the all_filings_for_year list\n",
    "        all_filings_for_year.extend(ten_k_filings)\n",
    "\n",
    "        # Prepare formatted URLs for each 10-K filing\n",
    "        for filing in ten_k_filings:\n",
    "            accession_number = filing.get(\"accessionNumber\", \"\")\n",
    "            filing_date = filing.get(\"filingDate\", \"\")\n",
    "            company = filing.get(\"company\", \"\")\n",
    "            \n",
    "            if accession_number and filing_date:\n",
    "                year = filing_date[:4]  # Extract the year from the filing date\n",
    "                formatted_accession = accession_number.replace(\"-\", \"\")\n",
    "                url = f\"https://www.sec.gov/Archives/edgar/data/{cik}/{formatted_accession}/{accession_number}.txt\"\n",
    "                filing[\"url\"] = url  # Add the URL to the filing\n",
    "\n",
    "    # Save all 10-K filings for the target year in a single JSON file\n",
    "    output_file_path = f'./10K-URL/All_10K_Filings_{target_year}.json'\n",
    "    os.makedirs(os.path.dirname(output_file_path), exist_ok=True)  # Create directory if it doesn't exist\n",
    "    \n",
    "    # Write the accumulated filings to a JSON file\n",
    "    with open(output_file_path, 'w') as output_file:\n",
    "        json.dump(all_filings_for_year, output_file, indent=4)"
   ]
  },
  {
   "cell_type": "code",
   "execution_count": 34,
   "metadata": {},
   "outputs": [
    {
     "name": "stdout",
     "output_type": "stream",
     "text": [
      "Getting 10-K filings for CIK: 0000320193...\n",
      "Getting 10-K filings for CIK: 0001018724...\n",
      "Getting 10-K filings for CIK: 0001045810...\n",
      "Getting 10-K filings for CIK: 0001065280...\n",
      "Getting 10-K filings for CIK: 0001318605...\n",
      "Getting 10-K filings for CIK: 0000789019...\n"
     ]
    }
   ],
   "source": [
    "# AAPL, AMZN, NVDA, NFLX, IBM, QUALCOMM, TWITTER\n",
    "ciks = [\"0000320193\", \"0001018724\", \"0001045810\", \"0001065280\", \"0001318605\", \"0000789019\"]  # Example CIKs for Apple, Microsoft, and Google\n",
    "target_year = 2020\n",
    "get_filings(ciks, target_year)\n"
   ]
  },
  {
   "cell_type": "code",
   "execution_count": null,
   "metadata": {},
   "outputs": [],
   "source": []
  }
 ],
 "metadata": {
  "kernelspec": {
   "display_name": "Python 3",
   "language": "python",
   "name": "python3"
  },
  "language_info": {
   "codemirror_mode": {
    "name": "ipython",
    "version": 3
   },
   "file_extension": ".py",
   "mimetype": "text/x-python",
   "name": "python",
   "nbconvert_exporter": "python",
   "pygments_lexer": "ipython3",
   "version": "3.11.4"
  }
 },
 "nbformat": 4,
 "nbformat_minor": 2
}
