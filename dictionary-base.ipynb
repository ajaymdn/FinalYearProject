{
 "cells": [
  {
   "cell_type": "code",
   "execution_count": 7,
   "metadata": {},
   "outputs": [],
   "source": [
    "import re\n",
    "import pandas as pd\n",
    "from collections import Counter\n",
    "import json"
   ]
  },
  {
   "cell_type": "code",
   "execution_count": 24,
   "metadata": {},
   "outputs": [],
   "source": [
    "def load_esg_dictionaries(json_file_path=\"words.json\"):\n",
    "    with open(json_file_path, 'r') as file:\n",
    "        esg_dictionaries = json.load(file)\n",
    "    \n",
    "    return esg_dictionaries\n"
   ]
  },
  {
   "cell_type": "code",
   "execution_count": 25,
   "metadata": {},
   "outputs": [],
   "source": [
    "def preprocess_text(text):\n",
    "    text = text.lower()\n",
    "    text = re.sub(r'[^a-z0-9\\s]', '', text)\n",
    "    return text"
   ]
  },
  {
   "cell_type": "code",
   "execution_count": 32,
   "metadata": {},
   "outputs": [],
   "source": [
    "def analyze_esg(text, esg_dictionaries):\n",
    "    text = preprocess_text(text)\n",
    "    word_counts = Counter(text.split())\n",
    "    \n",
    "    esg_scores = {key: 0 for key in esg_dictionaries.keys()}\n",
    "    \n",
    "    for category, keywords in esg_dictionaries.items():\n",
    "        for keyword in keywords:\n",
    "            esg_scores[category] += word_counts.get(keyword, 0)\n",
    "    \n",
    "    total_words = sum(word_counts.values())\n",
    "    print(f\"total words: {total_words}\")\n",
    "    esg_scores_normalized = {k: v / total_words for k, v in esg_scores.items()}\n",
    "    \n",
    "    return esg_scores, esg_scores_normalized"
   ]
  },
  {
   "cell_type": "code",
   "execution_count": 33,
   "metadata": {},
   "outputs": [],
   "source": [
    "def process_10k_file(file_path):\n",
    "    with open(file_path, \"r\") as file:\n",
    "        text = file.read()\n",
    "    \n",
    "    # Load ESG dictionaries\n",
    "    esg_dictionaries = load_esg_dictionaries()\n",
    "    \n",
    "    # Analyze the text\n",
    "    esg_scores, esg_scores_normalized = analyze_esg(text, esg_dictionaries)\n",
    "    \n",
    "    return esg_scores, esg_scores_normalized"
   ]
  },
  {
   "cell_type": "code",
   "execution_count": 34,
   "metadata": {},
   "outputs": [
    {
     "name": "stdout",
     "output_type": "stream",
     "text": [
      "total words: 40499\n",
      "Raw ESG Scores: {'environmental': 259, 'social': 505, 'governance': 491}\n",
      "Normalized ESG Scores: {'environmental': 0.006395219635052718, 'social': 0.012469443689967654, 'governance': 0.012123756142126966}\n"
     ]
    }
   ],
   "source": [
    "# Example usage\n",
    "file_path = \"./10K-TXT/10k.txt\"  # Path to your 10-K file\n",
    "esg_scores, esg_scores_normalized = process_10k_file(file_path)\n",
    "\n",
    "print(\"Raw ESG Scores:\", esg_scores)\n",
    "print(\"Normalized ESG Scores:\", esg_scores_normalized)"
   ]
  },
  {
   "cell_type": "code",
   "execution_count": null,
   "metadata": {},
   "outputs": [],
   "source": []
  }
 ],
 "metadata": {
  "kernelspec": {
   "display_name": "Python 3",
   "language": "python",
   "name": "python3"
  },
  "language_info": {
   "codemirror_mode": {
    "name": "ipython",
    "version": 3
   },
   "file_extension": ".py",
   "mimetype": "text/x-python",
   "name": "python",
   "nbconvert_exporter": "python",
   "pygments_lexer": "ipython3",
   "version": "3.11.4"
  }
 },
 "nbformat": 4,
 "nbformat_minor": 2
}
