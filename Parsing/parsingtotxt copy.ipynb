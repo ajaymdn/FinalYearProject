{
 "cells": [
  {
   "cell_type": "code",
   "execution_count": 3,
   "metadata": {},
   "outputs": [],
   "source": [
    "# Import requests to retrive Web Urls example HTML. TXT \n",
    "import requests\n",
    "\n",
    "# Import BeautifulSoup\n",
    "from bs4 import BeautifulSoup\n",
    "\n",
    "# import re module for REGEXes\n",
    "import re\n",
    "\n",
    "# import pandas\n",
    "import pandas as pd"
   ]
  },
  {
   "cell_type": "code",
   "execution_count": 4,
   "metadata": {},
   "outputs": [],
   "source": [
    "def converttotext(url):\n",
    "    headers = {'User-Agent':'Sample Company Name AdminContact@<sample company domain>.com','Accept-Encoding':'gzip, deflate','Host':'www.sec.gov'}\n",
    "\n",
    "    r = requests.get(url, headers=headers)\n",
    "\n",
    "    raw_10k = r.text\n",
    "\n",
    "    doc_start_pattern = re.compile(r'<DOCUMENT>')\n",
    "    doc_end_pattern = re.compile(r'</DOCUMENT>')\n",
    "    type_pattern = re.compile(r'<TYPE>[^\\n]+')\n",
    "\n",
    "    doc_start_is = [x.end() for x in doc_start_pattern.finditer(raw_10k)]\n",
    "    doc_end_is = [x.start() for x in doc_end_pattern.finditer(raw_10k)]\n",
    "\n",
    "    doc_types = [x[len('<TYPE>'):] for x in type_pattern.findall(raw_10k)]\n",
    "\n",
    "    # Initialize a dictionary to store the 10-K section\n",
    "    document = {}\n",
    "    \n",
    "    # Extract the 10-K section from the document\n",
    "    for doc_type, doc_start, doc_end in zip(doc_types, doc_start_is, doc_end_is):\n",
    "        if doc_type == '10-K':\n",
    "            document[doc_type] = raw_10k[doc_start:doc_end]\n",
    "\n",
    "    # Regex to find relevant sections like \"Item 1A\", \"Item 7\", \"Item 7A\", etc.\n",
    "    regex = re.compile(r'(>Item(\\s|&#160;|&nbsp;)(\\d+[A-Za-z]?)[\\.]?)')\n",
    "\n",
    "    \n",
    "    # Find matches for items in the 10-K content\n",
    "    matches = regex.finditer(document['10-K'])\n",
    "\n",
    "    match_data = pd.DataFrame([(x.group(3), x.start(), x.end()) for x in matches])\n",
    "    match_data.columns = ['item', 'start', 'end']\n",
    "\n",
    "    # Clean the item names and text\n",
    "    match_data['item'] = match_data['item'].str.lower()  # Normalize to lowercase\n",
    "    match_data.replace('&#160;', ' ', regex=True, inplace=True)\n",
    "    match_data.replace('&nbsp;', ' ', regex=True, inplace=True)\n",
    "    match_data.replace(' ', '', regex=True, inplace=True)\n",
    "    match_data.replace('\\.', '', regex=True, inplace=True)\n",
    "    match_data.replace('>', '', regex=True, inplace=True)\n",
    "\n",
    "    pos_dat = match_data.sort_values('start', ascending=True).drop_duplicates(subset=['item'], keep='last')\n",
    "    pos_dat.set_index('item', inplace=True)\n",
    "\n",
    "    items_content = {}\n",
    "    for item in pos_dat.index:\n",
    "        start_pos = pos_dat['start'].loc[item]\n",
    "        if item == 'item8':  # Handle Item 8's end position manually\n",
    "            end_pos = len(document['10-K'])\n",
    "        else:\n",
    "            next_item = pos_dat.index[pos_dat.index.get_loc(item) + 1] if pos_dat.index.get_loc(item) + 1 < len(pos_dat) else None\n",
    "            end_pos = pos_dat['start'].loc[next_item] if next_item else len(document['10-K'])\n",
    "        \n",
    "        # Extract the raw section for the item\n",
    "        raw_content = document['10-K'][start_pos:end_pos]\n",
    "\n",
    "        # Clean the raw HTML content using BeautifulSoup\n",
    "        soup_content = BeautifulSoup(raw_content, 'lxml')\n",
    "        items_content[item] = soup_content.get_text(\"\\n\\n\")\n",
    "\n",
    "    financial_data = \"\\n\\n\".join([f\"Item {item.capitalize()}: {content}\" for item, content in items_content.items()])\n",
    "\n",
    "    with open(\"../10K-TXT/10k.txt\", 'w') as f:\n",
    "        f.write(financial_data)"
   ]
  },
  {
   "cell_type": "code",
   "execution_count": 5,
   "metadata": {},
   "outputs": [],
   "source": [
    "converttotext(\"https://www.sec.gov/Archives/edgar/data/320193/000032019318000145/0000320193-18-000145.txt\")"
   ]
  },
  {
   "cell_type": "code",
   "execution_count": null,
   "metadata": {},
   "outputs": [],
   "source": []
  }
 ],
 "metadata": {
  "kernelspec": {
   "display_name": "Python 3",
   "language": "python",
   "name": "python3"
  },
  "language_info": {
   "codemirror_mode": {
    "name": "ipython",
    "version": 3
   },
   "file_extension": ".py",
   "mimetype": "text/x-python",
   "name": "python",
   "nbconvert_exporter": "python",
   "pygments_lexer": "ipython3",
   "version": "3.11.4"
  }
 },
 "nbformat": 4,
 "nbformat_minor": 2
}
