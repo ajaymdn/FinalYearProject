{
 "cells": [
  {
   "cell_type": "markdown",
   "metadata": {},
   "source": [
    "# <span style=\"color:navy\"> Intro\n",
    "\n",
    "\n",
    "In this notebook we will apply REGEX & BeautifulSoup to find useful financial information in 10-Ks. In particular, we will extract text from Items 1A, 7, and 7A of 10-K."
   ]
  },
  {
   "cell_type": "markdown",
   "metadata": {},
   "source": [
    "# <span style=\"color:navy\"> STEP 1 : Import Libraries\n",
    "\n",
    "Note that, we will need parser for BeautifulSoup, there are many parsers, we will be using 'lxml' which can be pre-installed as follows & it help BeatifulSoup read HTML, XML documents:\n",
    "\n",
    "!pip install lxml"
   ]
  },
  {
   "cell_type": "code",
   "execution_count": 1,
   "metadata": {},
   "outputs": [],
   "source": [
    "# Import requests to retrive Web Urls example HTML. TXT \n",
    "import requests\n",
    "\n",
    "# Import BeautifulSoup\n",
    "from bs4 import BeautifulSoup\n",
    "\n",
    "# import re module for REGEXes\n",
    "import re\n",
    "\n",
    "# import pandas\n",
    "import pandas as pd"
   ]
  },
  {
   "cell_type": "markdown",
   "metadata": {},
   "source": [
    "# <span style=\"color:navy\"> STEP 2 : Get Apple's [AAPL] 2018 10-K \n",
    "\n",
    "Though we are using AAPL as example 10-K here, the pipeline being built is generic & can be used for other companies 10-K\n",
    " \n",
    "[SEC Website URL for 10-K (TEXT version)](https://www.sec.gov/Archives/edgar/data/320193/000032019318000145/0000320193-18-000145.txt)\n",
    "\n",
    "[SEC Website URL for 10-K (HTML version)](https://www.sec.gov/Archives/edgar/data/320193/000032019318000145/a10-k20189292018.htm)\n",
    "It will be good to view/study along in html format to see how the below code would apply.\n",
    "\n",
    "All the documents can be easily ssearched via CIK or company details via [SEC's search tool](https://www.sec.gov/cgi-bin/browse-edgar?CIK=0000320193&owner=exclude&action=getcompany&Find=Search)"
   ]
  },
  {
   "cell_type": "code",
   "execution_count": 2,
   "metadata": {},
   "outputs": [],
   "source": [
    "headers = {'User-Agent':'Sample Company Name AdminContact@<sample company domain>.com','Accept-Encoding':'gzip, deflate','Host':'www.sec.gov'}\n",
    "\n",
    "# Get the HTML data from the 2018 10-K from Apple\n",
    "# r = requests.get('https://www.sec.gov/Archives/edgar/data/320193/000032019318000145/0000320193-18-000145.txt', headers=headers)\n",
    "r = requests.get('https://www.sec.gov/Archives/edgar/data/1045810/000104581024000029/0001045810-24-000029.txt', headers=headers)\n",
    "raw_10k = r.text"
   ]
  },
  {
   "cell_type": "markdown",
   "metadata": {},
   "source": [
    "If we print the `raw_10k` string we will see that it has many sections. In the code below, we print part of the `raw_10k` string:"
   ]
  },
  {
   "cell_type": "code",
   "execution_count": 3,
   "metadata": {},
   "outputs": [
    {
     "name": "stdout",
     "output_type": "stream",
     "text": [
      "<SEC-DOCUMENT>0001045810-24-000029.txt : 20240221\n",
      "<SEC-HEADER>0001045810-24-000029.hdr.sgml : 20240221\n",
      "<ACCEPTANCE-DATETIME>20240221163657\n",
      "ACCESSION NUMBER:\t\t0001045810-24-000029\n",
      "CONFORMED SUBMISSION TYPE:\t10-K\n",
      "PUBLIC DOCUMENT COUNT:\t\t114\n",
      "CONFORMED PERIOD OF REPORT:\t20240128\n",
      "FILED AS OF DATE:\t\t20240221\n",
      "DATE AS OF CHANGE:\t\t20240221\n",
      "\n",
      "FILER:\n",
      "\n",
      "\tCOMPANY DATA:\t\n",
      "\t\tCOMPANY CONFORMED NAME:\t\t\tNVIDIA CORP\n",
      "\t\tCENTRAL INDEX KEY:\t\t\t0001045810\n",
      "\t\tSTANDARD INDUSTRIAL CLASSIFICATION:\tSEMICONDUCTORS & RELATED DEVICES [3674]\n",
      "\t\tORGANIZATION NAME:           \t04 Manufacturing\n",
      "\t\tIRS NUMBER:\t\t\t\t943177549\n",
      "\t\tSTATE OF INCORPORATION:\t\t\tDE\n",
      "\t\tFISCAL YEAR END:\t\t\t0128\n",
      "\n",
      "\tFILING VALUES:\n",
      "\t\tFORM TYPE:\t\t10-K\n",
      "\t\tSEC ACT:\t\t1934 Act\n",
      "\t\tSEC FILE NUMBER:\t000-23985\n",
      "\t\tFILM NUMBER:\t\t24660316\n",
      "\n",
      "\tBUSINESS ADDRESS:\t\n",
      "\t\tSTREET 1:\t\t2788 SAN TOMAS EXPRESSWAY\n",
      "\t\tCITY:\t\t\tSANTA CLARA\n",
      "\t\tSTATE:\t\t\tCA\n",
      "\t\tZIP:\t\t\t95051\n",
      "\t\tBUSINESS PHONE:\t\t408-486-2000\n",
      "\n",
      "\tMAIL ADDRESS:\t\n",
      "\t\tSTREET 1:\t\t2788 SAN TOMAS EXPRESSWAY\n",
      "\t\tCITY:\t\t\tSANTA CLARA\n",
      "\t\tSTATE:\t\t\tCA\n",
      "\t\tZIP:\t\t\t95051\n",
      "\n",
      "\tFORMER COMPANY:\t\n",
      "\t\tFORMER CONFORMED NAME:\tNVIDIA CORP/DE\n",
      "\t\tDATE OF NAME CHANGE:\t20020612\n",
      "\n",
      "\tFORMER COMPANY:\t\n",
      "\t\tFORMER CONFORMED NAME:\tNVIDIA CORP/CA\n",
      "\t\tDATE OF NAME CHANGE:\t19980303\n",
      "</SEC-HEADER>\n",
      "<DOCUMENT>\n",
      "<TYPE>10-K\n",
      "<SEQUENCE>1\n",
      "<FILENAME>nvda-20240128.htm\n",
      "<DESCRIPTION>10-K\n",
      "<TEXT>\n",
      "<XBRL>\n",
      "<?xml \n"
     ]
    }
   ],
   "source": [
    "print(raw_10k[0:1300])"
   ]
  },
  {
   "cell_type": "markdown",
   "metadata": {},
   "source": [
    "# <span style=\"color:navy\"> STEP 3 : Apply REGEXes to find 10-K Section from the document\n",
    "\n",
    "For our purposes, we are only interested in the sections that contain the 10-K information. All the sections, including the 10-K are contained within the `<DOCUMENT>` and `</DOCUMENT>` tags. Each section within the document tags is clearly marked by a `<TYPE>` tag followed by the name of the section."
   ]
  },
  {
   "cell_type": "code",
   "execution_count": 4,
   "metadata": {},
   "outputs": [],
   "source": [
    "# Regex to find <DOCUMENT> tags\n",
    "doc_start_pattern = re.compile(r'<DOCUMENT>')\n",
    "# print(doc_start_pattern)\n",
    "\n",
    "doc_end_pattern = re.compile(r'</DOCUMENT>')\n",
    "\n",
    "\n",
    "# Regex to find <TYPE> tag prceeding any characters, terminating at new line\n",
    "type_pattern = re.compile(r'<TYPE>[^\\n]+')"
   ]
  },
  {
   "cell_type": "markdown",
   "metadata": {},
   "source": [
    "Define Span Indices using REGEXes\n",
    "\n",
    "Now, that we have the regexes defined, we will use the `.finditer()` method to match the regexes in the `raw_10k`. In the code below, we will create 3 lists:\n",
    "\n",
    "1. A list that holds the `.end()` index of each match of `doc_start_pattern`\n",
    "\n",
    "2. A list that holds the `.start()` index of each match of `doc_end_pattern`\n",
    "\n",
    "3. A list that holds the name of section from each match of `type_pattern`"
   ]
  },
  {
   "cell_type": "code",
   "execution_count": 5,
   "metadata": {},
   "outputs": [],
   "source": [
    "# Create 3 lists with the span idices for each regex\n",
    "\n",
    "### There are many <Document> Tags in this text file, each as specific exhibit like 10-K, EX-10.17 etc\n",
    "### First filter will give us document tag start <end> and document tag end's <start> \n",
    "### We will use this to later grab content in between these tags\n",
    "doc_start_is = [x.end() for x in doc_start_pattern.finditer(raw_10k)]\n",
    "doc_end_is = [x.start() for x in doc_end_pattern.finditer(raw_10k)]\n",
    "\n",
    "### Type filter is interesting, it looks for <TYPE> with Not flag as new line, ie terminare there, with + sign\n",
    "### to look for any char afterwards until new line \\n. This will give us <TYPE> followed Section Name like '10-K'\n",
    "### Once we have have this, it returns String Array, below line will with find content after <TYPE> ie, '10-K' \n",
    "### as section names\n",
    "doc_types = [x[len('<TYPE>'):] for x in type_pattern.findall(raw_10k)]"
   ]
  },
  {
   "cell_type": "markdown",
   "metadata": {},
   "source": [
    "Create a Dictionary for the 10-K\n",
    "\n",
    "In the code below, we will create a dictionary which has the key `10-K` and as value the contents of the `10-K` section found above. To do this, we will create a loop, to go through all the sections found above, and if the section type is `10-K` then save it to the dictionary. Use the indices in  `doc_start_is` and `doc_end_is`to slice the `raw_10k` file."
   ]
  },
  {
   "cell_type": "code",
   "execution_count": 6,
   "metadata": {},
   "outputs": [],
   "source": [
    "document = {}\n",
    "\n",
    "# Create a loop to go through each section type and save only the 10-K section in the dictionary\n",
    "for doc_type, doc_start, doc_end in zip(doc_types, doc_start_is, doc_end_is):\n",
    "    if doc_type == '10-K':\n",
    "        document[doc_type] = raw_10k[doc_start:doc_end]"
   ]
  },
  {
   "cell_type": "code",
   "execution_count": 7,
   "metadata": {},
   "outputs": [
    {
     "data": {
      "text/plain": [
       "'\\n<TYPE>10-K\\n<SEQUENCE>1\\n<FILENAME>nvda-20240128.htm\\n<DESCRIPTION>10-K\\n<TEXT>\\n<XBRL>\\n<?xml version=\\'1.0\\' encoding=\\'ASCII\\'?>\\n<html xmlns:xsi=\"http://www.w3.org/2001/XMLSchema-instance\" xmlns:iso4217=\"http://www.xbrl.org/2003/iso4217\" xmlns:xlink=\"http://www.w3.org/1999/xlink\" xmlns:ixt=\"http://www.xbrl.org/inlineXBRL/transformation/2020-02-12\" xmlns:us-gaap=\"http://fasb.org/us-gaap/2023\" xmlns:nvda=\"http://www.nvidia.com/20240128\" xmlns:country=\"http://xbrl.sec.gov/country/2023\" xmlns:xbrldi=\"http'"
      ]
     },
     "execution_count": 7,
     "metadata": {},
     "output_type": "execute_result"
    }
   ],
   "source": [
    "# display excerpt the document\n",
    "document['10-K'][0:500]"
   ]
  },
  {
   "cell_type": "markdown",
   "metadata": {},
   "source": [
    "# <span style=\"color:navy\"> STEP 3 : Apply REGEXes to find Item 1A, 7, and 7A under 10-K Section \n",
    "\n",
    "The items in this `document` can be found in four different patterns. For example Item 1A can be found in either of the following patterns:\n",
    "\n",
    "1. `>Item 1A`\n",
    "\n",
    "2. `>Item&#160;1A` \n",
    "\n",
    "3. `>Item&nbsp;1A`\n",
    "\n",
    "4. `ITEM 1A` \n",
    "\n",
    "In the code below we will write a single regular expression that can match all four patterns for Items 1A, 7, and 7A. Then use the `.finditer()` method to match the regex to `document['10-K']`.\n",
    "\n",
    "Note that Item 1B & Item 8 are added to find out end of section Item 1A & Item 7A subsequently."
   ]
  },
  {
   "cell_type": "code",
   "execution_count": 8,
   "metadata": {},
   "outputs": [
    {
     "name": "stdout",
     "output_type": "stream",
     "text": [
      "<re.Match object; span=(150901, 150910), match='>Item 1A.'>\n",
      "<re.Match object; span=(152405, 152414), match='>Item 1B.'>\n",
      "<re.Match object; span=(164395, 164403), match='>Item 7.'>\n",
      "<re.Match object; span=(165994, 166003), match='>Item 7A.'>\n",
      "<re.Match object; span=(167561, 167569), match='>Item 8.'>\n",
      "<re.Match object; span=(290103, 290112), match='>Item 1A.'>\n",
      "<re.Match object; span=(463143, 463152), match='>Item 1B.'>\n",
      "<re.Match object; span=(506655, 506663), match='>Item 7.'>\n",
      "<re.Match object; span=(680567, 680576), match='>Item 7A.'>\n",
      "<re.Match object; span=(686898, 686911), match='>Item&#160;8.'>\n"
     ]
    }
   ],
   "source": [
    "# Write the regex\n",
    "regex = re.compile(r'(>Item(\\s|&#160;|&nbsp;)(1A|1B|7A|7|8)\\.{0,1})|(ITEM\\s(1A|1B|7A|7|8))')\n",
    "\n",
    "# Use finditer to math the regex\n",
    "matches = regex.finditer(document['10-K'])\n",
    "\n",
    "# Write a for loop to print the matches\n",
    "for match in matches:\n",
    "    print(match)"
   ]
  },
  {
   "cell_type": "markdown",
   "metadata": {},
   "source": [
    "Notice that each item is matched twice. This is because each item appears first in the index and then in the corresponding section. We will now have to remove the matches that correspond to the index. We will do this using Pandas in the next section."
   ]
  },
  {
   "cell_type": "markdown",
   "metadata": {},
   "source": [
    "In the code below we will create a pandas dataframe with the following column names: `'item','start','end'`. In the `item` column save the `match.group()` in lower case letters, in the ` start` column save the `match.start()`, and in the `end` column save the ``match.end()`. "
   ]
  },
  {
   "cell_type": "code",
   "execution_count": 9,
   "metadata": {},
   "outputs": [
    {
     "data": {
      "text/html": [
       "<div>\n",
       "<style scoped>\n",
       "    .dataframe tbody tr th:only-of-type {\n",
       "        vertical-align: middle;\n",
       "    }\n",
       "\n",
       "    .dataframe tbody tr th {\n",
       "        vertical-align: top;\n",
       "    }\n",
       "\n",
       "    .dataframe thead th {\n",
       "        text-align: right;\n",
       "    }\n",
       "</style>\n",
       "<table border=\"1\" class=\"dataframe\">\n",
       "  <thead>\n",
       "    <tr style=\"text-align: right;\">\n",
       "      <th></th>\n",
       "      <th>item</th>\n",
       "      <th>start</th>\n",
       "      <th>end</th>\n",
       "    </tr>\n",
       "  </thead>\n",
       "  <tbody>\n",
       "    <tr>\n",
       "      <th>0</th>\n",
       "      <td>&gt;item 1a.</td>\n",
       "      <td>150901</td>\n",
       "      <td>150910</td>\n",
       "    </tr>\n",
       "    <tr>\n",
       "      <th>1</th>\n",
       "      <td>&gt;item 1b.</td>\n",
       "      <td>152405</td>\n",
       "      <td>152414</td>\n",
       "    </tr>\n",
       "    <tr>\n",
       "      <th>2</th>\n",
       "      <td>&gt;item 7.</td>\n",
       "      <td>164395</td>\n",
       "      <td>164403</td>\n",
       "    </tr>\n",
       "    <tr>\n",
       "      <th>3</th>\n",
       "      <td>&gt;item 7a.</td>\n",
       "      <td>165994</td>\n",
       "      <td>166003</td>\n",
       "    </tr>\n",
       "    <tr>\n",
       "      <th>4</th>\n",
       "      <td>&gt;item 8.</td>\n",
       "      <td>167561</td>\n",
       "      <td>167569</td>\n",
       "    </tr>\n",
       "  </tbody>\n",
       "</table>\n",
       "</div>"
      ],
      "text/plain": [
       "        item   start     end\n",
       "0  >item 1a.  150901  150910\n",
       "1  >item 1b.  152405  152414\n",
       "2   >item 7.  164395  164403\n",
       "3  >item 7a.  165994  166003\n",
       "4   >item 8.  167561  167569"
      ]
     },
     "execution_count": 9,
     "metadata": {},
     "output_type": "execute_result"
    }
   ],
   "source": [
    "# Matches\n",
    "matches = regex.finditer(document['10-K'])\n",
    "\n",
    "# Create the dataframe\n",
    "test_df = pd.DataFrame([(x.group(), x.start(), x.end()) for x in matches])\n",
    "\n",
    "test_df.columns = ['item', 'start', 'end']\n",
    "test_df['item'] = test_df.item.str.lower()\n",
    "\n",
    "# Display the dataframe\n",
    "test_df.head()"
   ]
  },
  {
   "cell_type": "markdown",
   "metadata": {},
   "source": [
    "Eliminate Unnecessary Characters\n",
    "\n",
    "As we can see, our dataframe, in particular the `item` column, contains some unnecessary characters such as `>` and periods `.`. In some cases, we will also get unicode characters such as `&#160;` and `&nbsp;`. In the code below, we will use the Pandas dataframe method `.replace()` with the keyword `regex=True` to replace all whitespaces, the above mentioned unicode characters, the `>` character, and the periods from our dataframe. We want to do this because we want to use the `item` column as our dataframe index later on."
   ]
  },
  {
   "cell_type": "code",
   "execution_count": 36,
   "metadata": {},
   "outputs": [
    {
     "data": {
      "text/html": [
       "<div>\n",
       "<style scoped>\n",
       "    .dataframe tbody tr th:only-of-type {\n",
       "        vertical-align: middle;\n",
       "    }\n",
       "\n",
       "    .dataframe tbody tr th {\n",
       "        vertical-align: top;\n",
       "    }\n",
       "\n",
       "    .dataframe thead th {\n",
       "        text-align: right;\n",
       "    }\n",
       "</style>\n",
       "<table border=\"1\" class=\"dataframe\">\n",
       "  <thead>\n",
       "    <tr style=\"text-align: right;\">\n",
       "      <th></th>\n",
       "      <th>item</th>\n",
       "      <th>start</th>\n",
       "      <th>end</th>\n",
       "    </tr>\n",
       "  </thead>\n",
       "  <tbody>\n",
       "    <tr>\n",
       "      <th>0</th>\n",
       "      <td>item1a</td>\n",
       "      <td>150901</td>\n",
       "      <td>150910</td>\n",
       "    </tr>\n",
       "    <tr>\n",
       "      <th>1</th>\n",
       "      <td>item1b</td>\n",
       "      <td>152405</td>\n",
       "      <td>152414</td>\n",
       "    </tr>\n",
       "    <tr>\n",
       "      <th>2</th>\n",
       "      <td>item7</td>\n",
       "      <td>164395</td>\n",
       "      <td>164403</td>\n",
       "    </tr>\n",
       "    <tr>\n",
       "      <th>3</th>\n",
       "      <td>item7a</td>\n",
       "      <td>165994</td>\n",
       "      <td>166003</td>\n",
       "    </tr>\n",
       "    <tr>\n",
       "      <th>4</th>\n",
       "      <td>item8</td>\n",
       "      <td>167561</td>\n",
       "      <td>167569</td>\n",
       "    </tr>\n",
       "  </tbody>\n",
       "</table>\n",
       "</div>"
      ],
      "text/plain": [
       "     item   start     end\n",
       "0  item1a  150901  150910\n",
       "1  item1b  152405  152414\n",
       "2   item7  164395  164403\n",
       "3  item7a  165994  166003\n",
       "4   item8  167561  167569"
      ]
     },
     "execution_count": 36,
     "metadata": {},
     "output_type": "execute_result"
    }
   ],
   "source": [
    "# Get rid of unnesesary charcters from the dataframe\n",
    "test_df.replace('&#160;',' ',regex=True,inplace=True)\n",
    "test_df.replace('&nbsp;',' ',regex=True,inplace=True)\n",
    "test_df.replace(' ','',regex=True,inplace=True)\n",
    "test_df.replace('\\.','',regex=True,inplace=True)\n",
    "test_df.replace('>','',regex=True,inplace=True)\n",
    "\n",
    "# display the dataframe\n",
    "test_df.head()"
   ]
  },
  {
   "cell_type": "markdown",
   "metadata": {},
   "source": [
    "Remove Duplicates\n",
    "\n",
    "Now that we have removed all unnecessary characters form our dataframe, we can go ahead and remove the Item matches that correspond to the index. In the code below we will use the Pandas dataframe `.drop_duplicates()` method to only keep the last Item matches in the dataframe and drop the rest. Just as precaution ensure that the `start` column is sorted in ascending order before dropping the duplicates."
   ]
  },
  {
   "cell_type": "code",
   "execution_count": 37,
   "metadata": {},
   "outputs": [
    {
     "data": {
      "text/html": [
       "<div>\n",
       "<style scoped>\n",
       "    .dataframe tbody tr th:only-of-type {\n",
       "        vertical-align: middle;\n",
       "    }\n",
       "\n",
       "    .dataframe tbody tr th {\n",
       "        vertical-align: top;\n",
       "    }\n",
       "\n",
       "    .dataframe thead th {\n",
       "        text-align: right;\n",
       "    }\n",
       "</style>\n",
       "<table border=\"1\" class=\"dataframe\">\n",
       "  <thead>\n",
       "    <tr style=\"text-align: right;\">\n",
       "      <th></th>\n",
       "      <th>item</th>\n",
       "      <th>start</th>\n",
       "      <th>end</th>\n",
       "    </tr>\n",
       "  </thead>\n",
       "  <tbody>\n",
       "    <tr>\n",
       "      <th>5</th>\n",
       "      <td>item1a</td>\n",
       "      <td>290103</td>\n",
       "      <td>290112</td>\n",
       "    </tr>\n",
       "    <tr>\n",
       "      <th>6</th>\n",
       "      <td>item1b</td>\n",
       "      <td>463143</td>\n",
       "      <td>463152</td>\n",
       "    </tr>\n",
       "    <tr>\n",
       "      <th>7</th>\n",
       "      <td>item7</td>\n",
       "      <td>506655</td>\n",
       "      <td>506663</td>\n",
       "    </tr>\n",
       "    <tr>\n",
       "      <th>8</th>\n",
       "      <td>item7a</td>\n",
       "      <td>680567</td>\n",
       "      <td>680576</td>\n",
       "    </tr>\n",
       "    <tr>\n",
       "      <th>9</th>\n",
       "      <td>item8</td>\n",
       "      <td>686898</td>\n",
       "      <td>686911</td>\n",
       "    </tr>\n",
       "  </tbody>\n",
       "</table>\n",
       "</div>"
      ],
      "text/plain": [
       "     item   start     end\n",
       "5  item1a  290103  290112\n",
       "6  item1b  463143  463152\n",
       "7   item7  506655  506663\n",
       "8  item7a  680567  680576\n",
       "9   item8  686898  686911"
      ]
     },
     "execution_count": 37,
     "metadata": {},
     "output_type": "execute_result"
    }
   ],
   "source": [
    "# Drop duplicates\n",
    "pos_dat = test_df.sort_values('start', ascending=True).drop_duplicates(subset=['item'], keep='last')\n",
    "\n",
    "# Display the dataframe\n",
    "pos_dat"
   ]
  },
  {
   "cell_type": "markdown",
   "metadata": {},
   "source": [
    "Set Item to Index\n",
    "\n",
    "In the code below use the Pandas dataframe `.set_index()` method to set the `item`  column as the index of our dataframe."
   ]
  },
  {
   "cell_type": "code",
   "execution_count": 38,
   "metadata": {},
   "outputs": [
    {
     "data": {
      "text/html": [
       "<div>\n",
       "<style scoped>\n",
       "    .dataframe tbody tr th:only-of-type {\n",
       "        vertical-align: middle;\n",
       "    }\n",
       "\n",
       "    .dataframe tbody tr th {\n",
       "        vertical-align: top;\n",
       "    }\n",
       "\n",
       "    .dataframe thead th {\n",
       "        text-align: right;\n",
       "    }\n",
       "</style>\n",
       "<table border=\"1\" class=\"dataframe\">\n",
       "  <thead>\n",
       "    <tr style=\"text-align: right;\">\n",
       "      <th></th>\n",
       "      <th>start</th>\n",
       "      <th>end</th>\n",
       "    </tr>\n",
       "    <tr>\n",
       "      <th>item</th>\n",
       "      <th></th>\n",
       "      <th></th>\n",
       "    </tr>\n",
       "  </thead>\n",
       "  <tbody>\n",
       "    <tr>\n",
       "      <th>item1a</th>\n",
       "      <td>290103</td>\n",
       "      <td>290112</td>\n",
       "    </tr>\n",
       "    <tr>\n",
       "      <th>item1b</th>\n",
       "      <td>463143</td>\n",
       "      <td>463152</td>\n",
       "    </tr>\n",
       "    <tr>\n",
       "      <th>item7</th>\n",
       "      <td>506655</td>\n",
       "      <td>506663</td>\n",
       "    </tr>\n",
       "    <tr>\n",
       "      <th>item7a</th>\n",
       "      <td>680567</td>\n",
       "      <td>680576</td>\n",
       "    </tr>\n",
       "    <tr>\n",
       "      <th>item8</th>\n",
       "      <td>686898</td>\n",
       "      <td>686911</td>\n",
       "    </tr>\n",
       "  </tbody>\n",
       "</table>\n",
       "</div>"
      ],
      "text/plain": [
       "         start     end\n",
       "item                  \n",
       "item1a  290103  290112\n",
       "item1b  463143  463152\n",
       "item7   506655  506663\n",
       "item7a  680567  680576\n",
       "item8   686898  686911"
      ]
     },
     "execution_count": 38,
     "metadata": {},
     "output_type": "execute_result"
    }
   ],
   "source": [
    "# Set item as the dataframe index\n",
    "pos_dat.set_index('item', inplace=True)\n",
    "\n",
    "# display the dataframe\n",
    "pos_dat"
   ]
  },
  {
   "cell_type": "markdown",
   "metadata": {},
   "source": [
    "<b> Get The Financial Information From Each Item </b>\n",
    "\n",
    "The above dataframe contains the starting and end index of each match for Items 1A, 7, and 7A. In the code below, we will save all the text from the starting index of `item1a` till the starting index of `item1b` into a variable called `item_1a_raw`. Similarly, save all the text from the starting index of `item7` till the starting index of `item7a` into a variable called `item_7_raw`. Finally,  save all the text from the starting index of `item7a` till the starting of `item8` into a variable called `item_7a_raw`. We can accomplish all of this by making the correct slices of `document['10-K']`."
   ]
  },
  {
   "cell_type": "code",
   "execution_count": 39,
   "metadata": {},
   "outputs": [],
   "source": [
    "# Get Item 1a\n",
    "item_1a_raw = document['10-K'][pos_dat['start'].loc['item1a']:pos_dat['start'].loc['item1b']]\n",
    "\n",
    "# Get Item 7\n",
    "item_7_raw = document['10-K'][pos_dat['start'].loc['item7']:pos_dat['start'].loc['item7a']]\n",
    "\n",
    "# Get Item 7a\n",
    "item_7a_raw = document['10-K'][pos_dat['start'].loc['item7a']:pos_dat['start'].loc['item8']]"
   ]
  },
  {
   "cell_type": "markdown",
   "metadata": {},
   "source": [
    "Now that we have each item saved into a separate variable we can view them separately. For illustration purposes we will display Item 1a, but the other items will look similar."
   ]
  },
  {
   "cell_type": "code",
   "execution_count": 40,
   "metadata": {},
   "outputs": [
    {
     "data": {
      "text/plain": [
       "'>Item 1A. Risk Factors</span></div><div style=\"margin-bottom:9pt;text-align:justify\"><span style=\"color:#000000;font-family:\\'NVIDIA Sans\\',sans-serif;font-size:9pt;font-style:italic;font-weight:400;line-height:120%\">The following risk factors should be considered in addition to the other information in this Annual Report on Form 10-K. The following risks could harm our business, financial condition, results of operations or reputation, which could cause our stock price to decline. Additional risks, trends and uncertainties not presently known to us or that we currently believe are immaterial may also harm our business, financial condition, results of operations or reputation.</span></div><div style=\"margin-bottom:3pt;margin-top:12pt;text-align:justify\"><span style=\"color:#76b900;font-family:\\'NVIDIA Sans\\',sans-serif;font-size:9pt;font-weight:700;line-height:120%\">Risk Factors Summary</span></div><div style=\"margin-bottom:3pt;margin-top:12pt;text-align:justify\"><span style=\"color:#76b900;'"
      ]
     },
     "execution_count": 40,
     "metadata": {},
     "output_type": "execute_result"
    }
   ],
   "source": [
    "item_1a_raw[0:1000]"
   ]
  },
  {
   "cell_type": "markdown",
   "metadata": {},
   "source": [
    "We can see that the items looks pretty messy, they contain HTML tags, Unicode characters, etc... Before we can do a proper Natural Language Processing in these items we need to clean them up. This means we need to remove all HTML Tags, unicode characters, etc... In principle we could do this using regex substitutions as we learned previously, but his can be rather difficult. Luckily, packages already exist that can do all the cleaning for us, such as **Beautifulsoup**, let's make use of this to refine the extracted text."
   ]
  },
  {
   "cell_type": "markdown",
   "metadata": {},
   "source": [
    "# <span style=\"color:navy\"> STEP 4 : Apply BeautifulSoup to refine the content"
   ]
  },
  {
   "cell_type": "code",
   "execution_count": 41,
   "metadata": {},
   "outputs": [],
   "source": [
    "### First convert the raw text we have to exrtacted to BeautifulSoup object \n",
    "item_1a_content = BeautifulSoup(item_1a_raw, 'lxml')"
   ]
  },
  {
   "cell_type": "code",
   "execution_count": 42,
   "metadata": {},
   "outputs": [
    {
     "name": "stdout",
     "output_type": "stream",
     "text": [
      "<html>\n",
      " <body>\n",
      "  <p>\n",
      "   &gt;Item 1A. Risk Factors\n",
      "  </p>\n",
      "  <div style=\"margin-bottom:9pt;text-align:justify\">\n",
      "   <span style=\"color:#000000;font-family:'NVIDIA Sans',sans-serif;font-size:9pt;font-style:italic;font-weight:400;line-height:120%\">\n",
      "    The following risk factors should be considered in addition to the other information in this Annual Report on Form 10-K. The following risks could harm our business, financial condition, results of operations or reputation, which could cause our stock price to decline. Additional risks, trends and uncertainties not presently known to us or that we currently believe are immaterial may also harm our business, financial condition, results of operations or reputation.\n",
      "   </span>\n",
      "  </div>\n",
      "  <div style=\"margin-bottom:3pt;margin-top:12pt;text-align:justify\">\n",
      "   <span style=\"color:#76b900;font-family:'NVIDIA Sans',sans-serif;font-size:9pt;font-weight:700;line-height:120%\">\n",
      "    Risk Factors Summary\n",
      "   </span>\n",
      "  </div>\n",
      "  <div style=\"margin-bottom:3pt;m\n"
     ]
    }
   ],
   "source": [
    "### By just applying .pretiffy() we see that raw text start to look oragnized, as BeautifulSoup\n",
    "### apply indentation according to the HTML Tag tree structure\n",
    "print(item_1a_content.prettify()[0:1000])"
   ]
  },
  {
   "cell_type": "code",
   "execution_count": 43,
   "metadata": {},
   "outputs": [
    {
     "name": "stdout",
     "output_type": "stream",
     "text": [
      ">Item 1A. Risk Factors\n",
      "\n",
      "The following risk factors should be considered in addition to the other information in this Annual Report on Form 10-K. The following risks could harm our business, financial condition, results of operations or reputation, which could cause our stock price to decline. Additional risks, trends and uncertainties not presently known to us or that we currently believe are immaterial may also harm our business, financial condition, results of operations or reputation.\n",
      "\n",
      "Risk Factors Summary\n",
      "\n",
      "Risks Related to Our Industry and Markets\n",
      "\n",
      "•\n",
      "\n",
      "Failure to meet the evolving needs of our industry may adversely impact our financial results.\n",
      "\n",
      "•\n",
      "\n",
      "Competition could adversely impact our market share and financial results.\n",
      "\n",
      "Risks Related to Demand, Supply and Manufacturing\n",
      "\n",
      "•\n",
      "\n",
      "Failure to estimate customer demand accurately has led and could lead to mismatches between supply and demand.\n",
      "\n",
      "•\n",
      "\n",
      "Dependency on third-party suppliers and their technology to manufacture, assemble, test, or package our products reduces our control over product quantity and quality, manufacturing yields, and product delivery schedules and could harm our business.\n",
      "\n",
      "•\n",
      "\n",
      "Defects in our products have caused and could cause us to incur significant expenses to remediate and could damage our business.\n",
      "\n",
      "Risks Related to Our Global Operating Business\n",
      "\n",
      "•\n",
      "\n",
      "Adverse economic conditions may harm our business.\n",
      "\n",
      "13\n",
      "\n",
      "Table of Contents\n",
      "\n",
      "•\n",
      "\n",
      "International sales and operations are a significant part of our business, which \n"
     ]
    }
   ],
   "source": [
    "### Our goal is though to remove html tags and see the content\n",
    "### Method get_text() is what we need, \\n\\n is optional, I just added this to read text \n",
    "### more cleanly, it's basically new line character between sections. \n",
    "print(item_1a_content.get_text(\"\\n\\n\")[0:1500])"
   ]
  },
  {
   "cell_type": "markdown",
   "metadata": {},
   "source": [
    "# <span style=\"color:navy\"> Summary..."
   ]
  },
  {
   "cell_type": "markdown",
   "metadata": {},
   "source": [
    "As we have seen that simply applying REGEX & BeautifulSoup combination we can form a very powerful combination extracting/scarpping content from any web-content very easily. Having said this, not all 10-Ks are well crafted HTML, TEXT formats, example older 10-Ks, hence there may be adjustments needed to adopt to the circumstances."
   ]
  }
 ],
 "metadata": {
  "kernelspec": {
   "display_name": "base",
   "language": "python",
   "name": "python3"
  },
  "language_info": {
   "codemirror_mode": {
    "name": "ipython",
    "version": 3
   },
   "file_extension": ".py",
   "mimetype": "text/x-python",
   "name": "python",
   "nbconvert_exporter": "python",
   "pygments_lexer": "ipython3",
   "version": "3.9.7"
  }
 },
 "nbformat": 4,
 "nbformat_minor": 4
}
